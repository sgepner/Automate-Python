{
 "cells": [
  {
   "cell_type": "markdown",
   "metadata": {},
   "source": [
    "# Automation of design process with Python\n",
    "\n",
    "If you running this on https://mybinder.org/ and see this, this probably works. In case you do not see this, probably it does not.\n",
    "\n",
    "Person responsible: **Stanisław Gepner**\n",
    "\n",
    "* Lecture: 15 ()\n",
    "* Laboratory (computer): 15\n",
    "* Additional consultations: 10\n",
    "* Self study and project: 10\n",
    "\n",
    "**Goals**:\n",
    "* Writing scripts and programs in Python\n",
    "* Automating the design loop. Application to computations.\n",
    "* Processing data using available tools\n",
    "\n",
    "**What students should know, prerequirements**:\n",
    "* Be able to write elementary program in C/C++ using procedural programing, loops and conditional statements.\n",
    "\n",
    "**Literature**:\n",
    "* Svein LingeHans Petter Langtangen, Programming for Computations - Python, freely available from Springer:  \n",
    "    https://link.springer.com/book/10.1007/978-3-319-32428-9\n",
    "* Any on-line resource you can find \"and gets things working\" for you.\n",
    "* This lecture and laboratories and interactive notes available on GitHub repo.\n",
    "\n",
    "**Rules and conditions of passing**:\n",
    "* To be communicated during first class"
   ]
  },
  {
   "cell_type": "markdown",
   "metadata": {},
   "source": [
    "## What will you need\n",
    "* A computer with a decent modern OS. In case you use something else, like Windows or the fruity one, you can probably get things working, but no guarantees.\n",
    "* On Windows you can either install Python interpreter or make due with Windows Subsystem for Linux, an official Microsoft way of making their system less not-decent.\n",
    "* Python interpreter, we will be using Python 3.\n",
    "\n",
    "* You can also run all the lectures on https://mybinder.org/, so in fact you need nothing but a browser."
   ]
  },
  {
   "cell_type": "markdown",
   "metadata": {},
   "source": [
    "# Lecture 1 - elementary use of Python\n",
    "\n",
    "We will:\n",
    "* Look at some basic differences of Python with regard to what you know\n",
    "* Show basic syntax\n",
    "* Discuss dynamic typing, lack of compiler and its consequences\n",
    "* Recall loop, conditional statements, functions, etc.\n",
    "\n",
    "Through the course of your studies you must have committed some programing. this might have been a simple (or not so much) program in C, C++ or maybe Matlab or Bash? One thing that you might have noted is that in the case of **C** family a compiler was needed to build your program into a usable, machine code, binary executable. In spite of your (bad?) experiences with the compilation process and sorting out errors, the compiler was your best friend. It limited the number of errors, you might have committed that would have otherwise manifest in the working of your program. Some, you might have not even noticed.\n",
    "\n",
    "On the other hand, there is a number of programming languages that do not require compilation, and use an interpretation engine to perform programmed tasks. Matlab, the popular in academia, suite is one of the possibilities. Here we will be looking at Python, a **dynamically typed** and **interpreted** scripting language that has by now become very popular in scientific, engineering but also in standard development applications.\n",
    "\n",
    "A Python program requires an interpreter to be run. An interpreter is a program that directly executes provided instructions, without compiling them into the machine code. This has some benefits, as you have no compiler errors, and might lead to a speedy development of the code. But also has some consequences that might prevent you from applying your interpreted code for complicated tasks.\n",
    "One very interesting application of interpreted programming languages, such as Python is in joining work-flow of otherwise separate tools, very much as the gray duct tape is used to connect various elements that have not been previously designed to be connected. Yes Python might be the gray tape that holds things together. During this class I want to share with you my experience of applying Python in such a role.\n",
    "\n",
    "* Advantages of an interpreted language:\n",
    "    * Speedy development\n",
    "    * **No compiler errors**\n",
    "    * ...\n",
    "* Disadvantages\n",
    "    * **No compiler errors**\n",
    "    * No strict type definition\n",
    "    * ...\n",
    "    \n",
    "Yes not having a compiler might not be all that nice after all, since compiler can save you from some nasty bugs."
   ]
  },
  {
   "cell_type": "markdown",
   "metadata": {},
   "source": [
    "## Basic syntax\n",
    "We will start by getting familiar with very basic structure of a Python script/program. We will avoid to differentiate the two, and use script and program interchangeably.  \n",
    "**A note before we start**: With Python almost any task can be realized in more than one way.\n",
    "There is no best approach and we will try to focus on simplest, most comprehensible solutions here, gradually increasing complexity."
   ]
  },
  {
   "cell_type": "markdown",
   "metadata": {},
   "source": [
    "## First script\n",
    "**Coding time!**: examine script1.py and run it  \n",
    "\n",
    "We start with the most popular first contact program, the famous \"Hello World!\" implemented in Python. Using your Python interpreter try to run the script1.py from this repo.\n",
    "\n",
    "Note: we use function print() provided by the system, that simply puts data onto the screen."
   ]
  },
  {
   "cell_type": "markdown",
   "metadata": {},
   "source": [
    "## Working with Jupyter notebooks\n",
    "Writing self contained scripts and running them from the command line, or the interpreter engine is one way, but it is usually more convenient to work with the program in an interactive way. In our lectures we will use Jupyter notebook to do this. There also exist other ways to interactively work with Python code.\n",
    "\n",
    "Our \"Hello WOrld!\" program looks like this:"
   ]
  },
  {
   "cell_type": "code",
   "execution_count": null,
   "metadata": {},
   "outputs": [],
   "source": [
    "print(\"Hello!\")"
   ]
  },
  {
   "cell_type": "markdown",
   "metadata": {},
   "source": [
    "And can be run either using the top (or side) bar \"Run\" button or either ctrl-enter or shift-enter keys."
   ]
  },
  {
   "cell_type": "markdown",
   "metadata": {},
   "source": [
    "**Coding time!** - practice the use of `print()`. Try to test different formating possibilities, line endings and separations. See the list below.\n",
    "\n",
    "Lets now see what we can do with a print() function, as it offers many possibilities for formating the output.\n",
    "\n",
    "* `print()` simple stuff\n",
    "* C style - kind of - octal and hex notation works\n",
    "* different line ends, `\\n`, `\\r`, `, `, ...\n",
    "* different text separation `sep=\" sep \"`\n",
    "* examples of formating output with `str.format()` e.g.: `'{0: >5}'.format(ee)`\n",
    "    * aligned with `<>` also other possibilities"
   ]
  },
  {
   "cell_type": "code",
   "execution_count": null,
   "metadata": {},
   "outputs": [],
   "source": [
    "print(\"This is a text %8d with values %8.2f\" % (24, 5))"
   ]
  },
  {
   "cell_type": "code",
   "execution_count": null,
   "metadata": {},
   "outputs": [],
   "source": [
    "print(\"This is sparta!!\", \"Ala ma kota\", end=\"\\r\", sep=\"| |\")\n",
    "# print(\"aaaaaaaaaaaaaaaa\", end=\"\\r\")"
   ]
  },
  {
   "cell_type": "code",
   "execution_count": null,
   "metadata": {},
   "outputs": [],
   "source": [
    "print('{: >10o}'.format(24))"
   ]
  },
  {
   "cell_type": "markdown",
   "metadata": {},
   "source": [
    "Illustrate how to work with Jupyter."
   ]
  },
  {
   "cell_type": "markdown",
   "metadata": {},
   "source": [
    "## Dynamic types\n",
    "Variables declared for use have no explicit type. This is different in comparison to what you might have seen in **C** where variable types had to be provided. In Python variables are **dynamically typed**. This means that type is decided on run-time based on the variable value. This has benefits and allows for quick changes to be made to the code without the need to recompile the program. But at the same time might lead to errors that might have been avoided if type was strictly defined."
   ]
  },
  {
   "cell_type": "code",
   "execution_count": null,
   "metadata": {},
   "outputs": [],
   "source": [
    "a = 10"
   ]
  },
  {
   "cell_type": "markdown",
   "metadata": {},
   "source": [
    "Here we have created a new variable, an integer. The type has been\n",
    "decided based on the value provided. Let us have some more variables:"
   ]
  },
  {
   "cell_type": "code",
   "execution_count": null,
   "metadata": {},
   "outputs": [],
   "source": [
    "b = 'this is a string'\n",
    "c = \"and so is this\"\n",
    "d = 5.0 # and this is a float"
   ]
  },
  {
   "cell_type": "markdown",
   "metadata": {},
   "source": [
    "Note: # - allows to make single line comments"
   ]
  },
  {
   "cell_type": "markdown",
   "metadata": {},
   "source": [
    "Some operations on variables. We can perform basic arithmetic operations, such as \\+, \\-, \\*, \\/ \\%.\n",
    "The resulting type will be decided on run-time. "
   ]
  },
  {
   "cell_type": "code",
   "execution_count": null,
   "metadata": {},
   "outputs": [],
   "source": [
    "a = 10\n",
    "b = 5\n",
    "c = a+b\n",
    "print(\"c =\",c)"
   ]
  },
  {
   "cell_type": "markdown",
   "metadata": {},
   "source": [
    "But:"
   ]
  },
  {
   "cell_type": "code",
   "execution_count": null,
   "metadata": {},
   "outputs": [],
   "source": [
    "b = 'aaa'\n",
    "c = a + b\n",
    "#??"
   ]
  },
  {
   "cell_type": "markdown",
   "metadata": {},
   "source": [
    "**Coding time!**: Try out with different build in types. Declare some variables and initialize them with values. Perform basic arithmetic operations on `ints`, `floats` and others. Use print to see the values, and `type()` to examine the type of variables. Is all working as it should, and are you always sure what type a variable is?"
   ]
  },
  {
   "cell_type": "markdown",
   "metadata": {},
   "source": [
    "## Functions\n",
    "What would procedural programing be without the ability to write functions. In python functions are defined in the following way:"
   ]
  },
  {
   "cell_type": "code",
   "execution_count": null,
   "metadata": {},
   "outputs": [],
   "source": [
    "def fun(a):\n",
    "    return a"
   ]
  },
  {
   "cell_type": "markdown",
   "metadata": {},
   "source": [
    "So a keyword **def**, a name and a list of arguments. but what is the type of *a* and what does the function return?  \n",
    "\n",
    "Well, **dynamic typing**, so a is anything, and the function returns whatever has been provided to it."
   ]
  },
  {
   "cell_type": "code",
   "execution_count": null,
   "metadata": {},
   "outputs": [],
   "source": [
    "fun(a+c)"
   ]
  },
  {
   "cell_type": "markdown",
   "metadata": {},
   "source": [
    "Note: passing values to function can be done by name  \n",
    "Note 2: Default argument value"
   ]
  },
  {
   "cell_type": "markdown",
   "metadata": {},
   "source": [
    "## Structure of the code - indentation as a syntax requirement\n",
    "In Python indentation of the code is an element of syntax. So you are forced to write your code properly formated for it to work. Note there is no scope limited by \\{\\}, as it was in **C**, but rather code formating defines the scope of a function, but also loops, ifs etc. So this will not work:"
   ]
  },
  {
   "cell_type": "code",
   "execution_count": null,
   "metadata": {},
   "outputs": [],
   "source": [
    "def fun(a):\n",
    "return a"
   ]
  },
  {
   "cell_type": "markdown",
   "metadata": {},
   "source": [
    "Because the code is ill formated! Write your code neatly!"
   ]
  },
  {
   "cell_type": "markdown",
   "metadata": {},
   "source": [
    "**Coding time!**: Write your own function. It should accept two or more arguments, and return the result of summation."
   ]
  },
  {
   "cell_type": "markdown",
   "metadata": {},
   "source": [
    "## Loops and conditional statements\n",
    "Looping and branching code execution are indispensable in any programing task. Let us start with an **if**:\n",
    "\n",
    "### if, else if, etc."
   ]
  },
  {
   "cell_type": "code",
   "execution_count": null,
   "metadata": {},
   "outputs": [],
   "source": [
    "if a!=0:\n",
    "    print('zero!')\n",
    "elif a != 1:\n",
    "    print(\"bla\")\n",
    "else:\n",
    "    print('not zero!')"
   ]
  },
  {
   "cell_type": "markdown",
   "metadata": {},
   "source": [
    "### More than one condition\n",
    "Logical values are slightly different in Python than in **C**. Logical AND is realized with \\& and OR with \\|: For example:"
   ]
  },
  {
   "cell_type": "code",
   "execution_count": null,
   "metadata": {},
   "outputs": [],
   "source": [
    "a = 10"
   ]
  },
  {
   "cell_type": "code",
   "execution_count": null,
   "metadata": {},
   "outputs": [],
   "source": [
    "if a>-1 & a!=0:\n",
    "    print(a)"
   ]
  },
  {
   "cell_type": "code",
   "execution_count": null,
   "metadata": {},
   "outputs": [],
   "source": [
    "if a>-1 | a!=10:\n",
    "    print(a)"
   ]
  },
  {
   "cell_type": "markdown",
   "metadata": {},
   "source": [
    "Will not work exactly as you expect. Logical statements need to be additionally enclosed in ()-brackets, like this:"
   ]
  },
  {
   "cell_type": "code",
   "execution_count": null,
   "metadata": {},
   "outputs": [],
   "source": [
    "if (a>-1) & (a!=0):\n",
    "    print(a)"
   ]
  },
  {
   "cell_type": "code",
   "execution_count": null,
   "metadata": {},
   "outputs": [],
   "source": [
    "if (a>-1) | (a!=10):\n",
    "    print(a)"
   ]
  },
  {
   "cell_type": "markdown",
   "metadata": {},
   "source": [
    "**Note:**, you can also perform logical operations with `and` and `or`!:"
   ]
  },
  {
   "cell_type": "code",
   "execution_count": null,
   "metadata": {},
   "outputs": [],
   "source": [
    "if a>-1 and a!=0 or a < 0:\n",
    "    print(a)"
   ]
  },
  {
   "cell_type": "markdown",
   "metadata": {},
   "source": [
    "### pass statement\n",
    "In **C** scope was determined by \\{\\}-brackets, and it was very easy to have an empty statement or a function. In Python this is not possible since any statement needs to be followed by an intended code. Without indentation the code will simply not work.\n",
    "To circumvent this problem Python uses **pass** statement. For example:"
   ]
  },
  {
   "cell_type": "code",
   "execution_count": null,
   "metadata": {},
   "outputs": [],
   "source": [
    "a = 10\n",
    "if a>0:\n",
    "    pass # You shall not pass!\n",
    "else:\n",
    "    print(\"Shell I pass?\")"
   ]
  },
  {
   "cell_type": "markdown",
   "metadata": {},
   "source": [
    "**Coding time!**: Develop a small code snipet and test various ways to perform conditional statments. Use `if`, `elif` and `else`, remembar about indentations and `:` so your code works properly. For example Write a function that accepts a singl variable, and test if it is odd or even and prints a proper message to the screen."
   ]
  },
  {
   "cell_type": "markdown",
   "metadata": {},
   "source": [
    "## Lists\n",
    "List is the default Python way to do collections of data. It is easy to create, use and remove. But, as we will see it is not always (actually most often) the best choice. To create a list, use \\[\\]=brackets, or using **list()**.\n",
    "\n",
    "Note: Elements of a list can be accessed with \\[\\] bracket and an index (starting from 0). "
   ]
  },
  {
   "cell_type": "code",
   "execution_count": null,
   "metadata": {},
   "outputs": [],
   "source": [
    "a = []\n",
    "b = list()"
   ]
  },
  {
   "cell_type": "markdown",
   "metadata": {},
   "source": [
    "or create one that contains some data, by providing it at invocation:"
   ]
  },
  {
   "cell_type": "code",
   "execution_count": null,
   "metadata": {},
   "outputs": [],
   "source": [
    "a = [0, 1, 2, 3]\n",
    "b = ['a', 'b', 3, 4]"
   ]
  },
  {
   "cell_type": "markdown",
   "metadata": {},
   "source": [
    "We note that **b** contains values of different type!  \n",
    "Now lets use **print()**:"
   ]
  },
  {
   "cell_type": "code",
   "execution_count": null,
   "metadata": {},
   "outputs": [],
   "source": [
    "print(a)\n",
    "print(b)\n",
    "print(a+b)#!!\n",
    "print(a[3])"
   ]
  },
  {
   "cell_type": "markdown",
   "metadata": {},
   "source": [
    "Some methods of a list and examples:\n",
    "* append\n",
    "* insert\n",
    "* reverse\n",
    "* len\n",
    "* in\n",
    "* slice of a list with \\[:5\\]\n",
    "* segment with \\[10:100:5\\] - from 10th to 100th every 5\n",
    "* the -1 index\n",
    "* sort()"
   ]
  },
  {
   "cell_type": "markdown",
   "metadata": {},
   "source": [
    "**Coding time!**: Write a program in which you will crate two lists that contain some data (be creative!). Examine content of creates lists, and try access elements stored with `[]`, use `append()`, `insert()` and `len()` and examine the effects. Try to test if lists you work with contain data, use `in` expresion to do that. Write a pice of code that will make the element in the list unique using `if`, `not`, `in` and `append()`. Use `sort()` to sort the resulting list. Than use `reverse()` to change the order.\n",
    "\n",
    "Practice slice extraction from lists with the `[1:n]` semantics. Finally get familiar with accesing elements in a reversed order with the use of negative indices (e.g. `[-1]`). "
   ]
  },
  {
   "cell_type": "markdown",
   "metadata": {},
   "source": [
    "### Multidimensional lists\n",
    "Or a list in a list"
   ]
  },
  {
   "cell_type": "code",
   "execution_count": null,
   "metadata": {},
   "outputs": [],
   "source": [
    "a = [[1,2], [3,4]]\n",
    "print(a[1][0])"
   ]
  },
  {
   "cell_type": "markdown",
   "metadata": {},
   "source": [
    "**Coding time!**: Create a multidimensional array, representing a 3x3 matrix. Write a function that prints this matrix on the screen. Try to apply formatting to the output. Use known modifications to the `print()` function."
   ]
  },
  {
   "cell_type": "markdown",
   "metadata": {},
   "source": [
    "## Loops\n",
    "Loops do not differ much from what you might know from **C**, no need for brackets and a need to use indentation are the two things that are different. Onother difference is that instead of using a counter, that we know from for loops in C, here we will access elements directly with an `in` statment. Let's see:"
   ]
  },
  {
   "cell_type": "code",
   "execution_count": null,
   "metadata": {},
   "outputs": [],
   "source": [
    "a.append(\"hello!\")\n",
    "for i in a:\n",
    "    print(i)"
   ]
  },
  {
   "cell_type": "markdown",
   "metadata": {},
   "source": [
    "Allowed us to iterate across all elements of a list. now let's look at some features:\n",
    "* for - see above\n",
    "* `in range(a,b)` - range is an object! that might give values from a, to b\n",
    "* in list - used to iterate through all elemensts of a list\n",
    "* break and continue - do the same as in C, i.e. control the loop execution\n",
    "* enumerate - provides with a `tuple` that contains an indx and a value from the list\n",
    "* zip - allows to combine iterations to be performed through a number of collections"
   ]
  },
  {
   "cell_type": "code",
   "execution_count": null,
   "metadata": {},
   "outputs": [],
   "source": [
    "for i,v in enumerate(a):\n",
    "    if i % 3 == 0:\n",
    "        continue\n",
    "    print(i, type(i), v, a[i])"
   ]
  },
  {
   "cell_type": "code",
   "execution_count": null,
   "metadata": {},
   "outputs": [],
   "source": [
    "for i in range(0,10):\n",
    "    print(i)"
   ]
  },
  {
   "cell_type": "code",
   "execution_count": null,
   "metadata": {},
   "outputs": [],
   "source": [
    "a = [1,2,3,4,5,6]\n",
    "b = ['a', 'b', 'c', 'd', 'e', 'f']\n",
    "for val in zip(a,b):\n",
    "    print(val, type(val))\n",
    "for va, vb in zip(a,b):\n",
    "    print(va, type(va))\n",
    "    print(vb, type(vb))"
   ]
  },
  {
   "cell_type": "markdown",
   "metadata": {},
   "source": [
    "**Coding time!**: Using a `for` and `range()` create two lists. The first should contain odd numbers from 0 to 100 and the second even ones. Use `zip` to iterate through both lists and print values that are the same. Add `enumerate()` to print also the index."
   ]
  },
  {
   "cell_type": "markdown",
   "metadata": {},
   "source": [
    "## Advanced initialization\n",
    "Python has its more advanced ways of doing things. Some operations that would normally need to be implemented using a number of lines of code can be done in a single line. Consider a list of integers:"
   ]
  },
  {
   "cell_type": "code",
   "execution_count": null,
   "metadata": {},
   "outputs": [],
   "source": [
    "a = []\n",
    "for i in range(0,100):\n",
    "    a.append(i)\n",
    "print(a)"
   ]
  },
  {
   "cell_type": "markdown",
   "metadata": {},
   "source": [
    "Now let's have a list that contains only even values from *a* (or some other operation on the elements of *a*). We could:"
   ]
  },
  {
   "cell_type": "code",
   "execution_count": null,
   "metadata": {},
   "outputs": [],
   "source": [
    "b = []\n",
    "for i in a:\n",
    "    if i%2 == 0:\n",
    "        b.append(i)\n",
    "print(b)"
   ]
  },
  {
   "cell_type": "markdown",
   "metadata": {},
   "source": [
    "But also, with Python we could do this like this:"
   ]
  },
  {
   "cell_type": "code",
   "execution_count": null,
   "metadata": {},
   "outputs": [],
   "source": [
    "c = [ i for i in a if i%2==0]\n",
    "print(c)"
   ]
  },
  {
   "cell_type": "markdown",
   "metadata": {},
   "source": [
    "More fun, right?  \n",
    "Lets try something else: "
   ]
  },
  {
   "cell_type": "code",
   "execution_count": null,
   "metadata": {},
   "outputs": [],
   "source": [
    "c = [ i*i for i in range(0,10)]\n",
    "print(list(range(0,10)))\n",
    "print(c)"
   ]
  },
  {
   "cell_type": "markdown",
   "metadata": {},
   "source": [
    "**Coding time!**: Using the fancy, single line initialization write a three line code that produces three lists. The first contains even numbers from 0 to 100, the second odd ones and the third only the values that are common to first two lists. The third list should be created based on the content of initial lists, and not on what you know about a result."
   ]
  },
  {
   "cell_type": "markdown",
   "metadata": {},
   "source": [
    "## Tuples\n",
    "A bit different to list type of collection is a tuple. Anything can be put into a tuple. Tuples can not be modified once created. To make one use \\(\\)-brackets:"
   ]
  },
  {
   "cell_type": "code",
   "execution_count": null,
   "metadata": {},
   "outputs": [],
   "source": [
    "t = (a,b)\n",
    "print(t)"
   ]
  },
  {
   "cell_type": "markdown",
   "metadata": {},
   "source": [
    "Elements of a tuple are accessed with \\[,\\]-brackets:"
   ]
  },
  {
   "cell_type": "code",
   "execution_count": null,
   "metadata": {},
   "outputs": [],
   "source": [
    "print(t[0])\n",
    "print(t[1])"
   ]
  },
  {
   "cell_type": "markdown",
   "metadata": {},
   "source": [
    "And modification attempts will fail:"
   ]
  },
  {
   "cell_type": "code",
   "execution_count": null,
   "metadata": {},
   "outputs": [],
   "source": [
    "t[0] = 5"
   ]
  },
  {
   "cell_type": "markdown",
   "metadata": {},
   "source": [
    "We might find tuples a convenient way to return more than one result from functions. Something that in **C** required passing values through pointers. For example:"
   ]
  },
  {
   "cell_type": "code",
   "execution_count": null,
   "metadata": {},
   "outputs": [],
   "source": [
    "def fun():\n",
    "    '''\n",
    "    In this function a lot happens,\n",
    "    things get calculated and in the end I need to return\n",
    "    a list, an average and something else\n",
    "    '''\n",
    "    a = [ i**i for i in range(0,10)]\n",
    "    s = sum(a) # a sum!\n",
    "    # cast to float, just in case\n",
    "    avg = float(s) / float(len(a));\n",
    "    \n",
    "    return a, (\"s=\", s), avg #!! a typle in the return"
   ]
  },
  {
   "cell_type": "code",
   "execution_count": null,
   "metadata": {},
   "outputs": [],
   "source": [
    "res = fun()\n",
    "for r in res:\n",
    "    print(r)"
   ]
  },
  {
   "cell_type": "markdown",
   "metadata": {},
   "source": [
    "**Coding time!**: Examint tuples, create some and try to manipulate their content. Can you do it? Wite a function that will be provided witha list of values. This function should sort the list and return a tuple that contain the largest and smallest value in the list. Use this function, and examine if the list that you pass to that function remains unchanged."
   ]
  },
  {
   "cell_type": "markdown",
   "metadata": {},
   "source": [
    "## Modules\n",
    "Any file containing Python code can be reused as a module. The code in those files can be accessed and used.\n",
    "At the same time when using Python we gain access to a vast number of external modules and software packages written by others. In order to use them we need to signal this to the interpreter. Much as was the case with include preprocessor statement in **C**. The counterpart of the **C** include is **import**, let's try:\n",
    "\n",
    "Note: there is a *function.py* file that contains function fun. When working with the interactive Python interpreter such as this Jupyter notebook we have access to all the system calls. For those familiar with Linux OS, we will list the content of the file:"
   ]
  },
  {
   "cell_type": "code",
   "execution_count": null,
   "metadata": {},
   "outputs": [],
   "source": [
    "ls"
   ]
  },
  {
   "cell_type": "code",
   "execution_count": null,
   "metadata": {},
   "outputs": [],
   "source": [
    "cat function.py"
   ]
  },
  {
   "cell_type": "markdown",
   "metadata": {},
   "source": [
    "and import it for use:"
   ]
  },
  {
   "cell_type": "code",
   "execution_count": null,
   "metadata": {},
   "outputs": [],
   "source": [
    "import function\n",
    "function.fun()"
   ]
  },
  {
   "cell_type": "markdown",
   "metadata": {},
   "source": [
    "To access code implemented in *function.py* we need to use the dot: \\.-operator, this works very much like **namespace** you might know from **C++** and allows to separate the code, so our *fun()* and *fun()* from *function.py* remain separated"
   ]
  },
  {
   "cell_type": "code",
   "execution_count": null,
   "metadata": {},
   "outputs": [],
   "source": [
    "fun()"
   ]
  },
  {
   "cell_type": "markdown",
   "metadata": {},
   "source": [
    "Import can also be performed in a different way:"
   ]
  },
  {
   "cell_type": "code",
   "execution_count": null,
   "metadata": {},
   "outputs": [],
   "source": [
    "from function import fun # explicitly list what should be imported"
   ]
  },
  {
   "cell_type": "code",
   "execution_count": null,
   "metadata": {},
   "outputs": [],
   "source": [
    "from function import * #import everything"
   ]
  },
  {
   "cell_type": "code",
   "execution_count": null,
   "metadata": {},
   "outputs": [],
   "source": [
    "import function as ff # import and assign an alias"
   ]
  },
  {
   "cell_type": "markdown",
   "metadata": {},
   "source": [
    "now, *fun()* from *function.py* overrides our local *fun()*"
   ]
  },
  {
   "cell_type": "code",
   "execution_count": null,
   "metadata": {},
   "outputs": [],
   "source": [
    "fun()"
   ]
  },
  {
   "cell_type": "markdown",
   "metadata": {},
   "source": [
    "But also we can:"
   ]
  },
  {
   "cell_type": "code",
   "execution_count": null,
   "metadata": {},
   "outputs": [],
   "source": [
    "ff.fun()"
   ]
  },
  {
   "cell_type": "markdown",
   "metadata": {},
   "source": [
    "**Coding time!**: Move the function from the previous excersies to a separate Python file. Import it here using different approaches and examine how it works for you."
   ]
  },
  {
   "cell_type": "markdown",
   "metadata": {},
   "source": [
    "There are many modules that allow to perform various programing tasks. Some are more popular than others. During this class we will work with some. An incomplete list:\n",
    "* NumPy - numerical mathematics library, with functions, arrays, etc.\n",
    "* SciPy - algorithms for optimization, integration, etc.\n",
    "* Matplotlib - plotting and visualization library\n",
    "* And many others"
   ]
  }
 ],
 "metadata": {
  "kernelspec": {
   "display_name": "Python 3",
   "language": "python",
   "name": "python3"
  },
  "language_info": {
   "codemirror_mode": {
    "name": "ipython",
    "version": 3
   },
   "file_extension": ".py",
   "mimetype": "text/x-python",
   "name": "python",
   "nbconvert_exporter": "python",
   "pygments_lexer": "ipython3",
   "version": "3.8.10"
  }
 },
 "nbformat": 4,
 "nbformat_minor": 4
}
