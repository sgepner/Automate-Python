{
 "cells": [
  {
   "cell_type": "markdown",
   "metadata": {},
   "source": [
    "# Automation of design process with Python\n",
    "\n",
    "**Stanisław Gepner**\n",
    "\n",
    "* Lecture: 15\n",
    "* Laboratory (computer): 15\n",
    "* Additional consultations: 10\n",
    "* Self study and project: 10\n",
    "\n",
    "**Goals**:\n",
    "* Writing scripts and programs in Python\n",
    "* Automating the design loop. Application to computations.\n",
    "* Processing data using available tools\n",
    "\n",
    "**What students should know, prerequirements**:\n",
    "* Be able to write elementary program in C/C++ using procedural programing, loops and conditional statements.\n",
    "\n",
    "**Literature**:\n",
    "* Svein LingeHans Petter Langtangen, Programming for Computations - Python, freely available from Springer: https://link.springer.com/book/10.1007/978-3-319-32428-9\n",
    "* Any on-line resource you can find \"and gets things working\" for you.\n",
    "* This lecture and laboratories and interactive notes available on GitHub repo.\n",
    "\n",
    "**Rules and conditions of passing**:\n",
    "* TBA"
   ]
  },
  {
   "cell_type": "markdown",
   "metadata": {},
   "source": [
    "## What will you need\n",
    "* A computer with a decent modern OS. In case you use something else, like Windows or the fruity one, you can probably get things working, but no guarantees.\n",
    "* On Windows you can either install Python interpreter or make due with Windows Subsystem for Linux, an official Microsoft way of making their system less not decent.\n",
    "* Python interpreter, we will be using Python 3."
   ]
  },
  {
   "cell_type": "markdown",
   "metadata": {},
   "source": [
    "# Lecture 1 - elementary use of Python\n",
    "Through the course of your studies you must have committed some programing. this might have been a simple (or not so much) program in C, C++ or maybe Matlab or Bash? One thing that you might have noted is that in the case of **C** family a compiler was needed to build your program into a usable, machine code, binary executable. In spite of your (bad?) experiences with the compilation process and sorting out errors, the compiler was your best friend. It limited the number of errors, you might have committed that would have otherwise manifest in the working of your program. Some, you might have not even noticed.\n",
    "\n",
    "On the other hand, there is a number of programming languages that do not require compilation, and use an interpretation engine to perform programmed tasks. Matlab, the popular in academia, suite is one of the possibilities. Here we will be looking at Python, a **dynamically typed** and **interpreted** scripting language that has by now become very popular in scientific, engineering but also in standard development applications.\n",
    "\n",
    "A Python program requires an interpreter to be run. An interpreter is a program that directly executes provided instructions, without compiling them into the machine code. This has some benefits, as you have no compiler errors, and might lead to a speedy development of the code. But also has some consequences that might prevent you from applying your interpreted code for complicated tasks.\n",
    "One very interesting application of interpreted programming languages, such as Python is in joining work-flow of otherwise separate tools, very much as the gray duct tape is used to connect various elements that have not been previously designed to be connected. Yes Python might be the gray tape that holds things together. During this class I want to share with you my experience of applying Python in such a role.\n",
    "\n",
    "* Advantages of an interpreted language:\n",
    "    * Speedy development\n",
    "    * No compiler errors\n",
    "    * ...\n",
    "* Disadvantages\n",
    "    * No compiler errors\n",
    "    * No strict type definition\n",
    "    * ..."
   ]
  },
  {
   "cell_type": "markdown",
   "metadata": {},
   "source": [
    "## Basic syntax\n",
    "We will start by getting familiar with very basic structure of a Python script/program. We will avoid to differentiate the two, and use script and program interchangeably.  \n",
    "**A note before we start**: With Python almost any task can be realized in more than one way.\n",
    "There is no best approach and we will try to focus on simplest, most comprehensible solutions here, gradually increasing complexity."
   ]
  },
  {
   "cell_type": "markdown",
   "metadata": {},
   "source": [
    "## First script\n",
    "We start with the most popular first contact program, the famous \"Hello World!\" implemented in Python. Using your Python interpreter try to run the script1.py from this repo.\n",
    "\n",
    "Note: we use function print() provided by the system, that simply puts data onto the screen."
   ]
  },
  {
   "cell_type": "markdown",
   "metadata": {},
   "source": [
    "## Working with Jupyter notebooks\n",
    "Writing self contained scripts and running them from the command line, or the interpreter engine is one way, but it is usually more convenient to work with the program in an interactive way. In our lectures we will use Jupyter notebook to do this. There also exist other ways to interactively work with Python code.\n",
    "\n",
    "Our \"Hello WOrld!\" program looks like this:"
   ]
  },
  {
   "cell_type": "code",
   "execution_count": 1,
   "metadata": {},
   "outputs": [
    {
     "name": "stdout",
     "output_type": "stream",
     "text": [
      "Hello!\n"
     ]
    }
   ],
   "source": [
    "print(\"Hello!\")"
   ]
  },
  {
   "cell_type": "markdown",
   "metadata": {},
   "source": [
    "And can be run either using the top (or side) bar \"Run\" button or either ctrl-enter or shift-enter keys."
   ]
  },
  {
   "cell_type": "markdown",
   "metadata": {},
   "source": [
    "Lets now see what we can do with a print() function, as it offers many possibilities for formating the output.\n",
    "\n",
    "**TBA: Limited information on formating the output.**"
   ]
  },
  {
   "cell_type": "markdown",
   "metadata": {},
   "source": [
    "## Dynamic types\n",
    "Variables declared for use have no explicit type. This is different in comparison to what you might have seen in **C** where variable types had to be provided. In Python variables are **dynamically typed**. This means that type is decided on run-time based on the variable value. This has benefits and allows for quick changes to be made to the code without the need to recompile the program. But at the same time might lead to errors that might have been avoided if type was strictly defined."
   ]
  },
  {
   "cell_type": "code",
   "execution_count": 2,
   "metadata": {},
   "outputs": [],
   "source": [
    "a = 10"
   ]
  },
  {
   "cell_type": "markdown",
   "metadata": {},
   "source": [
    "Here we have created a new variable, an integer. The type has been\n",
    "decided based on the value provided. Let us have some more variables:"
   ]
  },
  {
   "cell_type": "code",
   "execution_count": 3,
   "metadata": {},
   "outputs": [],
   "source": [
    "b = 'this is a string'\n",
    "c = \"and so is this\"\n",
    "d = 5.0 # and this is a float"
   ]
  },
  {
   "cell_type": "markdown",
   "metadata": {},
   "source": [
    "Note: # - allows to make single line comments"
   ]
  },
  {
   "cell_type": "markdown",
   "metadata": {},
   "source": [
    "Some operations on variables. We can perform basic arithmetic operations, such as \\+, \\-, \\*, \\/ \\%.\n",
    "The resulting type will be decided on run-time. "
   ]
  },
  {
   "cell_type": "code",
   "execution_count": 4,
   "metadata": {},
   "outputs": [
    {
     "name": "stdout",
     "output_type": "stream",
     "text": [
      "c = 15\n"
     ]
    }
   ],
   "source": [
    "a = 10\n",
    "b = 5\n",
    "c = a+b\n",
    "print(\"c =\",c)"
   ]
  },
  {
   "cell_type": "markdown",
   "metadata": {},
   "source": [
    "But:"
   ]
  },
  {
   "cell_type": "code",
   "execution_count": 5,
   "metadata": {},
   "outputs": [
    {
     "ename": "TypeError",
     "evalue": "unsupported operand type(s) for +: 'int' and 'str'",
     "output_type": "error",
     "traceback": [
      "\u001b[0;31m---------------------------------------------------------------------------\u001b[0m",
      "\u001b[0;31mTypeError\u001b[0m                                 Traceback (most recent call last)",
      "\u001b[0;32m<ipython-input-5-6fd7e22bbb06>\u001b[0m in \u001b[0;36m<module>\u001b[0;34m\u001b[0m\n\u001b[1;32m      1\u001b[0m \u001b[0mb\u001b[0m \u001b[0;34m=\u001b[0m \u001b[0;34m'aaa'\u001b[0m\u001b[0;34m\u001b[0m\u001b[0;34m\u001b[0m\u001b[0m\n\u001b[0;32m----> 2\u001b[0;31m \u001b[0mc\u001b[0m \u001b[0;34m=\u001b[0m \u001b[0ma\u001b[0m \u001b[0;34m+\u001b[0m \u001b[0mb\u001b[0m\u001b[0;34m\u001b[0m\u001b[0;34m\u001b[0m\u001b[0m\n\u001b[0m\u001b[1;32m      3\u001b[0m \u001b[0;31m#??\u001b[0m\u001b[0;34m\u001b[0m\u001b[0;34m\u001b[0m\u001b[0;34m\u001b[0m\u001b[0m\n",
      "\u001b[0;31mTypeError\u001b[0m: unsupported operand type(s) for +: 'int' and 'str'"
     ]
    }
   ],
   "source": [
    "b = 'aaa'\n",
    "c = a + b\n",
    "#??"
   ]
  },
  {
   "cell_type": "markdown",
   "metadata": {},
   "source": [
    "## Functions\n",
    "What would procedural programing be without the ability to write functions. In python functions are defined in the following way:"
   ]
  },
  {
   "cell_type": "code",
   "execution_count": 6,
   "metadata": {},
   "outputs": [],
   "source": [
    "def fun(a):\n",
    "    return a"
   ]
  },
  {
   "cell_type": "markdown",
   "metadata": {},
   "source": [
    "So a keyword **def**, a name and a list of arguments. but what is the type of *a* and what does the function return?  \n",
    "\n",
    "Well, **dynamic typing**, so a is anything, and the function returns whatever has been provided to it."
   ]
  },
  {
   "cell_type": "code",
   "execution_count": 7,
   "metadata": {},
   "outputs": [
    {
     "data": {
      "text/plain": [
       "25"
      ]
     },
     "execution_count": 7,
     "metadata": {},
     "output_type": "execute_result"
    }
   ],
   "source": [
    "fun(a+c)"
   ]
  },
  {
   "cell_type": "markdown",
   "metadata": {},
   "source": [
    "Note: passing values to function can be done by name  \n",
    "Note 2: Default argument value"
   ]
  },
  {
   "cell_type": "markdown",
   "metadata": {},
   "source": [
    "## Structure of the code - indentation as a syntax requirement\n",
    "In Python indentation of the code is an element of syntax. So you are forced to write your code properly formated for it to work. Note there is no scope limited by \\{\\}, as it was in **C**, but rather code formating defines the scope of a function, but also loops, ifs etc. So this will not work:"
   ]
  },
  {
   "cell_type": "code",
   "execution_count": 25,
   "metadata": {},
   "outputs": [
    {
     "ename": "IndentationError",
     "evalue": "expected an indented block (<ipython-input-25-2aa40e9e78d4>, line 2)",
     "output_type": "error",
     "traceback": [
      "\u001b[0;36m  File \u001b[0;32m\"<ipython-input-25-2aa40e9e78d4>\"\u001b[0;36m, line \u001b[0;32m2\u001b[0m\n\u001b[0;31m    return a\u001b[0m\n\u001b[0m    ^\u001b[0m\n\u001b[0;31mIndentationError\u001b[0m\u001b[0;31m:\u001b[0m expected an indented block\n"
     ]
    }
   ],
   "source": [
    "def fun(a):\n",
    "return a"
   ]
  },
  {
   "cell_type": "markdown",
   "metadata": {},
   "source": [
    "Because the code is ill formated! Write your code neatly!"
   ]
  },
  {
   "cell_type": "markdown",
   "metadata": {},
   "source": [
    "## Loops and conditional statements\n",
    "Looping and branching code execution are indispensable in any programing task. Let us start with an **if**:\n",
    "\n",
    "### if, else if, etc."
   ]
  },
  {
   "cell_type": "code",
   "execution_count": 28,
   "metadata": {},
   "outputs": [
    {
     "name": "stdout",
     "output_type": "stream",
     "text": [
      "zero!\n"
     ]
    }
   ],
   "source": [
    "if a!=0:\n",
    "    print('zero!')\n",
    "elif a != 1:\n",
    "    print(\"bla\")\n",
    "else:\n",
    "    print('not zero!')"
   ]
  },
  {
   "cell_type": "markdown",
   "metadata": {},
   "source": [
    "### More than one condition\n",
    "Logical values are slightly different in Python than in **C**. Logical AND is realized with \\& and OR with \\|: For example:"
   ]
  },
  {
   "cell_type": "code",
   "execution_count": 33,
   "metadata": {},
   "outputs": [],
   "source": [
    "a = 10"
   ]
  },
  {
   "cell_type": "code",
   "execution_count": 34,
   "metadata": {},
   "outputs": [],
   "source": [
    "if a>-1 & a!=0:\n",
    "    print(a)"
   ]
  },
  {
   "cell_type": "code",
   "execution_count": 42,
   "metadata": {},
   "outputs": [
    {
     "name": "stdout",
     "output_type": "stream",
     "text": [
      "10\n"
     ]
    }
   ],
   "source": [
    "if a>-1 | a!=10:\n",
    "    print(a)"
   ]
  },
  {
   "cell_type": "markdown",
   "metadata": {},
   "source": [
    "Will not work exactly as you expect. Logical statements need to be additionally enclosed in ()-brackets, like this:"
   ]
  },
  {
   "cell_type": "code",
   "execution_count": 43,
   "metadata": {},
   "outputs": [
    {
     "name": "stdout",
     "output_type": "stream",
     "text": [
      "10\n"
     ]
    }
   ],
   "source": [
    "if (a>-1) & (a!=0):\n",
    "    print(a)"
   ]
  },
  {
   "cell_type": "code",
   "execution_count": 44,
   "metadata": {},
   "outputs": [
    {
     "name": "stdout",
     "output_type": "stream",
     "text": [
      "10\n"
     ]
    }
   ],
   "source": [
    "if (a>-1) | (a!=10):\n",
    "    print(a)"
   ]
  },
  {
   "cell_type": "markdown",
   "metadata": {},
   "source": [
    "### pass statement\n",
    "In **C** scope was determined by \\{\\}-brackets, and it was very easy to have an empty statement or a function. In Python this is not possible since any statement needs to be followed by an intended code. Without indentation the code will simply not work.\n",
    "To circumvent this problem Python uses **pass** statement. For example:"
   ]
  },
  {
   "cell_type": "code",
   "execution_count": 74,
   "metadata": {},
   "outputs": [],
   "source": [
    "a = 10\n",
    "if a>0:\n",
    "    pass # You shall not pass!\n",
    "else:\n",
    "    print(\"Shell I pass?\")"
   ]
  },
  {
   "cell_type": "markdown",
   "metadata": {},
   "source": [
    "## Lists\n",
    "List is the default Python way to do collections of data. It is easy to create, use and remove. But, as we will see it is not always (actually most often) the best choice. To create a list, use \\[\\]=brackets, or using **list()**.\n",
    "\n",
    "Note: Elements of a list can be accessed with \\[\\] bracket and an index (starting from 0). "
   ]
  },
  {
   "cell_type": "code",
   "execution_count": 59,
   "metadata": {},
   "outputs": [],
   "source": [
    "a = []\n",
    "b = list()"
   ]
  },
  {
   "cell_type": "markdown",
   "metadata": {},
   "source": [
    "or create one that contains some data, by providing it at invocation:"
   ]
  },
  {
   "cell_type": "code",
   "execution_count": 60,
   "metadata": {},
   "outputs": [],
   "source": [
    "a = [0, 1, 2, 3]\n",
    "b = ['a', 'b', 3, 4]"
   ]
  },
  {
   "cell_type": "markdown",
   "metadata": {},
   "source": [
    "We note that **b** contains values of different type!  \n",
    "Now lets use **print()**:"
   ]
  },
  {
   "cell_type": "code",
   "execution_count": 62,
   "metadata": {},
   "outputs": [
    {
     "name": "stdout",
     "output_type": "stream",
     "text": [
      "[0, 1, 2, 3]\n",
      "['a', 'b', 3, 4]\n",
      "[0, 1, 2, 3, 'a', 'b', 3, 4]\n",
      "3\n"
     ]
    }
   ],
   "source": [
    "print(a)\n",
    "print(b)\n",
    "print(a+b)#!!\n",
    "print(a[3])"
   ]
  },
  {
   "cell_type": "markdown",
   "metadata": {},
   "source": [
    "Some methods of a list and examples:\n",
    "* append\n",
    "* insert\n",
    "* reverse\n",
    "* len\n",
    "* in\n",
    "* slice of a list with \\[:5\\]\n",
    "* segment with \\[10:100:5\\] - from 10th to 100th every 5\n",
    "* the -1 index"
   ]
  },
  {
   "cell_type": "markdown",
   "metadata": {},
   "source": [
    "### Multidimensional lists\n",
    "Or a list in a list"
   ]
  },
  {
   "cell_type": "code",
   "execution_count": 66,
   "metadata": {},
   "outputs": [
    {
     "name": "stdout",
     "output_type": "stream",
     "text": [
      "3\n"
     ]
    }
   ],
   "source": [
    "a = [[1,2], [3,4]]\n",
    "print(a[1][0])"
   ]
  },
  {
   "cell_type": "markdown",
   "metadata": {},
   "source": [
    "## Loops\n",
    "Loops do not differ much from what you might know from **C**, brackets and the need to use indentation are the two things that are different."
   ]
  },
  {
   "cell_type": "code",
   "execution_count": 63,
   "metadata": {},
   "outputs": [
    {
     "name": "stdout",
     "output_type": "stream",
     "text": [
      "0\n",
      "1\n",
      "2\n",
      "3\n"
     ]
    }
   ],
   "source": [
    "for i in a:\n",
    "    print(i)"
   ]
  },
  {
   "cell_type": "markdown",
   "metadata": {},
   "source": [
    "* for\n",
    "* in range()\n",
    "* in list\n",
    "* break and continue\n",
    "* enumerate\n",
    "* range\n",
    "* zip"
   ]
  },
  {
   "cell_type": "markdown",
   "metadata": {},
   "source": [
    "\n",
    "* build in types, lists, tuples, arrays?"
   ]
  },
  {
   "cell_type": "markdown",
   "metadata": {},
   "source": [
    "## Advanced initialization\n",
    "Python has its more advanced ways of doing things. Some operations that would normally need to be implemented using a number of lines of code can be done in a single line. Consider a list of integers:"
   ]
  },
  {
   "cell_type": "code",
   "execution_count": 69,
   "metadata": {},
   "outputs": [
    {
     "name": "stdout",
     "output_type": "stream",
     "text": [
      "[0, 1, 2, 3, 4, 5, 6, 7, 8, 9, 10, 11, 12, 13, 14, 15, 16, 17, 18, 19, 20, 21, 22, 23, 24, 25, 26, 27, 28, 29, 30, 31, 32, 33, 34, 35, 36, 37, 38, 39, 40, 41, 42, 43, 44, 45, 46, 47, 48, 49, 50, 51, 52, 53, 54, 55, 56, 57, 58, 59, 60, 61, 62, 63, 64, 65, 66, 67, 68, 69, 70, 71, 72, 73, 74, 75, 76, 77, 78, 79, 80, 81, 82, 83, 84, 85, 86, 87, 88, 89, 90, 91, 92, 93, 94, 95, 96, 97, 98, 99]\n"
     ]
    }
   ],
   "source": [
    "a = []\n",
    "for i in range(0,100):\n",
    "    a.append(i)\n",
    "print(a)"
   ]
  },
  {
   "cell_type": "markdown",
   "metadata": {},
   "source": [
    "Now let's have a list that contains only even values from *a* (or some other operation on the elements of *a*). We could:"
   ]
  },
  {
   "cell_type": "code",
   "execution_count": 70,
   "metadata": {},
   "outputs": [
    {
     "name": "stdout",
     "output_type": "stream",
     "text": [
      "[0, 2, 4, 6, 8, 10, 12, 14, 16, 18, 20, 22, 24, 26, 28, 30, 32, 34, 36, 38, 40, 42, 44, 46, 48, 50, 52, 54, 56, 58, 60, 62, 64, 66, 68, 70, 72, 74, 76, 78, 80, 82, 84, 86, 88, 90, 92, 94, 96, 98]\n"
     ]
    }
   ],
   "source": [
    "b = []\n",
    "for i in a:\n",
    "    if i%2 == 0:\n",
    "        b.append(i)\n",
    "print(b)"
   ]
  },
  {
   "cell_type": "markdown",
   "metadata": {},
   "source": [
    "But also, with Python we could do this like this:"
   ]
  },
  {
   "cell_type": "code",
   "execution_count": 71,
   "metadata": {},
   "outputs": [
    {
     "name": "stdout",
     "output_type": "stream",
     "text": [
      "[0, 2, 4, 6, 8, 10, 12, 14, 16, 18, 20, 22, 24, 26, 28, 30, 32, 34, 36, 38, 40, 42, 44, 46, 48, 50, 52, 54, 56, 58, 60, 62, 64, 66, 68, 70, 72, 74, 76, 78, 80, 82, 84, 86, 88, 90, 92, 94, 96, 98]\n"
     ]
    }
   ],
   "source": [
    "c = [ i for i in a if i%2==0]\n",
    "print(c)"
   ]
  },
  {
   "cell_type": "markdown",
   "metadata": {},
   "source": [
    "More fun, right?  \n",
    "Lets try something else: "
   ]
  },
  {
   "cell_type": "code",
   "execution_count": 83,
   "metadata": {},
   "outputs": [
    {
     "name": "stdout",
     "output_type": "stream",
     "text": [
      "[0, 1, 2, 3, 4, 5, 6, 7, 8, 9]\n",
      "[0, 1, 4, 9, 16, 25, 36, 49, 64, 81]\n"
     ]
    }
   ],
   "source": [
    "c = [ i*i for i in range(0,10)]\n",
    "print(list(range(0,10)))\n",
    "print(c)"
   ]
  },
  {
   "cell_type": "markdown",
   "metadata": {},
   "source": [
    "## Tuples\n",
    "A bit different to list type of collection is a tuple. Anything can be put into a tuple. Tuples can not be modified once created. To make one use \\(\\)-brackets:"
   ]
  },
  {
   "cell_type": "code",
   "execution_count": 84,
   "metadata": {},
   "outputs": [
    {
     "name": "stdout",
     "output_type": "stream",
     "text": [
      "(10, [0, 2, 4, 6, 8, 10, 12, 14, 16, 18, 20, 22, 24, 26, 28, 30, 32, 34, 36, 38, 40, 42, 44, 46, 48, 50, 52, 54, 56, 58, 60, 62, 64, 66, 68, 70, 72, 74, 76, 78, 80, 82, 84, 86, 88, 90, 92, 94, 96, 98])\n"
     ]
    }
   ],
   "source": [
    "t = (a,b)\n",
    "print(t)"
   ]
  },
  {
   "cell_type": "markdown",
   "metadata": {},
   "source": [
    "Elements of a tuple are accessed with \\[,\\]-brackets:"
   ]
  },
  {
   "cell_type": "code",
   "execution_count": 102,
   "metadata": {},
   "outputs": [
    {
     "name": "stdout",
     "output_type": "stream",
     "text": [
      "10\n",
      "[0, 2, 4, 6, 8, 10, 12, 14, 16, 18, 20, 22, 24, 26, 28, 30, 32, 34, 36, 38, 40, 42, 44, 46, 48, 50, 52, 54, 56, 58, 60, 62, 64, 66, 68, 70, 72, 74, 76, 78, 80, 82, 84, 86, 88, 90, 92, 94, 96, 98]\n"
     ]
    }
   ],
   "source": [
    "print(t[0])\n",
    "print(t[1])"
   ]
  },
  {
   "cell_type": "markdown",
   "metadata": {},
   "source": [
    "And modification attempts will fail:"
   ]
  },
  {
   "cell_type": "code",
   "execution_count": 103,
   "metadata": {},
   "outputs": [
    {
     "ename": "TypeError",
     "evalue": "'tuple' object does not support item assignment",
     "output_type": "error",
     "traceback": [
      "\u001b[0;31m---------------------------------------------------------------------------\u001b[0m",
      "\u001b[0;31mTypeError\u001b[0m                                 Traceback (most recent call last)",
      "\u001b[0;32m<ipython-input-103-6dd06f73cec4>\u001b[0m in \u001b[0;36m<module>\u001b[0;34m\u001b[0m\n\u001b[0;32m----> 1\u001b[0;31m \u001b[0mt\u001b[0m\u001b[0;34m[\u001b[0m\u001b[0;36m0\u001b[0m\u001b[0;34m]\u001b[0m \u001b[0;34m=\u001b[0m \u001b[0;36m5\u001b[0m\u001b[0;34m\u001b[0m\u001b[0;34m\u001b[0m\u001b[0m\n\u001b[0m",
      "\u001b[0;31mTypeError\u001b[0m: 'tuple' object does not support item assignment"
     ]
    }
   ],
   "source": [
    "t[0] = 5"
   ]
  },
  {
   "cell_type": "markdown",
   "metadata": {},
   "source": [
    "We might find tuples a convenient way to return more than one result from functions. Something that in **C** required passing values through pointers. For example:"
   ]
  },
  {
   "cell_type": "code",
   "execution_count": 105,
   "metadata": {},
   "outputs": [],
   "source": [
    "def fun():\n",
    "    '''\n",
    "    In this function a lot happens,\n",
    "    things fet calculated and in the end I need to return\n",
    "    a list, an average and something else\n",
    "    '''\n",
    "    a = [ i**i for i in range(0,10)]\n",
    "    s = sum(a) # a sum!\n",
    "    # cast to float, just in case\n",
    "    avg = float(s) / float(len(a));\n",
    "    \n",
    "    return a, (\"s=\", s), avg #!! a typle in the return"
   ]
  },
  {
   "cell_type": "code",
   "execution_count": 106,
   "metadata": {},
   "outputs": [
    {
     "name": "stdout",
     "output_type": "stream",
     "text": [
      "[1, 1, 4, 27, 256, 3125, 46656, 823543, 16777216, 387420489]\n",
      "('s=', 405071318)\n",
      "40507131.8\n"
     ]
    }
   ],
   "source": [
    "res = fun()\n",
    "for r in res:\n",
    "    print(r)"
   ]
  },
  {
   "cell_type": "markdown",
   "metadata": {},
   "source": [
    "## Modules\n",
    "Any file containing Python code can be reused as a module. The code in those files can be accessed and used.\n",
    "At the same time when using Python we gain access to a vast number of external modules and software packages written by others. In order to use them we need to signal this to the interpreter. Much as was the case with include preprocessor statement in **C**. The counterpart of the **C** include is **import**, let's try:\n",
    "\n",
    "Note: there is a *function.py* file that contains function fun. When working with the interactive Python interpreter such as this Jupyter notebook we have access to all the system calls. For those familiar with Linux OS, we will list the content of the file:"
   ]
  },
  {
   "cell_type": "code",
   "execution_count": 115,
   "metadata": {},
   "outputs": [
    {
     "name": "stdout",
     "output_type": "stream",
     "text": [
      " function.py  'Lecture 1.ipynb'   \u001b[0m\u001b[01;34m__pycache__\u001b[0m/   script1.py\r\n"
     ]
    }
   ],
   "source": [
    "ls"
   ]
  },
  {
   "cell_type": "code",
   "execution_count": 116,
   "metadata": {},
   "outputs": [
    {
     "name": "stdout",
     "output_type": "stream",
     "text": [
      "def fun():\r\n",
      "  print(\"Hello!!\")\r\n"
     ]
    }
   ],
   "source": [
    "cat function.py"
   ]
  },
  {
   "cell_type": "markdown",
   "metadata": {},
   "source": [
    "and import it for use:"
   ]
  },
  {
   "cell_type": "code",
   "execution_count": 117,
   "metadata": {},
   "outputs": [
    {
     "name": "stdout",
     "output_type": "stream",
     "text": [
      "Hello!!\n"
     ]
    }
   ],
   "source": [
    "import function\n",
    "function.fun()"
   ]
  },
  {
   "cell_type": "markdown",
   "metadata": {},
   "source": [
    "To access code implemented in *function.py* we need to use the dot: \\.-operator, this works very much like **namespace** you might know from **C++** and allows to separate the code, so our *fun()* and *fun()* from *function.py* remain separated"
   ]
  },
  {
   "cell_type": "code",
   "execution_count": 119,
   "metadata": {},
   "outputs": [
    {
     "data": {
      "text/plain": [
       "([1, 1, 4, 27, 256, 3125, 46656, 823543, 16777216, 387420489],\n",
       " ('s=', 405071318),\n",
       " 40507131.8)"
      ]
     },
     "execution_count": 119,
     "metadata": {},
     "output_type": "execute_result"
    }
   ],
   "source": [
    "fun()"
   ]
  },
  {
   "cell_type": "markdown",
   "metadata": {},
   "source": [
    "Import can also be performed in a different way:"
   ]
  },
  {
   "cell_type": "code",
   "execution_count": 120,
   "metadata": {},
   "outputs": [],
   "source": [
    "from function import fun # explicitly list what should be imported"
   ]
  },
  {
   "cell_type": "code",
   "execution_count": 121,
   "metadata": {},
   "outputs": [],
   "source": [
    "from function import * #import everything"
   ]
  },
  {
   "cell_type": "code",
   "execution_count": 122,
   "metadata": {},
   "outputs": [],
   "source": [
    "import function as ff # import and assign an alias"
   ]
  },
  {
   "cell_type": "markdown",
   "metadata": {},
   "source": [
    "now, *fun()* from *function.py* overrides our local *fun()*"
   ]
  },
  {
   "cell_type": "code",
   "execution_count": 124,
   "metadata": {},
   "outputs": [
    {
     "name": "stdout",
     "output_type": "stream",
     "text": [
      "Hello!!\n"
     ]
    }
   ],
   "source": [
    "fun()"
   ]
  },
  {
   "cell_type": "markdown",
   "metadata": {},
   "source": [
    "But also we can:"
   ]
  },
  {
   "cell_type": "code",
   "execution_count": 125,
   "metadata": {},
   "outputs": [
    {
     "name": "stdout",
     "output_type": "stream",
     "text": [
      "Hello!!\n"
     ]
    }
   ],
   "source": [
    "ff.fun()"
   ]
  },
  {
   "cell_type": "markdown",
   "metadata": {},
   "source": [
    "There are many modules that allow to perform various programing tasks. Some are more popular than others. During this class we will work with some. An incomplete list:\n",
    "* NumPy - numerical mathematics library, with functions, arrays, etc.\n",
    "* SciPy - algorithms for optimization, integration, etc.\n",
    "* Matplotlib - plotting and visualization library\n",
    "* other?"
   ]
  }
 ],
 "metadata": {
  "kernelspec": {
   "display_name": "Python 3",
   "language": "python",
   "name": "python3"
  },
  "language_info": {
   "codemirror_mode": {
    "name": "ipython",
    "version": 3
   },
   "file_extension": ".py",
   "mimetype": "text/x-python",
   "name": "python",
   "nbconvert_exporter": "python",
   "pygments_lexer": "ipython3",
   "version": "3.8.10"
  }
 },
 "nbformat": 4,
 "nbformat_minor": 4
}
