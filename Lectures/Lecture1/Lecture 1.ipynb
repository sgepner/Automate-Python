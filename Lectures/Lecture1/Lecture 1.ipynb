{
 "cells": [
  {
   "cell_type": "markdown",
   "metadata": {},
   "source": [
    "# Automation of design process with Python\n",
    "\n",
    "**Stanisław Gepner**\n",
    "\n",
    "* Lecture: 15\n",
    "* Laboratory (computer): 15\n",
    "* Additional consultations: 10\n",
    "* Self study and project: 10\n",
    "\n",
    "**Goals**:\n",
    "* Writing scripts and programs in Python\n",
    "* Automating the design loop. Application to computations.\n",
    "* Processing data using available tools\n",
    "\n",
    "**What students should know, prerequirements**:\n",
    "* Be able to write elementary program in C/C++ using procedural programing, loops and conditional statements.\n",
    "\n",
    "**Literature**:\n",
    "* Svein LingeHans Petter Langtangen, Programming for Computations - Python, freely available from Springer: https://link.springer.com/book/10.1007/978-3-319-32428-9\n",
    "* Any on-line resource you can find \"and gets things working\" for you.\n",
    "* This lecture and laboratories and interactive notes available on GitHub repo.\n",
    "\n",
    "**Rules and conditions of passing**:\n",
    "* TBA"
   ]
  },
  {
   "cell_type": "markdown",
   "metadata": {},
   "source": [
    "## What will you need\n",
    "* A computer with a decent modern OS. In case you use something else, like Windows or the fruity one, you can probably get things working, but no guarantees.\n",
    "* On Windows you can either install Python interpreter or make due with Windows Subsystem for Linux, an official Microsoft way of making their system less not decent.\n",
    "* Python interpreter, we will be using Python 3."
   ]
  },
  {
   "cell_type": "markdown",
   "metadata": {},
   "source": [
    "# Lecture 1 - elementary use of Python\n",
    "Through the course of your studies you must have committed some programing. this might have been a simple (or not so much) program in C, C++ or maybe Matlab or Bash? One thing that you might have noted is that in the case of **C** family a compiler was needed to build your program into a usable, machine code, binary executable. In spite of your (bad?) experiences with the compilation process and sorting out errors, the compiler was your best friend. It limited the number of errors, you might have committed that would have otherwise manifest in the working of your program. Some, you might have not even noticed.\n",
    "\n",
    "On the other hand, there is a number of programming languages that do not require compilation, and use an interpretation engine to perform programmed tasks. Matlab, the popular in academia, suite is one of the possibilities. Here we will be looking at Python, a **dynamically typed** and **interpreted** scripting language that has by now become very popular in scientific, engineering but also in standard development applications.\n",
    "\n",
    "A Python program requires an interpreter to be run. An interpreter is a program that directly executes provided instructions, without compiling them into the machine code. This has some benefits, as you have no compiler errors, and might lead to a speedy development of the code. But also has some consequences that might prevent you from applying your interpreted code for complicated tasks.\n",
    "One very interesting application of interpreted programming languages, such as Python is in joining work-flow of otherwise separate tools, very much as the gray duct tape is used to connect various elements that have not been previously designed to be connected. Yes Python might be the gray tape that holds things together. During this class I want to share with you my experience of applying Python in such a role.\n",
    "\n",
    "* Advantages of an interpreted language:\n",
    "    * Speedy development\n",
    "    * No compiler errors\n",
    "    * ...\n",
    "* Disadvantages\n",
    "    * No compiler errors\n",
    "    * No strict type definition\n",
    "    * ..."
   ]
  },
  {
   "cell_type": "markdown",
   "metadata": {},
   "source": [
    "## Basic syntax\n",
    "We will start by getting familiar with very basic structure of a Python script/program. We will avoid to differentiate the two, and use script and program interchangeably.  \n",
    "**A note before we start**: With Python almost any task can be realized in more than one way.\n",
    "There is no best approach and we will try to focus on simplest, most comprehensible solutions here, gradually increasing complexity."
   ]
  },
  {
   "cell_type": "markdown",
   "metadata": {},
   "source": [
    "### First script\n",
    "We start with the most popular first contact program, the famous \"Hello World!\" implemented in Python. Using your Python interpreter try to run the script1.py from this repo.\n",
    "\n",
    "Note: we use function print() provided by the system, that simply puts data onto the screen."
   ]
  },
  {
   "cell_type": "markdown",
   "metadata": {},
   "source": [
    "### Working with Jupyter notebooks\n",
    "Writing self contained scripts and running them from the command line, or the interpreter engine is one way, but it is usually more convenient to work with the program in an interactive way. In our lectures we will use Jupyter notebook to do this. There also exist other ways to interactively work with Python code.\n",
    "\n",
    "Our \"Hello WOrld!\" program looks like this:"
   ]
  },
  {
   "cell_type": "code",
   "execution_count": 1,
   "metadata": {},
   "outputs": [
    {
     "name": "stdout",
     "output_type": "stream",
     "text": [
      "Hello!\n"
     ]
    }
   ],
   "source": [
    "print(\"Hello!\")"
   ]
  },
  {
   "cell_type": "markdown",
   "metadata": {},
   "source": [
    "And can be run either using the top (or side) bar \"Run\" button or either ctrl-enter or shift-enter keys."
   ]
  },
  {
   "cell_type": "markdown",
   "metadata": {},
   "source": [
    "Lets now see what we can do with a print():\n",
    "\n",
    "limited information on formating the output."
   ]
  },
  {
   "cell_type": "markdown",
   "metadata": {},
   "source": [
    "### Dynamic types\n",
    "Variables declared for use have no explicit type. This is different in comparison to what you might have seen in **C** where variable types had to be provided.\n"
   ]
  },
  {
   "cell_type": "markdown",
   "metadata": {},
   "source": [
    "* functions, variables, runtime resolution of types, loops, conditional statments, \n",
    "\n",
    "* Structure of a program - indentations!\n",
    "\n",
    "* variables, and basic arithmetic operations\n",
    "\n",
    "* build in types, lists, tuples, arrays?"
   ]
  },
  {
   "cell_type": "code",
   "execution_count": null,
   "metadata": {},
   "outputs": [],
   "source": []
  },
  {
   "cell_type": "code",
   "execution_count": null,
   "metadata": {},
   "outputs": [],
   "source": []
  },
  {
   "cell_type": "code",
   "execution_count": null,
   "metadata": {},
   "outputs": [],
   "source": []
  }
 ],
 "metadata": {
  "kernelspec": {
   "display_name": "Python 3",
   "language": "python",
   "name": "python3"
  },
  "language_info": {
   "codemirror_mode": {
    "name": "ipython",
    "version": 3
   },
   "file_extension": ".py",
   "mimetype": "text/x-python",
   "name": "python",
   "nbconvert_exporter": "python",
   "pygments_lexer": "ipython3",
   "version": "3.8.10"
  }
 },
 "nbformat": 4,
 "nbformat_minor": 4
}
