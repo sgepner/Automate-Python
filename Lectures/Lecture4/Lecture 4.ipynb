{
 "cells": [
  {
   "cell_type": "markdown",
   "metadata": {},
   "source": [
    "# Lecture 4\n",
    "We will now look at ways to run a computational process and monitor it as it performs the assigned task. At some moment our algorithm will decide that solution progressed enough to make some decision and will restart it with parameters changed according to what we programmed. The task itself, the communication and the process will vary greatly from case to case, but in general we will need to:\n",
    "* Start an external application with proper command line arguments.\n",
    "    * This can be done either in a blocking (the thread serving our Python console will not be accessible, and will lock for the execution of the called program)\n",
    "    * Or in a nonblocking way, by spawning a separate process to deal with the problem, while our Python console will return control for us to perform various tasks.\n",
    "* Read data from a file to which the program stores the interesting value.\n",
    "* Modify settings of the program, either via command line arguments or a setting file.\n",
    "* Make decisions on what to do next.\n",
    "\n",
    "**Note**: I use more less this approach to (attempt) track the edge that possibly exists between the laminar and turbulent solution, by iteratively changing perturbation applied to the flow end examining its evolution in time, on the way deciding if the flow is going turbulent or not. The process is very much like trying to push the ball to land on the top of a hill, push it to hard and it passes to the other side, be to gentle and it will not reach the top. But in an infinite number of dimensions (before discretization)."
   ]
  },
  {
   "cell_type": "markdown",
   "metadata": {},
   "source": [
    "## The model program\n",
    "For a given task you will need to use a specific program. For me this is a flow solver, for you it might be ANSYS or ADAMS or something completely different. For the purpose of this presentation we will use a simple C++ program, attached to this repository. (This might not be working with MyBinder though). This program:\n",
    "* stores a random value from a selected range to a file - our data.\n",
    "* accepts some simple command line arguments.\n",
    "* Reads a simplistic setting file.\n",
    "* The source is in the tick-tick folder.\n",
    "\n",
    "Start by building the `tick-tick` program.\n",
    "\n",
    "## Use `os.system` call\n",
    "We start by simply calling the system command, in our case it is our program. To do this we need to import `os` module:"
   ]
  },
  {
   "cell_type": "code",
   "execution_count": null,
   "metadata": {},
   "outputs": [],
   "source": [
    "import os"
   ]
  },
  {
   "cell_type": "code",
   "execution_count": null,
   "metadata": {},
   "outputs": [],
   "source": [
    "ls"
   ]
  },
  {
   "cell_type": "code",
   "execution_count": null,
   "metadata": {},
   "outputs": [],
   "source": [
    "os.system('ls')"
   ]
  },
  {
   "cell_type": "markdown",
   "metadata": {},
   "source": [
    "Our test program will be a simple program. The source is given here for the sake of completeness:"
   ]
  },
  {
   "cell_type": "code",
   "execution_count": null,
   "metadata": {},
   "outputs": [],
   "source": [
    "cat ./tick-tick/main.cpp"
   ]
  },
  {
   "cell_type": "markdown",
   "metadata": {},
   "source": [
    "We start with the simple call to `os.system`. OS is a module that lets our Python script interact with the operating system, and the `system()` method executes the command (a string) in a subshell. It is a blocking call, meaning for the time of execution the console is unusable."
   ]
  },
  {
   "cell_type": "code",
   "execution_count": null,
   "metadata": {},
   "outputs": [],
   "source": [
    "os.system('./tick-tick/build/tick-tick')\n",
    "# os.system('./tick-tick/build_debug/tick-tick --period 10')"
   ]
  },
  {
   "cell_type": "code",
   "execution_count": null,
   "metadata": {},
   "outputs": [],
   "source": [
    "ls"
   ]
  },
  {
   "cell_type": "code",
   "execution_count": null,
   "metadata": {},
   "outputs": [],
   "source": [
    "os.system('./tick-tick/build/tick-tick --period 10')"
   ]
  },
  {
   "cell_type": "markdown",
   "metadata": {},
   "source": [
    "This executes `tick-tick` program, the working directory (place where work is performed is) is the same as our current working directory. As a result `data.dat` should appear. The file content is:"
   ]
  },
  {
   "cell_type": "code",
   "execution_count": null,
   "metadata": {
    "scrolled": true
   },
   "outputs": [],
   "source": [
    "cat data.dat"
   ]
  },
  {
   "cell_type": "code",
   "execution_count": null,
   "metadata": {},
   "outputs": [],
   "source": [
    "import numpy as np\n",
    "import matplotlib.pyplot as plt"
   ]
  },
  {
   "cell_type": "code",
   "execution_count": null,
   "metadata": {},
   "outputs": [],
   "source": [
    "t, v = np.loadtxt('data.dat', comments=\"#\", skiprows=3, usecols=(0,1), unpack=True, delimiter=',')"
   ]
  },
  {
   "cell_type": "code",
   "execution_count": null,
   "metadata": {},
   "outputs": [],
   "source": [
    "plt.plot(t, v)\n",
    "plt.grid()"
   ]
  },
  {
   "cell_type": "markdown",
   "metadata": {},
   "source": [
    "Before proceeding lets add setting file we can manipulate:"
   ]
  },
  {
   "cell_type": "code",
   "execution_count": null,
   "metadata": {},
   "outputs": [],
   "source": [
    "f = open('./settings', 'w')\n",
    "f.writelines('DT   = 0.5\\n')\n",
    "f.write('XMAX = 5.0\\n')\n",
    "f.write('XMIN = -5.0\\n')\n",
    "f.write('N    = 1000\\n')\n",
    "f.close()"
   ]
  },
  {
   "cell_type": "code",
   "execution_count": null,
   "metadata": {},
   "outputs": [],
   "source": [
    "ls"
   ]
  },
  {
   "cell_type": "code",
   "execution_count": null,
   "metadata": {},
   "outputs": [],
   "source": [
    "cat settings"
   ]
  },
  {
   "cell_type": "markdown",
   "metadata": {},
   "source": [
    "Now we have a settings file to be passed to our process."
   ]
  },
  {
   "cell_type": "code",
   "execution_count": null,
   "metadata": {},
   "outputs": [],
   "source": [
    "os.system('./tick-tick/build/tick-tick --period 10 --sett settings')"
   ]
  },
  {
   "cell_type": "code",
   "execution_count": null,
   "metadata": {},
   "outputs": [],
   "source": [
    "t, v = np.loadtxt('data.dat', comments=\"#\", skiprows=2, usecols=(0,1), unpack=True, delimiter=',')\n",
    "plt.scatter(t, v)\n",
    "plt.grid()"
   ]
  },
  {
   "cell_type": "markdown",
   "metadata": {},
   "source": [
    "## `subprocess`\n",
    "### Blocking call:\n",
    "Ultimately we would like to run the program and regain control, while the program runs. To this end we will use the `subprocess` module and a couple of `os` tools. The `subprocess` module allows to create new processes, obtain their returns and outputs. We will show only some of the functionality. Let's start with getting the output with `check_output`, that we can later parse and use:"
   ]
  },
  {
   "cell_type": "code",
   "execution_count": null,
   "metadata": {},
   "outputs": [],
   "source": [
    "import subprocess"
   ]
  },
  {
   "cell_type": "code",
   "execution_count": null,
   "metadata": {},
   "outputs": [],
   "source": [
    "ls -l"
   ]
  },
  {
   "cell_type": "code",
   "execution_count": null,
   "metadata": {},
   "outputs": [],
   "source": [
    "s = subprocess.check_output([\"ls\", \"-l\"])"
   ]
  },
  {
   "cell_type": "code",
   "execution_count": null,
   "metadata": {},
   "outputs": [],
   "source": [
    "print(s)"
   ]
  },
  {
   "cell_type": "code",
   "execution_count": null,
   "metadata": {},
   "outputs": [],
   "source": [
    "for ss in s.splitlines():\n",
    "    print(ss)"
   ]
  },
  {
   "cell_type": "markdown",
   "metadata": {},
   "source": [
    "For us, more useful is `call()`. It runs command passed as argument and waits (locks control) until command completes. "
   ]
  },
  {
   "cell_type": "code",
   "execution_count": null,
   "metadata": {},
   "outputs": [],
   "source": [
    "com = \"tick-tick/build/tick-tick\"\n",
    "subprocess.call(com)"
   ]
  },
  {
   "cell_type": "markdown",
   "metadata": {},
   "source": [
    "If additional parameters need to be passed:"
   ]
  },
  {
   "cell_type": "code",
   "execution_count": null,
   "metadata": {},
   "outputs": [],
   "source": [
    "com = \"tick-tick/build/tick-tick --period 50 --sett settings\"\n",
    "subprocess.call(com, shell=True)"
   ]
  },
  {
   "cell_type": "markdown",
   "metadata": {},
   "source": [
    "Note the additional `shell=True` argument. This specifies that the command will be executed through the system shell (eg. Bash) and is useful if we need to pass arguments. We can illustrate the result:"
   ]
  },
  {
   "cell_type": "code",
   "execution_count": null,
   "metadata": {},
   "outputs": [],
   "source": [
    "t, v = np.loadtxt('data.dat', comments=\"#\", skiprows=2, usecols=(0,1), unpack=True, delimiter=',')\n",
    "plt.scatter(t, v)\n",
    "plt.grid()"
   ]
  },
  {
   "cell_type": "markdown",
   "metadata": {},
   "source": [
    "Example: Using the `tick-tick` program and the `call` function write a script that runs the `tick-tick` changing the number of iterations N and plots average and variance as functions of N.\n",
    "\n",
    "1. Write a function that modifies the setting file accordingly.\n",
    "2. Write a function that reads the result file and stores the results.\n",
    "3. Run the process in a loop, choose some stopping criteria."
   ]
  },
  {
   "cell_type": "code",
   "execution_count": null,
   "metadata": {},
   "outputs": [],
   "source": [
    "def settfile(fname, N):\n",
    "    '''\n",
    "    Modifies the setting file\n",
    "    param: fname - file to modify\n",
    "    param: N - nuber of iteration do perform\n",
    "    '''\n",
    "    f = open(fname, 'w')\n",
    "    f.writelines('DT   = 0.5\\n')\n",
    "    f.write('XMAX = 5.0\\n')\n",
    "    f.write('XMIN = -5.0\\n')\n",
    "    st =    'N    = ' + str(N) + '\\n'\n",
    "    f.write(st)\n",
    "    f.close()"
   ]
  },
  {
   "cell_type": "code",
   "execution_count": null,
   "metadata": {},
   "outputs": [],
   "source": [
    "def calculate(fname):\n",
    "    '''\n",
    "    Using fname calculates average and variance\n",
    "    '''\n",
    "    t, v = np.loadtxt(fname, comments=\"#\", skiprows=3, usecols=(0,1), unpack=True, delimiter=',')\n",
    "    s = v.sum()\n",
    "    avg = s / len(t)\n",
    "    s = 0\n",
    "    for val in v:\n",
    "        s += (val - avg)**2\n",
    "    var = s / len(t)\n",
    "    return avg, var"
   ]
  },
  {
   "cell_type": "code",
   "execution_count": null,
   "metadata": {},
   "outputs": [],
   "source": [
    "'''\n",
    "Run the process here\n",
    "'''\n",
    "n = []\n",
    "av = []\n",
    "va = []\n",
    "for N in range(5,10000,50):\n",
    "    st = 'settings'\n",
    "    settfile(st, N)\n",
    "#     print('Running for N=', N)\n",
    "    subprocess.call(\"tick-tick/build/tick-tick --period 0 --sett settings\", shell=True)\n",
    "    a, v = calculate('data.dat')\n",
    "    n.append(N)\n",
    "    av.append(a)\n",
    "    va.append(v)\n",
    "    if N > 100 and np.abs(a) < 1.0e-3: # stopping cryteria\n",
    "        break\n",
    "#     print(a, v)"
   ]
  },
  {
   "cell_type": "code",
   "execution_count": null,
   "metadata": {},
   "outputs": [],
   "source": [
    "plt.plot(n, av)\n",
    "plt.grid()"
   ]
  },
  {
   "cell_type": "code",
   "execution_count": null,
   "metadata": {},
   "outputs": [],
   "source": [
    "plt.plot(n, va)\n",
    "plt.grid()"
   ]
  },
  {
   "cell_type": "markdown",
   "metadata": {},
   "source": [
    "### Run and regain control with `popen()`\n",
    "We will now look at a slight modification. Our goal is to be able to monitor (programmatically) the process we call and if necessary make decision, change parameters and eventually stop execution or restart. To do this we need to add a couple of things to our tool set. Fist is the `subprocess.Popen()`, which works very much like `call()`, with a difference that it executes the child (**without mercy!**) in a new process! What that means is that new, separate from our Python interpreter, process is started to handle the program, and control is returned to the interpreter to perform whatever task we wish it to do. When called `Popen` object is returned. We will outline some of functionality it provides (also see the documentation).\n",
    "\n",
    "**The most important feature is that `Popen()` allows a nonblocking call!** meaning we can continue interacting with our script"
   ]
  },
  {
   "cell_type": "code",
   "execution_count": 1,
   "metadata": {},
   "outputs": [],
   "source": [
    "import matplotlib.pyplot as plt\n",
    "import numpy as np\n",
    "import subprocess\n",
    "import time\n",
    "from IPython.display import clear_output\n",
    "import os"
   ]
  },
  {
   "cell_type": "markdown",
   "metadata": {},
   "source": [
    "Note: It is good to show the process tree at this moment."
   ]
  },
  {
   "cell_type": "code",
   "execution_count": 38,
   "metadata": {},
   "outputs": [
    {
     "name": "stdout",
     "output_type": "stream",
     "text": [
      "None\n"
     ]
    }
   ],
   "source": [
    "cmd = 'tick-tick/build/tick-tick'\n",
    "p=subprocess.Popen(cmd)"
   ]
  },
  {
   "cell_type": "code",
   "execution_count": 39,
   "metadata": {},
   "outputs": [
    {
     "name": "stdout",
     "output_type": "stream",
     "text": [
      "9\n",
      "# Settings: 1000 0.1 1 -1 10\n",
      "0,\t -0.736924\n",
      "0.1,\t -0.0826997\n",
      "0.2,\t -0.562082\n",
      "0.3,\t 0.357729\n",
      "0.4,\t 0.869386\n",
      "0.5,\t 0.0388327\n",
      "0.6,\t -0.930856\n",
      "0.7,\t 0.0594004\n",
      "0.8,\t -0.984604\n",
      "===== Starting process =====\n",
      "Period:1000\n",
      "Dt:\t0.1\n",
      "Xmax:\t1\n",
      "Xmin:\t-1\n",
      "N:\t10\n"
     ]
    },
    {
     "data": {
      "text/plain": [
       "0"
      ]
     },
     "execution_count": 39,
     "metadata": {},
     "output_type": "execute_result"
    }
   ],
   "source": [
    "for i in range(0,10):\n",
    "    clear_output(wait=True)\n",
    "    print(i, end='\\n')\n",
    "    os.system('tail data.dat')\n",
    "    time.sleep(1)\n",
    "# p.wait()"
   ]
  },
  {
   "attachments": {
    "defunct_proces.png": {
     "image/png": "[encoded data removed]"
    }
   },
   "cell_type": "markdown",
   "metadata": {},
   "source": [
    "`p` is going to be a `Popen` with which we (or our smart algorithm) can interact. There is a number of things we could do. The most important is to check if the child process is alive (`Popen.poll()`), wait for it to finish with (`Popen.wait(timeout)`), or send it a signal for termination or kill (`Popen.terminate() .kill()`). There is also an option to interact with the process passing data to `stdin` and to read from `stdout` with `Popen.communicate()`, but our program does not support this (you can try it out).\n",
    "\n",
    "Examine:\n",
    "* `p.poll()`\n",
    "* `p.wait()`\n",
    "* `p.pid`\n",
    "* `p.terminate()` and `p.kill()`\n",
    "\n",
    "Note: `terminate` will send `SIGTERM`, while `kill` will result in `SIGKILL` on Linux.\n",
    "\n",
    "Note: Why `wait()` the process?\n",
    "![defunct_proces.png](attachment:defunct_proces.png)\n",
    "\n",
    "Let us see:"
   ]
  },
  {
   "cell_type": "code",
   "execution_count": 40,
   "metadata": {},
   "outputs": [],
   "source": [
    "cmd = 'tick-tick/build/tick-tick'\n",
    "p=subprocess.Popen(cmd)"
   ]
  },
  {
   "cell_type": "code",
   "execution_count": 41,
   "metadata": {},
   "outputs": [
    {
     "name": "stdout",
     "output_type": "stream",
     "text": [
      "None\n",
      "Tick-tick is still running, pid= 236656\n"
     ]
    }
   ],
   "source": [
    "pid = p.pid\n",
    "poll = p.poll()\n",
    "print(poll)\n",
    "\n",
    "if poll == None:\n",
    "    print('Tick-tick is still running, pid=', pid)\n",
    "else:\n",
    "    print('Tick-tick has finished with code:', poll, 'and return code=', p.returncode)"
   ]
  },
  {
   "cell_type": "code",
   "execution_count": 42,
   "metadata": {},
   "outputs": [
    {
     "name": "stdout",
     "output_type": "stream",
     "text": [
      "===== Starting process =====\n",
      "Period:1000\n",
      "Dt:\t0.1\n",
      "Xmax:\t1\n",
      "Xmin:\t-1\n",
      "N:\t10\n",
      "0\n",
      "Tick-tick has finished with code: 0 and return code= 0\n"
     ]
    }
   ],
   "source": [
    "p.wait()\n",
    "\n",
    "pid = p.pid\n",
    "poll = p.poll()\n",
    "print(poll)\n",
    "\n",
    "if poll == None:\n",
    "    print('Tick-tick is still running, pid=', pid)\n",
    "else:\n",
    "    print('Tick-tick has finished with code:', poll, 'and return code=', p.returncode)"
   ]
  },
  {
   "cell_type": "markdown",
   "metadata": {},
   "source": [
    "`wait()` without any arguments will lock and wait for the process to finish. Passing a `timeout` argument will result in `wait()` raising an error if the process does not finish. We can capture and deal with this using the `try` and `except` construct. (similar to `try` and `catch`)."
   ]
  },
  {
   "cell_type": "code",
   "execution_count": 56,
   "metadata": {},
   "outputs": [],
   "source": [
    "cmd = 'tick-tick/build/tick-tick'\n",
    "p=subprocess.Popen(cmd)"
   ]
  },
  {
   "cell_type": "code",
   "execution_count": 52,
   "metadata": {
    "collapsed": true
   },
   "outputs": [
    {
     "ename": "TimeoutExpired",
     "evalue": "Command 'tick-tick/build/tick-tick' timed out after 1 seconds",
     "output_type": "error",
     "traceback": [
      "\u001b[0;31m---------------------------------------------------------------------------\u001b[0m",
      "\u001b[0;31mTimeoutExpired\u001b[0m                            Traceback (most recent call last)",
      "Cell \u001b[0;32mIn [52], line 3\u001b[0m\n\u001b[1;32m      1\u001b[0m cmd \u001b[38;5;241m=\u001b[39m \u001b[38;5;124m'\u001b[39m\u001b[38;5;124mtick-tick/build/tick-tick\u001b[39m\u001b[38;5;124m'\u001b[39m\n\u001b[1;32m      2\u001b[0m p\u001b[38;5;241m=\u001b[39msubprocess\u001b[38;5;241m.\u001b[39mPopen(cmd)\n\u001b[0;32m----> 3\u001b[0m p\u001b[38;5;241m.\u001b[39mwait(timeout\u001b[38;5;241m=\u001b[39m\u001b[38;5;241m1\u001b[39m)\n",
      "File \u001b[0;32m/usr/lib/python3.10/subprocess.py:1209\u001b[0m, in \u001b[0;36mPopen.wait\u001b[0;34m(self, timeout)\u001b[0m\n\u001b[1;32m   1207\u001b[0m     endtime \u001b[38;5;241m=\u001b[39m _time() \u001b[38;5;241m+\u001b[39m timeout\n\u001b[1;32m   1208\u001b[0m \u001b[38;5;28;01mtry\u001b[39;00m:\n\u001b[0;32m-> 1209\u001b[0m     \u001b[38;5;28;01mreturn\u001b[39;00m \u001b[38;5;28;43mself\u001b[39;49m\u001b[38;5;241;43m.\u001b[39;49m\u001b[43m_wait\u001b[49m\u001b[43m(\u001b[49m\u001b[43mtimeout\u001b[49m\u001b[38;5;241;43m=\u001b[39;49m\u001b[43mtimeout\u001b[49m\u001b[43m)\u001b[49m\n\u001b[1;32m   1210\u001b[0m \u001b[38;5;28;01mexcept\u001b[39;00m \u001b[38;5;167;01mKeyboardInterrupt\u001b[39;00m:\n\u001b[1;32m   1211\u001b[0m     \u001b[38;5;66;03m# https://bugs.python.org/issue25942\u001b[39;00m\n\u001b[1;32m   1212\u001b[0m     \u001b[38;5;66;03m# The first keyboard interrupt waits briefly for the child to\u001b[39;00m\n\u001b[1;32m   1213\u001b[0m     \u001b[38;5;66;03m# exit under the common assumption that it also received the ^C\u001b[39;00m\n\u001b[1;32m   1214\u001b[0m     \u001b[38;5;66;03m# generated SIGINT and will exit rapidly.\u001b[39;00m\n\u001b[1;32m   1215\u001b[0m     \u001b[38;5;28;01mif\u001b[39;00m timeout \u001b[38;5;129;01mis\u001b[39;00m \u001b[38;5;129;01mnot\u001b[39;00m \u001b[38;5;28;01mNone\u001b[39;00m:\n",
      "File \u001b[0;32m/usr/lib/python3.10/subprocess.py:1951\u001b[0m, in \u001b[0;36mPopen._wait\u001b[0;34m(self, timeout)\u001b[0m\n\u001b[1;32m   1949\u001b[0m remaining \u001b[38;5;241m=\u001b[39m \u001b[38;5;28mself\u001b[39m\u001b[38;5;241m.\u001b[39m_remaining_time(endtime)\n\u001b[1;32m   1950\u001b[0m \u001b[38;5;28;01mif\u001b[39;00m remaining \u001b[38;5;241m<\u001b[39m\u001b[38;5;241m=\u001b[39m \u001b[38;5;241m0\u001b[39m:\n\u001b[0;32m-> 1951\u001b[0m     \u001b[38;5;28;01mraise\u001b[39;00m TimeoutExpired(\u001b[38;5;28mself\u001b[39m\u001b[38;5;241m.\u001b[39margs, timeout)\n\u001b[1;32m   1952\u001b[0m delay \u001b[38;5;241m=\u001b[39m \u001b[38;5;28mmin\u001b[39m(delay \u001b[38;5;241m*\u001b[39m \u001b[38;5;241m2\u001b[39m, remaining, \u001b[38;5;241m.05\u001b[39m)\n\u001b[1;32m   1953\u001b[0m time\u001b[38;5;241m.\u001b[39msleep(delay)\n",
      "\u001b[0;31mTimeoutExpired\u001b[0m: Command 'tick-tick/build/tick-tick' timed out after 1 seconds"
     ]
    }
   ],
   "source": [
    "p.wait(timeout=1)"
   ]
  },
  {
   "cell_type": "code",
   "execution_count": 57,
   "metadata": {},
   "outputs": [
    {
     "name": "stdout",
     "output_type": "stream",
     "text": [
      "some error!\n"
     ]
    }
   ],
   "source": [
    "try:\n",
    "    print(p.wait(timeout=2))\n",
    "except:\n",
    "    print('some error!')"
   ]
  },
  {
   "cell_type": "code",
   "execution_count": 58,
   "metadata": {},
   "outputs": [
    {
     "name": "stdout",
     "output_type": "stream",
     "text": [
      "None\n"
     ]
    }
   ],
   "source": [
    "pid = p.pid\n",
    "poll = p.poll()\n",
    "print(poll)"
   ]
  },
  {
   "cell_type": "code",
   "execution_count": 59,
   "metadata": {},
   "outputs": [
    {
     "name": "stdout",
     "output_type": "stream",
     "text": [
      "Tick-tick is still running, pid= 238437\n",
      "===== Starting process =====\n",
      "Period:1000\n",
      "Dt:\t0.1\n",
      "Xmax:\t1\n",
      "Xmin:\t-1\n",
      "N:\t10\n",
      "Tick-tick is still running, pid= 238437\n"
     ]
    }
   ],
   "source": [
    "if poll == None:\n",
    "    print('Tick-tick is still running, pid=', pid)\n",
    "else:\n",
    "    print('Tick-tick has finished with code:', poll, 'and return code=', p.returncode)\n",
    "\n",
    "p.wait()\n",
    "    \n",
    "if poll == None:\n",
    "    print('Tick-tick is still running, pid=', pid)\n",
    "else:\n",
    "    print('Tick-tick has finished with code:', poll, 'and return code=', p.returncode)"
   ]
  },
  {
   "cell_type": "markdown",
   "metadata": {},
   "source": [
    "### Killing the p\n",
    "There is nothing more pleasurable than to destroy something ..."
   ]
  },
  {
   "cell_type": "code",
   "execution_count": 64,
   "metadata": {},
   "outputs": [],
   "source": [
    "cmd = 'tick-tick/build/tick-tick'\n",
    "p=subprocess.Popen(cmd)"
   ]
  },
  {
   "cell_type": "code",
   "execution_count": 65,
   "metadata": {},
   "outputs": [
    {
     "name": "stdout",
     "output_type": "stream",
     "text": [
      "None\n",
      "Tick-tick is still running, pid= 239069\n"
     ]
    }
   ],
   "source": [
    "pid = p.pid\n",
    "poll = p.poll()\n",
    "print(poll)\n",
    "if poll == None:\n",
    "    print('Tick-tick is still running, pid=', pid)\n",
    "else:\n",
    "    print('Tick-tick has finished with code:', poll, 'and return code=', p.returncode)"
   ]
  },
  {
   "cell_type": "code",
   "execution_count": 66,
   "metadata": {},
   "outputs": [],
   "source": [
    "# p.kill()\n",
    "p.terminate()"
   ]
  },
  {
   "cell_type": "code",
   "execution_count": 67,
   "metadata": {},
   "outputs": [
    {
     "data": {
      "text/plain": [
       "-15"
      ]
     },
     "execution_count": 67,
     "metadata": {},
     "output_type": "execute_result"
    }
   ],
   "source": [
    "p.wait()"
   ]
  },
  {
   "cell_type": "code",
   "execution_count": 69,
   "metadata": {},
   "outputs": [
    {
     "name": "stdout",
     "output_type": "stream",
     "text": [
      "# Recording precious random data\n",
      "# t, value\n",
      "# Settings: 1000 0.1 1 -1 10\n",
      "0,\t -0.736924\n"
     ]
    },
    {
     "data": {
      "text/plain": [
       "0"
      ]
     },
     "execution_count": 69,
     "metadata": {},
     "output_type": "execute_result"
    }
   ],
   "source": [
    "os.system('tail data.dat')"
   ]
  },
  {
   "cell_type": "code",
   "execution_count": 70,
   "metadata": {},
   "outputs": [
    {
     "name": "stdout",
     "output_type": "stream",
     "text": [
      "-15\n",
      "Tick-tick has finished with code: -15 and return code= -15\n"
     ]
    }
   ],
   "source": [
    "pid = p.pid\n",
    "poll = p.poll()\n",
    "print(poll)\n",
    "if poll == None:\n",
    "    print('Tick-tick is still running, pid=', pid)\n",
    "else:\n",
    "    print('Tick-tick has finished with code:', poll, 'and return code=', p.returncode)"
   ]
  },
  {
   "cell_type": "markdown",
   "metadata": {},
   "source": [
    "How about the `shell=True` option, that we need when passing command line settings?\n",
    "\n",
    "**Note**: Note additional process spawned to handle our call!"
   ]
  },
  {
   "cell_type": "code",
   "execution_count": 71,
   "metadata": {},
   "outputs": [],
   "source": [
    "cmd = \"tick-tick/build/tick-tick --period 1000 --sett settings\"\n",
    "p=subprocess.Popen(cmd, shell=True)\n",
    "# p=subprocess.Popen(cmd)"
   ]
  },
  {
   "cell_type": "code",
   "execution_count": 72,
   "metadata": {},
   "outputs": [
    {
     "name": "stdout",
     "output_type": "stream",
     "text": [
      "None\n",
      "Tick-tick is still running, pid= 240029\n"
     ]
    }
   ],
   "source": [
    "pid = p.pid\n",
    "poll = p.poll()\n",
    "print(poll)\n",
    "if poll == None:\n",
    "    print('Tick-tick is still running, pid=', pid)\n",
    "else:\n",
    "    print('Tick-tick has finished with code:', poll, 'and return code=', p.returncode)"
   ]
  },
  {
   "cell_type": "code",
   "execution_count": 79,
   "metadata": {},
   "outputs": [],
   "source": [
    "p.kill()"
   ]
  },
  {
   "cell_type": "code",
   "execution_count": 83,
   "metadata": {},
   "outputs": [
    {
     "name": "stdout",
     "output_type": "stream",
     "text": [
      "21.5,\t 2.25412\n",
      "22,\t 3.88572\n",
      "22.5,\t -1.93678\n",
      "23,\t 0.132737\n",
      "23.5,\t 3.45982\n",
      "24,\t 3.41511\n",
      "24.5,\t -0.846054\n",
      "25,\t -0.320826\n",
      "25.5,\t -3.21672\n",
      "26,\t 0.716548\n"
     ]
    },
    {
     "data": {
      "text/plain": [
       "0"
      ]
     },
     "execution_count": 83,
     "metadata": {},
     "output_type": "execute_result"
    }
   ],
   "source": [
    "os.system('tail data.dat')"
   ]
  },
  {
   "cell_type": "code",
   "execution_count": 81,
   "metadata": {},
   "outputs": [
    {
     "name": "stdout",
     "output_type": "stream",
     "text": [
      "-9\n",
      "Tick-tick has finished with code: -9 and return code= -9\n"
     ]
    }
   ],
   "source": [
    "pid = p.pid\n",
    "poll = p.poll()\n",
    "print(poll)\n",
    "if poll == None:\n",
    "    print('Tick-tick is still running, pid=', pid)\n",
    "else:\n",
    "    print('Tick-tick has finished with code:', poll, 'and return code=', p.returncode)"
   ]
  },
  {
   "cell_type": "markdown",
   "metadata": {},
   "source": [
    "Process is not dead!! This is because `kill()` killed the shell process, we invoked to process our call with additional options, and not the actual command, which is now a process without a parent, but a still running one. An easy fix is to add `exec` before the actual command we wish to run:\n",
    "\n",
    "**Note**: *`exec` command in Linux is used to execute a command from the bash itself. This command does not create a new process it just replaces the bash with the command to be executed. If the exec command is successful, it does not return to the calling process.*"
   ]
  },
  {
   "cell_type": "code",
   "execution_count": 84,
   "metadata": {},
   "outputs": [],
   "source": [
    "cmd = \"exec tick-tick/build/tick-tick --period 1000 --sett settings\"\n",
    "p=subprocess.Popen(cmd, shell=True)"
   ]
  },
  {
   "cell_type": "code",
   "execution_count": 85,
   "metadata": {},
   "outputs": [
    {
     "name": "stdout",
     "output_type": "stream",
     "text": [
      "None\n",
      "Tick-tick is still running, pid= 241173\n"
     ]
    }
   ],
   "source": [
    "pid = p.pid\n",
    "poll = p.poll()\n",
    "print(poll)\n",
    "if poll == None:\n",
    "    print('Tick-tick is still running, pid=', pid)\n",
    "else:\n",
    "    print('Tick-tick has finished with code:', poll, 'and return code=', p.returncode)"
   ]
  },
  {
   "cell_type": "code",
   "execution_count": 88,
   "metadata": {},
   "outputs": [],
   "source": [
    "p.kill()"
   ]
  },
  {
   "cell_type": "code",
   "execution_count": 91,
   "metadata": {},
   "outputs": [
    {
     "name": "stdout",
     "output_type": "stream",
     "text": [
      "0,\t -3.68462\n",
      "0.5,\t -0.413499\n",
      "1,\t -2.81041\n",
      "1.5,\t 1.78865\n",
      "2,\t 4.34693\n",
      "2.5,\t 0.194164\n",
      "3,\t -4.65428\n",
      "3.5,\t 0.297002\n",
      "4,\t -4.92302\n",
      "4.5,\t -4.33158\n"
     ]
    },
    {
     "data": {
      "text/plain": [
       "0"
      ]
     },
     "execution_count": 91,
     "metadata": {},
     "output_type": "execute_result"
    }
   ],
   "source": [
    "os.system('tail data.dat')"
   ]
  },
  {
   "cell_type": "code",
   "execution_count": 92,
   "metadata": {},
   "outputs": [
    {
     "data": {
      "text/plain": [
       "-9"
      ]
     },
     "execution_count": 92,
     "metadata": {},
     "output_type": "execute_result"
    }
   ],
   "source": [
    "p.wait()"
   ]
  },
  {
   "cell_type": "code",
   "execution_count": 93,
   "metadata": {},
   "outputs": [
    {
     "name": "stdout",
     "output_type": "stream",
     "text": [
      "-9\n",
      "Tick-tick has finished with code: -9 and return code= -9\n"
     ]
    }
   ],
   "source": [
    "pid = p.pid\n",
    "poll = p.poll()\n",
    "print(poll)\n",
    "if poll == None:\n",
    "    print('Tick-tick is still running, pid=', pid)\n",
    "else:\n",
    "    print('Tick-tick has finished with code:', poll, 'and return code=', p.returncode)"
   ]
  },
  {
   "cell_type": "code",
   "execution_count": null,
   "metadata": {},
   "outputs": [],
   "source": [
    "t, v = np.loadtxt('data.dat', comments=\"#\", skiprows=2, usecols=(0,1), unpack=True, delimiter=',')\n",
    "plt.scatter(t, v)\n",
    "plt.grid()"
   ]
  },
  {
   "cell_type": "markdown",
   "metadata": {},
   "source": [
    "### Example\n",
    "Run the `tick-tick` program checking the average value and stopping the execution when the value reaches a certain, satisfactory value and stays there for some time."
   ]
  },
  {
   "cell_type": "code",
   "execution_count": null,
   "metadata": {},
   "outputs": [],
   "source": [
    "import time"
   ]
  },
  {
   "cell_type": "code",
   "execution_count": null,
   "metadata": {},
   "outputs": [],
   "source": [
    "def calculate(fname):\n",
    "    '''\n",
    "    Using fname calculates average and variance\n",
    "    '''\n",
    "    t, v = np.loadtxt(fname, comments=\"#\", skiprows=3, usecols=(0,1), unpack=True, delimiter=',')\n",
    "    s = v.sum()\n",
    "    avg = s / len(t)\n",
    "    s = 0\n",
    "    for val in v:\n",
    "        s += (val - avg)**2\n",
    "    var = s / len(t)\n",
    "    return avg, var"
   ]
  },
  {
   "cell_type": "code",
   "execution_count": null,
   "metadata": {},
   "outputs": [],
   "source": [
    "'''\n",
    "Run the process here\n",
    "'''\n",
    "p=subprocess.Popen('exec tick-tick/build/tick-tick --period 10 --sett settings', shell=True)"
   ]
  },
  {
   "cell_type": "code",
   "execution_count": null,
   "metadata": {},
   "outputs": [],
   "source": [
    "nn = []\n",
    "av = []\n",
    "while True:\n",
    "    if p.poll() != None:\n",
    "        print(p.pid, 'Is not working')\n",
    "        break\n",
    "    time.sleep(1)\n",
    "    \n",
    "    a, v = calculate('data.dat')\n",
    "    nn.append(len(av))\n",
    "    av.append(a)\n",
    "    print(len(av), a)\n",
    "    if np.abs(a) < 1e-5:\n",
    "        p.terminate()\n",
    "        print(p.pid, 'is now dead')\n",
    "\n",
    "plt.plot(nn, av)\n",
    "plt.grid()"
   ]
  },
  {
   "cell_type": "code",
   "execution_count": null,
   "metadata": {},
   "outputs": [],
   "source": []
  }
 ],
 "metadata": {
  "kernelspec": {
   "display_name": "Python 3 (ipykernel)",
   "language": "python",
   "name": "python3"
  },
  "language_info": {
   "codemirror_mode": {
    "name": "ipython",
    "version": 3
   },
   "file_extension": ".py",
   "mimetype": "text/x-python",
   "name": "python",
   "nbconvert_exporter": "python",
   "pygments_lexer": "ipython3",
   "version": "3.10.12"
  },
  "vscode": {
   "interpreter": {
    "hash": "066f348939004ce48c516ac89cf46754c2b75f67fa2a868f0990f6208517c155"
   }
  }
 },
 "nbformat": 4,
 "nbformat_minor": 4
}
