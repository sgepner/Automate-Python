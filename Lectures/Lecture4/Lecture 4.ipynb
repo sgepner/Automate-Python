{
 "cells": [
  {
   "cell_type": "markdown",
   "metadata": {},
   "source": [
    "# Lecture 4\n",
    "We will now look at ways to run a computational process and monitor it as it performs the assigned task. At some moment our algorithm will decide that solution progressed enough to make some decision and will restart it with parameters changed according to what we programmed. The task itself, the communication and the process will vary greatly from case to case, but in general we will need to:\n",
    "* Start an external application with proper command line arguments.\n",
    "    * This can be done either in a blocking (the thread serving our Python console will not be accessible, and will lock for the execution of the called program)\n",
    "    * Or in a nonblocking way, by spawning a separate process to deal with the problem, while our Python console will return control for us to perform various tasks.\n",
    "* Read data from a file to which the program stores the interesting value.\n",
    "* Modify settings of the program, either via command line arguments or a setting file.\n",
    "* Make decisions on what to do next.\n",
    "\n",
    "**Note**: I use more less this approach to (attempt) track the edge that possibly exists between the laminar and turbulent solution, by iteratively changing perturbation applied to the flow end examining its evolution in time, on the way deciding if the flow is going turbulent or not. The process is very much like trying to push the ball to land on the top of a hill, push it to hard and it passes to the other side, be to gentle and it will not reach the top. But in an infinite number of dimensions (before discretization)."
   ]
  },
  {
   "cell_type": "markdown",
   "metadata": {},
   "source": [
    "## The model program\n",
    "For a given task you will need to use a specific program. For me this is a flow solver, for you it might be ANSYS or ADAMS or something completely different. For the purpose of this presentation we will use a simple C++ program, attached to this repository. (This might not be working with MyBinder though). This program:\n",
    "* stores a random value from a selected range to a file - our data.\n",
    "* accepts some simple command line arguments.\n",
    "* Reads a simplistic setting file.\n",
    "* The source is in the tick-tick folder.\n",
    "\n",
    "Start by building the `tick-tick` program.\n",
    "\n",
    "## Use `os.system` call\n",
    "We start by simply calling the system command, in our case it is our program. To do this we need to import `os` module:"
   ]
  },
  {
   "cell_type": "code",
   "execution_count": 1,
   "metadata": {},
   "outputs": [],
   "source": [
    "import os"
   ]
  },
  {
   "cell_type": "code",
   "execution_count": 2,
   "metadata": {},
   "outputs": [
    {
     "name": "stdout",
     "output_type": "stream",
     "text": [
      " data.dat  'Lecture 4.ipynb'   settings   skrypt.py   \u001b[0m\u001b[01;34mtick-tick\u001b[0m/\r\n"
     ]
    }
   ],
   "source": [
    "ls"
   ]
  },
  {
   "cell_type": "code",
   "execution_count": 3,
   "metadata": {},
   "outputs": [
    {
     "name": "stdout",
     "output_type": "stream",
     "text": [
      "data.dat\n",
      "Lecture 4.ipynb\n",
      "settings\n",
      "skrypt.py\n",
      "tick-tick\n"
     ]
    },
    {
     "data": {
      "text/plain": [
       "0"
      ]
     },
     "execution_count": 3,
     "metadata": {},
     "output_type": "execute_result"
    }
   ],
   "source": [
    "os.system('ls')"
   ]
  },
  {
   "cell_type": "markdown",
   "metadata": {},
   "source": [
    "Our test program will be a simple program. The source is given here for the sake of completeness:"
   ]
  },
  {
   "cell_type": "code",
   "execution_count": 4,
   "metadata": {},
   "outputs": [
    {
     "name": "stdout",
     "output_type": "stream",
     "text": [
      "#include <iostream>\r",
      "\r\n",
      "#include <fstream>\r",
      "\r\n",
      "#include <chrono>\r",
      "\r\n",
      "#include <thread>\r",
      "\r\n",
      "#include <filesystem>\r",
      "\r\n",
      "#include <algorithm>\r",
      "\r\n",
      "#include <random>\r",
      "\r\n",
      "\r",
      "\r\n",
      "using namespace std;\r",
      "\r\n",
      "\r",
      "\r\n",
      "int main(int argc, char *argv[])\r",
      "\r\n",
      "{\r",
      "\r\n",
      "    // Settings strings\r",
      "\r\n",
      "    string period_option = \"--period\";\r",
      "\r\n",
      "    string sett_option = \"--sett\";\r",
      "\r\n",
      "    \r",
      "\r\n",
      "    // Settings values\r",
      "\r\n",
      "    int period = 1000;\r",
      "\r\n",
      "    string sett_file = \"\";\r",
      "\r\n",
      "\r",
      "\r\n",
      "    // Values read from file\r",
      "\r\n",
      "    double dt = 0.1; // time step\r",
      "\r\n",
      "    double xmax  = 1.0; // max\r",
      "\r\n",
      "    double xmin  = -1.0;// min\r",
      "\r\n",
      "    int    niter = 10; // maximum number of generated values\r",
      "\r\n",
      "\r",
      "\r\n",
      "    // parsing command line args\r",
      "\r\n",
      "    for(int i=0; i<argc; ++i)\r",
      "\r\n",
      "    {\r",
      "\r\n",
      "        if(period_option.compare(argv[i]) == 0) // period\r",
      "\r\n",
      "            period = stoi(argv[i+1]); // convert to int\r",
      "\r\n",
      "        if(sett_option.compare(argv[i]) == 0) // setting file\r",
      "\r\n",
      "        {\r",
      "\r\n",
      "            sett_file = argv[i+1];\r",
      "\r\n",
      "            if(filesystem::exists(sett_file)) // file exists, read settings\r",
      "\r\n",
      "            {\r",
      "\r\n",
      "                ifstream myfile(sett_file); // open file as an input stream\r",
      "\r\n",
      "                std::string line;\r",
      "\r\n",
      "                while( getline(myfile, line) ) // go through all lines\r",
      "\r\n",
      "                {\r",
      "\r\n",
      "                    if(line[0] == '#') continue; // skip comments\r",
      "\r\n",
      "                    if(line.find_first_of('=') != string::npos) // consider only if there is a '='\r",
      "\r\n",
      "                    {\r",
      "\r\n",
      "                        istringstream is_line(line); // to use with getline\r",
      "\r\n",
      "                        std::string key, value;\r",
      "\r\n",
      "                        getline(is_line, key, '='); // first, get the key\r",
      "\r\n",
      "                        getline(is_line, value, '='); // get the value\r",
      "\r\n",
      "                        key.erase (remove (key.begin(), key.end(), ' '), key.end()); // get rid of whitespaces\r",
      "\r\n",
      "                        if(key.compare(\"DT\") == 0) dt = stod(value); // string to double, whitespaces removed\r",
      "\r\n",
      "                        else if(key.compare(\"XMAX\") == 0) xmax = stod(value);\r",
      "\r\n",
      "                        else if(key.compare(\"XMIN\") == 0) xmin = stod(value);\r",
      "\r\n",
      "                        else if(key.compare(\"N\") == 0) niter = stoi(value);\r",
      "\r\n",
      "                        else { cout << key << \" \" << \" with vaue \" << value << \" is not regcognized\" << '\\n'; }\r",
      "\r\n",
      "                    }\r",
      "\r\n",
      "                }\r",
      "\r\n",
      "                myfile.close();\r",
      "\r\n",
      "            }\r",
      "\r\n",
      "            else cout << \"Setting file \" << sett_file << \"does not exist, usin defaults\" << '\\n';\r",
      "\r\n",
      "        }\r",
      "\r\n",
      "    }\r",
      "\r\n",
      "\r",
      "\r\n",
      "    // sum up the settings\r",
      "\r\n",
      "    cout << \"===== Starting process =====\" << '\\n';\r",
      "\r\n",
      "    cout << \"Period:\" << period << '\\n';\r",
      "\r\n",
      "    cout << \"Dt:\\t\"   << dt << '\\n';\r",
      "\r\n",
      "    cout << \"Xmax:\\t\" << xmax << '\\n';\r",
      "\r\n",
      "    cout << \"Xmin:\\t\" << xmin << '\\n';\r",
      "\r\n",
      "    cout << \"N:\\t\"    << niter << '\\n';\r",
      "\r\n",
      "\r",
      "\r\n",
      "    // File to store to\r",
      "\r\n",
      "    ofstream myfile; // open output stream\r",
      "\r\n",
      "    myfile.open (\"data.dat\"); // file to store results\r",
      "\r\n",
      "    myfile << \"# Recording precious random data\\n\"\r",
      "\r\n",
      "           << \"# t, value\" << '\\n'\r",
      "\r\n",
      "           << \"# Settings: \" << period << \" \" << dt << \" \" << xmax << \" \" << xmin << \" \" << niter << '\\n';\r",
      "\r\n",
      "    myfile.flush();\r",
      "\r\n",
      "\r",
      "\r\n",
      "    // The \"computational\" process!\r",
      "\r\n",
      "    uniform_real_distribution<double> unif(xmin, xmax);\r",
      "\r\n",
      "    default_random_engine re;\r",
      "\r\n",
      "\r",
      "\r\n",
      "    for(int i = 0; i < niter; ++i)\r",
      "\r\n",
      "    {\r",
      "\r\n",
      "        this_thread::sleep_for(chrono::milliseconds(period)); // a nice do nothing part\r",
      "\r\n",
      "        double random_double = unif(re);\r",
      "\r\n",
      "        myfile << i*dt << \",\\t \" << random_double << '\\n';\r",
      "\r\n",
      "        myfile.flush();\r",
      "\r\n",
      "    }\r",
      "\r\n",
      "\r",
      "\r\n",
      "    // Tidy up\r",
      "\r\n",
      "    myfile.close();\r",
      "\r\n",
      "    return 0;\r",
      "\r\n",
      "}\r",
      "\r\n"
     ]
    }
   ],
   "source": [
    "cat ./tick-tick/main.cpp"
   ]
  },
  {
   "cell_type": "markdown",
   "metadata": {},
   "source": [
    "We start with the simple call to `os.system`. OS is a module that lets our Python script interact with the operating system, and the `system()` method executes the command (a string) in a subshell. It is a blocking call, meaning for the time of execution the console is unusable."
   ]
  },
  {
   "cell_type": "code",
   "execution_count": 6,
   "metadata": {},
   "outputs": [
    {
     "name": "stdout",
     "output_type": "stream",
     "text": [
      "===== Starting process =====\n",
      "Period:1000\n",
      "Dt:\t0.1\n",
      "Xmax:\t1\n",
      "Xmin:\t-1\n",
      "N:\t10\n"
     ]
    },
    {
     "data": {
      "text/plain": [
       "0"
      ]
     },
     "execution_count": 6,
     "metadata": {},
     "output_type": "execute_result"
    }
   ],
   "source": [
    "os.system('./tick-tick/build/tick-tick')\n",
    "# os.system('./tick-tick/build_debug/tick-tick --period 10')"
   ]
  },
  {
   "cell_type": "code",
   "execution_count": 5,
   "metadata": {},
   "outputs": [
    {
     "name": "stdout",
     "output_type": "stream",
     "text": [
      " data.dat  'Lecture 4.ipynb'   \u001b[0m\u001b[01;34mtick-tick\u001b[0m/\r\n"
     ]
    }
   ],
   "source": [
    "ls"
   ]
  },
  {
   "cell_type": "code",
   "execution_count": 7,
   "metadata": {},
   "outputs": [
    {
     "name": "stdout",
     "output_type": "stream",
     "text": [
      "===== Starting process =====\n",
      "Period:10\n",
      "Dt:\t0.1\n",
      "Xmax:\t1\n",
      "Xmin:\t-1\n",
      "N:\t10\n"
     ]
    },
    {
     "data": {
      "text/plain": [
       "0"
      ]
     },
     "execution_count": 7,
     "metadata": {},
     "output_type": "execute_result"
    }
   ],
   "source": [
    "os.system('./tick-tick/build/tick-tick --period 10')"
   ]
  },
  {
   "cell_type": "markdown",
   "metadata": {},
   "source": [
    "This executes `tick-tick` program, the working directory (place where work is performed is) is the same as our current working directory. As a result `data.dat` should appear. The file content is:"
   ]
  },
  {
   "cell_type": "code",
   "execution_count": 8,
   "metadata": {
    "scrolled": true
   },
   "outputs": [
    {
     "name": "stdout",
     "output_type": "stream",
     "text": [
      "# Recording precious random data\r\n",
      "# t, value\r\n",
      "# Settings: 1000 0.1 1 -1 10\r\n",
      "0,\t -0.736924\r\n",
      "0.1,\t -0.0826997\r\n",
      "0.2,\t -0.562082\r\n",
      "0.3,\t 0.357729\r\n",
      "0.4,\t 0.869386\r\n",
      "0.5,\t 0.0388327\r\n",
      "0.6,\t -0.930856\r\n",
      "0.7,\t 0.0594004\r\n",
      "0.8,\t -0.984604\r\n",
      "0.9,\t -0.866316\r\n"
     ]
    }
   ],
   "source": [
    "cat data.dat"
   ]
  },
  {
   "cell_type": "code",
   "execution_count": 30,
   "metadata": {},
   "outputs": [],
   "source": [
    "import numpy as np\n",
    "import matplotlib.pyplot as plt"
   ]
  },
  {
   "cell_type": "code",
   "execution_count": 10,
   "metadata": {},
   "outputs": [],
   "source": [
    "t, v = np.loadtxt('data.dat', comments=\"#\", skiprows=3, usecols=(0,1), unpack=True, delimiter=',')"
   ]
  },
  {
   "cell_type": "code",
   "execution_count": 12,
   "metadata": {},
   "outputs": [
    {
     "data": {
      "image/png": "[encoded data removed]",
      "text/plain": [
       "<Figure size 640x480 with 1 Axes>"
      ]
     },
     "metadata": {},
     "output_type": "display_data"
    }
   ],
   "source": [
    "plt.plot(t, v)\n",
    "plt.grid()"
   ]
  },
  {
   "cell_type": "markdown",
   "metadata": {},
   "source": [
    "Before proceeding lets add setting file we can manipulate:"
   ]
  },
  {
   "cell_type": "code",
   "execution_count": 13,
   "metadata": {},
   "outputs": [],
   "source": [
    "f = open('./settings', 'w')\n",
    "f.writelines('DT   = 0.5\\n')\n",
    "f.write('XMAX = 5.0\\n')\n",
    "f.write('XMIN = -5.0\\n')\n",
    "f.write('N    = 1000\\n')\n",
    "f.close()"
   ]
  },
  {
   "cell_type": "code",
   "execution_count": 14,
   "metadata": {},
   "outputs": [
    {
     "name": "stdout",
     "output_type": "stream",
     "text": [
      " data.dat  'Lecture 4.ipynb'   settings   skrypt.py   \u001b[0m\u001b[01;34mtick-tick\u001b[0m/\r\n"
     ]
    }
   ],
   "source": [
    "ls"
   ]
  },
  {
   "cell_type": "code",
   "execution_count": 15,
   "metadata": {},
   "outputs": [
    {
     "name": "stdout",
     "output_type": "stream",
     "text": [
      "DT   = 0.5\r\n",
      "XMAX = 5.0\r\n",
      "XMIN = -5.0\r\n",
      "N    = 1000\r\n"
     ]
    }
   ],
   "source": [
    "cat settings"
   ]
  },
  {
   "cell_type": "markdown",
   "metadata": {},
   "source": [
    "Now we have a settings file to be passed to our process."
   ]
  },
  {
   "cell_type": "code",
   "execution_count": 17,
   "metadata": {},
   "outputs": [
    {
     "name": "stdout",
     "output_type": "stream",
     "text": [
      "===== Starting process =====\n",
      "Period:10\n",
      "Dt:\t0.5\n",
      "Xmax:\t5\n",
      "Xmin:\t-5\n",
      "N:\t1000\n"
     ]
    },
    {
     "data": {
      "text/plain": [
       "0"
      ]
     },
     "execution_count": 17,
     "metadata": {},
     "output_type": "execute_result"
    }
   ],
   "source": [
    "os.system('./tick-tick/build/tick-tick --period 10 --sett settings')"
   ]
  },
  {
   "cell_type": "code",
   "execution_count": 18,
   "metadata": {},
   "outputs": [
    {
     "data": {
      "image/png": "[encoded data removed]",
      "text/plain": [
       "<Figure size 640x480 with 1 Axes>"
      ]
     },
     "metadata": {},
     "output_type": "display_data"
    }
   ],
   "source": [
    "t, v = np.loadtxt('data.dat', comments=\"#\", skiprows=2, usecols=(0,1), unpack=True, delimiter=',')\n",
    "plt.scatter(t, v)\n",
    "plt.grid()"
   ]
  },
  {
   "cell_type": "markdown",
   "metadata": {},
   "source": [
    "## `subprocess`\n",
    "### Blocking call:\n",
    "Ultimately we would like to run the program and regain control, while the program runs. To this end we will use the `subprocess` module and a couple of `os` tools. The `subprocess` module allows to create new processes, obtain their returns and outputs. We will show only some of the functionality. Let's start with getting the output with `check_output`, that we can later parse and use:"
   ]
  },
  {
   "cell_type": "code",
   "execution_count": 12,
   "metadata": {},
   "outputs": [],
   "source": [
    "import subprocess"
   ]
  },
  {
   "cell_type": "code",
   "execution_count": 13,
   "metadata": {},
   "outputs": [
    {
     "name": "stdout",
     "output_type": "stream",
     "text": [
      "total 392\r\n",
      "-rw-rw-r-- 1 sgepner sgepner    230 mar 27 14:06  data.dat\r\n",
      "-rw-rw-r-- 1 sgepner sgepner 381524 mar 27 14:06 'Lecture 4.ipynb'\r\n",
      "-rw-rw-r-- 1 sgepner sgepner     46 mar 26 12:58  settings\r\n",
      "-rw-rw-r-- 1 sgepner sgepner     96 mar 26 12:35  skrypt.py\r\n",
      "drwxrwxr-x 5 sgepner sgepner   4096 mar 26 12:27  \u001b[0m\u001b[01;34mtick-tick\u001b[0m/\r\n"
     ]
    }
   ],
   "source": [
    "ls -l"
   ]
  },
  {
   "cell_type": "code",
   "execution_count": 14,
   "metadata": {},
   "outputs": [],
   "source": [
    "s = subprocess.check_output([\"ls\", \"-l\"])"
   ]
  },
  {
   "cell_type": "code",
   "execution_count": 15,
   "metadata": {},
   "outputs": [
    {
     "name": "stdout",
     "output_type": "stream",
     "text": [
      "b'total 392\\n-rw-rw-r-- 1 sgepner sgepner    230 mar 27 14:06 data.dat\\n-rw-rw-r-- 1 sgepner sgepner 381524 mar 27 14:06 Lecture 4.ipynb\\n-rw-rw-r-- 1 sgepner sgepner     46 mar 26 12:58 settings\\n-rw-rw-r-- 1 sgepner sgepner     96 mar 26 12:35 skrypt.py\\ndrwxrwxr-x 5 sgepner sgepner   4096 mar 26 12:27 tick-tick\\n'\n"
     ]
    }
   ],
   "source": [
    "print(s)"
   ]
  },
  {
   "cell_type": "code",
   "execution_count": 16,
   "metadata": {},
   "outputs": [
    {
     "name": "stdout",
     "output_type": "stream",
     "text": [
      "b'total 392'\n",
      "b'-rw-rw-r-- 1 sgepner sgepner    230 mar 27 14:06 data.dat'\n",
      "b'-rw-rw-r-- 1 sgepner sgepner 381524 mar 27 14:06 Lecture 4.ipynb'\n",
      "b'-rw-rw-r-- 1 sgepner sgepner     46 mar 26 12:58 settings'\n",
      "b'-rw-rw-r-- 1 sgepner sgepner     96 mar 26 12:35 skrypt.py'\n",
      "b'drwxrwxr-x 5 sgepner sgepner   4096 mar 26 12:27 tick-tick'\n"
     ]
    }
   ],
   "source": [
    "for ss in s.splitlines():\n",
    "    print(ss)"
   ]
  },
  {
   "cell_type": "markdown",
   "metadata": {},
   "source": [
    "For us, more useful is `call()`. It runs command passed as argument and waits (locks control) until command completes. "
   ]
  },
  {
   "cell_type": "code",
   "execution_count": 22,
   "metadata": {},
   "outputs": [
    {
     "name": "stdout",
     "output_type": "stream",
     "text": [
      "===== Starting process =====\n",
      "Period:1000\n",
      "Dt:\t0.1\n",
      "Xmax:\t1\n",
      "Xmin:\t-1\n",
      "N:\t10\n"
     ]
    },
    {
     "data": {
      "text/plain": [
       "0"
      ]
     },
     "execution_count": 22,
     "metadata": {},
     "output_type": "execute_result"
    },
    {
     "name": "stdout",
     "output_type": "stream",
     "text": [
      "===== Starting process =====\n",
      "Period:50\n",
      "Dt:\t0.5\n",
      "Xmax:\t5\n",
      "Xmin:\t-5\n",
      "N:\t3555\n"
     ]
    }
   ],
   "source": [
    "com = \"tick-tick/build/tick-tick\"\n",
    "subprocess.call(com)"
   ]
  },
  {
   "cell_type": "markdown",
   "metadata": {},
   "source": [
    "If additional parameters need to be passed:"
   ]
  },
  {
   "cell_type": "code",
   "execution_count": 23,
   "metadata": {},
   "outputs": [
    {
     "name": "stderr",
     "output_type": "stream",
     "text": [
      "Terminated\n"
     ]
    },
    {
     "data": {
      "text/plain": [
       "143"
      ]
     },
     "execution_count": 23,
     "metadata": {},
     "output_type": "execute_result"
    }
   ],
   "source": [
    "com = \"tick-tick/build/tick-tick --period 50 --sett settings\"\n",
    "subprocess.call(com, shell=True)"
   ]
  },
  {
   "cell_type": "markdown",
   "metadata": {},
   "source": [
    "Note the additional `shell=True` argument. This specifies that the command will be executed through the system shell (eg. Bash) and is useful if we need to pass arguments. We can illustrate the result:"
   ]
  },
  {
   "cell_type": "code",
   "execution_count": 24,
   "metadata": {},
   "outputs": [
    {
     "ename": "NameError",
     "evalue": "name 'np' is not defined",
     "output_type": "error",
     "traceback": [
      "\u001b[0;31m---------------------------------------------------------------------------\u001b[0m",
      "\u001b[0;31mNameError\u001b[0m                                 Traceback (most recent call last)",
      "Cell \u001b[0;32mIn [24], line 1\u001b[0m\n\u001b[0;32m----> 1\u001b[0m t, v \u001b[38;5;241m=\u001b[39m np\u001b[38;5;241m.\u001b[39mloadtxt(\u001b[38;5;124m'\u001b[39m\u001b[38;5;124mdata.dat\u001b[39m\u001b[38;5;124m'\u001b[39m, comments\u001b[38;5;241m=\u001b[39m\u001b[38;5;124m\"\u001b[39m\u001b[38;5;124m#\u001b[39m\u001b[38;5;124m\"\u001b[39m, skiprows\u001b[38;5;241m=\u001b[39m\u001b[38;5;241m2\u001b[39m, usecols\u001b[38;5;241m=\u001b[39m(\u001b[38;5;241m0\u001b[39m,\u001b[38;5;241m1\u001b[39m), unpack\u001b[38;5;241m=\u001b[39m\u001b[38;5;28;01mTrue\u001b[39;00m, delimiter\u001b[38;5;241m=\u001b[39m\u001b[38;5;124m'\u001b[39m\u001b[38;5;124m,\u001b[39m\u001b[38;5;124m'\u001b[39m)\n\u001b[1;32m      2\u001b[0m plt\u001b[38;5;241m.\u001b[39mscatter(t, v)\n\u001b[1;32m      3\u001b[0m plt\u001b[38;5;241m.\u001b[39mgrid()\n",
      "\u001b[0;31mNameError\u001b[0m: name 'np' is not defined"
     ]
    }
   ],
   "source": [
    "t, v = np.loadtxt('data.dat', comments=\"#\", skiprows=2, usecols=(0,1), unpack=True, delimiter=',')\n",
    "plt.scatter(t, v)\n",
    "plt.grid()"
   ]
  },
  {
   "cell_type": "markdown",
   "metadata": {},
   "source": [
    "Example: Using the `tick-tick` program and the `call` function write a script that runs the `tick-tick` changing the number of iterations N and plots average and variance as functions of N.\n",
    "\n",
    "1. Write a function that modifies the setting file accordingly.\n",
    "2. Write a function that reads the result file and stores the results.\n",
    "3. Run the process in a loop, choose some stopping criteria."
   ]
  },
  {
   "cell_type": "code",
   "execution_count": 31,
   "metadata": {},
   "outputs": [],
   "source": [
    "def settfile(fname, N):\n",
    "    '''\n",
    "    Modifies the setting file\n",
    "    param: fname - file to modify\n",
    "    param: N - nuber of iteration do perform\n",
    "    '''\n",
    "    f = open(fname, 'w')\n",
    "    f.writelines('DT   = 0.5\\n')\n",
    "    f.write('XMAX = 5.0\\n')\n",
    "    f.write('XMIN = -5.0\\n')\n",
    "    st =    'N    = ' + str(N) + '\\n'\n",
    "    f.write(st)\n",
    "    f.close()"
   ]
  },
  {
   "cell_type": "code",
   "execution_count": 32,
   "metadata": {},
   "outputs": [],
   "source": [
    "def calculate(fname):\n",
    "    '''\n",
    "    Using fname calculates average and variance\n",
    "    '''\n",
    "    t, v = np.loadtxt(fname, comments=\"#\", skiprows=3, usecols=(0,1), unpack=True, delimiter=',')\n",
    "    s = v.sum()\n",
    "    avg = s / len(t)\n",
    "    s = 0\n",
    "    for val in v:\n",
    "        s += (val - avg)**2\n",
    "    var = s / len(t)\n",
    "    return avg, var"
   ]
  },
  {
   "cell_type": "code",
   "execution_count": 33,
   "metadata": {},
   "outputs": [
    {
     "name": "stdout",
     "output_type": "stream",
     "text": [
      "===== Starting process =====\n",
      "Period:0\n",
      "Dt:\t0.5\n",
      "Xmax:\t5\n",
      "Xmin:\t-5\n",
      "N:\t5\n",
      "===== Starting process =====\n",
      "Period:0\n",
      "Dt:\t0.5\n",
      "Xmax:\t5\n",
      "Xmin:\t-5\n",
      "N:\t55\n",
      "===== Starting process =====\n",
      "Period:0\n",
      "Dt:\t0.5\n",
      "Xmax:\t5\n",
      "Xmin:\t-5\n",
      "N:\t105\n",
      "===== Starting process =====\n",
      "Period:0\n",
      "Dt:\t0.5\n",
      "Xmax:\t5\n",
      "Xmin:\t-5\n",
      "N:\t155\n",
      "===== Starting process =====\n",
      "Period:0\n",
      "Dt:\t0.5\n",
      "Xmax:\t5\n",
      "Xmin:\t-5\n",
      "N:\t205\n",
      "===== Starting process =====\n",
      "Period:0\n",
      "Dt:\t0.5\n",
      "Xmax:\t5\n",
      "Xmin:\t-5\n",
      "N:\t255\n",
      "===== Starting process =====\n",
      "Period:0\n",
      "Dt:\t0.5\n",
      "Xmax:\t5\n",
      "Xmin:\t-5\n",
      "N:\t305\n",
      "===== Starting process =====\n",
      "Period:0\n",
      "Dt:\t0.5\n",
      "Xmax:\t5\n",
      "Xmin:\t-5\n",
      "N:\t355\n",
      "===== Starting process =====\n",
      "Period:0\n",
      "Dt:\t0.5\n",
      "Xmax:\t5\n",
      "Xmin:\t-5\n",
      "N:\t405\n",
      "===== Starting process =====\n",
      "Period:0\n",
      "Dt:\t0.5\n",
      "Xmax:\t5\n",
      "Xmin:\t-5\n",
      "N:\t455\n",
      "===== Starting process =====\n",
      "Period:0\n",
      "Dt:\t0.5\n",
      "Xmax:\t5\n",
      "Xmin:\t-5\n",
      "N:\t505\n",
      "===== Starting process =====\n",
      "Period:0\n",
      "Dt:\t0.5\n",
      "Xmax:\t5\n",
      "Xmin:\t-5\n",
      "N:\t555\n",
      "===== Starting process =====\n",
      "Period:0\n",
      "Dt:\t0.5\n",
      "Xmax:\t5\n",
      "Xmin:\t-5\n",
      "N:\t605\n",
      "===== Starting process =====\n",
      "Period:0\n",
      "Dt:\t0.5\n",
      "Xmax:\t5\n",
      "Xmin:\t-5\n",
      "N:\t655\n",
      "===== Starting process =====\n",
      "Period:0\n",
      "Dt:\t0.5\n",
      "Xmax:\t5\n",
      "Xmin:\t-5\n",
      "N:\t705\n",
      "===== Starting process =====\n",
      "Period:0\n",
      "Dt:\t0.5\n",
      "Xmax:\t5\n",
      "Xmin:\t-5\n",
      "N:\t755\n",
      "===== Starting process =====\n",
      "Period:0\n",
      "Dt:\t0.5\n",
      "Xmax:\t5\n",
      "Xmin:\t-5\n",
      "N:\t805\n",
      "===== Starting process =====\n",
      "Period:0\n",
      "Dt:\t0.5\n",
      "Xmax:\t5\n",
      "Xmin:\t-5\n",
      "N:\t855\n",
      "===== Starting process =====\n",
      "Period:0\n",
      "Dt:\t0.5\n",
      "Xmax:\t5\n",
      "Xmin:\t-5\n",
      "N:\t905\n",
      "===== Starting process =====\n",
      "Period:0\n",
      "Dt:\t0.5\n",
      "Xmax:\t5\n",
      "Xmin:\t-5\n",
      "N:\t955\n",
      "===== Starting process =====\n",
      "Period:0\n",
      "Dt:\t0.5\n",
      "Xmax:\t5\n",
      "Xmin:\t-5\n",
      "N:\t1005\n",
      "===== Starting process =====\n",
      "Period:0\n",
      "Dt:\t0.5\n",
      "Xmax:\t5\n",
      "Xmin:\t-5\n",
      "N:\t1055\n",
      "===== Starting process =====\n",
      "Period:0\n",
      "Dt:\t0.5\n",
      "Xmax:\t5\n",
      "Xmin:\t-5\n",
      "N:\t1105\n",
      "===== Starting process =====\n",
      "Period:0\n",
      "Dt:\t0.5\n",
      "Xmax:\t5\n",
      "Xmin:\t-5\n",
      "N:\t1155\n",
      "===== Starting process =====\n",
      "Period:0\n",
      "Dt:\t0.5\n",
      "Xmax:\t5\n",
      "Xmin:\t-5\n",
      "N:\t1205\n",
      "===== Starting process =====\n",
      "Period:0\n",
      "Dt:\t0.5\n",
      "Xmax:\t5\n",
      "Xmin:\t-5\n",
      "N:\t1255\n",
      "===== Starting process =====\n",
      "Period:0\n",
      "Dt:\t0.5\n",
      "Xmax:\t5\n",
      "Xmin:\t-5\n",
      "N:\t1305\n",
      "===== Starting process =====\n",
      "Period:0\n",
      "Dt:\t0.5\n",
      "Xmax:\t5\n",
      "Xmin:\t-5\n",
      "N:\t1355\n",
      "===== Starting process =====\n",
      "Period:0\n",
      "Dt:\t0.5\n",
      "Xmax:\t5\n",
      "Xmin:\t-5\n",
      "N:\t1405\n",
      "===== Starting process =====\n",
      "Period:0\n",
      "Dt:\t0.5\n",
      "Xmax:\t5\n",
      "Xmin:\t-5\n",
      "N:\t1455\n",
      "===== Starting process =====\n",
      "Period:0\n",
      "Dt:\t0.5\n",
      "Xmax:\t5\n",
      "Xmin:\t-5\n",
      "N:\t1505\n",
      "===== Starting process =====\n",
      "Period:0\n",
      "Dt:\t0.5\n",
      "Xmax:\t5\n",
      "Xmin:\t-5\n",
      "N:\t1555\n",
      "===== Starting process =====\n",
      "Period:0\n",
      "Dt:\t0.5\n",
      "Xmax:\t5\n",
      "Xmin:\t-5\n",
      "N:\t1605\n",
      "===== Starting process =====\n",
      "Period:0\n",
      "Dt:\t0.5\n",
      "Xmax:\t5\n",
      "Xmin:\t-5\n",
      "N:\t1655\n",
      "===== Starting process =====\n",
      "Period:0\n",
      "Dt:\t0.5\n",
      "Xmax:\t5\n",
      "Xmin:\t-5\n",
      "N:\t1705\n",
      "===== Starting process =====\n",
      "Period:0\n",
      "Dt:\t0.5\n",
      "Xmax:\t5\n",
      "Xmin:\t-5\n",
      "N:\t1755\n",
      "===== Starting process =====\n",
      "Period:0\n",
      "Dt:\t0.5\n",
      "Xmax:\t5\n",
      "Xmin:\t-5\n",
      "N:\t1805\n",
      "===== Starting process =====\n",
      "Period:0\n",
      "Dt:\t0.5\n",
      "Xmax:\t5\n",
      "Xmin:\t-5\n",
      "N:\t1855\n",
      "===== Starting process =====\n",
      "Period:0\n",
      "Dt:\t0.5\n",
      "Xmax:\t5\n",
      "Xmin:\t-5\n",
      "N:\t1905\n",
      "===== Starting process =====\n",
      "Period:0\n",
      "Dt:\t0.5\n",
      "Xmax:\t5\n",
      "Xmin:\t-5\n",
      "N:\t1955\n",
      "===== Starting process =====\n",
      "Period:0\n",
      "Dt:\t0.5\n",
      "Xmax:\t5\n",
      "Xmin:\t-5\n",
      "N:\t2005\n",
      "===== Starting process =====\n",
      "Period:0\n",
      "Dt:\t0.5\n",
      "Xmax:\t5\n",
      "Xmin:\t-5\n",
      "N:\t2055\n",
      "===== Starting process =====\n",
      "Period:0\n",
      "Dt:\t0.5\n",
      "Xmax:\t5\n",
      "Xmin:\t-5\n",
      "N:\t2105\n",
      "===== Starting process =====\n",
      "Period:0\n",
      "Dt:\t0.5\n",
      "Xmax:\t5\n",
      "Xmin:\t-5\n",
      "N:\t2155\n",
      "===== Starting process =====\n",
      "Period:0\n",
      "Dt:\t0.5\n",
      "Xmax:\t5\n",
      "Xmin:\t-5\n",
      "N:\t2205\n",
      "===== Starting process =====\n",
      "Period:0\n",
      "Dt:\t0.5\n",
      "Xmax:\t5\n",
      "Xmin:\t-5\n",
      "N:\t2255\n",
      "===== Starting process =====\n",
      "Period:0\n",
      "Dt:\t0.5\n",
      "Xmax:\t5\n",
      "Xmin:\t-5\n",
      "N:\t2305\n",
      "===== Starting process =====\n",
      "Period:0\n",
      "Dt:\t0.5\n",
      "Xmax:\t5\n",
      "Xmin:\t-5\n",
      "N:\t2355\n",
      "===== Starting process =====\n",
      "Period:0\n",
      "Dt:\t0.5\n",
      "Xmax:\t5\n",
      "Xmin:\t-5\n",
      "N:\t2405\n",
      "===== Starting process =====\n",
      "Period:0\n",
      "Dt:\t0.5\n",
      "Xmax:\t5\n",
      "Xmin:\t-5\n",
      "N:\t2455\n",
      "===== Starting process =====\n",
      "Period:0\n",
      "Dt:\t0.5\n",
      "Xmax:\t5\n",
      "Xmin:\t-5\n",
      "N:\t2505\n",
      "===== Starting process =====\n",
      "Period:0\n",
      "Dt:\t0.5\n",
      "Xmax:\t5\n",
      "Xmin:\t-5\n",
      "N:\t2555\n",
      "===== Starting process =====\n",
      "Period:0\n",
      "Dt:\t0.5\n",
      "Xmax:\t5\n",
      "Xmin:\t-5\n",
      "N:\t2605\n",
      "===== Starting process =====\n",
      "Period:0\n",
      "Dt:\t0.5\n",
      "Xmax:\t5\n",
      "Xmin:\t-5\n",
      "N:\t2655\n",
      "===== Starting process =====\n",
      "Period:0\n",
      "Dt:\t0.5\n",
      "Xmax:\t5\n",
      "Xmin:\t-5\n",
      "N:\t2705\n",
      "===== Starting process =====\n",
      "Period:0\n",
      "Dt:\t0.5\n",
      "Xmax:\t5\n",
      "Xmin:\t-5\n",
      "N:\t2755\n",
      "===== Starting process =====\n",
      "Period:0\n",
      "Dt:\t0.5\n",
      "Xmax:\t5\n",
      "Xmin:\t-5\n",
      "N:\t2805\n",
      "===== Starting process =====\n",
      "Period:0\n",
      "Dt:\t0.5\n",
      "Xmax:\t5\n",
      "Xmin:\t-5\n",
      "N:\t2855\n",
      "===== Starting process =====\n",
      "Period:0\n",
      "Dt:\t0.5\n",
      "Xmax:\t5\n",
      "Xmin:\t-5\n",
      "N:\t2905\n",
      "===== Starting process =====\n",
      "Period:0\n",
      "Dt:\t0.5\n",
      "Xmax:\t5\n",
      "Xmin:\t-5\n",
      "N:\t2955\n",
      "===== Starting process =====\n",
      "Period:0\n",
      "Dt:\t0.5\n",
      "Xmax:\t5\n",
      "Xmin:\t-5\n",
      "N:\t3005\n",
      "===== Starting process =====\n",
      "Period:0\n",
      "Dt:\t0.5\n",
      "Xmax:\t5\n",
      "Xmin:\t-5\n",
      "N:\t3055\n",
      "===== Starting process =====\n",
      "Period:0\n",
      "Dt:\t0.5\n",
      "Xmax:\t5\n",
      "Xmin:\t-5\n",
      "N:\t3105\n",
      "===== Starting process =====\n",
      "Period:0\n",
      "Dt:\t0.5\n",
      "Xmax:\t5\n",
      "Xmin:\t-5\n",
      "N:\t3155\n",
      "===== Starting process =====\n",
      "Period:0\n",
      "Dt:\t0.5\n",
      "Xmax:\t5\n",
      "Xmin:\t-5\n",
      "N:\t3205\n",
      "===== Starting process =====\n",
      "Period:0\n",
      "Dt:\t0.5\n",
      "Xmax:\t5\n",
      "Xmin:\t-5\n",
      "N:\t3255\n",
      "===== Starting process =====\n",
      "Period:0\n",
      "Dt:\t0.5\n",
      "Xmax:\t5\n",
      "Xmin:\t-5\n",
      "N:\t3305\n",
      "===== Starting process =====\n",
      "Period:0\n",
      "Dt:\t0.5\n",
      "Xmax:\t5\n",
      "Xmin:\t-5\n",
      "N:\t3355\n",
      "===== Starting process =====\n",
      "Period:0\n",
      "Dt:\t0.5\n",
      "Xmax:\t5\n",
      "Xmin:\t-5\n",
      "N:\t3405\n",
      "===== Starting process =====\n",
      "Period:0\n",
      "Dt:\t0.5\n",
      "Xmax:\t5\n",
      "Xmin:\t-5\n",
      "N:\t3455\n",
      "===== Starting process =====\n",
      "Period:0\n",
      "Dt:\t0.5\n",
      "Xmax:\t5\n",
      "Xmin:\t-5\n",
      "N:\t3505\n",
      "===== Starting process =====\n",
      "Period:0\n",
      "Dt:\t0.5\n",
      "Xmax:\t5\n",
      "Xmin:\t-5\n",
      "N:\t3555\n"
     ]
    }
   ],
   "source": [
    "'''\n",
    "Run the process here\n",
    "'''\n",
    "n = []\n",
    "av = []\n",
    "va = []\n",
    "for N in range(5,10000,50):\n",
    "    st = 'settings'\n",
    "    settfile(st, N)\n",
    "#     print('Running for N=', N)\n",
    "    subprocess.call(\"tick-tick/build/tick-tick --period 0 --sett settings\", shell=True)\n",
    "    a, v = calculate('data.dat')\n",
    "    n.append(N)\n",
    "    av.append(a)\n",
    "    va.append(v)\n",
    "    if N > 100 and np.abs(a) < 1.0e-3: # stopping cryteria\n",
    "        break\n",
    "#     print(a, v)"
   ]
  },
  {
   "cell_type": "code",
   "execution_count": 34,
   "metadata": {},
   "outputs": [
    {
     "data": {
      "image/png": "[encoded data removed]",
      "text/plain": [
       "<Figure size 640x480 with 1 Axes>"
      ]
     },
     "metadata": {},
     "output_type": "display_data"
    }
   ],
   "source": [
    "plt.plot(n, av)\n",
    "plt.grid()"
   ]
  },
  {
   "cell_type": "code",
   "execution_count": 35,
   "metadata": {},
   "outputs": [
    {
     "data": {
      "image/png": "[encoded data removed]",
      "text/plain": [
       "<Figure size 640x480 with 1 Axes>"
      ]
     },
     "metadata": {},
     "output_type": "display_data"
    }
   ],
   "source": [
    "plt.plot(n, va)\n",
    "plt.grid()"
   ]
  },
  {
   "cell_type": "markdown",
   "metadata": {},
   "source": [
    "### Run and regain control with `popen()`\n",
    "We will now look at a slight modification. Our goal is to be able to monitor (programmatically) the process we call and if necessary make decision, change parameters and eventually stop execution or restart. To do this we need to add a couple of things to our tool set. Fist is the `subprocess.Popen()`, which works very much like `call()`, with a difference that it executes the child (**without mercy!**) in a new process! What that means is that new, separate from our Python interpreter, process is started to handle the program, and control is returned to the interpreter to perform whatever task we wish it to do. When called `Popen` object is returned. We will outline some of functionality it provides (also see the documentation).\n",
    "\n",
    "**The most important feature is that `Popen()` allows a nonblocking call!** meaning we can continue interacting with our script"
   ]
  },
  {
   "cell_type": "code",
   "execution_count": 1,
   "metadata": {},
   "outputs": [],
   "source": [
    "import matplotlib.pyplot as plt\n",
    "import numpy as np\n",
    "import subprocess\n",
    "import time\n",
    "from IPython.display import clear_output\n",
    "import os"
   ]
  },
  {
   "cell_type": "markdown",
   "metadata": {},
   "source": [
    "Note: It is good to show the process tree at this moment."
   ]
  },
  {
   "cell_type": "code",
   "execution_count": 5,
   "metadata": {},
   "outputs": [
    {
     "name": "stdout",
     "output_type": "stream",
     "text": [
      "===== Starting process =====\n",
      "Period:1000\n",
      "Dt:\t0.1\n",
      "Xmax:\t1\n",
      "Xmin:\t-1\n",
      "N:\t10\n"
     ]
    }
   ],
   "source": [
    "cmd = 'tick-tick/build/tick-tick'\n",
    "p=subprocess.Popen(cmd)"
   ]
  },
  {
   "cell_type": "code",
   "execution_count": 8,
   "metadata": {},
   "outputs": [
    {
     "name": "stdout",
     "output_type": "stream",
     "text": [
      "0,\t -0.736924\n",
      "0.1,\t -0.0826997\n",
      "0.2,\t -0.562082\n",
      "0.3,\t 0.357729\n",
      "0.4,\t 0.869386\n",
      "0.5,\t 0.0388327\n",
      "0.6,\t -0.930856\n",
      "0.7,\t 0.0594004\n",
      "0.8,\t -0.984604\n",
      "0.9,\t -0.866316\n"
     ]
    }
   ],
   "source": [
    "for i in range(0,10):\n",
    "    clear_output(wait=True)\n",
    "    os.system('tail data.dat')\n",
    "    time.sleep(1)"
   ]
  },
  {
   "cell_type": "markdown",
   "metadata": {},
   "source": [
    "`p` is going to be a `Popen` with which we (or our smart algorithm) can interact. There is a number of things we could do. The most important is to check if the child process is alive (`Popen.poll()`), wait for it to finish with (`Popen.wait(timeout)`), or send it a signal for termination or kill (`Popen.terminate() .kill()`). There is also an option to interact with the process passing data to `stdin` and to read from `stdout` with `Popen.communicate()`, but our program does not support this (you can try it out).\n",
    "\n",
    "Examine:\n",
    "* `p.poll()`\n",
    "* `p.wait()`\n",
    "* `p.pid`\n",
    "* `p.terminate()` and `p.kill()`\n",
    "\n",
    "Note: `terminate` will send `SIGTERM`, while `kill` will result in `SIGKILL` on Linux.\n",
    "\n",
    "Let us see:"
   ]
  },
  {
   "cell_type": "code",
   "execution_count": 9,
   "metadata": {},
   "outputs": [],
   "source": [
    "cmd = 'tick-tick/build/tick-tick'\n",
    "p=subprocess.Popen(cmd)"
   ]
  },
  {
   "cell_type": "code",
   "execution_count": 6,
   "metadata": {},
   "outputs": [
    {
     "name": "stdout",
     "output_type": "stream",
     "text": [
      "0\n"
     ]
    }
   ],
   "source": [
    "pid = p.pid\n",
    "poll = p.poll()\n",
    "print(poll)"
   ]
  },
  {
   "cell_type": "code",
   "execution_count": 7,
   "metadata": {},
   "outputs": [
    {
     "name": "stdout",
     "output_type": "stream",
     "text": [
      "Tick-tick has finished with code: 0 and return code= 0\n"
     ]
    }
   ],
   "source": [
    "if poll == None:\n",
    "    print('Tick-tick is still running, pid=', pid)\n",
    "else:\n",
    "    print('Tick-tick has finished with code:', poll, 'and return code=', p.returncode)"
   ]
  },
  {
   "cell_type": "code",
   "execution_count": 8,
   "metadata": {},
   "outputs": [
    {
     "data": {
      "text/plain": [
       "0"
      ]
     },
     "execution_count": 8,
     "metadata": {},
     "output_type": "execute_result"
    }
   ],
   "source": [
    "p.wait()"
   ]
  },
  {
   "cell_type": "markdown",
   "metadata": {},
   "source": [
    "`wait()` without any arguments will lock and wait for the process to finish. Passing a `timeout` argument will result in `wait()` raising an error if the process does not finish. We can capture and deal with this using the `try` and `except` construct. (similar to `try` and `catch`)."
   ]
  },
  {
   "cell_type": "code",
   "execution_count": 122,
   "metadata": {},
   "outputs": [
    {
     "ename": "TimeoutExpired",
     "evalue": "Command 'tick-tick/build/tick-tick' timed out after 1 seconds",
     "output_type": "error",
     "traceback": [
      "\u001b[0;31m---------------------------------------------------------------------------\u001b[0m",
      "\u001b[0;31mTimeoutExpired\u001b[0m                            Traceback (most recent call last)",
      "Cell \u001b[0;32mIn [122], line 3\u001b[0m\n\u001b[1;32m      1\u001b[0m cmd \u001b[38;5;241m=\u001b[39m \u001b[38;5;124m'\u001b[39m\u001b[38;5;124mtick-tick/build/tick-tick\u001b[39m\u001b[38;5;124m'\u001b[39m\n\u001b[1;32m      2\u001b[0m p\u001b[38;5;241m=\u001b[39msubprocess\u001b[38;5;241m.\u001b[39mPopen(cmd)\n\u001b[0;32m----> 3\u001b[0m p\u001b[38;5;241m.\u001b[39mwait(timeout\u001b[38;5;241m=\u001b[39m\u001b[38;5;241m1\u001b[39m)\n",
      "File \u001b[0;32m/usr/lib/python3.10/subprocess.py:1209\u001b[0m, in \u001b[0;36mPopen.wait\u001b[0;34m(self, timeout)\u001b[0m\n\u001b[1;32m   1207\u001b[0m     endtime \u001b[38;5;241m=\u001b[39m _time() \u001b[38;5;241m+\u001b[39m timeout\n\u001b[1;32m   1208\u001b[0m \u001b[38;5;28;01mtry\u001b[39;00m:\n\u001b[0;32m-> 1209\u001b[0m     \u001b[38;5;28;01mreturn\u001b[39;00m \u001b[38;5;28;43mself\u001b[39;49m\u001b[38;5;241;43m.\u001b[39;49m\u001b[43m_wait\u001b[49m\u001b[43m(\u001b[49m\u001b[43mtimeout\u001b[49m\u001b[38;5;241;43m=\u001b[39;49m\u001b[43mtimeout\u001b[49m\u001b[43m)\u001b[49m\n\u001b[1;32m   1210\u001b[0m \u001b[38;5;28;01mexcept\u001b[39;00m \u001b[38;5;167;01mKeyboardInterrupt\u001b[39;00m:\n\u001b[1;32m   1211\u001b[0m     \u001b[38;5;66;03m# https://bugs.python.org/issue25942\u001b[39;00m\n\u001b[1;32m   1212\u001b[0m     \u001b[38;5;66;03m# The first keyboard interrupt waits briefly for the child to\u001b[39;00m\n\u001b[1;32m   1213\u001b[0m     \u001b[38;5;66;03m# exit under the common assumption that it also received the ^C\u001b[39;00m\n\u001b[1;32m   1214\u001b[0m     \u001b[38;5;66;03m# generated SIGINT and will exit rapidly.\u001b[39;00m\n\u001b[1;32m   1215\u001b[0m     \u001b[38;5;28;01mif\u001b[39;00m timeout \u001b[38;5;129;01mis\u001b[39;00m \u001b[38;5;129;01mnot\u001b[39;00m \u001b[38;5;28;01mNone\u001b[39;00m:\n",
      "File \u001b[0;32m/usr/lib/python3.10/subprocess.py:1951\u001b[0m, in \u001b[0;36mPopen._wait\u001b[0;34m(self, timeout)\u001b[0m\n\u001b[1;32m   1949\u001b[0m remaining \u001b[38;5;241m=\u001b[39m \u001b[38;5;28mself\u001b[39m\u001b[38;5;241m.\u001b[39m_remaining_time(endtime)\n\u001b[1;32m   1950\u001b[0m \u001b[38;5;28;01mif\u001b[39;00m remaining \u001b[38;5;241m<\u001b[39m\u001b[38;5;241m=\u001b[39m \u001b[38;5;241m0\u001b[39m:\n\u001b[0;32m-> 1951\u001b[0m     \u001b[38;5;28;01mraise\u001b[39;00m TimeoutExpired(\u001b[38;5;28mself\u001b[39m\u001b[38;5;241m.\u001b[39margs, timeout)\n\u001b[1;32m   1952\u001b[0m delay \u001b[38;5;241m=\u001b[39m \u001b[38;5;28mmin\u001b[39m(delay \u001b[38;5;241m*\u001b[39m \u001b[38;5;241m2\u001b[39m, remaining, \u001b[38;5;241m.05\u001b[39m)\n\u001b[1;32m   1953\u001b[0m time\u001b[38;5;241m.\u001b[39msleep(delay)\n",
      "\u001b[0;31mTimeoutExpired\u001b[0m: Command 'tick-tick/build/tick-tick' timed out after 1 seconds"
     ]
    }
   ],
   "source": [
    "cmd = 'tick-tick/build/tick-tick'\n",
    "p=subprocess.Popen(cmd)\n",
    "p.wait(timeout=1)"
   ]
  },
  {
   "cell_type": "code",
   "execution_count": 123,
   "metadata": {},
   "outputs": [
    {
     "name": "stdout",
     "output_type": "stream",
     "text": [
      "some error!\n"
     ]
    }
   ],
   "source": [
    "try:\n",
    "    print(p.wait(timeout=2))\n",
    "except:\n",
    "    print('some error!')"
   ]
  },
  {
   "cell_type": "code",
   "execution_count": 128,
   "metadata": {},
   "outputs": [
    {
     "name": "stdout",
     "output_type": "stream",
     "text": [
      "0\n"
     ]
    }
   ],
   "source": [
    "pid = p.pid\n",
    "poll = p.poll()\n",
    "print(poll)"
   ]
  },
  {
   "cell_type": "code",
   "execution_count": 129,
   "metadata": {},
   "outputs": [
    {
     "name": "stdout",
     "output_type": "stream",
     "text": [
      "Tick-tick has finished with code: 0 and return code= 0\n"
     ]
    }
   ],
   "source": [
    "if poll == None:\n",
    "    print('Tick-tick is still running, pid=', pid)\n",
    "else:\n",
    "    print('Tick-tick has finished with code:', poll, 'and return code=', p.returncode)"
   ]
  },
  {
   "cell_type": "markdown",
   "metadata": {},
   "source": [
    "### Killing the p\n",
    "There is nothing more pleasurable than to destroy something ..."
   ]
  },
  {
   "cell_type": "code",
   "execution_count": 9,
   "metadata": {},
   "outputs": [],
   "source": [
    "cmd = 'tick-tick/build/tick-tick'\n",
    "p=subprocess.Popen(cmd)"
   ]
  },
  {
   "cell_type": "code",
   "execution_count": 12,
   "metadata": {},
   "outputs": [
    {
     "name": "stdout",
     "output_type": "stream",
     "text": [
      "-9\n",
      "Tick-tick has finished with code: -9 and return code= -9\n"
     ]
    }
   ],
   "source": [
    "pid = p.pid\n",
    "poll = p.poll()\n",
    "print(poll)\n",
    "if poll == None:\n",
    "    print('Tick-tick is still running, pid=', pid)\n",
    "else:\n",
    "    print('Tick-tick has finished with code:', poll, 'and return code=', p.returncode)"
   ]
  },
  {
   "cell_type": "code",
   "execution_count": 13,
   "metadata": {},
   "outputs": [],
   "source": [
    "p.kill()\n",
    "# p.terminate()"
   ]
  },
  {
   "cell_type": "code",
   "execution_count": 20,
   "metadata": {},
   "outputs": [
    {
     "name": "stdout",
     "output_type": "stream",
     "text": [
      "# Recording precious random data\n",
      "# t, value\n",
      "# Settings: 1000 0.1 1 -1 10\n",
      "0,\t -0.736924\n",
      "0.1,\t -0.0826997\n"
     ]
    },
    {
     "data": {
      "text/plain": [
       "0"
      ]
     },
     "execution_count": 20,
     "metadata": {},
     "output_type": "execute_result"
    }
   ],
   "source": [
    "os.system('tail data.dat')"
   ]
  },
  {
   "cell_type": "code",
   "execution_count": 43,
   "metadata": {},
   "outputs": [
    {
     "name": "stdout",
     "output_type": "stream",
     "text": [
      "None\n",
      "Tick-tick is still running, pid= 3155831\n"
     ]
    }
   ],
   "source": [
    "pid = p.pid\n",
    "poll = p.poll()\n",
    "print(poll)\n",
    "if poll == None:\n",
    "    print('Tick-tick is still running, pid=', pid)\n",
    "else:\n",
    "    print('Tick-tick has finished with code:', poll, 'and return code=', p.returncode)"
   ]
  },
  {
   "cell_type": "markdown",
   "metadata": {},
   "source": [
    "How about the `shell=True` option, that we need when passing command line settings?"
   ]
  },
  {
   "cell_type": "code",
   "execution_count": 42,
   "metadata": {},
   "outputs": [],
   "source": [
    "cmd = \"tick-tick/build/tick-tick --period 1000 --sett settings\"\n",
    "p=subprocess.Popen(cmd, shell=True)\n",
    "# p=subprocess.Popen(cmd)"
   ]
  },
  {
   "cell_type": "code",
   "execution_count": 190,
   "metadata": {},
   "outputs": [
    {
     "name": "stdout",
     "output_type": "stream",
     "text": [
      "None\n",
      "Tick-tick is still running, pid= 676377\n"
     ]
    }
   ],
   "source": [
    "pid = p.pid\n",
    "poll = p.poll()\n",
    "print(poll)\n",
    "if poll == None:\n",
    "    print('Tick-tick is still running, pid=', pid)\n",
    "else:\n",
    "    print('Tick-tick has finished with code:', poll, 'and return code=', p.returncode)"
   ]
  },
  {
   "cell_type": "code",
   "execution_count": 23,
   "metadata": {},
   "outputs": [],
   "source": [
    "p.kill()"
   ]
  },
  {
   "cell_type": "code",
   "execution_count": 49,
   "metadata": {},
   "outputs": [
    {
     "name": "stdout",
     "output_type": "stream",
     "text": [
      "32,\t -1.8246\n",
      "32.5,\t 1.52059\n",
      "33,\t 1.81346\n",
      "33.5,\t -1.12275\n",
      "34,\t -3.52467\n",
      "34.5,\t 3.45576\n",
      "35,\t 4.55409\n",
      "35.5,\t -3.51848\n",
      "36,\t -0.912333\n",
      "36.5,\t 0.648987\n"
     ]
    },
    {
     "data": {
      "text/plain": [
       "0"
      ]
     },
     "execution_count": 49,
     "metadata": {},
     "output_type": "execute_result"
    }
   ],
   "source": [
    "os.system('tail data.dat')"
   ]
  },
  {
   "cell_type": "code",
   "execution_count": 194,
   "metadata": {},
   "outputs": [
    {
     "name": "stdout",
     "output_type": "stream",
     "text": [
      "-9\n",
      "Tick-tick has finished with code: -9 and return code= -9\n"
     ]
    }
   ],
   "source": [
    "pid = p.pid\n",
    "poll = p.poll()\n",
    "print(poll)\n",
    "if poll == None:\n",
    "    print('Tick-tick is still running, pid=', pid)\n",
    "else:\n",
    "    print('Tick-tick has finished with code:', poll, 'and return code=', p.returncode)"
   ]
  },
  {
   "cell_type": "markdown",
   "metadata": {},
   "source": [
    "Process is not dead!! This is because `kill()` killed the shell process, we invoked to process our call with additional options, and not the actual command, which is now a process without a parent, but a still running one. An easy fix is to add `exec` before the actual command we wish to run:\n",
    "\n",
    "**Note**: *`exec` command in Linux is used to execute a command from the bash itself. This command does not create a new process it just replaces the bash with the command to be executed. If the exec command is successful, it does not return to the calling process.*"
   ]
  },
  {
   "cell_type": "code",
   "execution_count": 33,
   "metadata": {},
   "outputs": [],
   "source": [
    "cmd = \"exec tick-tick/build/tick-tick --period 1000 --sett settings\"\n",
    "p=subprocess.Popen(cmd, shell=True)"
   ]
  },
  {
   "cell_type": "code",
   "execution_count": 196,
   "metadata": {},
   "outputs": [
    {
     "name": "stdout",
     "output_type": "stream",
     "text": [
      "None\n",
      "Tick-tick is still running, pid= 676926\n"
     ]
    }
   ],
   "source": [
    "pid = p.pid\n",
    "poll = p.poll()\n",
    "print(poll)\n",
    "if poll == None:\n",
    "    print('Tick-tick is still running, pid=', pid)\n",
    "else:\n",
    "    print('Tick-tick has finished with code:', poll, 'and return code=', p.returncode)"
   ]
  },
  {
   "cell_type": "code",
   "execution_count": 34,
   "metadata": {},
   "outputs": [],
   "source": [
    "p.kill()"
   ]
  },
  {
   "cell_type": "code",
   "execution_count": 41,
   "metadata": {},
   "outputs": [
    {
     "data": {
      "text/plain": [
       "0"
      ]
     },
     "execution_count": 41,
     "metadata": {},
     "output_type": "execute_result"
    },
    {
     "name": "stdout",
     "output_type": "stream",
     "text": [
      "# Recording precious random data\n",
      "# t, value\n",
      "# Settings: 1000 0.5 5 -5 10000\n",
      "0,\t -3.68462\n",
      "0.5,\t -0.413499\n",
      "1,\t -2.81041\n",
      "1.5,\t 1.78865\n",
      "2,\t 4.34693\n",
      "2.5,\t 0.194164\n",
      "3,\t -4.65428\n"
     ]
    }
   ],
   "source": [
    "os.system('tail data.dat')"
   ]
  },
  {
   "cell_type": "code",
   "execution_count": 199,
   "metadata": {},
   "outputs": [
    {
     "name": "stdout",
     "output_type": "stream",
     "text": [
      "-9\n",
      "Tick-tick has finished with code: -9 and return code= -9\n"
     ]
    }
   ],
   "source": [
    "pid = p.pid\n",
    "poll = p.poll()\n",
    "print(poll)\n",
    "if poll == None:\n",
    "    print('Tick-tick is still running, pid=', pid)\n",
    "else:\n",
    "    print('Tick-tick has finished with code:', poll, 'and return code=', p.returncode)"
   ]
  },
  {
   "cell_type": "code",
   "execution_count": 200,
   "metadata": {},
   "outputs": [
    {
     "data": {
      "image/png": "[encoded data removed]",
      "text/plain": [
       "<Figure size 640x480 with 1 Axes>"
      ]
     },
     "metadata": {},
     "output_type": "display_data"
    }
   ],
   "source": [
    "t, v = np.loadtxt('data.dat', comments=\"#\", skiprows=2, usecols=(0,1), unpack=True, delimiter=',')\n",
    "plt.scatter(t, v)\n",
    "plt.grid()"
   ]
  },
  {
   "cell_type": "markdown",
   "metadata": {},
   "source": [
    "### Example\n",
    "Run the `tick-tick` program checking the average value and stopping the execution when the value reaches a certain, satisfactory value and stays there for some time."
   ]
  },
  {
   "cell_type": "code",
   "execution_count": 201,
   "metadata": {},
   "outputs": [],
   "source": [
    "import time"
   ]
  },
  {
   "cell_type": "code",
   "execution_count": 204,
   "metadata": {},
   "outputs": [],
   "source": [
    "def calculate(fname):\n",
    "    '''\n",
    "    Using fname calculates average and variance\n",
    "    '''\n",
    "    t, v = np.loadtxt(fname, comments=\"#\", skiprows=3, usecols=(0,1), unpack=True, delimiter=',')\n",
    "    s = v.sum()\n",
    "    avg = s / len(t)\n",
    "    s = 0\n",
    "    for val in v:\n",
    "        s += (val - avg)**2\n",
    "    var = s / len(t)\n",
    "    return avg, var"
   ]
  },
  {
   "cell_type": "code",
   "execution_count": 214,
   "metadata": {},
   "outputs": [],
   "source": [
    "'''\n",
    "Run the process here\n",
    "'''\n",
    "p=subprocess.Popen('exec tick-tick/build/tick-tick --period 10 --sett settings', shell=True)"
   ]
  },
  {
   "cell_type": "code",
   "execution_count": 215,
   "metadata": {},
   "outputs": [
    {
     "name": "stdout",
     "output_type": "stream",
     "text": [
      "1 -0.010896533027522921\n",
      "2 -0.06543218557692307\n",
      "3 -0.07044800422512235\n",
      "4 -0.07712210493827158\n",
      "5 -0.07927615008937439\n",
      "6 -0.1298271218770764\n",
      "7 -0.14064357504639544\n",
      "8 -0.15136407494684173\n",
      "9 -0.09776850954342985\n",
      "10 -0.07101973020070247\n",
      "11 -0.061440715885844766\n",
      "12 -0.048608726430666105\n",
      "13 -0.03938903283945841\n",
      "14 -0.02912546492092019\n",
      "15 -0.02480235975495132\n",
      "16 -0.000593039234886629\n",
      "17 0.017023535290456433\n",
      "18 -0.00508270580509661\n",
      "19 0.004552647856195281\n",
      "20 0.0118781705873456\n",
      "21 0.011346506008645528\n",
      "22 0.011882007227700067\n",
      "23 0.014190725585783241\n",
      "24 0.01729222237594618\n",
      "25 0.007749641768268067\n",
      "26 -0.0025804784274898037\n",
      "27 -0.004973703361375975\n",
      "28 -0.012928321923562284\n",
      "29 -0.018299254837476114\n",
      "30 -0.012435531235086535\n",
      "31 -0.011950682956097561\n",
      "32 -0.007900771672967854\n",
      "33 -0.007402728487626031\n",
      "34 -0.008840574552194547\n",
      "35 -0.006039177207895114\n",
      "36 -0.011983853340804033\n",
      "37 -0.011146809908682017\n",
      "38 -0.011309678512473467\n",
      "39 -0.013607822923832924\n",
      "40 -0.009173324920574885\n",
      "41 -0.005342563674046743\n",
      "42 -0.007764114402160854\n",
      "43 -0.007508522941728209\n",
      "44 -0.00978386383390606\n",
      "45 -0.00847448147895207\n",
      "46 -0.006710497460317449\n",
      "47 -0.008781232833422595\n",
      "48 -0.007615763731515458\n",
      "49 -0.004771986206471483\n",
      "50 0.003307921844357203\n",
      "===== Starting process =====\n",
      "Period:10\n",
      "Dt:\t0.5\n",
      "Xmax:\t5\n",
      "Xmin:\t-5\n",
      "N:\t10000\n",
      "51 0.0007650780480000087\n",
      "683872 Is not working\n"
     ]
    },
    {
     "data": {
      "image/png": "[encoded data removed]",
      "text/plain": [
       "<Figure size 640x480 with 1 Axes>"
      ]
     },
     "metadata": {},
     "output_type": "display_data"
    }
   ],
   "source": [
    "nn = []\n",
    "av = []\n",
    "while True:\n",
    "    if p.poll() != None:\n",
    "        print(p.pid, 'Is not working')\n",
    "        break\n",
    "    time.sleep(1)\n",
    "    \n",
    "    a, v = calculate('data.dat')\n",
    "    nn.append(len(av))\n",
    "    av.append(a)\n",
    "    print(len(av), a)\n",
    "    if np.abs(a) < 1e-5:\n",
    "        p.terminate()\n",
    "        print(p.pid, 'is now dead')\n",
    "\n",
    "plt.plot(nn, av)\n",
    "plt.grid()"
   ]
  },
  {
   "cell_type": "code",
   "execution_count": null,
   "metadata": {},
   "outputs": [],
   "source": []
  }
 ],
 "metadata": {
  "kernelspec": {
   "display_name": "Python 3 (ipykernel)",
   "language": "python",
   "name": "python3"
  },
  "language_info": {
   "codemirror_mode": {
    "name": "ipython",
    "version": 3
   },
   "file_extension": ".py",
   "mimetype": "text/x-python",
   "name": "python",
   "nbconvert_exporter": "python",
   "pygments_lexer": "ipython3",
   "version": "3.10.12"
  },
  "vscode": {
   "interpreter": {
    "hash": "066f348939004ce48c516ac89cf46754c2b75f67fa2a868f0990f6208517c155"
   }
  }
 },
 "nbformat": 4,
 "nbformat_minor": 4
}
