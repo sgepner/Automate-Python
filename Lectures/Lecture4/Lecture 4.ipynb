{
 "cells": [
  {
   "cell_type": "markdown",
   "metadata": {},
   "source": [
    "# Lecture 4\n",
    "We will now look at ways to run a computational process and monitor it as it performs the assigned task. We will start with just running simple Python functions that we write, but we will prepare to work with a large scale program.\n",
    "\n",
    "To do that we will:\n",
    "* need to read and modify a setting file\n",
    "* read and monitor some value\n",
    "* spawn a process and stop it if need be"
   ]
  },
  {
   "cell_type": "code",
   "execution_count": null,
   "metadata": {},
   "outputs": [],
   "source": []
  }
 ],
 "metadata": {
  "kernelspec": {
   "display_name": "Python 3",
   "language": "python",
   "name": "python3"
  },
  "language_info": {
   "codemirror_mode": {
    "name": "ipython",
    "version": 3
   },
   "file_extension": ".py",
   "mimetype": "text/x-python",
   "name": "python",
   "nbconvert_exporter": "python",
   "pygments_lexer": "ipython3",
   "version": "3.8.10"
  }
 },
 "nbformat": 4,
 "nbformat_minor": 4
}
