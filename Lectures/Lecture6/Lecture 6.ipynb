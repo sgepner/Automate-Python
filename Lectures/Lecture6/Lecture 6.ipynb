{
 "cells": [
  {
   "cell_type": "markdown",
   "metadata": {},
   "source": [
    "# Lecture 6\n",
    "We will now learn how to write code and make it available as a Python module.\n",
    "\n",
    "The ability to delegate certain tasks, or use external, already existing (C/C++) libraries to do work is very useful. The goal here is not so much to write meaningful code, but rather to present to you the possibilities that Python / C binding might give you. Essentially we will look at ways to call functions and pass date to  C/C++ from Python.\n",
    "\n",
    "Why would we want to do this:\n",
    "* We have a working C/C++ code we want to use.\n",
    "* We need the efficiency of execution of the compiled C/C++ code.\n",
    "* We want to perform tasks using multiple-threads, and Python does not allow us to do that, but our underlaying C code might."
   ]
  },
  {
   "cell_type": "markdown",
   "metadata": {},
   "source": [
    "## Passing data to and from\n",
    "The way Python and C/C++ store data is different. C does it very efficiently, and Python less so. Consequently Python integer is not the same as C/C++ integer and needs to be \"translated\". Most often this translation effort is up to you, meaning some code will need to be written, possibly on the both ends of the link. Still we are lucky as we get to use ready libraries for the most difficult tasks.\n",
    "\n",
    "This \"translating\" is called data marshalling. For build-in, simple types (floats, integers etc.) marshalling might be almost easy, for composite variables (structures and classes) it might be tricky.\n",
    "\n",
    "## Passing-by-value or by-reference\n",
    "You recall that when passing arguments to a function, by default C/C++ passes them as copies of values, so if you need data to be modified by the called function you need to pass the pointer to data, or in case of C++ a reference. Python in general will defend against giving you pointers, so writing functions that manipulate arguments passed to them might need extra work.\n",
    "\n",
    "## Problems with memory\n",
    "In C/C++ memory allocated by the programmer must be freed by the programmer. Recall:\n",
    "\n",
    "```\n",
    "int *p = (int*)malloc(sizeof(int));\n",
    "...\n",
    "free(p);\n",
    "```\n",
    "\n",
    "In Python all issues of managing memory is handled for us, and freeing happens by the garbage collector. Consequently we might need to ensure that memory used in the C/C++ part is properly freed.\n",
    "\n",
    "## C or C++\n",
    "<!-- The `ctypes` and `cffi`. -->\n",
    "In what follows we will be using `cffi` which is only compatible with `C` and has no support for `C++`. In case you need to work with `C++` have a look at `ctypes`.\n",
    "<!-- We might have a look at `ctypes` if need be -->"
   ]
  },
  {
   "cell_type": "markdown",
   "metadata": {},
   "source": [
    "## Some things we need\n",
    "We need to add some libraries to be able tow write C/C++ code that Python can use. This is easiest to do on Linux, and comes down to installing `python3-dev` package, or something similar, depending on the distribution. (Windows might be more difficult, but look [here](https://wiki.python.org/moin/WindowsCompilers#Microsoft_Visual_C.2B-.2B-_10.0_standalone:_Windows_SDK_7.1_.28x86.2C_x64.2C_ia64.29)).\n",
    "While `ctypes` is a standard in Python, we will use `cffi` to help us deal with communication and data marshalling.\n",
    "\n",
    "We also need some code in C/C++ compiled to a library.\n",
    "\n",
    "**Note**: See the example library attached to this lecture.\n",
    "\n",
    "We start with a vary simple function written in C:\n",
    "\n",
    "```\n",
    "double add(double a, double b)\n",
    "{\n",
    "    return a + b;\n",
    "}\n",
    "```\n",
    "Import an initialize `cffi`:"
   ]
  },
  {
   "cell_type": "code",
   "execution_count": null,
   "metadata": {},
   "outputs": [],
   "source": [
    "from cffi import FFI\n",
    "ffi = FFI()"
   ]
  },
  {
   "cell_type": "markdown",
   "metadata": {},
   "source": [
    "Point the library to be loaded. This is the one we just build:"
   ]
  },
  {
   "cell_type": "code",
   "execution_count": null,
   "metadata": {},
   "outputs": [],
   "source": [
    "lib = ffi.dlopen('examplelib/build/libc_example1_lib.so')"
   ]
  },
  {
   "cell_type": "markdown",
   "metadata": {},
   "source": [
    "Just like a prototype of a function in C, we need to inform `cffi` on the data types that our function accepts and returns:"
   ]
  },
  {
   "cell_type": "code",
   "execution_count": null,
   "metadata": {},
   "outputs": [],
   "source": [
    "ffi.cdef('''\n",
    "double add(double a, double b);\n",
    "''')"
   ]
  },
  {
   "cell_type": "markdown",
   "metadata": {},
   "source": [
    "And that is it, we can use our C function:"
   ]
  },
  {
   "cell_type": "code",
   "execution_count": null,
   "metadata": {},
   "outputs": [],
   "source": [
    "print(lib.add(5.0, 9))"
   ]
  },
  {
   "cell_type": "markdown",
   "metadata": {},
   "source": [
    "Note: What is returned from `lib.add()`?"
   ]
  },
  {
   "cell_type": "code",
   "execution_count": null,
   "metadata": {},
   "outputs": [],
   "source": [
    "a = lib.add(5.0, 9)\n",
    "print(type(a))"
   ]
  },
  {
   "cell_type": "markdown",
   "metadata": {},
   "source": [
    "Simple, right. Lets complicate this a bit with different types. While `int`, `float` etc. are already mapped (and simple to use), working with pointers, structures and arrays needs some additional effort, as those types have no direct counterparts on in Python.\n",
    "With `cffi` those types are mapped to a Python object `cdata` that contains them underneath and all access happens through this object.\n",
    "Also we need a way to communicate to the C part of our link the need to allocate appropriate resources. To this end `cffi` uses `new()`:\n",
    "\n",
    "* ```ffi.new('ctype string description', [initial values])```\n",
    "\n",
    "`ffi.new()` creates a new `cdata` object wrapped around the underling data. The data is defined by a string describing the `ctype`, either a pointer or an array, and initialization. If no initialization string is provided initial value is zeroed.\n",
    "\n",
    "Regarding the necessity to free the memory. Contrary to C, memory allocated with `ffi.new()`is *owned* by the `ctype` object. Consequently when this object is destroyed (garbage collected) memory is freed, and no action is necessary on the Python part of the link. Note, however that in the case memory is allocated on the side of C it needs to be deallocated properly, and this is entirely up to you.\n",
    "\n",
    "Let,s try to create a C integer:"
   ]
  },
  {
   "cell_type": "code",
   "execution_count": null,
   "metadata": {},
   "outputs": [],
   "source": [
    "# a = ffi.new('int') # this will not work\n",
    "a = ffi.new('int *')\n",
    "print(a)"
   ]
  },
  {
   "cell_type": "markdown",
   "metadata": {},
   "source": [
    "Let us see what we can do with `a`. Watch out for dynamic typing! See below:"
   ]
  },
  {
   "cell_type": "code",
   "execution_count": null,
   "metadata": {},
   "outputs": [],
   "source": [
    "a = 5 "
   ]
  },
  {
   "cell_type": "markdown",
   "metadata": {},
   "source": [
    "What is `a` now?"
   ]
  },
  {
   "cell_type": "code",
   "execution_count": null,
   "metadata": {},
   "outputs": [],
   "source": [
    "print(a)"
   ]
  },
  {
   "cell_type": "markdown",
   "metadata": {},
   "source": [
    "So we lost the original `a`, and data underneath. Note, not to do this.  \n",
    "\n",
    "**Accessing the data**: dereferencing of a pointer in C is done with `*p`, which is not available in Python, but not all is lost, we can still access the data with the `\\[\\]` operator! `p[0]`, so just treat this integer as an array! (everything is an array!). Note , that accessing out of the allocated memory will cause `IndexError`, meaning `cdata` keeps track of what can be accessed."
   ]
  },
  {
   "cell_type": "code",
   "execution_count": null,
   "metadata": {},
   "outputs": [],
   "source": [
    "a = ffi.new('int *')\n",
    "# print(*a) # try me\n",
    "print(a[0])\n",
    "a[0] = 5\n",
    "print(a[0])\n",
    "# a[1] = 9 # try me"
   ]
  },
  {
   "cell_type": "markdown",
   "metadata": {},
   "source": [
    "Extending to arrays is simple:"
   ]
  },
  {
   "cell_type": "code",
   "execution_count": null,
   "metadata": {},
   "outputs": [],
   "source": [
    "n = 20\n",
    "a = ffi.new('double['+str(n)+']') # a C style array full of zeros\n",
    "# a = ffi.new('double[10]') # will work as well!"
   ]
  },
  {
   "cell_type": "markdown",
   "metadata": {},
   "source": [
    "And `example2` library shows how to pass arrays to functions."
   ]
  },
  {
   "cell_type": "code",
   "execution_count": null,
   "metadata": {},
   "outputs": [],
   "source": [
    "lib = ffi.dlopen('examplelib/build/libc_example2_lib.so')\n",
    "ffi.cdef('''\n",
    "void fibonaci(double a[], int n);\n",
    "''')"
   ]
  },
  {
   "cell_type": "code",
   "execution_count": null,
   "metadata": {},
   "outputs": [],
   "source": [
    "lib.fibonaci(a, n)"
   ]
  },
  {
   "cell_type": "code",
   "execution_count": null,
   "metadata": {},
   "outputs": [],
   "source": [
    "for i in a:\n",
    "    print(i, end=\", \")"
   ]
  },
  {
   "cell_type": "markdown",
   "metadata": {},
   "source": [
    "Consider example 3:"
   ]
  },
  {
   "cell_type": "code",
   "execution_count": null,
   "metadata": {},
   "outputs": [],
   "source": [
    "lib = ffi.dlopen('examplelib/build/libc_example3_lib.so')\n",
    "ffi.cdef('''\n",
    "void manipuator(double *pd);\n",
    "''')"
   ]
  },
  {
   "cell_type": "code",
   "execution_count": null,
   "metadata": {},
   "outputs": [],
   "source": [
    "a = ffi.new('double *')\n",
    "a[0] = 0\n",
    "print(a[0])\n",
    "lib.manipuator(a)\n",
    "print(a[0])"
   ]
  },
  {
   "cell_type": "markdown",
   "metadata": {},
   "source": [
    "We might also work with composite types. In C those are obtained with structures. Consider example 4 with a simple structure representing a point:\n",
    "\n",
    "```\n",
    "typedef struct{\n",
    "    double x;\n",
    "    double y;\n",
    "} Point;\n",
    "```\n",
    "and some functions to operate it:"
   ]
  },
  {
   "cell_type": "code",
   "execution_count": null,
   "metadata": {},
   "outputs": [],
   "source": [
    "lib = ffi.dlopen('examplelib/build/libc_example4_lib.so')\n",
    "ffi.cdef('''\n",
    "typedef struct {\n",
    "    double x;\n",
    "    double y;\n",
    "} Point;\n",
    "\n",
    "Point make_Point(double x, double y);\n",
    "Point copy_Point(Point *p);\n",
    "void move_Point(Point *p, double x, double y);\n",
    "''')"
   ]
  },
  {
   "cell_type": "markdown",
   "metadata": {},
   "source": [
    "With `ffi.new()` we can make some points. Note initialization used this time:"
   ]
  },
  {
   "cell_type": "code",
   "execution_count": null,
   "metadata": {},
   "outputs": [],
   "source": [
    "# Create Point\n",
    "point0 = ffi.new('Point*', {'y' : 1, 'x' : 10})\n",
    "point1= ffi.new('Point*', [1, 8])"
   ]
  },
  {
   "cell_type": "code",
   "execution_count": null,
   "metadata": {},
   "outputs": [],
   "source": [
    "print(point0, point0.x, point0.y)\n",
    "print(point1, point1.x, point1.y)"
   ]
  },
  {
   "cell_type": "markdown",
   "metadata": {},
   "source": [
    "We can use a function that returns a Point. Note the type of the returned variable:"
   ]
  },
  {
   "cell_type": "code",
   "execution_count": null,
   "metadata": {},
   "outputs": [],
   "source": [
    "a = lib.make_Point(10, 10)\n",
    "print(a, a.x, a.y)"
   ]
  },
  {
   "cell_type": "markdown",
   "metadata": {},
   "source": [
    "There is a difference as to what `point0` and `a` are! One is a pointer wrapped in a `ctype` and the other the value (also wrapped)! This causes that we should consider how we design interfaces on both sides of the language barrier!\n",
    "\n",
    "Some consequences: In C access to structure data is done either with a dot `.` or an arrow `->`. in Python access is possible only with a `.`.\n",
    "\n",
    "While obtaining an address in Python is rather hard, in the case of `cdata` we might require it, for example to pass addresses of variable (such as one stored by `a`) to and from C functions. This is done with `ffi.addressof(a)`. Consider `copy_Point()`. We might try first this:"
   ]
  },
  {
   "cell_type": "code",
   "execution_count": null,
   "metadata": {},
   "outputs": [],
   "source": [
    "print(a, a.x, a.y)\n",
    "b = lib.copy_Point(a)\n",
    "print(a, a.x, a.y)\n",
    "print(b, a.x, a.y)"
   ]
  },
  {
   "cell_type": "markdown",
   "metadata": {},
   "source": [
    "And fail, since `copy_Point()` needs a pointer, not a value. To get the address:"
   ]
  },
  {
   "cell_type": "code",
   "execution_count": null,
   "metadata": {},
   "outputs": [],
   "source": [
    "print(ffi.addressof(a))"
   ]
  },
  {
   "cell_type": "code",
   "execution_count": null,
   "metadata": {},
   "outputs": [],
   "source": [
    "b = ffi.addressof(a)\n",
    "c = lib.copy_Point(b)\n",
    "print(b, b.x, b.y)\n",
    "print(c, c.x, c.y)"
   ]
  },
  {
   "cell_type": "markdown",
   "metadata": {},
   "source": [
    "`b` and `c` are both holding a point `Point`:"
   ]
  },
  {
   "cell_type": "code",
   "execution_count": null,
   "metadata": {},
   "outputs": [],
   "source": [
    "print(b, b.x, b.y)\n",
    "print(ffi.addressof(c), c.x, c.y)"
   ]
  },
  {
   "cell_type": "markdown",
   "metadata": {},
   "source": [
    "Finally, we can manipulate the point with `move_Point()`:"
   ]
  },
  {
   "cell_type": "code",
   "execution_count": null,
   "metadata": {},
   "outputs": [],
   "source": [
    "lib.move_Point(point0, 4, 7)\n",
    "print(point0, point0.x, point0.y)\n",
    "\n",
    "lib.move_Point(ffi.addressof(c), 4, 7)\n",
    "print(c, c.x, c.y)"
   ]
  },
  {
   "cell_type": "markdown",
   "metadata": {},
   "source": [
    "We will conclude by showing how to use `numpy.array` collection together with a C developed library. To this end we will generate a Mandlbrot fractal (the famous one):"
   ]
  },
  {
   "cell_type": "code",
   "execution_count": null,
   "metadata": {},
   "outputs": [],
   "source": [
    "from cffi import FFI\n",
    "ffi = FFI()\n",
    "\n",
    "lib = ffi.dlopen('examplelib/build/libfinal.so')\n",
    "ffi.cdef('''\n",
    "double add(double a, double b);\n",
    "void fibonaci(double a[], int n);\n",
    "void manipuator(double *pd);\n",
    "typedef struct {\n",
    "    double x;\n",
    "    double y;\n",
    "} Point;\n",
    "Point make_Point(double x, double y);\n",
    "Point copy_Point(Point *p);\n",
    "void move_Point(Point *p, double x, double y);\n",
    "\n",
    "void mandelbrot(int size, int iterations, int *col);\n",
    "''')\n",
    "# We show that here we imported all, but we will use only the mandelbrot()"
   ]
  },
  {
   "cell_type": "code",
   "execution_count": null,
   "metadata": {},
   "outputs": [],
   "source": [
    "import numpy as np \n",
    "\n",
    "size = 500\n",
    "iterations = 1000\n",
    "\n",
    "# clreate a size x szie array of integers\n",
    "A = np.empty((size, size), dtype=np.int32)"
   ]
  },
  {
   "cell_type": "markdown",
   "metadata": {},
   "source": [
    "`NumPy` provides a `ctypes` object to allow for passing array data to and from a `ctypes` module:"
   ]
  },
  {
   "cell_type": "code",
   "execution_count": null,
   "metadata": {},
   "outputs": [],
   "source": [
    "print(type(A))\n",
    "print(type(A.ctypes))\n",
    "print(type(A.ctypes.data))\n",
    "print(type(A.ctypes.shape))"
   ]
  },
  {
   "cell_type": "markdown",
   "metadata": {},
   "source": [
    "To use with `mandelbrot()` function we need to cast `A.ctypes.data` to `int*`. For this `cffi` offers `cast()`:"
   ]
  },
  {
   "cell_type": "code",
   "execution_count": null,
   "metadata": {},
   "outputs": [],
   "source": [
    "print(ffi.cast(\"int *\", A.ctypes.data))"
   ]
  },
  {
   "cell_type": "markdown",
   "metadata": {},
   "source": [
    "**Note**: code below comes from https://ipython-books.github.io/54-wrapping-a-c-library-in-python-with-ctypes/, a source which I used preparing this lecture."
   ]
  },
  {
   "cell_type": "markdown",
   "metadata": {},
   "source": [
    "Let's start with what is the Mandelbrot Set. Consider the following iterative formula:\n",
    "\n",
    "$$\n",
    "z_{n+1} = z_{n}^2 + c,\n",
    "$$\n",
    "with $z_{n}$ and $c$ complex numbers.\n",
    "Now the Mandelbrot Set is the set of complex values $c$ such that values of $z$, when starting with $z_0=0$ remains bounded.\n",
    "\n",
    "Example: Check what $z$ is for $c=1$ and $-1$."
   ]
  },
  {
   "cell_type": "markdown",
   "metadata": {},
   "source": [
    "Knowing what the Set is we can devise a simple, and naive algorithm to decide if points lie in or out of the set, the naive \"escape time\".\n",
    "1. Go through the `(x,y)` points of the complex plane, iterating for some number of iterations. \n",
    "2. Check if the calculated value is larger than e.g. `2` and record the number of iterations.\n",
    "3. Done"
   ]
  },
  {
   "cell_type": "code",
   "execution_count": null,
   "metadata": {
    "scrolled": true
   },
   "outputs": [],
   "source": [
    "# mandelbrot() function fills the array with data\n",
    "lib.mandelbrot(size, iterations, ffi.cast(\"int *\", A.ctypes.data))"
   ]
  },
  {
   "cell_type": "code",
   "execution_count": null,
   "metadata": {},
   "outputs": [],
   "source": [
    "import matplotlib.pyplot as plt\n",
    "%matplotlib inline\n",
    "fig, ax = plt.subplots(1, 1, figsize=(10, 10))\n",
    "ax.imshow(np.log(A), cmap=plt.cm.jet)\n",
    "ax.set_axis_off()"
   ]
  },
  {
   "cell_type": "markdown",
   "metadata": {},
   "source": [
    "**Coding Time!**: Examine the Mandelbrot set function and develop something similar for the Julia Set:\n",
    "\n",
    "That is, find such points $p\\in C$ that the following series:\n",
    "\n",
    "$$\n",
    "\\begin{cases}\n",
    "    z_0 = p \\\\\n",
    "    z_{n+1} = z_{n}^2 + c\n",
    "\\end{cases}\n",
    "$$\n",
    "does not diverge to $\\infty$. $c$ should be a parameter."
   ]
  },
  {
   "cell_type": "code",
   "execution_count": null,
   "metadata": {},
   "outputs": [],
   "source": [
    "from cffi import FFI\n",
    "ffi = FFI()\n",
    "\n",
    "lib = ffi.dlopen('examplelib/build/libjulia.so')\n",
    "ffi.cdef('''\n",
    "void julia(int size, int iterations, int *col, double dx, double dy);\n",
    "''')\n",
    "# We show that here we imported all, but we will use only the mandelbrot()"
   ]
  },
  {
   "cell_type": "code",
   "execution_count": null,
   "metadata": {},
   "outputs": [],
   "source": [
    "import numpy as np \n",
    "\n",
    "size = 500\n",
    "iterations = 100\n",
    "dx = -0.8\n",
    "dy = 0.156\n",
    "\n",
    "# clreate a size x szie array of integers\n",
    "A = np.empty((size, size), dtype=np.int32)"
   ]
  },
  {
   "cell_type": "code",
   "execution_count": null,
   "metadata": {},
   "outputs": [],
   "source": [
    "# mandelbrot() function fills the array with data\n",
    "lib.julia(size, iterations, ffi.cast(\"int *\", A.ctypes.data), dx, dy)"
   ]
  },
  {
   "cell_type": "code",
   "execution_count": null,
   "metadata": {},
   "outputs": [],
   "source": [
    "import matplotlib.pyplot as plt\n",
    "%matplotlib inline\n",
    "fig, ax = plt.subplots(1, 1, figsize=(10, 10))\n",
    "ax.imshow(np.log(A), cmap=plt.cm.jet)\n",
    "ax.set_axis_off()"
   ]
  },
  {
   "cell_type": "code",
   "execution_count": null,
   "metadata": {},
   "outputs": [],
   "source": []
  }
 ],
 "metadata": {
  "kernelspec": {
   "display_name": "Python 3",
   "language": "python",
   "name": "python3"
  },
  "language_info": {
   "codemirror_mode": {
    "name": "ipython",
    "version": 3
   },
   "file_extension": ".py",
   "mimetype": "text/x-python",
   "name": "python",
   "nbconvert_exporter": "python",
   "pygments_lexer": "ipython3",
   "version": "3.8.10"
  }
 },
 "nbformat": 4,
 "nbformat_minor": 4
}
