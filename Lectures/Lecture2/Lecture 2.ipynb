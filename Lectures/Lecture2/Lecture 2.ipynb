{
 "cells": [
  {
   "cell_type": "markdown",
   "metadata": {},
   "source": [
    "# Lecture 2\n",
    "Procedural and object oriented paradigms of programming.  \n",
    "Procedural programing centers around developing procedures (functions) and passing data in between while performing programmed tasks. So in a sense data and functionality remain separated.  \n",
    "With Object Oriented Programming (OOP) we create objects that merge data and functionality together, which should in principle allow for better code organization, limit code redundancy and give a more real life relation between program parts.  \n",
    "Object Oriented Programing (OOP) in Python is based on a couple of concepts, we will now discuss:\n",
    "* Class and object\n",
    "* Methods and attributes\n",
    "* Encapsulation\n",
    "* Inheritance and polymorphism\n",
    "\n",
    "Note: OOP, allows to do some things in a more natural and understandable manner, but there should be limits to the excessive use. What I mean, it is good when it is good, and sometimes to much is just to much."
   ]
  },
  {
   "cell_type": "markdown",
   "metadata": {},
   "source": [
    "## Class and object:\n",
    "Class is a recipe for creating objects. It defines what object has (data) and what it can do (methods). In Python creating a class is very simple:"
   ]
  },
  {
   "cell_type": "code",
   "execution_count": null,
   "metadata": {},
   "outputs": [],
   "source": [
    "class Cat:\n",
    "    pass"
   ]
  },
  {
   "cell_type": "markdown",
   "metadata": {},
   "source": [
    "We defined a class *Cat*, it has nothing (*pass*) for now. We can create a number of variables of type *Cat*:"
   ]
  },
  {
   "cell_type": "code",
   "execution_count": null,
   "metadata": {},
   "outputs": [],
   "source": [
    "a = Cat()\n",
    "b = []\n",
    "b.append(Cat())\n",
    "b.append(a)\n",
    "print(a)\n",
    "print(b)"
   ]
  },
  {
   "cell_type": "markdown",
   "metadata": {},
   "source": [
    "We created two *Cat*s and stored them in a list *b*. Note that b\\[0\\] is the same as *a*. Although right now our Cat class has no attributes, we might add those on the run. Which in a long run might not be such a good idea, but is possible, due to dynamic typing paradigm:"
   ]
  },
  {
   "cell_type": "code",
   "execution_count": null,
   "metadata": {},
   "outputs": [],
   "source": [
    "a.b = 10 # now object a of type Cat has an attribute b!"
   ]
  },
  {
   "cell_type": "markdown",
   "metadata": {},
   "source": [
    "Still, this will not work:"
   ]
  },
  {
   "cell_type": "code",
   "execution_count": null,
   "metadata": {},
   "outputs": [],
   "source": [
    "print(b[0].b)"
   ]
  },
  {
   "cell_type": "markdown",
   "metadata": {},
   "source": [
    "But this will (Why?):"
   ]
  },
  {
   "cell_type": "code",
   "execution_count": null,
   "metadata": {},
   "outputs": [],
   "source": [
    "print(b[1].b)"
   ]
  },
  {
   "cell_type": "markdown",
   "metadata": {},
   "source": [
    "We will return to the \"additional\" attributes in a second to illustrate possible problems.\n",
    "\n",
    "**Coding time!**: In a separate file define a class Animal. Import the module here and create a list to store Animal objects."
   ]
  },
  {
   "cell_type": "markdown",
   "metadata": {},
   "source": [
    "## Methods and attributes\n",
    "Classes define data an object of the class has. Let expand the Cat so it has a breed attribute: "
   ]
  },
  {
   "cell_type": "code",
   "execution_count": null,
   "metadata": {},
   "outputs": [],
   "source": [
    "class Cat:\n",
    "    breed = ''"
   ]
  },
  {
   "cell_type": "code",
   "execution_count": null,
   "metadata": {},
   "outputs": [],
   "source": [
    "cat1 = Cat()\n",
    "cat1.breed = 'Sjam'\n",
    "cat2 = Cat()\n",
    "cat2.breed = 'Persian'\n",
    "# Let have cats in a cat list\n",
    "clist = [cat1, cat2]"
   ]
  },
  {
   "cell_type": "code",
   "execution_count": null,
   "metadata": {},
   "outputs": [],
   "source": [
    "for c in clist:\n",
    "    print(c.breed)"
   ]
  },
  {
   "cell_type": "markdown",
   "metadata": {},
   "source": [
    "**Coding time**!: Extend Animal to include taxonomic information stored as a string. For now just phylum (typ). Create some objects of different phylum (check Wiki for possible choices)."
   ]
  },
  {
   "cell_type": "markdown",
   "metadata": {},
   "source": [
    "### self\n",
    "We will no add methods to perform some operation on the Cat object. Before we do we need to mention the **self** parameter. **self** is used to refer to the attributes of the object of the class, and is similar to the **C++** **this** pointer. It is also used to define that a procedure is a method of the class, by being the first argument."
   ]
  },
  {
   "cell_type": "code",
   "execution_count": null,
   "metadata": {},
   "outputs": [],
   "source": [
    "class Cat:\n",
    "    breed = ''\n",
    "    \n",
    "    def Print(self): # Note self as an argument!\n",
    "        print('This cat is a', self.breed)"
   ]
  },
  {
   "cell_type": "markdown",
   "metadata": {},
   "source": [
    "Since we redefined the Cat class, we need to recreate the objects (check if the previous ones have method *Print()*):"
   ]
  },
  {
   "cell_type": "code",
   "execution_count": null,
   "metadata": {},
   "outputs": [],
   "source": [
    "cat1 = Cat()\n",
    "cat1.breed = 'Sjam'\n",
    "cat2 = Cat()\n",
    "cat2.breed = 'Persian'\n",
    "# Let have cats in a cat list\n",
    "clist = [cat1, cat2]"
   ]
  },
  {
   "cell_type": "code",
   "execution_count": null,
   "metadata": {},
   "outputs": [],
   "source": [
    "for c in clist:\n",
    "    c.Print()"
   ]
  },
  {
   "cell_type": "markdown",
   "metadata": {},
   "source": [
    "**Coding time!**: Extend the Animal class to poses a method that returns the number of letters in the phylum (need a better idea). Test this method here."
   ]
  },
  {
   "cell_type": "markdown",
   "metadata": {},
   "source": [
    "### Going back to additional attributes:\n",
    "Let's see some consequences of the additional attribute:"
   ]
  },
  {
   "cell_type": "code",
   "execution_count": null,
   "metadata": {},
   "outputs": [],
   "source": [
    "class Cat:\n",
    "    def fun(self):\n",
    "        print(self.b) # this Cat has no b!"
   ]
  },
  {
   "cell_type": "code",
   "execution_count": null,
   "metadata": {},
   "outputs": [],
   "source": [
    "a = Cat()\n",
    "a.fun()"
   ]
  },
  {
   "cell_type": "code",
   "execution_count": null,
   "metadata": {},
   "outputs": [],
   "source": [
    "a.b = 0\n",
    "print(a.b)\n",
    "# but:\n",
    "a.fun()"
   ]
  },
  {
   "cell_type": "markdown",
   "metadata": {},
   "source": [
    "### __init__ method\n",
    "Is used to define a way to construct an object of the class. It is run the moment you create an object and can be used to create one based on some parameters. Our new cat will look like this:"
   ]
  },
  {
   "cell_type": "code",
   "execution_count": null,
   "metadata": {},
   "outputs": [],
   "source": [
    "class Cat:\n",
    "    def __init__(self, b, c, a):\n",
    "        self.breed = b\n",
    "        self.color = c\n",
    "        self.age = a\n",
    "    def Print(self):\n",
    "        print('This', self.breed, 'cat is', self.color, 'and is', self.age, 'years old')"
   ]
  },
  {
   "cell_type": "code",
   "execution_count": null,
   "metadata": {},
   "outputs": [],
   "source": [
    "a = Cat('Sjam', 'black', 10)\n",
    "a.Print()"
   ]
  },
  {
   "cell_type": "markdown",
   "metadata": {},
   "source": [
    "**Coding time!**: Add **__init__(self, ...)** method to the Animal. Set phylum and test it here by creating some Animal objects."
   ]
  },
  {
   "cell_type": "markdown",
   "metadata": {},
   "source": [
    "## Encapsulation or hermetization\n",
    "One of the crucial concepts in OPP is encapsulation or hermetization. That is ability to limit access to some of the object's attributes and making them unavailable for modification or even reading. Various languages offer different levels at which such restriction is possible (e.g. **C++** has a sophisticated suite of possibilities). In Python this is limited to a naming convention. Any attribute that starts with \\_\\_ (two low bars?) is restricted. Let's see an example of a Cat's bowl, that we are going to make unavailable:"
   ]
  },
  {
   "cell_type": "code",
   "execution_count": null,
   "metadata": {},
   "outputs": [],
   "source": [
    "class Cat:\n",
    "    def __init__(self):\n",
    "        self.__bowl = 'empty' # cats have bowls with food\n",
    "    def FillBowl(self):\n",
    "        self.__bowl = \"Filled with food\"\n",
    "    def Eat(self):\n",
    "        self.__bowl = 'empty'\n",
    "    def Print(self):\n",
    "        print(self.__bowl)\n",
    "        cathappy = \"Cat is happy\" if self.__bowl != 'empty' else \"Cat is sad\"\n",
    "        print(cathappy)"
   ]
  },
  {
   "cell_type": "code",
   "execution_count": null,
   "metadata": {},
   "outputs": [],
   "source": [
    "a = Cat()\n",
    "a.FillBowl()"
   ]
  },
  {
   "cell_type": "code",
   "execution_count": null,
   "metadata": {},
   "outputs": [],
   "source": [
    "print(a.__bowl)"
   ]
  },
  {
   "cell_type": "code",
   "execution_count": null,
   "metadata": {},
   "outputs": [],
   "source": [
    "a.__bowl = 'empty'"
   ]
  },
  {
   "cell_type": "code",
   "execution_count": null,
   "metadata": {},
   "outputs": [],
   "source": [
    "a.Print()"
   ]
  },
  {
   "cell_type": "code",
   "execution_count": null,
   "metadata": {},
   "outputs": [],
   "source": [
    "a.Eat()\n",
    "a.Print()"
   ]
  },
  {
   "cell_type": "markdown",
   "metadata": {},
   "source": [
    "We note that we can not access Cat's bowl for reading (AttributeError),\n",
    "and if we try to assign to it it has no effect on the attribute."
   ]
  },
  {
   "cell_type": "markdown",
   "metadata": {},
   "source": [
    "**Coding time!**: Extend the Animal class to contain a private member variable. This variable could be a string describing if the animal exists presently or is extinct. Add Methods, to read (get) write (set) this variable, and test those here."
   ]
  },
  {
   "cell_type": "markdown",
   "metadata": {},
   "source": [
    "## Inheritance and polymorphism"
   ]
  },
  {
   "cell_type": "markdown",
   "metadata": {},
   "source": [
    "Inheritance is central to OOP. The concept is based on extending functionality of existing classes by deriving from them new ones, that conceptually perform similar, but more specific tasks. So inheritance introduces hierarchy to classes form abstract concepts (such as a general shape in geometry) down to very specific ones (for shapes, a square or a triangle, etc.).\n",
    "\n",
    "The class that is more abstract, from which we derive is called the **base** class (general shape), and the less abstract class formed via inheritance is the **derived** one (a square is less general than a shape, so it could be derived from it).\n",
    "\n",
    "Concept of inheritance allows for:\n",
    "* Less code, since code is reused\n",
    "* Possibly more order in the code\n",
    "* Polymorphism, i.e. handling objects in a unified way\n",
    "\n",
    "Let us present the concept with\n",
    "\n",
    "```sequence\n",
    "Mammal<-Dog\n",
    "      <-Cat\n",
    "```\n",
    "Note: Show step-by-step, not all at once:"
   ]
  },
  {
   "cell_type": "code",
   "execution_count": null,
   "metadata": {},
   "outputs": [],
   "source": [
    "class Mammal():\n",
    "    def __init__(self):\n",
    "        self.drinks_milk = 'Yes'\n",
    "class Cat(Mammal):\n",
    "    pass\n",
    "class Dog(Mammal):\n",
    "    pass"
   ]
  },
  {
   "cell_type": "markdown",
   "metadata": {},
   "source": [
    "Finally we get something like this:"
   ]
  },
  {
   "cell_type": "code",
   "execution_count": null,
   "metadata": {},
   "outputs": [],
   "source": [
    "class Mammal():\n",
    "    def __init__(self, n):\n",
    "        self.name = n\n",
    "        self.drinks_milk = \"Yes\"\n",
    "    def make_noise(self): # all derived classes make noise \n",
    "        print(self.noise)\n",
    "    def print_name(self):\n",
    "        print('Has no name')\n",
    "\n",
    "class Cat(Mammal):\n",
    "    def __init__(self):\n",
    "        self.noise = \"Meow\"\n",
    "        Mammal.__init__(self, \"Cat\")\n",
    "    def print_name(self):\n",
    "        print('Behemoth')\n",
    "        \n",
    "class Dog(Mammal):\n",
    "    def __init__(self):\n",
    "        self.noise = \"Bark\"\n",
    "        Mammal.__init__(self, \"Cat\")\n",
    "    def print_name(self):\n",
    "        print('Cerberus')"
   ]
  },
  {
   "cell_type": "code",
   "execution_count": null,
   "metadata": {},
   "outputs": [],
   "source": [
    "m = Mammal('')\n",
    "print(m.drinks_milk)\n",
    "m.print_name()\n",
    "m.make_noise()"
   ]
  },
  {
   "cell_type": "code",
   "execution_count": null,
   "metadata": {},
   "outputs": [],
   "source": [
    "c = Cat()\n",
    "print(c.drinks_milk)\n",
    "c.print_name()\n",
    "c.make_noise()"
   ]
  },
  {
   "cell_type": "code",
   "execution_count": null,
   "metadata": {},
   "outputs": [],
   "source": [
    "d = Dog()\n",
    "print(c.drinks_milk)\n",
    "d.print_name()\n",
    "d.make_noise()"
   ]
  },
  {
   "cell_type": "markdown",
   "metadata": {},
   "source": [
    "**Coding time!**: Extend the Animal class to be base for Cat and Dog via Mammal class. Add Reptiles to go along with mammals and some derived classes that inherit from a reptile. In the end you should be able to create objects of 4 different classes."
   ]
  },
  {
   "cell_type": "markdown",
   "metadata": {},
   "source": [
    "### Some operations on lists\n",
    "Since we are now able to create objects and connect data to procedures, we will try to experiment with operations on lists that concern lists of objects:\n",
    "\n",
    "* filter()\n",
    "* sort with lambda\n",
    "* "
   ]
  },
  {
   "cell_type": "code",
   "execution_count": null,
   "metadata": {},
   "outputs": [],
   "source": [
    "numbers = [1, 2, 3, 4]\n",
    "a = filter(lambda l: l < 3, numbers)"
   ]
  },
  {
   "cell_type": "code",
   "execution_count": null,
   "metadata": {},
   "outputs": [],
   "source": [
    "print(list(a))"
   ]
  }
 ],
 "metadata": {
  "kernelspec": {
   "display_name": "Python 3",
   "language": "python",
   "name": "python3"
  },
  "language_info": {
   "codemirror_mode": {
    "name": "ipython",
    "version": 3
   },
   "file_extension": ".py",
   "mimetype": "text/x-python",
   "name": "python",
   "nbconvert_exporter": "python",
   "pygments_lexer": "ipython3",
   "version": "3.8.10"
  }
 },
 "nbformat": 4,
 "nbformat_minor": 4
}
