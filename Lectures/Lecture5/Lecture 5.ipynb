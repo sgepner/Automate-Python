{
 "cells": [
  {
   "cell_type": "markdown",
   "metadata": {},
   "source": [
    "# Lecture 5\n",
    "Serialization of data and use of external application API (Application Programmable Interface)\n",
    "\n",
    "Often Python scripts are used to process data in consequence creating new data for further use. The processing part can itself be computationally involving and being able to store data in the easily accessible form is very convenient. Especially so if the processing part takes days (but even hours) and access to data is required at some latter stages of the project. One, obvious solution is to store resulting data in simple CSV type files, but this approach is limited, especially if data structure becomes complex.\n",
    "For example, we might be storing time history of velocity profiles $(u,v,w)$ through a flow field retrieved from a number of locations and performed across snapshots in time ... . In general we have a lot of complex data to deal with, and would like to store it in some organized manner, to be retrieved and worked on latter. For this we can use **serialization**, which in the simplest terms means to store data. The concept comes from the need to communicate different application forming a system and working possibly across different platforms (or simply form game saves ...).\n",
    "\n",
    "Here we will illustrate how to **store** and **retrieve** data we process and produce. Consider a process where we have a number of snapshots from computations (data could be data from experiments) describing some arbitrary vector field in time (or positions of a robot, some mappings of its surroundings, readings from sensors etc.). We will store such data within objects of the following class:"
   ]
  },
  {
   "cell_type": "code",
   "execution_count": null,
   "metadata": {},
   "outputs": [],
   "source": [
    "import numpy as np\n",
    "from matplotlib import pyplot as plt"
   ]
  },
  {
   "cell_type": "code",
   "execution_count": null,
   "metadata": {},
   "outputs": [],
   "source": [
    "class Case:\n",
    "    def __init__(self, fname):\n",
    "        self.file_name = fname # File name from which we will read\n",
    "        \n",
    "        self.time = 0 # solution time\n",
    "        self.number_of_pointst = 0 # number of data points\n",
    "\n",
    "        # position of the profile cut\n",
    "        self.profile_pos = np.array([0.0,0.0,0.0], dtype=float)\n",
    "\n",
    "        self.Y = np.array # Y coordinate\n",
    "        self.u = np.array # Components of velocity acros Y\n",
    "        self.v = np.array\n",
    "        self.w = np.array"
   ]
  },
  {
   "cell_type": "markdown",
   "metadata": {},
   "source": [
    "So we have a simple class that will hold $(u,v,w)$ components of a vector obtained at $time$ and at a point with $Y$ the coordinate across the cut. Lets now populate it with some made up data:"
   ]
  },
  {
   "cell_type": "code",
   "execution_count": null,
   "metadata": {},
   "outputs": [],
   "source": [
    "clist = []\n",
    "c = Case(\"file_0.dat\") # some file we read from\n",
    "c.time = 0\n",
    "c.number_of_pointst = 1000\n",
    "c.profile_pos[0] = 5 # move at x=5\n",
    "c.profile_pos[1] = 10 # move at y=5\n",
    "c.Y = np.linspace(-1,1,100)\n",
    "# Normally u,v,w are read from file, here made up\n",
    "c.u = 1-c.Y**2\n",
    "c.v = c.Y * 0\n",
    "c.w = c.Y * 0\n",
    "clist.append(c) # add to a list"
   ]
  },
  {
   "cell_type": "code",
   "execution_count": null,
   "metadata": {},
   "outputs": [],
   "source": [
    "plt.plot(c.u, c.Y)"
   ]
  },
  {
   "cell_type": "markdown",
   "metadata": {},
   "source": [
    "Let have a second one:"
   ]
  },
  {
   "cell_type": "code",
   "execution_count": null,
   "metadata": {},
   "outputs": [],
   "source": [
    "c = Case(\"file_1.dat\") # some file we read from\n",
    "c.time = 1\n",
    "c.number_of_pointst = 1000\n",
    "c.profile_pos[0] = 5 # move at x=5\n",
    "c.profile_pos[1] = 10 # move at y=5\n",
    "c.Y = np.linspace(-1,1,100)\n",
    "# Normally u,v,w are read from file, here made up\n",
    "c.u = 1-c.Y**3\n",
    "c.v = c.Y * 0\n",
    "c.w = c.Y * 0\n",
    "clist.append(c) # add to a list"
   ]
  },
  {
   "cell_type": "code",
   "execution_count": null,
   "metadata": {},
   "outputs": [],
   "source": [
    "for c in clist:\n",
    "    plt.plot(c.u, c.Y)\n",
    "plt.xlim(0,2)\n",
    "plt.ylim(-1,1)\n",
    "plt.grid()"
   ]
  },
  {
   "cell_type": "markdown",
   "metadata": {},
   "source": [
    "usually there will be more data, the structure might be more complex, or some additional process will be used to do something with the data etc."
   ]
  },
  {
   "cell_type": "markdown",
   "metadata": {},
   "source": [
    "For data storage we will use the `msgpack`, which is a serialization format for use in data exchange across different languages, but not only. Here is the project:  \n",
    "https://github.com/msgpack/msgpack-python  \n",
    "and its API documentation:  \n",
    "https://msgpack-python.readthedocs.io/en/latest/api.html  \n",
    "\n",
    "In short, hands on How to Use we will require an instruction on how to handle data. How to encode and pack it and how to unpack and decode it. So we need to add encoding as well as decoding functions. Those function will accept an object of our data storage class and inform `msgpack` what to do with it. The whole process is in fact quite simple. We just do:"
   ]
  },
  {
   "cell_type": "code",
   "execution_count": null,
   "metadata": {},
   "outputs": [],
   "source": [
    "import msgpack"
   ]
  },
  {
   "cell_type": "markdown",
   "metadata": {},
   "source": [
    "To import an appropriate module, and:"
   ]
  },
  {
   "cell_type": "code",
   "execution_count": null,
   "metadata": {},
   "outputs": [],
   "source": [
    "clist[0].profile_pos"
   ]
  },
  {
   "cell_type": "code",
   "execution_count": null,
   "metadata": {},
   "outputs": [],
   "source": [
    "\"\"\"Encoding function\"\"\"\n",
    "def enc_full(obj):\n",
    "    if type(obj) == Case: # make sure obj is of some type\n",
    "        code = 1 # A flag determining the type\n",
    "        # pack and return\n",
    "        return msgpack.ExtType(code,\n",
    "            msgpack.packb([obj.file_name, obj.time,\n",
    "                           obj.number_of_pointst,\n",
    "                           obj.profile_pos.tobytes(),\n",
    "                           obj.Y.tobytes(),\n",
    "                           obj.u.tobytes(), obj.v.tobytes(),\n",
    "                           obj.w.tobytes()]))\n",
    "    raise TypeError # Rise an error if type not handled"
   ]
  },
  {
   "cell_type": "markdown",
   "metadata": {},
   "source": [
    "And we have the encoding part. Now, all simple data types go as they are (file_name, time ...) and Numpy arrays need to be converted to strings (either the `tostring` or `tobytes` methods). The `packb` simply packs an object into an appropriate format. One comment here is that we are not packing the `Case` object itself, but rather a list (note `[ ]`) of attributes such object has. The `code` identifies the stored type, since we could have more than one class to deal with the `code` would let us distinguish recovered data.\n",
    "We can now store this data to a file, simply with:"
   ]
  },
  {
   "cell_type": "code",
   "execution_count": null,
   "metadata": {},
   "outputs": [],
   "source": [
    "ls"
   ]
  },
  {
   "cell_type": "code",
   "execution_count": null,
   "metadata": {},
   "outputs": [],
   "source": [
    "msgpack.dump(clist, open( 'bbb.dat', \"wb\" ), default=enc_full)"
   ]
  },
  {
   "cell_type": "markdown",
   "metadata": {},
   "source": [
    "The `\"wb\"` lets us store this data in binary format. We will need to recover the data appropriatly with `\"rb\"`. See if the file was created, and look inside.\n",
    "\n",
    "Now restart the Python interpreter and try to recover the data we put on disk. The `Case` class still needs to be defined, so in case you restarted the interpreter, do run the appropriate cell above that defines the class.  \n",
    "To decode we will need a decoding function. It will contain instructions on how to rebuild objects from storage, create an object, feed it with data and return:"
   ]
  },
  {
   "cell_type": "code",
   "execution_count": null,
   "metadata": {},
   "outputs": [],
   "source": [
    "import msgpack\n",
    "import numpy as np\n",
    "from matplotlib import pyplot as plt"
   ]
  },
  {
   "cell_type": "code",
   "execution_count": null,
   "metadata": {},
   "outputs": [],
   "source": [
    "def dnc(code, data):\n",
    "    if code == 1: # a flag determining the type\n",
    "        # call the unpack on the data passed in here\n",
    "        file_name, time, num_pts, pos, Y, u, v, w = msgpack.unpackb(data)\n",
    "        \n",
    "        # make the object\n",
    "        c = Case(file_name)\n",
    "        \n",
    "        # feed it with data\n",
    "        c.time = time\n",
    "        c.number_of_pointst = num_pts\n",
    "        # Note that numpy arrays need to be handled in a speciall way\n",
    "        c.profile_pos = np.frombuffer(pos)\n",
    "        c.Y = np.frombuffer(Y)\n",
    "        c.u = np.frombuffer(u)\n",
    "        c.v = np.frombuffer(v)\n",
    "        c.w = np.frombuffer(w)\n",
    "        \n",
    "        # return the object outside\n",
    "        return c\n",
    "    # in case the type is either a build in or other\n",
    "    return msgpack.ExtType(code, data)"
   ]
  },
  {
   "cell_type": "markdown",
   "metadata": {},
   "source": [
    "We have just one class, and its code is simply `1`. `dnc()` will be passed this `code` as well as the binary data, which will be unpacked and returned as a tuple.\n",
    "It is up to us to create a new object and populate it with data and than to return it.\n",
    "\n",
    "Lifting data from storage is now simple. Note that we need to pass the decoding function to be used by `load()`, the file name and `\"rb\"` since we read binary data:"
   ]
  },
  {
   "cell_type": "code",
   "execution_count": null,
   "metadata": {},
   "outputs": [],
   "source": [
    "ls"
   ]
  },
  {
   "cell_type": "code",
   "execution_count": null,
   "metadata": {},
   "outputs": [],
   "source": [
    "recovered_list = msgpack.load(open( 'bbb.dat', \"rb\" ), ext_hook=dnc)"
   ]
  },
  {
   "cell_type": "markdown",
   "metadata": {},
   "source": [
    "Now a copy of our data should be in `recovered_list`:"
   ]
  },
  {
   "cell_type": "code",
   "execution_count": null,
   "metadata": {},
   "outputs": [],
   "source": [
    "for c in recovered_list:\n",
    "    plt.plot(c.u, c.Y)\n",
    "plt.xlim(0,2)\n",
    "plt.ylim(-1,1)\n",
    "plt.grid()"
   ]
  },
  {
   "cell_type": "markdown",
   "metadata": {},
   "source": [
    "## Working with API\n",
    "Various application provide some form of interface to interact with it. Python API becomes more and more a standard. How to connect to, how to use and to what it might be beneficial is very much problem dependant. For this I decided to show you connection to the Open Source visualization package ParaView. I use it to visualize CFD data, but it also used in other fields of engineering.\n",
    "\n",
    "So the first step is to get your hands on the API, it will come as a Python module, it might need to be compiled, or be available as a software package. Here, I have the module compiled to a library placed in `/opt/paraview/lib/python3.8/`. Also I know I will need some of the Numpy functionality to process data:"
   ]
  },
  {
   "cell_type": "code",
   "execution_count": 1,
   "metadata": {},
   "outputs": [],
   "source": [
    "import sys\n",
    "sys.path.append('/home/sgepner/Data/Projekty/Software/ParaView-5.10.1-MPI-Linux-Python3.9-x86_64/lib/python3.9/site-packages/')\n",
    "sys.path.append('/home/sgepner/Data/Projekty/Software/ParaView-5.10.1-MPI-Linux-Python3.9-x86_64/lib/python3.9/')\n",
    "sys.path.append('/home/sgepner/Data/Projekty/Software/ParaView-5.10.1-MPI-Linux-Python3.9-x86_64/lib/')"
   ]
  },
  {
   "cell_type": "code",
   "execution_count": 2,
   "metadata": {},
   "outputs": [],
   "source": [
    "from paraview.simple import *\n",
    "from paraview.numeric import fromvtkarray"
   ]
  },
  {
   "cell_type": "code",
   "execution_count": 3,
   "metadata": {},
   "outputs": [],
   "source": [
    "import numpy as np\n",
    "\n",
    "# from vtk.util.numpy_support import vtk_to_numpy\n",
    "# from vtk.numpy_interface import dataset_adapter as dsa\n",
    "# from vtk.numpy_interface import algorithms as algs\n",
    "\n",
    "import matplotlib.pyplot as plt"
   ]
  },
  {
   "cell_type": "code",
   "execution_count": 4,
   "metadata": {},
   "outputs": [
    {
     "data": {
      "text/plain": [
       "(5, 10)"
      ]
     },
     "execution_count": 4,
     "metadata": {},
     "output_type": "execute_result"
    }
   ],
   "source": [
    "paraview.simple.GetParaViewVersion()"
   ]
  },
  {
   "cell_type": "markdown",
   "metadata": {},
   "source": [
    "What can be done with the API is very much up to the providing application and the level of documentation. In the case of Open Source project documentation is often lacking. This is the case with ParaView (was some time ago, could be better now). In what follows I will load a flow field snapshot and plot velocity profiles at selected positions:"
   ]
  },
  {
   "cell_type": "markdown",
   "metadata": {},
   "source": [
    "### 1. Read the data"
   ]
  },
  {
   "cell_type": "code",
   "execution_count": null,
   "metadata": {},
   "outputs": [],
   "source": [
    "geom = XMLUnstructuredGridReader(FileName=['geom_4000.vtu'])\n",
    "geom.PointArrayStatus = ['u', 'v', 'w']"
   ]
  },
  {
   "cell_type": "code",
   "execution_count": null,
   "metadata": {},
   "outputs": [],
   "source": [
    "plot_over_line = PlotOverLine(Input=geom)"
   ]
  },
  {
   "cell_type": "code",
   "execution_count": null,
   "metadata": {},
   "outputs": [],
   "source": [
    "plot_over_line.Point1 = [0.0, -1.0, 12.0]\n",
    "plot_over_line.Point2 = [0.0, 1.0, 12.0]"
   ]
  },
  {
   "cell_type": "code",
   "execution_count": null,
   "metadata": {},
   "outputs": [],
   "source": [
    "pl = servermanager.Fetch(plot_over_line)"
   ]
  },
  {
   "cell_type": "code",
   "execution_count": null,
   "metadata": {
    "scrolled": false
   },
   "outputs": [],
   "source": [
    "print(pl.GetPoints().GetData())"
   ]
  },
  {
   "cell_type": "code",
   "execution_count": null,
   "metadata": {},
   "outputs": [],
   "source": [
    "fromvtkarray(pl.GetPoints().GetData())"
   ]
  },
  {
   "cell_type": "code",
   "execution_count": null,
   "metadata": {},
   "outputs": [],
   "source": [
    "pos = fromvtkarray(pl.GetPoints().GetData())"
   ]
  },
  {
   "cell_type": "code",
   "execution_count": null,
   "metadata": {},
   "outputs": [],
   "source": [
    "type(pos)"
   ]
  },
  {
   "cell_type": "code",
   "execution_count": null,
   "metadata": {},
   "outputs": [],
   "source": [
    "print(pl.GetPointData().GetScalars('w'))"
   ]
  },
  {
   "cell_type": "code",
   "execution_count": null,
   "metadata": {},
   "outputs": [],
   "source": [
    "a = fromvtkarray(pl.GetPointData().GetScalars(\"u\"))\n",
    "print(a.shape)\n",
    "a = np.hstack([val for val in a])\n",
    "print(a.shape)\n",
    "print(a)"
   ]
  },
  {
   "cell_type": "code",
   "execution_count": null,
   "metadata": {},
   "outputs": [],
   "source": [
    "valsU = fromvtkarray(pl.GetPointData().GetScalars(\"u\"))\n",
    "valsU = np.hstack([val for val in valsU])"
   ]
  },
  {
   "cell_type": "code",
   "execution_count": null,
   "metadata": {},
   "outputs": [],
   "source": [
    "valsV = fromvtkarray(pl.GetPointData().GetScalars(\"v\"))\n",
    "valsV = np.hstack([val for val in valsV])\n",
    "valsW = fromvtkarray(pl.GetPointData().GetScalars(\"w\"))\n",
    "valsW = np.hstack([val for val in valsW])"
   ]
  },
  {
   "cell_type": "markdown",
   "metadata": {},
   "source": [
    "And here we have velocity components and positions, just what we need to make a nice plot. One of the things that one may, or not learn from documentation is that `pos` contains a transposed coordinates:"
   ]
  },
  {
   "cell_type": "code",
   "execution_count": null,
   "metadata": {},
   "outputs": [],
   "source": [
    "plt.plot(pos.T[1], valsU)\n",
    "plt.plot(pos.T[1], valsV)\n",
    "plt.grid()"
   ]
  },
  {
   "cell_type": "code",
   "execution_count": null,
   "metadata": {},
   "outputs": [],
   "source": [
    "plt.plot(pos.T[1], valsW)\n",
    "plt.grid()"
   ]
  },
  {
   "cell_type": "markdown",
   "metadata": {},
   "source": [
    "We can modify the direction data is taken from:"
   ]
  },
  {
   "cell_type": "code",
   "execution_count": null,
   "metadata": {},
   "outputs": [],
   "source": [
    "plot_over_line.Point1 = [0.0, 0.0, 0.0]\n",
    "plot_over_line.Point2 = [0.0, 0.0, 25.13]"
   ]
  },
  {
   "cell_type": "code",
   "execution_count": null,
   "metadata": {},
   "outputs": [],
   "source": [
    "pl = servermanager.Fetch(plot_over_line)\n",
    "\n",
    "pos = fromvtkarray(pl.GetPoints().GetData())\n",
    "valsU = fromvtkarray(pl.GetPointData().GetScalars(\"u\"))\n",
    "valsU = np.hstack([val for val in valsU])\n",
    "valsV = fromvtkarray(pl.GetPointData().GetScalars(\"v\"))\n",
    "valsV = np.hstack([val for val in valsV])\n",
    "valsW = fromvtkarray(pl.GetPointData().GetScalars(\"w\"))\n",
    "valsW = np.hstack([val for val in valsW])"
   ]
  },
  {
   "cell_type": "markdown",
   "metadata": {},
   "source": [
    "Now plotting along $z$ coordinate:"
   ]
  },
  {
   "cell_type": "code",
   "execution_count": null,
   "metadata": {},
   "outputs": [],
   "source": [
    "plt.plot(pos.T[2], valsW)\n",
    "plt.grid()"
   ]
  },
  {
   "cell_type": "markdown",
   "metadata": {},
   "source": [
    "### 2. Perform more complex operations\n",
    "Now we will try to recover a number of velocity profiles and store them, for later use using serialization."
   ]
  },
  {
   "cell_type": "markdown",
   "metadata": {},
   "source": [
    "1. Define what data you want to store, and design an appropriate storage class"
   ]
  },
  {
   "cell_type": "code",
   "execution_count": null,
   "metadata": {},
   "outputs": [],
   "source": [
    "class Case:\n",
    "    def __init__(self, fname):\n",
    "        self.file_name = fname # File name from which we will read\n",
    "        \n",
    "        self.profile_pos = 0 # position along z-direction\n",
    "\n",
    "        self.Y = np.array # Y coordinate\n",
    "        self.u = np.array # Components of velocity acros Y\n",
    "        self.v = np.array\n",
    "        self.w = np.array"
   ]
  },
  {
   "cell_type": "code",
   "execution_count": 5,
   "metadata": {},
   "outputs": [],
   "source": [
    "geom = XMLUnstructuredGridReader(FileName=['geom_4000.vtu'])\n",
    "geom.PointArrayStatus = ['u', 'v', 'w']\n",
    "\n",
    "plot_over_line = PlotOverLine(Input=geom)"
   ]
  },
  {
   "cell_type": "code",
   "execution_count": null,
   "metadata": {},
   "outputs": [],
   "source": [
    "clist = []\n",
    "for z in np.arange(0.1, 25, 1):\n",
    "    c = Case('geom.plt')\n",
    "    plot_over_line.Point1 = [0.0, -1.0, z]\n",
    "    plot_over_line.Point2 = [0.0, 1.0, z]\n",
    "    c.profile_pos = z\n",
    "\n",
    "    pl = servermanager.Fetch(plot_over_line)\n",
    "\n",
    "    pos = fromvtkarray(pl.GetPoints().GetData())\n",
    "    \n",
    "    valsU = fromvtkarray(pl.GetPointData().GetScalars(\"u\"))\n",
    "    valsU = np.hstack([val for val in valsU])\n",
    "    valsV = fromvtkarray(pl.GetPointData().GetScalars(\"v\"))\n",
    "    valsV = np.hstack([val for val in valsV])\n",
    "    valsW = fromvtkarray(pl.GetPointData().GetScalars(\"w\"))\n",
    "    valsW = np.hstack([val for val in valsW])\n",
    "    \n",
    "    c.Y = np.array([p[1] for p in pos])\n",
    "    c.u = valsU\n",
    "    c.v = valsV\n",
    "    c.w = valsW\n",
    "    clist.append(c)"
   ]
  },
  {
   "cell_type": "code",
   "execution_count": null,
   "metadata": {},
   "outputs": [],
   "source": [
    "z = pos[0][2]\n",
    "y = np.array([p[1] for p in pos])\n",
    "print(z, y)"
   ]
  },
  {
   "cell_type": "code",
   "execution_count": null,
   "metadata": {},
   "outputs": [],
   "source": [
    "print(len(clist))"
   ]
  },
  {
   "cell_type": "code",
   "execution_count": null,
   "metadata": {},
   "outputs": [],
   "source": [
    "fig = plt.figure(figsize=(10,5))\n",
    "for i,c in enumerate(clist):\n",
    "    plt.plot(c.w+[0.1*i], c.Y)\n",
    "plt.ylim(-1,1)\n",
    "plt.grid()"
   ]
  },
  {
   "cell_type": "markdown",
   "metadata": {},
   "source": [
    "Add the encoding / decoding functions and store / lad the data"
   ]
  },
  {
   "cell_type": "markdown",
   "metadata": {},
   "source": [
    "## Externally process data\n",
    "Using ParaView API we will attept to generate some nice looking, publication ready figures."
   ]
  },
  {
   "cell_type": "code",
   "execution_count": 6,
   "metadata": {},
   "outputs": [],
   "source": [
    "# create a new 'Slice'\n",
    "slice1 = Slice(registrationName='Slice1', Input=geom)\n",
    "slice1.SliceType = 'Plane'\n",
    "slice1.HyperTreeGridSlicer = 'Plane'\n",
    "slice1.SliceOffsetValues = [0.0]\n",
    "\n",
    "# init the 'Plane' selected for 'SliceType'\n",
    "slice1.SliceType.Origin = [0.0, 0.0, 12.566370964050293]\n",
    "\n",
    "# init the 'Plane' selected for 'HyperTreeGridSlicer'\n",
    "slice1.HyperTreeGridSlicer.Origin = [0.0, 0.0, 12.566370964050293]\n",
    "\n",
    "# Properties modified on slice1.SliceType\n",
    "slice1.SliceType.Normal = [0.0, 0.0, 1.0]"
   ]
  },
  {
   "cell_type": "code",
   "execution_count": 7,
   "metadata": {},
   "outputs": [
    {
     "name": "stdout",
     "output_type": "stream",
     "text": [
      "[Array: u, Array: v, Array: w]\n"
     ]
    }
   ],
   "source": [
    "a = slice1.PointData.values()\n",
    "print(a)"
   ]
  },
  {
   "cell_type": "code",
   "execution_count": 8,
   "metadata": {},
   "outputs": [],
   "source": [
    "slice_lok = paraview.servermanager.Fetch(slice1)"
   ]
  },
  {
   "cell_type": "code",
   "execution_count": 9,
   "metadata": {},
   "outputs": [
    {
     "name": "stdout",
     "output_type": "stream",
     "text": [
      "4232\n",
      "2304\n"
     ]
    }
   ],
   "source": [
    "print(slice_lok.GetNumberOfCells())\n",
    "print(slice_lok.GetNumberOfPoints())"
   ]
  },
  {
   "cell_type": "code",
   "execution_count": 10,
   "metadata": {},
   "outputs": [],
   "source": [
    "point_coords = fromvtkarray(slice_lok.GetPoints().GetData())\n",
    "slice_data = slice_lok.GetPointData()"
   ]
  },
  {
   "cell_type": "code",
   "execution_count": 11,
   "metadata": {},
   "outputs": [
    {
     "name": "stdout",
     "output_type": "stream",
     "text": [
      "(2304, 1)\n",
      "(2304,)\n"
     ]
    }
   ],
   "source": [
    "w = fromvtkarray(slice_data.GetScalars('w'))\n",
    "print(w.shape)\n",
    "w = w[:,0]\n",
    "print(w.shape)"
   ]
  },
  {
   "cell_type": "code",
   "execution_count": 12,
   "metadata": {},
   "outputs": [
    {
     "name": "stdout",
     "output_type": "stream",
     "text": [
      "2304\n",
      "2304\n"
     ]
    }
   ],
   "source": [
    "npts = len(point_coords)\n",
    "print(len(point_coords))\n",
    "print(len(w))"
   ]
  },
  {
   "cell_type": "code",
   "execution_count": 13,
   "metadata": {},
   "outputs": [],
   "source": [
    "x = np.zeros(npts)\n",
    "y = np.zeros(npts)\n",
    "\n",
    "for i in xrange(npts):\n",
    "    pt = point_coords[i]\n",
    "    x[i] = pt[0]\n",
    "    y[i] = pt[1]"
   ]
  },
  {
   "cell_type": "markdown",
   "metadata": {},
   "source": [
    "Data Loaded to three arrays for point position (x,y) and the value of interest. Note the problem with API consistency. See an example at the end."
   ]
  },
  {
   "cell_type": "code",
   "execution_count": null,
   "metadata": {},
   "outputs": [],
   "source": [
    "print(x.shape, y.shape, w.shape)"
   ]
  },
  {
   "cell_type": "markdown",
   "metadata": {},
   "source": [
    "Now, we will try to plot the velocity profile at the section:\n",
    "\n",
    "## 1 \n",
    "`plot_trisurf()` - plot triangulated surface"
   ]
  },
  {
   "cell_type": "code",
   "execution_count": null,
   "metadata": {
    "scrolled": false
   },
   "outputs": [],
   "source": [
    "%matplotlib notebook\n",
    "fig = plt.figure()\n",
    "\n",
    "ax = fig.add_subplot(111, projection='3d')\n",
    "# ax.plot_trisurf(x, y, w)\n",
    "# ax.plot_trisurf(x, y, w, color='green', edgecolors='red', alpha=0.8)\n",
    "ax.plot_trisurf(x, y, w, cmap=plt.cm.CMRmap)\n",
    "# ax.plot_trisurf(x, y, w, cmap=plt.cm.hot)\n",
    "# ax.scatter(x, y, w, c='red')"
   ]
  },
  {
   "cell_type": "markdown",
   "metadata": {},
   "source": [
    "We will now prepare some 2D contour plots using retrieved data.\n",
    "* Using `gridinterpolate` - Interpolate unstructured data.\n",
    "* Using `tri.Triangulation` - Creates an unstructured triangular grid. Grid can be passed, or generated with Delaunay triangulation.\n",
    "\n",
    "The idea is to cast the `x,y,w` arrays into a format that contour plots can handle. The easiest is to interpolate it into a proper `meshgrid`."
   ]
  },
  {
   "cell_type": "code",
   "execution_count": null,
   "metadata": {},
   "outputs": [],
   "source": [
    "#Mesh to which we will interpolate\n",
    "ngridx = 6\n",
    "ngridy = 6\n",
    "xi = np.linspace(-1.0, 1.0, ngridx)\n",
    "yi = np.linspace(-1.0, 1.0, ngridy)"
   ]
  },
  {
   "cell_type": "markdown",
   "metadata": {},
   "source": [
    "Note on Reshaping. We can change shape of a numpy array with reshape."
   ]
  },
  {
   "cell_type": "code",
   "execution_count": null,
   "metadata": {},
   "outputs": [],
   "source": [
    "xi"
   ]
  },
  {
   "cell_type": "code",
   "execution_count": null,
   "metadata": {},
   "outputs": [],
   "source": [
    "np.reshape(xi, (2,3))"
   ]
  },
  {
   "cell_type": "code",
   "execution_count": null,
   "metadata": {},
   "outputs": [],
   "source": [
    "xi[None, :], yi[:, None]"
   ]
  },
  {
   "cell_type": "code",
   "execution_count": null,
   "metadata": {},
   "outputs": [],
   "source": [
    "import scipy.interpolate\n",
    "# Using gridinterpolate\n",
    "ngridx = 1000\n",
    "ngridy = 1000\n",
    "xi = np.linspace(-1.0, 1.0, ngridx)\n",
    "yi = np.linspace(-1.0, 1.0, ngridy)"
   ]
  },
  {
   "cell_type": "code",
   "execution_count": null,
   "metadata": {},
   "outputs": [],
   "source": [
    "grint = scipy.interpolate.griddata((x, y), w,\n",
    "                                   (xi[None, :], yi[:, None]),\n",
    "                                   method='cubic')"
   ]
  },
  {
   "cell_type": "code",
   "execution_count": null,
   "metadata": {},
   "outputs": [],
   "source": [
    "fig = plt.figure(figsize=(5,5))\n",
    "\n",
    "plt.contour(xi, yi, grint, levels=14, linewidths=0.5, colors='k')\n",
    "plt.contourf(xi, yi, grint, levels=14, cmap=\"RdBu_r\")"
   ]
  },
  {
   "cell_type": "markdown",
   "metadata": {},
   "source": [
    "But also with the `meshgrid`, since `griddata` formed a function of f(x,y)"
   ]
  },
  {
   "cell_type": "code",
   "execution_count": null,
   "metadata": {},
   "outputs": [],
   "source": [
    "fig = plt.figure(figsize=(5,5))\n",
    "xv, yv = np.meshgrid(xi, yi)\n",
    "plt.contourf(xv, yv, grint, levels=14, cmap=plt.cm.coolwarm)\n",
    "plt.contour(xv, yv, grint, levels=14, linewidths=0.5, colors='k')"
   ]
  },
  {
   "cell_type": "markdown",
   "metadata": {},
   "source": [
    "Using `tri.Triangulation` and `TriInterpolator`."
   ]
  },
  {
   "cell_type": "code",
   "execution_count": null,
   "metadata": {},
   "outputs": [],
   "source": [
    "import matplotlib.tri as tri\n",
    "# Linearly interpolate the data (x, y) on a grid defined by (xi, yi).\n",
    "triang = tri.Triangulation(x, y)\n",
    "# interpolator = tri.LinearTriInterpolator(triang, w)\n",
    "interpolator = tri.CubicTriInterpolator(triang, w)\n",
    "zv = interpolator(xv, yv)"
   ]
  },
  {
   "cell_type": "code",
   "execution_count": null,
   "metadata": {},
   "outputs": [],
   "source": [
    "fig = plt.figure(figsize=(6,5))\n",
    "ax = fig.gca()\n",
    "\n",
    "plt.contour(xv, yv, zv, levels=14, linewidths=0.5, colors='k')\n",
    "cntr = ax.contourf(xv, yv, zv, levels=14, cmap=\"RdBu_r\")\n",
    "\n",
    "fig.colorbar(cntr, ax=ax)\n",
    "# ax.plot(x, y, 'ko', ms=1)\n",
    "ax.set(xlim=(-1, 1), ylim=(-1, 1))"
   ]
  },
  {
   "cell_type": "markdown",
   "metadata": {},
   "source": [
    "Finally, just pass the unordered coordinates to `tricontour`.\n",
    "\n",
    "Additionally we will use a `Locator` from `matplotlib.ticker` to get 'nice' positions for the contour map:"
   ]
  },
  {
   "cell_type": "code",
   "execution_count": 14,
   "metadata": {},
   "outputs": [],
   "source": [
    "import matplotlib.ticker\n",
    "loc = matplotlib.ticker.MaxNLocator(9) # one of many possible choices\n",
    "lvls = loc.tick_values(w.min(), w.max()) # levels"
   ]
  },
  {
   "cell_type": "code",
   "execution_count": 20,
   "metadata": {},
   "outputs": [
    {
     "name": "stdout",
     "output_type": "stream",
     "text": [
      "[0.   0.06 0.12 0.18 0.24 0.3  0.36 0.42 0.48]\n"
     ]
    }
   ],
   "source": [
    "print(lvls)"
   ]
  },
  {
   "cell_type": "code",
   "execution_count": 21,
   "metadata": {},
   "outputs": [
    {
     "data": {
      "text/plain": [
       "[(-1.0, 1.0), (-1.0, 1.0)]"
      ]
     },
     "execution_count": 21,
     "metadata": {},
     "output_type": "execute_result"
    },
    {
     "data": {
      "image/png": "[encoded data removed]",
      "text/plain": [
       "<Figure size 600x500 with 2 Axes>"
      ]
     },
     "metadata": {},
     "output_type": "display_data"
    }
   ],
   "source": [
    "fig = plt.figure(figsize=(6,5))\n",
    "ax = plt.gca()\n",
    "\n",
    "cp = ax.tricontour(x, y, w, levels=lvls, linewidths=2, colors='k',\n",
    "                   linestyles=np.where(lvls >= 0.3, \"--\", \"-\")) # Change line style according to level value\n",
    "cntr2 = ax.tricontourf(x, y, w, levels=14, cmap=\"RdBu_r\")\n",
    "\n",
    "ax.clabel(cp, inline=True, fontsize=10) # add labels\n",
    "fig.colorbar(cntr2, ax=ax)\n",
    "ax.set(xlim=(-1, 1), ylim=(-1, 1))"
   ]
  },
  {
   "cell_type": "markdown",
   "metadata": {},
   "source": [
    "# Things not always work ...\n",
    "Unfortunately the particular ParaView API is not the most consistent one. "
   ]
  },
  {
   "cell_type": "code",
   "execution_count": null,
   "metadata": {},
   "outputs": [],
   "source": [
    "geom = VisItTecplotBinaryReader(FileName=['geom.plt'])\n",
    "geom.PointArrayStatus = ['u', 'v', 'w']"
   ]
  },
  {
   "cell_type": "code",
   "execution_count": null,
   "metadata": {},
   "outputs": [],
   "source": [
    "# create a new 'Slice'\n",
    "slice1 = Slice(registrationName='Slice1', Input=geom)\n",
    "slice1.SliceType = 'Plane'\n",
    "slice1.HyperTreeGridSlicer = 'Plane'\n",
    "slice1.SliceOffsetValues = [0.0]\n",
    "\n",
    "# init the 'Plane' selected for 'SliceType'\n",
    "slice1.SliceType.Origin = [0.0, 0.0, 12.566370964050293]\n",
    "\n",
    "# init the 'Plane' selected for 'HyperTreeGridSlicer'\n",
    "slice1.HyperTreeGridSlicer.Origin = [0.0, 0.0, 12.566370964050293]\n",
    "\n",
    "# Properties modified on slice1.SliceType\n",
    "slice1.SliceType.Normal = [0.0, 0.0, 1.0]"
   ]
  },
  {
   "cell_type": "code",
   "execution_count": null,
   "metadata": {},
   "outputs": [],
   "source": [
    "slice_lok = paraview.servermanager.Fetch(slice1)"
   ]
  },
  {
   "cell_type": "code",
   "execution_count": null,
   "metadata": {},
   "outputs": [],
   "source": [
    "point_coords = fromvtkarray(slice_lok.GetPoints().GetData())\n",
    "slice_data = slice_lok.GetPointData()\n",
    "w = fromvtkarray(slice_data.GetScalars('w'))\n",
    "w = w[:,0]\n",
    "npts = len(point_coords)\n",
    "print(len(point_coords))\n",
    "print(len(w))"
   ]
  },
  {
   "cell_type": "code",
   "execution_count": null,
   "metadata": {},
   "outputs": [],
   "source": [
    "point_coords = fromvtkarray(slice_lok.GetBlock(0).GetBlock(0).GetPoints().GetData())\n",
    "slice_data = slice_lok.GetBlock(0).GetBlock(0).GetPointData()\n",
    "w = fromvtkarray(slice_data.GetScalars('w'))\n",
    "w = w[:,0]\n",
    "npts = len(point_coords)\n",
    "print(len(point_coords))\n",
    "print(len(w))"
   ]
  },
  {
   "cell_type": "code",
   "execution_count": null,
   "metadata": {},
   "outputs": [],
   "source": []
  }
 ],
 "metadata": {
  "kernelspec": {
   "display_name": "Python 3 (ipykernel)",
   "language": "python",
   "name": "python3"
  },
  "language_info": {
   "codemirror_mode": {
    "name": "ipython",
    "version": 3
   },
   "file_extension": ".py",
   "mimetype": "text/x-python",
   "name": "python",
   "nbconvert_exporter": "python",
   "pygments_lexer": "ipython3",
   "version": "3.10.12"
  }
 },
 "nbformat": 4,
 "nbformat_minor": 4
}
