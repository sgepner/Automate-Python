{
 "cells": [
  {
   "cell_type": "markdown",
   "metadata": {},
   "source": [
    "# Lecture 3\n",
    "Monitoring solution process is important. While looking at numbers stored in a text file is fun, it is much easier to comprehend data using graphs and plots.\n",
    "\n",
    "We will:\n",
    "* Look at a (possibly) better way than lists to handle sequences of numerical data - NumPy and arrays\n",
    "* Look at reading numerical data from files (stored as columns of numbers, but other formats can also be read)\n",
    "* Use the MatPlotLib library to produce some simple line, bar and color plots.\n",
    "\n",
    "* Have a look at SciPy to illustrate capabilities, find some function extrema and roots, perform some interpolation (and extrapolation)."
   ]
  },
  {
   "cell_type": "markdown",
   "metadata": {},
   "source": [
    "## NumPy and arrays\n",
    "We will now work with NumPy and SciPy and introduce selected features that might be useful to us. By no means we wil cover all features, and when in need please consult appropriate (and very rich) online documentation.\n",
    "\n",
    "### NumPy\n",
    "NumPy is a numerical method library that implements a number of functionalities. The most important to us is going to be the *array*. While using *list* is fine there is a cost associated with the fact that list can hold anything (actually mixing types).\n",
    "This has a consequence that any operation needs first to verify the type, making lists not so efficient, especially for larger problems.\n",
    "On the other hand NumPy arrays store data of only the declared type and have a constant size. Also much of NumPy functions are calls to compiled binary code (we will be writing such code!).  \n",
    "\n",
    "Let's start by importing arrays from NumPy:"
   ]
  },
  {
   "cell_type": "code",
   "execution_count": null,
   "metadata": {},
   "outputs": [],
   "source": [
    "import numpy as np"
   ]
  },
  {
   "cell_type": "markdown",
   "metadata": {},
   "source": [
    "We will refer to elements of NumPy using *np* (less writing). Our first array will be a 1D vector of integers:"
   ]
  },
  {
   "cell_type": "code",
   "execution_count": null,
   "metadata": {},
   "outputs": [],
   "source": [
    "a = np.array([1,2,3,4])\n",
    "print(a)"
   ]
  },
  {
   "cell_type": "markdown",
   "metadata": {},
   "source": [
    "**Coding time!**: Experiment with arrays. Make and print some. Try passing lists in lists."
   ]
  },
  {
   "cell_type": "markdown",
   "metadata": {},
   "source": [
    "### Creating arrays\n",
    "There is a number of ways arrays can be created with numpy.array() function. The easiest is to use an existing list, or use the advanced list initialization with \\[\\]-brackets. There is also a number of special *numpy* functions to create arrays. Let's see.\n",
    "\n",
    "* Array from list:"
   ]
  },
  {
   "cell_type": "code",
   "execution_count": null,
   "metadata": {},
   "outputs": [],
   "source": [
    "l = list(range(0,10))\n",
    "print(l)\n",
    "a = np.array(l)\n",
    "print(a)"
   ]
  },
  {
   "cell_type": "code",
   "execution_count": null,
   "metadata": {},
   "outputs": [],
   "source": [
    "a = np.array([x for x in l if x%2])\n",
    "print(a)\n",
    "a = np.array([ 2*x+3 for x in l ])\n",
    "print(a)"
   ]
  },
  {
   "cell_type": "markdown",
   "metadata": {},
   "source": [
    "**Coding time!**: Create some arrays using the advanced syntax as above. E.g. use `range` to create an array of data from -10 to 10 and another one that is the square of the first one.\n",
    "\n",
    "fun, right?\n",
    "* From other array, by simple arithmetic operation:"
   ]
  },
  {
   "cell_type": "code",
   "execution_count": null,
   "metadata": {},
   "outputs": [],
   "source": [
    "b = a**2 #!\n",
    "print(b)\n",
    "b = a+a\n",
    "print(b)\n",
    "b = 2*a + 8\n",
    "print(b)"
   ]
  },
  {
   "cell_type": "markdown",
   "metadata": {},
   "source": [
    "**Coding time!**: Modify the previous example using the `**` operator directly on an array. "
   ]
  },
  {
   "cell_type": "markdown",
   "metadata": {},
   "source": [
    "* Using *numpy.array* functions (see docs)\n",
    "    * empty - an uninitialized array,\n",
    "    * ones - an array with values set to one,\n",
    "    * zeros - an array with values set to zeros,\n",
    "    * full - an array filled with value.\n",
    "    * \\*_like - array with the shape and type of input"
   ]
  },
  {
   "cell_type": "code",
   "execution_count": null,
   "metadata": {},
   "outputs": [],
   "source": [
    "a = np.ones(5)\n",
    "print(a)\n",
    "a = np.zeros(5)\n",
    "print(a)\n",
    "a = np.full(5, 10)\n",
    "print(a)\n",
    "a = np.zeros_like(a)\n",
    "print(a)"
   ]
  },
  {
   "cell_type": "markdown",
   "metadata": {},
   "source": [
    "For now, we did not specify the type stored by the array. Rather the type was determined for us based on our input. Look closely at the elements of arrays above. What is their type?  \n",
    "**dtype** member of array stores this information."
   ]
  },
  {
   "cell_type": "code",
   "execution_count": null,
   "metadata": {},
   "outputs": [],
   "source": [
    "a = np.ones(5)\n",
    "print(a.dtype)\n",
    "a = np.full(5, 10)\n",
    "print(a.dtype) # why the difference?"
   ]
  },
  {
   "cell_type": "markdown",
   "metadata": {},
   "source": [
    "We can specify the desired type at creation:"
   ]
  },
  {
   "cell_type": "code",
   "execution_count": null,
   "metadata": {},
   "outputs": [],
   "source": [
    "a = np.array(range(0,10))\n",
    "print(a.dtype)\n",
    "a = np.array(range(0,10), dtype=float)\n",
    "print(a.dtype)"
   ]
  },
  {
   "cell_type": "markdown",
   "metadata": {},
   "source": [
    "* Numpy `arrange` and `linspace`  \n",
    "`arrange`:  regularly incrementing values  \n",
    "`linspace`: array with a specified number of elements"
   ]
  },
  {
   "cell_type": "code",
   "execution_count": null,
   "metadata": {},
   "outputs": [],
   "source": [
    "np.arange(5)"
   ]
  },
  {
   "cell_type": "code",
   "execution_count": null,
   "metadata": {},
   "outputs": [],
   "source": [
    "np.arange(-1, 1, 0.5)"
   ]
  },
  {
   "cell_type": "code",
   "execution_count": null,
   "metadata": {},
   "outputs": [],
   "source": [
    "np.linspace(-1., 1., 11)"
   ]
  },
  {
   "cell_type": "markdown",
   "metadata": {},
   "source": [
    "* random values  \n",
    "NumPy provides a a random number generator to create random values from 0 to 1. It is a part of `random` module via e.g. `default_rng(seed)` generator. Like this:"
   ]
  },
  {
   "cell_type": "code",
   "execution_count": null,
   "metadata": {},
   "outputs": [],
   "source": [
    "np.random.default_rng(10).random(5)"
   ]
  },
  {
   "cell_type": "markdown",
   "metadata": {},
   "source": [
    "### Multidimensional arrays\n",
    "NumPy allows for creation of multidimensional arrays. Personally I try not to use those to often, assuming that if you have a problem complex enough to need a matrix you would be probably better of using C or C++ for it. But that is an opinion and a biased one at that!  \n",
    "NumPy arrays have `shape`s, that defines how values can be accessed.  \n",
    "Lets see:"
   ]
  },
  {
   "cell_type": "code",
   "execution_count": null,
   "metadata": {},
   "outputs": [],
   "source": [
    "a = np.ones(5)\n",
    "print(a)\n",
    "print(a.shape)\n",
    "print(type(a.shape))"
   ]
  },
  {
   "cell_type": "markdown",
   "metadata": {},
   "source": [
    "So `shape` is an attribute of an object, and a tuple at that - we recall it is **immutable**, meaning we can read but we can not modify the entries. Upon creation we can set the shape, by passing a tuple."
   ]
  },
  {
   "cell_type": "code",
   "execution_count": null,
   "metadata": {},
   "outputs": [],
   "source": [
    "a = np.ones((2,2))\n",
    "print(a)"
   ]
  },
  {
   "cell_type": "markdown",
   "metadata": {},
   "source": [
    "and access elements like this:"
   ]
  },
  {
   "cell_type": "code",
   "execution_count": null,
   "metadata": {},
   "outputs": [],
   "source": [
    "a[0,0] = 0\n",
    "a[0,1] = 1\n",
    "a[1,0] = 10\n",
    "a[1,1] = 11\n",
    "print(a[0])\n",
    "print(a[1:2])\n",
    "print(a[1:2][0])"
   ]
  },
  {
   "cell_type": "markdown",
   "metadata": {},
   "source": [
    "Another (possibly useful) atribute is size:"
   ]
  },
  {
   "cell_type": "code",
   "execution_count": null,
   "metadata": {},
   "outputs": [],
   "source": [
    "a[0].size"
   ]
  },
  {
   "cell_type": "markdown",
   "metadata": {},
   "source": [
    "#### Special arrays:\n",
    "`eye` - identity matrix"
   ]
  },
  {
   "cell_type": "code",
   "execution_count": null,
   "metadata": {},
   "outputs": [],
   "source": [
    "np.eye(5)"
   ]
  },
  {
   "cell_type": "markdown",
   "metadata": {},
   "source": [
    "`diag` - exactly what you think:"
   ]
  },
  {
   "cell_type": "code",
   "execution_count": null,
   "metadata": {},
   "outputs": [],
   "source": [
    "np.diag(np.linspace(-1,1,5))"
   ]
  },
  {
   "cell_type": "markdown",
   "metadata": {},
   "source": [
    "There is much more than is possible with arrays creation and modification. For now let us just try to use arrays for some simple operations:  \n",
    "* `trnaspose()`\n",
    "* `dot()`"
   ]
  },
  {
   "cell_type": "code",
   "execution_count": null,
   "metadata": {},
   "outputs": [],
   "source": [
    "x = np.linspace(-1,1,3)\n",
    "x = np.transpose(x)\n",
    "A = np.array([[1,1,0],[0,2,0],[0,0,2]])\n",
    "print(A)\n",
    "print(A.dot(x))"
   ]
  },
  {
   "cell_type": "markdown",
   "metadata": {},
   "source": [
    "And some fun with arrays, that might come in handy (or not), that is solving an eigen problem:"
   ]
  },
  {
   "cell_type": "code",
   "execution_count": null,
   "metadata": {},
   "outputs": [],
   "source": [
    "from numpy import linalg as LA\n",
    "sig, v = LA.eig(A)\n",
    "print(sig)\n",
    "print(v)"
   ]
  },
  {
   "cell_type": "markdown",
   "metadata": {},
   "source": [
    "## Processing files - IO operations on files\n",
    "We will now perform simple read and write operations on files. Our ultimate goal is to process files which contain settings for software packages we use. For example in an optimization loop, we might need to manipulate files defining parameters for the simulator and computed by the optimizer. Similarly we will need the value of the objective function to be read and passed to the optimizer.\n",
    "\n",
    "We will start just with opening, writing and reading. Simple stuff:"
   ]
  },
  {
   "cell_type": "code",
   "execution_count": null,
   "metadata": {},
   "outputs": [],
   "source": [
    "f = open('burza', 'r') # similarly to printf there is a flag that specifies what to do: 'w', 'r', 'a'\n",
    "a = f.readline()\n",
    "print(a, end='')\n",
    "a = f.readline()\n",
    "print(a, end='')\n",
    "f.close()"
   ]
  },
  {
   "cell_type": "code",
   "execution_count": null,
   "metadata": {},
   "outputs": [],
   "source": [
    "f = open('burza', 'r')\n",
    "alllines = f.readlines()\n",
    "for line in alllines:\n",
    "    print(line)\n",
    "f.close()"
   ]
  },
  {
   "cell_type": "code",
   "execution_count": null,
   "metadata": {},
   "outputs": [],
   "source": [
    "f = open('burza', \"r\")\n",
    "g = open('burza2', \"w\")\n",
    "\n",
    "for line in f:\n",
    "    g.write(line)\n",
    "f.close()\n",
    "g.close()"
   ]
  },
  {
   "cell_type": "markdown",
   "metadata": {},
   "source": [
    "Using the above we could already manipulated setting files, or any files with some algorithm we choose. For the read and replace it is interesting to use line by line processing with `fileinput`"
   ]
  },
  {
   "cell_type": "code",
   "execution_count": null,
   "metadata": {},
   "outputs": [],
   "source": [
    "import fileinput"
   ]
  },
  {
   "cell_type": "code",
   "execution_count": null,
   "metadata": {},
   "outputs": [],
   "source": [
    "for line in fileinput.input('burza'):\n",
    "    if 'ARIEL' in line:\n",
    "        print(line)\n",
    "    if line.startswith('KALIBAN'):\n",
    "        print(line)"
   ]
  },
  {
   "cell_type": "code",
   "execution_count": null,
   "metadata": {},
   "outputs": [],
   "source": [
    "print(line)\n",
    "a = line.split()\n",
    "print(a)\n",
    "b = ' '.join(a)\n",
    "print(b)"
   ]
  },
  {
   "cell_type": "markdown",
   "metadata": {},
   "source": [
    "```\n",
    "    for line in fileinput.input(mshfile, inplace=1):\n",
    "        if line.startswith(\"S=\"):\n",
    "            print (\"S=\"+str(S)+\";\")\n",
    "        elif line.startswith(\"a=\"):\n",
    "            print \"a=\"+str(alfa)+\";\"\n",
    "        else:\n",
    "            print line\n",
    "```"
   ]
  },
  {
   "cell_type": "markdown",
   "metadata": {},
   "source": [
    "**Coding Time!**: Use `fileinput` with `inplace` to modify the file. For example change names of selected characters. `Ariel->Perwol` `Kaliban->Taliban` etc."
   ]
  },
  {
   "cell_type": "markdown",
   "metadata": {},
   "source": [
    "## Matplotlib\n",
    "is a very popular plotting library for python. It can be used to produce almost publication quality figures. Personally I use it for most of my plotting needs, but for publications I prefer Latex Tix library.\n",
    "\n",
    "Let us start with our first plot of some `f(x)` function. We will be using `nympy.array` to handle our data. To use `matplotlib` we need to import it:\n",
    "\n",
    "### First plot"
   ]
  },
  {
   "cell_type": "code",
   "execution_count": null,
   "metadata": {},
   "outputs": [],
   "source": [
    "import matplotlib.pyplot as plt"
   ]
  },
  {
   "cell_type": "markdown",
   "metadata": {},
   "source": [
    "To have a plot for $x \\in [-1, 1]$ we will use `numpy.linspace()` we skipped last time:"
   ]
  },
  {
   "cell_type": "code",
   "execution_count": null,
   "metadata": {
    "scrolled": true
   },
   "outputs": [],
   "source": [
    "import numpy as np\n",
    "\n",
    "x = np.linspace(-1, 1, 101)\n",
    "# Generate 101 points between -1 and 1 including boundaries\n",
    "y = x**2"
   ]
  },
  {
   "cell_type": "markdown",
   "metadata": {},
   "source": [
    "And plotting `y(x)` is just:"
   ]
  },
  {
   "cell_type": "code",
   "execution_count": null,
   "metadata": {},
   "outputs": [],
   "source": [
    "plt.plot(x, y)"
   ]
  },
  {
   "cell_type": "markdown",
   "metadata": {},
   "source": [
    "We can do many things with the plot. Add grid, set axis limits, add text, labels, change sizes, colors, etc.\n",
    "\n",
    "For now let just increase the size of the plot, add a legend entry  a grid, change the font size and thickness of the line.\n",
    "\n",
    "We can also do a scatter plot:"
   ]
  },
  {
   "cell_type": "code",
   "execution_count": null,
   "metadata": {},
   "outputs": [],
   "source": [
    "f = plt.figure(figsize=(20,12)) # figure size\n",
    "font = {'family' : 'Comic Sans MS', 'weight' : 'normal', 'size'   : 24} #larger font I like\n",
    "plt.rc('font', **font)\n",
    "\n",
    "plt.plot(x, y, label='$f(x)$', lw=10)\n",
    "plt.scatter(0,0, s=500, c='black')\n",
    "\n",
    "plt.grid()\n",
    "plt.legend()\n",
    "plt.xlim(x[0], x[-1])\n",
    "plt.ylim(min(y)-0.05, max(y)+0.05)"
   ]
  },
  {
   "cell_type": "markdown",
   "metadata": {},
   "source": [
    "So we can make a plot:\n",
    "* Add log scaling\n",
    "* Show plotting with subplots\n",
    "* TBA"
   ]
  },
  {
   "cell_type": "code",
   "execution_count": null,
   "metadata": {},
   "outputs": [],
   "source": [
    "fig, axs = plt.subplots(2,2)\n",
    "axs[0,0].plot(x, y)\n",
    "axs[0,0].grid()\n",
    "axs[0,1].plot(x, -y)\n",
    "axs[1,0].plot(x, y)\n",
    "axs[1,1].plot(x, -y)"
   ]
  },
  {
   "cell_type": "markdown",
   "metadata": {},
   "source": [
    "## Reading from files (with data)\n",
    "We consider a computational process monitoring of which is performed with a text data stored to a file during the calculation. Here I have a file `mean.avg` that contains average values of some vector field in time:"
   ]
  },
  {
   "cell_type": "code",
   "execution_count": null,
   "metadata": {},
   "outputs": [],
   "source": [
    "ls"
   ]
  },
  {
   "cell_type": "markdown",
   "metadata": {},
   "source": [
    "Let's start by examining the content of the file (in notepad).\n",
    "\n",
    "The file contains columns of numbers (possibly comma separated, or not) so the best way to treat is is to precess it directly to NymPy arrays using NumPy functions. Note: Processing of ``noraml`` text files can also be performed, but in case of data files using NumPy functions is more natural."
   ]
  },
  {
   "cell_type": "code",
   "execution_count": null,
   "metadata": {},
   "outputs": [],
   "source": [
    "T, c1, c2, c3 = np.loadtxt('mean.avg', comments=\"#\", skiprows=1, usecols=(0,1,2,3), unpack=True)"
   ]
  },
  {
   "cell_type": "code",
   "execution_count": null,
   "metadata": {},
   "outputs": [],
   "source": [
    "plt.plot(T, c1, T, c2, T, c3)\n",
    "plt.grid()"
   ]
  },
  {
   "cell_type": "markdown",
   "metadata": {},
   "source": [
    "**Coding Time!**:\n",
    "This one is a bigger one. A small visualization project, but graphs only! Use data in `data.tar.gz` to plot history of flow rate of the perturbation in time. The file structure is such: ..."
   ]
  },
  {
   "cell_type": "markdown",
   "metadata": {},
   "source": [
    "## SciPy\n",
    "Is the second probably most commonly (my opinion rather than fact) used library when it comes to processing data. You could say, that when it comes to numerical procedures - SciPy has it all. We will focus on only some of the available algorithms, but should you need more - you know where to look.\n",
    "\n",
    "We will:\n",
    "* Decimate data with slice operations\n",
    "* Use interpolation to build a continuous view of data\n",
    "* Look for extrema\n",
    "* Look for roots\n",
    "* Integrate\n",
    "* Solve an ODE\n",
    "* Curve fitting\n",
    "\n",
    "and all that in a day work."
   ]
  },
  {
   "cell_type": "markdown",
   "metadata": {},
   "source": [
    "We will use a slice of data from mean.avg, using the slice operation with collection\\[start : stop : every n'th\\]. The last entry is used to select only some of the data."
   ]
  },
  {
   "cell_type": "code",
   "execution_count": null,
   "metadata": {},
   "outputs": [],
   "source": [
    "X =  T[10000:13000:250] # We can select every other value from an array!\n",
    "Y = c3[10000:13000:250]\n",
    "print(len(X), len(Y))"
   ]
  },
  {
   "cell_type": "markdown",
   "metadata": {},
   "source": [
    "Lets plot the original data, and the points selected from it and stored in `X` and `Y`:"
   ]
  },
  {
   "cell_type": "code",
   "execution_count": null,
   "metadata": {},
   "outputs": [],
   "source": [
    "plt.plot(T, c3)\n",
    "plt.scatter(X, Y)\n",
    "\n",
    "plt.xlim(X[0]-100, X[-1]+100)\n",
    "plt.grid()"
   ]
  },
  {
   "cell_type": "markdown",
   "metadata": {},
   "source": [
    "### Interpolation\n",
    "There is a number of interpolation procedures available from Scipy, the most up to date list can be found here: https://docs.scipy.org/doc/scipy/reference/interpolate.html  \n",
    "\n",
    "Choosing the right interpolation technique is vary much problem dependant, might require some trial-and-error  and here we will focus on the use of only some more general SciPy interpolation procedures, allowing to easily switch between interpolation techniques.\n",
    "\n",
    "**Note:** We will only do 1D interpolation, but higher dimensions are also possible, see e.g. [CloughTocher2DInterpolator](https://docs.scipy.org/doc/scipy/reference/generated/scipy.interpolate.CloughTocher2DInterpolator.html#scipy.interpolate.CloughTocher2DInterpolator).\n",
    "\n",
    "#### `scipy.interpolate.interp1d`\n",
    "The first is the `interp1D`, it allows for different types of **interpolation**, but does not allow for **extrapolation**. The advantage is that it is very easy to use. A general call to `interp1D` needs the pass of arrays of values used to build the interpolating function of a selected kind. The `kind` can be any of the implemented. The default is `'linear'`, but we will look at: `zero`, `slinear`, `quadratic` and `cubic`  - feturing [splines](https://en.wikipedia.org/wiki/Spline_%28mathematics%29) of a respective order:\n",
    "\n",
    "**Note** the difference between *interpolation*, which is the act of approximating a value in between the known values and *extrapolation*, which is guessing outside of the known values.\n",
    "\n",
    "To use `interp1D` lets import it from `scipy` module:"
   ]
  },
  {
   "cell_type": "code",
   "execution_count": null,
   "metadata": {},
   "outputs": [],
   "source": [
    "from scipy.interpolate import interp1d"
   ]
  },
  {
   "cell_type": "markdown",
   "metadata": {},
   "source": [
    "`interp1d` returns a function object to be used with data:"
   ]
  },
  {
   "cell_type": "code",
   "execution_count": null,
   "metadata": {},
   "outputs": [],
   "source": [
    "f = interp1d(X, Y) # default is liner"
   ]
  },
  {
   "cell_type": "markdown",
   "metadata": {},
   "source": [
    "Which we can use as any other function with Python, with a single variable, a list or a NumPy array:"
   ]
  },
  {
   "cell_type": "code",
   "execution_count": null,
   "metadata": {},
   "outputs": [],
   "source": [
    "print(f(8000))\n",
    "print(f(X[3]))\n",
    "print(f(X[3:6]))"
   ]
  },
  {
   "cell_type": "markdown",
   "metadata": {},
   "source": [
    "Lets, see how good our interpolation is, using linear distribution of points:"
   ]
  },
  {
   "cell_type": "code",
   "execution_count": null,
   "metadata": {},
   "outputs": [],
   "source": [
    "x = np.linspace(X[0], X[-1], 10000) # only interpolation\n",
    "# x = np.linspace(X[0]-100, X[-1]+100, 1000) # interp1d does not work with extrapolation!"
   ]
  },
  {
   "cell_type": "markdown",
   "metadata": {},
   "source": [
    "**Note:** Show the pitfalls of dynamic typing.  \n",
    "Replace `fig = plt.figure(figsize=(20,12))`  \n",
    "with `f = plt.figure(figsize=(20,12))` which you normally use and have a nice error!"
   ]
  },
  {
   "cell_type": "code",
   "execution_count": null,
   "metadata": {},
   "outputs": [],
   "source": [
    "fig = plt.figure(figsize=(20,12)) # figure size\n",
    "font = {'family' : 'Comic Sans MS', 'weight' : 'normal', 'size'   : 24} #larger font I like\n",
    "plt.rc('font', **font)\n",
    "\n",
    "plt.plot(T, c3, '--', c='black') # '--' - dashed, c - colour, \n",
    "plt.scatter(X, Y, s=100) # s sets size\n",
    "plt.plot(x, f(x), lw=5) # lw - line width\n",
    "\n",
    "plt.xlim(X[0]-100, X[-1]+100)\n",
    "plt.ylim(0.275, 0.3)\n",
    "plt.grid()"
   ]
  },
  {
   "cell_type": "markdown",
   "metadata": {},
   "source": [
    "And we have a nice linear interpolation. Let's try the remaining types, and get a glimpse at how interpolating functions differ:"
   ]
  },
  {
   "cell_type": "code",
   "execution_count": null,
   "metadata": {},
   "outputs": [],
   "source": [
    "fzero    = interp1d(X, Y, kind='zero') # default is liner\n",
    "fslinear = interp1d(X, Y, kind='slinear')\n",
    "fquadratic = interp1d(X, Y, kind='quadratic')\n",
    "fcubic = interp1d(X, Y, kind='cubic')"
   ]
  },
  {
   "cell_type": "markdown",
   "metadata": {},
   "source": [
    "We will take this occasion to add a legend to our plot. This is done by placing a `label='label text'` in the `plot()` call and calling on the `legend()` function.\n",
    "\n",
    "**Note:** `label=''` accepts Latex mathematical environment with \\$\\$. "
   ]
  },
  {
   "cell_type": "code",
   "execution_count": null,
   "metadata": {},
   "outputs": [],
   "source": [
    "fig = plt.figure(figsize=(20,12)) # figure size\n",
    "font = {'family' : 'Comic Sans MS', 'weight' : 'normal', 'size'   : 24} #larger font I like\n",
    "plt.rc('font', **font)\n",
    "\n",
    "plt.plot(T, c3, '--', c='black') # '--' - dashed, c - colour, \n",
    "plt.scatter(X, Y, s=100) # s sets size\n",
    "\n",
    "# Note the use of label in the function call - we will have a legend!\n",
    "plt.plot(x, f(x), lw=5, label='linear') # \n",
    "plt.plot(x, fzero(x), lw=5, label='zero') # \n",
    "plt.plot(x, fslinear(x), lw=5, label='slinear') # \n",
    "plt.plot(x, fquadratic(x), lw=5, label='quadratic') # \n",
    "plt.plot(x, fcubic(x), lw=5, label='cubic $\\gamma_{sub}^{sup}(x)$') # $ math goes here $\n",
    "\n",
    "# It is going to be Legendary!\n",
    "plt.legend()\n",
    "plt.xlim(X[0]-100, X[-1]+100)\n",
    "plt.ylim(0.275, 0.3)\n",
    "plt.grid()"
   ]
  },
  {
   "cell_type": "markdown",
   "metadata": {},
   "source": [
    "#### `scipy.interpolate.InterpolatedUnivariateSpline`\n",
    "Returns a 1D interpolating spline for a provided data. Aside from data we may pass weights, degree of the spline (`$1<=k<=5$`) and a flag specifyingwhat should happen out of data bounds, the extrapolation `ext $\\in (0,3)$`."
   ]
  },
  {
   "cell_type": "code",
   "execution_count": null,
   "metadata": {},
   "outputs": [],
   "source": [
    "from scipy.interpolate import InterpolatedUnivariateSpline\n",
    "\n",
    "x = np.linspace(X[0]-100, X[-1]+100, 1000) # we will be extrapolating!\n",
    "\n",
    "f = InterpolatedUnivariateSpline(X, Y, k=1)"
   ]
  },
  {
   "cell_type": "markdown",
   "metadata": {},
   "source": [
    "We will use this moment to show how to look for array indices that correspond to a given value. For the case of a sorted array it is probably best to use the `numpy.searchsorted` function. It accepts a sorted collection and values (or a value) and returns an index where the value should be inserted to maintain the order (sortiness??) of the collection. Example:"
   ]
  },
  {
   "cell_type": "code",
   "execution_count": null,
   "metadata": {},
   "outputs": [],
   "source": [
    "a = np.searchsorted(x, X[0])\n",
    "b = np.searchsorted(x, X[-1])\n",
    "print(a, b)\n",
    "\n",
    "print(x[a], X[0])\n",
    "print(x[b], X[-1])"
   ]
  },
  {
   "cell_type": "markdown",
   "metadata": {},
   "source": [
    "`a` and `b` are indices of the first greater than `X[0]` and `X[-1]` elements of `x`."
   ]
  },
  {
   "cell_type": "code",
   "execution_count": null,
   "metadata": {},
   "outputs": [],
   "source": [
    "fig = plt.figure(figsize=(20,12)) # figure size\n",
    "font = {'family' : 'Comic Sans MS', 'weight' : 'normal', 'size'   : 24} #larger font I like\n",
    "plt.rc('font', **font)\n",
    "\n",
    "plt.plot(T, c3, '--', c='black') # '--' - dashed, c - colour, \n",
    "plt.scatter(X, Y, s=100) # s sets size\n",
    "\n",
    "a = np.searchsorted(x, X[0])\n",
    "b = np.searchsorted(x, X[-1])\n",
    "p = plt.plot(x[a:b], f(x[a:b]), lw=5) # note, we return to p\n",
    "plt.plot(x[0:a], f(x[0:a]), '--', lw=5, c = p[0].get_color()) # to get the same colour\n",
    "plt.plot(x[b:-1], f(x[b:-1]), '--', lw=5, c = p[0].get_color())\n",
    "\n",
    "ax = plt.gca()\n",
    "ax.annotate('The extrapolated part!', xy=(x[25], f(x[25])), xytext=(7600, 0.288),\n",
    "            arrowprops = dict(facecolor ='black', width=8, headwidth=25, headlength=25, shrink = 0.05),)\n",
    "\n",
    "plt.xlim(X[0]-150, X[-1]+150)\n",
    "plt.ylim(0.275, 0.3)\n",
    "plt.grid()"
   ]
  },
  {
   "cell_type": "markdown",
   "metadata": {},
   "source": [
    "Note the use of `annotate` to place an arrow and some text to our plot.\n",
    "\n",
    "Lets experiment with `exp` and `k`:\n",
    "* `ext=0` or `‘extrapolate’` - default.\n",
    "* `ext=1` or `‘zeros’`, returns 0.\n",
    "* `ext=2` or `‘raise’`, raise a `ValueError`.\n",
    "* `ext=3` of `‘const’`, return boundary value."
   ]
  },
  {
   "cell_type": "code",
   "execution_count": null,
   "metadata": {
    "scrolled": false
   },
   "outputs": [],
   "source": [
    "f = InterpolatedUnivariateSpline(X, Y, k=1, ext=3)\n",
    "\n",
    "fig = plt.figure(figsize=(20,12)) # figure size\n",
    "font = {'family' : 'Comic Sans MS', 'weight' : 'normal', 'size'   : 24} #larger font I like\n",
    "plt.rc('font', **font)\n",
    "\n",
    "plt.plot(T, c3, '--', c='black') # '--' - dashed, c - colour, \n",
    "plt.scatter(X, Y, s=100) # s sets size\n",
    "\n",
    "a = np.searchsorted(x, X[0])\n",
    "b = np.searchsorted(x, X[-1])\n",
    "p = plt.plot(x[a:b], f(x[a:b]), lw=5) # note, we return to p\n",
    "plt.plot(x[0:a], f(x[0:a]), '--', lw=5, c = p[0].get_color()) # to get the same colour\n",
    "plt.plot(x[b:-1], f(x[b:-1]), '--', lw=5, c = p[0].get_color())\n",
    "\n",
    "ax = plt.gca()\n",
    "ax.annotate('The boundary value!', xy=(x[25], f(x[25])), xytext=(7600, 0.288),\n",
    "            arrowprops = dict(facecolor ='black', width=8, headwidth=25, headlength=25, shrink = 0.05),)\n",
    "\n",
    "plt.xlim(X[0]-150, X[-1]+150)\n",
    "plt.ylim(0.275, 0.3)\n",
    "plt.grid()"
   ]
  },
  {
   "cell_type": "code",
   "execution_count": null,
   "metadata": {},
   "outputs": [],
   "source": [
    "f1 = InterpolatedUnivariateSpline(X, Y, k=1)\n",
    "f2 = InterpolatedUnivariateSpline(X, Y, k=2)\n",
    "f3 = InterpolatedUnivariateSpline(X, Y, k=3)\n",
    "f4 = InterpolatedUnivariateSpline(X, Y, k=4)\n",
    "f5 = InterpolatedUnivariateSpline(X, Y, k=5)"
   ]
  },
  {
   "cell_type": "code",
   "execution_count": null,
   "metadata": {},
   "outputs": [],
   "source": [
    "fig = plt.figure(figsize=(20,12)) # figure size\n",
    "font = {'family' : 'Comic Sans MS', 'weight' : 'normal', 'size'   : 24} #larger font I like\n",
    "plt.rc('font', **font)\n",
    "\n",
    "plt.plot(T, c3, '--', c='black') # '--' - dashed, c - colour, \n",
    "plt.scatter(X, Y, s=100) # s sets size\n",
    "\n",
    "plt.plot(x, f1(x), lw=5, label='1')\n",
    "plt.plot(x, f2(x), lw=5, label='2')\n",
    "plt.plot(x, f3(x), lw=5, label='3')\n",
    "plt.plot(x, f4(x), lw=5, label='4')\n",
    "plt.plot(x, f5(x), lw=5, label='5')\n",
    "\n",
    "plt.legend()\n",
    "plt.xlim(X[0]-150, X[-1]+150)\n",
    "plt.ylim(0.275, 0.3)\n",
    "plt.grid()"
   ]
  },
  {
   "cell_type": "markdown",
   "metadata": {},
   "source": [
    "### Finding extreme value\n",
    "We know how to build an interpolating function from data. Let's say the points we have result from some form of a process we monitor and that we would like to find the extreme value. We will assume the process to be represented by some interpolant and look for the maximum. Note we are not interested in the maximum, stored in the array (`max(f(x))`), but in the extrema of a function, that corresponds to whatever our problem is.\n",
    "\n",
    "Let start with just examining the arrays:"
   ]
  },
  {
   "cell_type": "code",
   "execution_count": null,
   "metadata": {},
   "outputs": [],
   "source": [
    "print( max(Y), max( f2(x)) )\n",
    "i = np.where(f2(x) == max(f2(x)))\n",
    "print(i, x[i], f2(x[i]))"
   ]
  },
  {
   "cell_type": "markdown",
   "metadata": {},
   "source": [
    "So an element of `x` corresponds to a value returned by an interpolating function `f2` (one of many) that happens to be the elemental maximum - nice, but not what we want yet.\n",
    "\n",
    "In what fallows we will use a `scipy.optimize` module minimization procedure `scipy.optimize.minimize`. As before should you need something more fancy, have a look at the documentation [here](https://docs.scipy.org/doc/scipy/reference/optimize.html). I will use the `f2` created from interpolation before.\n",
    "\n",
    "We need to import an appropriate module:"
   ]
  },
  {
   "cell_type": "code",
   "execution_count": null,
   "metadata": {},
   "outputs": [],
   "source": [
    "from scipy.optimize import minimize"
   ]
  },
  {
   "cell_type": "markdown",
   "metadata": {},
   "source": [
    "`minimize` takes a number of arguments. Two are required the function to be minimized and the initial guess. You can also specify the particular method you wish to use (see docs), bounds, tolerance, etc.\n",
    "\n",
    "The returned value is an object containing a number of informations. To us the most important is the result.   \n",
    "**(experiment with starting value, and bounds)**"
   ]
  },
  {
   "cell_type": "code",
   "execution_count": null,
   "metadata": {},
   "outputs": [],
   "source": [
    "# res = minimize(f2, 8450)\n",
    "res = minimize(f2, x0=8600, bounds=((8400, 8800),) ) # note the nasty way bounds are provided\n",
    "print(res)"
   ]
  },
  {
   "cell_type": "code",
   "execution_count": null,
   "metadata": {},
   "outputs": [],
   "source": [
    "fig = plt.figure(figsize=(20,12)) # figure size\n",
    "font = {'family' : 'Comic Sans MS', 'weight' : 'normal', 'size'   : 24} #larger font I like\n",
    "plt.rc('font', **font)\n",
    "\n",
    "plt.plot(T, c3, '--', c='black') # '--' - dashed, c - colour, \n",
    "plt.scatter(X, Y, s=100) # s sets size\n",
    "\n",
    "plt.plot(x, f2(x), lw=5, label='2')\n",
    "plt.scatter(res.x, f2(res.x), s=200)\n",
    "\n",
    "plt.legend()\n",
    "plt.xlim(X[0]-150, X[-1]+150)\n",
    "plt.ylim(0.275, 0.3)\n",
    "plt.grid()"
   ]
  },
  {
   "cell_type": "markdown",
   "metadata": {},
   "source": [
    "**Note:** Should we want to find the maximum, a small addition is needed:"
   ]
  },
  {
   "cell_type": "code",
   "execution_count": null,
   "metadata": {},
   "outputs": [],
   "source": [
    "def f22(x):\n",
    "    return -1*f2(x)"
   ]
  },
  {
   "cell_type": "code",
   "execution_count": null,
   "metadata": {},
   "outputs": [],
   "source": [
    "res = minimize(f22, x0=0.5*(x[0]+X[-1]), bounds=((X[0], X[-1]),) )\n",
    "print(res)"
   ]
  },
  {
   "cell_type": "code",
   "execution_count": null,
   "metadata": {},
   "outputs": [],
   "source": [
    "fig = plt.figure(figsize=(20,12)) # figure size\n",
    "font = {'family' : 'Comic Sans MS', 'weight' : 'normal', 'size'   : 24} #larger font I like\n",
    "plt.rc('font', **font)\n",
    "\n",
    "plt.plot(T, c3, '--', c='black') # '--' - dashed, c - colour, \n",
    "plt.scatter(X, Y, s=100) # s sets size\n",
    "\n",
    "plt.plot(x, f2(x), lw=5, label='2')\n",
    "plt.scatter(res.x, f2(res.x), s=200)\n",
    "\n",
    "plt.legend()\n",
    "plt.xlim(X[0]-150, X[-1]+150)\n",
    "plt.ylim(0.275, 0.3)\n",
    "plt.grid()"
   ]
  },
  {
   "cell_type": "markdown",
   "metadata": {},
   "source": [
    "#### Example:\n",
    "We will now write a piece of code to improve localization of an minimum. Starting with some `X` and `Y` arrays that mimic a limited numbers of test that we have on the actual process represented by `x` and `y` we will iterate by finding minima of an interpolating functions, than choosing those as points to probe `x` and `y` and inserting values data arrays used for interpolation:"
   ]
  },
  {
   "cell_type": "code",
   "execution_count": null,
   "metadata": {},
   "outputs": [],
   "source": [
    "X =  T[10000:14000:1000] # We can select every other value from an array!\n",
    "Y = c3[10000:14000:1000]\n",
    "x = np.linspace(X[0], X[-1], 10000)\n",
    "print(len(X), len(Y))"
   ]
  },
  {
   "cell_type": "markdown",
   "metadata": {},
   "source": [
    "-> iteration starts here <-"
   ]
  },
  {
   "cell_type": "code",
   "execution_count": null,
   "metadata": {},
   "outputs": [],
   "source": [
    "f2 = InterpolatedUnivariateSpline(X, Y, k=2)\n",
    "res = minimize(f2, x0=8600, bounds=((X[0], X[-1]),), tol=1e-12)\n",
    "print(res)\n",
    "print(res.x[0], f2(res.x[0]))"
   ]
  },
  {
   "cell_type": "code",
   "execution_count": null,
   "metadata": {},
   "outputs": [],
   "source": [
    "fig = plt.figure(figsize=(20,12)) # figure size\n",
    "font = {'family' : 'Comic Sans MS', 'weight' : 'normal', 'size'   : 24} #larger font I like\n",
    "plt.rc('font', **font)\n",
    "\n",
    "plt.plot(T, c3, '--', c='black') # '--' - dashed, c - colour, \n",
    "plt.scatter(X, Y, s=100) # s sets size\n",
    "plt.plot(x, f2(x))\n",
    "plt.scatter(res.x, f2(res.x), s=500)\n",
    "\n",
    "plt.xlim(X[0]-150, X[-1]+150)\n",
    "plt.ylim(0.275, 0.3)\n",
    "plt.grid()"
   ]
  },
  {
   "cell_type": "markdown",
   "metadata": {},
   "source": [
    "We now need to run our process for the value of an argument we determined to result in the minimum of the interpolating function (if it is the best strategy, that is another story). In our case this is equivalent to finding the values in `T` and `c3` arrays:"
   ]
  },
  {
   "cell_type": "code",
   "execution_count": null,
   "metadata": {},
   "outputs": [],
   "source": [
    "idx = np.searchsorted(T, res.x)\n",
    "newX = T[idx]\n",
    "newY = c3[idx]\n",
    "print(idx, res.x, newX, newY)"
   ]
  },
  {
   "cell_type": "markdown",
   "metadata": {},
   "source": [
    "We will use `numpy.insert` to update our `X` and `Y` with newly acquired values. `insert` needs to now the index before which it should insert:"
   ]
  },
  {
   "cell_type": "code",
   "execution_count": null,
   "metadata": {},
   "outputs": [],
   "source": [
    "a = np.searchsorted(X, newX)\n",
    "X = np.insert(X, a, newX)\n",
    "Y = np.insert(Y, a, newY)"
   ]
  },
  {
   "cell_type": "markdown",
   "metadata": {},
   "source": [
    "Redo the interpolation:"
   ]
  },
  {
   "cell_type": "code",
   "execution_count": null,
   "metadata": {},
   "outputs": [],
   "source": [
    "f2 = InterpolatedUnivariateSpline(X, Y, k=2)"
   ]
  },
  {
   "cell_type": "code",
   "execution_count": null,
   "metadata": {},
   "outputs": [],
   "source": [
    "fig = plt.figure(figsize=(20,12)) # figure size\n",
    "font = {'family' : 'Comic Sans MS', 'weight' : 'normal', 'size'   : 24} #larger font I like\n",
    "plt.rc('font', **font)\n",
    "\n",
    "plt.plot(T, c3, '--', c='black') # '--' - dashed, c - colour, \n",
    "plt.scatter(X, Y, s=100) # s sets size\n",
    "plt.plot(x, f2(x))\n",
    "plt.scatter(res.x, f2(res.x), s=500)\n",
    "\n",
    "plt.xlim(X[0]-150, X[-1]+150)\n",
    "plt.ylim(0.275, 0.3)\n",
    "plt.grid()"
   ]
  },
  {
   "cell_type": "markdown",
   "metadata": {},
   "source": [
    "We can reiterate, or close everything in a nice loop and a procedure."
   ]
  },
  {
   "cell_type": "markdown",
   "metadata": {},
   "source": [
    "### Roots\n",
    "As with the others there is a number of procedures, and it is up to you to select the one that is right for your problem."
   ]
  },
  {
   "cell_type": "code",
   "execution_count": null,
   "metadata": {},
   "outputs": [],
   "source": [
    "from scipy.optimize import root_scalar"
   ]
  },
  {
   "cell_type": "code",
   "execution_count": null,
   "metadata": {},
   "outputs": [],
   "source": [
    "def fun(x):\n",
    "    return f2(x) - 0.280"
   ]
  },
  {
   "cell_type": "code",
   "execution_count": null,
   "metadata": {},
   "outputs": [],
   "source": [
    "res = root_scalar(fun, x0=8400, x1=8800)"
   ]
  },
  {
   "cell_type": "code",
   "execution_count": null,
   "metadata": {},
   "outputs": [],
   "source": [
    "print(res, res.root, fun(res.root))"
   ]
  },
  {
   "cell_type": "markdown",
   "metadata": {},
   "source": [
    "### Curve fitting\n",
    "Here we show an example of curve fitting using least-square approximation. We try to find parameters of a function that best fits some points:"
   ]
  },
  {
   "cell_type": "code",
   "execution_count": null,
   "metadata": {},
   "outputs": [],
   "source": [
    "from scipy.optimize import curve_fit"
   ]
  },
  {
   "cell_type": "code",
   "execution_count": null,
   "metadata": {},
   "outputs": [],
   "source": [
    "def fun(x, a, b, c):\n",
    "    return a*x**5 + b*x**3 + c"
   ]
  },
  {
   "cell_type": "code",
   "execution_count": null,
   "metadata": {},
   "outputs": [],
   "source": [
    "popt, pcov = curve_fit(fun, X, Y)\n",
    "print(popt)"
   ]
  },
  {
   "cell_type": "code",
   "execution_count": null,
   "metadata": {},
   "outputs": [],
   "source": [
    "fig = plt.figure(figsize=(20,12)) # figure size\n",
    "font = {'family' : 'Comic Sans MS', 'weight' : 'normal', 'size'   : 24} #larger font I like\n",
    "plt.rc('font', **font)\n",
    "\n",
    "plt.plot(T, c3, '--', c='black') # '--' - dashed, c - colour, \n",
    "plt.scatter(X, Y, s=100) # s sets size\n",
    "plt.plot(x, fun(x, *popt))\n",
    "\n",
    "plt.legend()\n",
    "plt.xlim(X[0]-150, X[-1]+150)\n",
    "plt.ylim(0.275, 0.3)\n",
    "plt.grid()"
   ]
  },
  {
   "cell_type": "markdown",
   "metadata": {},
   "source": [
    "Not the best fit, but well, works and for some real data might be actually the thing."
   ]
  },
  {
   "cell_type": "markdown",
   "metadata": {},
   "source": [
    "### Integration\n",
    "SciPy provides a number of integration techniques:"
   ]
  },
  {
   "cell_type": "code",
   "execution_count": null,
   "metadata": {},
   "outputs": [],
   "source": [
    "from scipy.integrate import quad # general purpose integration/"
   ]
  },
  {
   "cell_type": "code",
   "execution_count": null,
   "metadata": {},
   "outputs": [],
   "source": [
    "res = quad(f2, a=X[0], b=X[-1])\n",
    "print(res[0])"
   ]
  },
  {
   "cell_type": "markdown",
   "metadata": {},
   "source": [
    "### Solving a simple ODE\n",
    "via `from scipy.integrate.ode` an ODE system of the form $x'(t)=f(t,x)$ might be solved."
   ]
  },
  {
   "cell_type": "code",
   "execution_count": null,
   "metadata": {},
   "outputs": [],
   "source": [
    "from scipy.integrate import odeint"
   ]
  },
  {
   "cell_type": "markdown",
   "metadata": {},
   "source": [
    "`ODE` needs the right hand side function defining derivative `f` for a given state `x` and time `t`.\n",
    "\n",
    "Let consider a system [Lorenz System](https://en.wikipedia.org/wiki/Lorenz_system) (kind of famous - see why), for the evolution of a vector of variables ${\\bf x}=[x,y,z]$ in time $t$, according to:  \n",
    "$$\n",
    "\\begin{cases}\n",
    "\\frac{dx}{dt} = \\sigma(y - x)\\\\\n",
    "\\frac{dy}{dt} = x(\\rho - z) - y\\\\\n",
    "\\frac{dz}{dt} = xy - \\beta z\n",
    "\\end{cases}\n",
    "$$\n",
    "\n",
    "With initial conditions ${\\bf x}(t=0) = [x_0, y_0, z_0]$.\n",
    "\n",
    "The function defining the derivative is simply:"
   ]
  },
  {
   "cell_type": "code",
   "execution_count": null,
   "metadata": {},
   "outputs": [],
   "source": [
    "sigma=10\n",
    "beta=8./3\n",
    "rho=28.0\n",
    "\n",
    "def lor_rhs(x0, t0):\n",
    "    return [sigma * (x0[1] - x0[0]), x0[0] * (rho - x0[2]) - x0[1], x0[0] * x0[1] - beta * x0[2]]"
   ]
  },
  {
   "cell_type": "code",
   "execution_count": null,
   "metadata": {},
   "outputs": [],
   "source": [
    "x0 = [1, 1, 1]\n",
    "t = np.linspace(0, 20, 10000)  # one thousand time steps\n",
    "xt = odeint(lor_rhs, x0, t)"
   ]
  },
  {
   "cell_type": "markdown",
   "metadata": {},
   "source": [
    "We will now plot. New thing is the use of `%matplotlib notebook` that allows us to produce an interactive plot:"
   ]
  },
  {
   "cell_type": "code",
   "execution_count": null,
   "metadata": {},
   "outputs": [],
   "source": [
    "%matplotlib notebook\n",
    "\n",
    "from matplotlib import pyplot as plt    # this one we know\n",
    "from mpl_toolkits.mplot3d import Axes3D # Produces 3D axes setting\n",
    "\n",
    "fig = plt.figure()\n",
    "ax = fig.add_axes([0, 0, 1, 1], projection='3d')\n",
    "\n",
    "x, y, z = xt.T\n",
    "ax.plot3D(x, y, z)\n",
    "\n",
    "# prepare the axes limits\n",
    "ax.set_xlim((-25, 25))\n",
    "ax.set_ylim((-35, 35))\n",
    "ax.set_zlim((5, 55))\n",
    "\n",
    "# set point-of-view: specified by (altitude degrees, azimuth degrees)\n",
    "ax.view_init(30, 0)"
   ]
  },
  {
   "cell_type": "code",
   "execution_count": null,
   "metadata": {},
   "outputs": [],
   "source": [
    "N = 20\n",
    "# Choose random starting points, uniformly distributed from -15 to 15\n",
    "np.random.seed(1)\n",
    "x0 = -15 + 30 * np.random.random((N, 3))\n",
    "\n",
    "# Solve for the trajectories\n",
    "t = np.linspace(0, 20, 10000)\n",
    "xt = np.asarray([integrate.odeint(lor_rhs, x0i, t)\n",
    "                  for x0i in x0])\n",
    "\n",
    "\n",
    "fig = plt.figure()\n",
    "ax = fig.add_axes([0, 0, 1, 1], projection='3d')\n",
    "\n",
    "for xx in xt:\n",
    "    x, y, z = xx.T\n",
    "    ax.plot3D(x, y, z)\n",
    "\n",
    "# prepare the axes limits\n",
    "ax.set_xlim((-50, 50))\n",
    "ax.set_ylim((-50, 50))\n",
    "ax.set_zlim((5, 55))\n",
    "\n",
    "# set point-of-view: specified by (altitude degrees, azimuth degrees)\n",
    "ax.view_init(30, 0)"
   ]
  },
  {
   "cell_type": "code",
   "execution_count": null,
   "metadata": {},
   "outputs": [],
   "source": []
  }
 ],
 "metadata": {
  "kernelspec": {
   "display_name": "Python 3",
   "language": "python",
   "name": "python3"
  },
  "language_info": {
   "codemirror_mode": {
    "name": "ipython",
    "version": 3
   },
   "file_extension": ".py",
   "mimetype": "text/x-python",
   "name": "python",
   "nbconvert_exporter": "python",
   "pygments_lexer": "ipython3",
   "version": "3.8.10"
  }
 },
 "nbformat": 4,
 "nbformat_minor": 4
}
