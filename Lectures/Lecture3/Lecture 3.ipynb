{
 "cells": [
  {
   "cell_type": "markdown",
   "metadata": {},
   "source": [
    "# Lecture 3\n",
    "Monitoring solution process is important. While looking at numbers stored in a text file is fun, it is much easier to comprehend data using graphs and plots.\n",
    "\n",
    "We will:\n",
    "* Look at a (possibly) better way than lists to handle sequences of numerical data - NumPy and arrays\n",
    "* Look at reading numerical data from files (stored as columns of numbers, but other formats can also be read)\n",
    "* Use the MatPlotLib library to produce some simple line, bar and color plots.\n",
    "\n",
    "* Have a look at SciPy to illustrate capabilities, find some function extrema and roots, perform some interpolation (and extrapolation)."
   ]
  },
  {
   "cell_type": "markdown",
   "metadata": {},
   "source": [
    "## NumPy and arrays\n",
    "We will now work with NumPy and SciPy and introduce selected features that might be useful to us. By no means we wil cover all features, and when in need please consult appropriate (and very rich) online documentation.\n",
    "\n",
    "### NumPy\n",
    "NumPy is a numerical method library that implements a number of functionalities. The most important to us is going to be the *array*. While using *list* is fine there is a cost associated with the fact that list can hold anything (actually mixing types).\n",
    "This has a consequence that any operation needs first to verify the type, making lists not so efficient, especially for larger problems.\n",
    "On the other hand NumPy arrays store data of only the declared type and have a constant size. Also much of NumPy functions are calls to compiled binary code (we will be writing such code!).  \n",
    "\n",
    "Let's start by importing arrays from NumPy:"
   ]
  },
  {
   "cell_type": "code",
   "execution_count": 1,
   "metadata": {},
   "outputs": [],
   "source": [
    "import numpy as np"
   ]
  },
  {
   "cell_type": "markdown",
   "metadata": {},
   "source": [
    "We will refer to elements of NumPy using *np* (less writing). Our first array will be a 1D vector of integers:"
   ]
  },
  {
   "cell_type": "code",
   "execution_count": 2,
   "metadata": {},
   "outputs": [
    {
     "name": "stdout",
     "output_type": "stream",
     "text": [
      "[1 2 3 4]\n"
     ]
    }
   ],
   "source": [
    "a = np.array([1,2,3,4])\n",
    "print(a)"
   ]
  },
  {
   "cell_type": "markdown",
   "metadata": {},
   "source": [
    "**Coding time!**: Experiment with arrays. Make and print some. Try passing lists in lists."
   ]
  },
  {
   "cell_type": "code",
   "execution_count": 5,
   "metadata": {},
   "outputs": [
    {
     "name": "stdout",
     "output_type": "stream",
     "text": [
      "3\n",
      "<class 'numpy.ndarray'> <class 'numpy.int64'>\n"
     ]
    }
   ],
   "source": [
    "print(a[2])\n",
    "print(type(a), type(a[3]))"
   ]
  },
  {
   "cell_type": "markdown",
   "metadata": {},
   "source": [
    "### Creating arrays\n",
    "There is a number of ways arrays can be created with numpy.array() function. The easiest is to use an existing list, or use the advanced list initialization with \\[\\]-brackets. There is also a number of special *numpy* functions to create arrays. Let's see.\n",
    "\n",
    "* Array from list:"
   ]
  },
  {
   "cell_type": "code",
   "execution_count": 6,
   "metadata": {},
   "outputs": [
    {
     "name": "stdout",
     "output_type": "stream",
     "text": [
      "[0, 1, 2, 3, 4, 5, 6, 7, 8, 9]\n",
      "[0 1 2 3 4 5 6 7 8 9]\n"
     ]
    }
   ],
   "source": [
    "l = list(range(0,10))\n",
    "print(l)\n",
    "a = np.array(l)\n",
    "print(a)"
   ]
  },
  {
   "cell_type": "code",
   "execution_count": 7,
   "metadata": {},
   "outputs": [
    {
     "name": "stdout",
     "output_type": "stream",
     "text": [
      "[1 3 5 7 9]\n",
      "[ 3  5  7  9 11 13 15 17 19 21]\n"
     ]
    }
   ],
   "source": [
    "a = np.array([x for x in l if x%2])\n",
    "print(a)\n",
    "a = np.array([ 2*x+3 for x in l ])\n",
    "print(a)"
   ]
  },
  {
   "cell_type": "markdown",
   "metadata": {},
   "source": [
    "**Coding time!**: Create some arrays using the advanced syntax as above. E.g. use `range` to create an array of 50 values from -10 to 10 and another one that is the square of the first one.\n",
    "\n",
    "fun, right?\n",
    "* From other array, by simple arithmetic operation:"
   ]
  },
  {
   "cell_type": "code",
   "execution_count": 14,
   "metadata": {},
   "outputs": [
    {
     "name": "stdout",
     "output_type": "stream",
     "text": [
      "[-10.          -9.59183673  -9.18367347  -8.7755102   -8.36734694\n",
      "  -7.95918367  -7.55102041  -7.14285714  -6.73469388  -6.32653061\n",
      "  -5.91836735  -5.51020408  -5.10204082  -4.69387755  -4.28571429\n",
      "  -3.87755102  -3.46938776  -3.06122449  -2.65306122  -2.24489796\n",
      "  -1.83673469  -1.42857143  -1.02040816  -0.6122449   -0.20408163\n",
      "   0.20408163   0.6122449    1.02040816   1.42857143   1.83673469\n",
      "   2.24489796   2.65306122   3.06122449   3.46938776   3.87755102\n",
      "   4.28571429   4.69387755   5.10204082   5.51020408   5.91836735\n",
      "   6.32653061   6.73469388   7.14285714   7.55102041   7.95918367\n",
      "   8.36734694   8.7755102    9.18367347   9.59183673  10.\n",
      "  10.40816327]\n",
      "[100.0, 92.00333194502292, 84.33985839233654, 77.00957934194088, 70.01249479383593, 63.34860474802169, 57.01790920449817, 51.02040816326535, 45.356101624323244, 40.024989587671854, 35.02707205331117, 30.3623490212412, 26.030820491461945, 22.0324864639734, 18.36734693877556, 15.035401915868436, 12.03665139525202, 9.371095376926318, 7.038733860891328, 5.039566847147049, 3.3735943356934834, 2.0408163265306296, 1.041232819658488, 0.3748438150770586, 0.04164931278634147, 0.04164931278633658, 0.3748438150770439, 1.0412328196584635, 2.0408163265305954, 3.373594335693439, 5.039566847146995, 7.038733860891264, 9.371095376926245, 12.036651395251937, 15.035401915868343, 18.367346938775455, 22.03248646397328, 26.030820491461817, 30.362349021241066, 35.027072053311024, 40.0249895876717, 45.35610162432308, 51.020408163265174, 57.017909204497975, 63.34860474802149, 70.01249479383573, 77.00957934194066, 84.33985839233631, 92.00333194502268, 99.99999999999976, 108.32986255726753]\n"
     ]
    }
   ],
   "source": [
    "x = []\n",
    "x.append(-10)\n",
    "h = 20 / 49.\n",
    "for r in range(0,50):\n",
    "    x.append(x[-1] + h)\n",
    "x = np.array(x)\n",
    "y = [yy**2 for yy in x]\n",
    "print(x)\n",
    "print(y)"
   ]
  },
  {
   "cell_type": "code",
   "execution_count": 15,
   "metadata": {},
   "outputs": [
    {
     "name": "stdout",
     "output_type": "stream",
     "text": [
      "[  9  25  49  81 121 169 225 289 361 441]\n",
      "[ 6 10 14 18 22 26 30 34 38 42]\n",
      "[14 18 22 26 30 34 38 42 46 50]\n"
     ]
    }
   ],
   "source": [
    "b = a**2 #!\n",
    "print(b)\n",
    "b = a+a\n",
    "print(b)\n",
    "b = 2*a + 8\n",
    "print(b)"
   ]
  },
  {
   "cell_type": "code",
   "execution_count": 16,
   "metadata": {},
   "outputs": [
    {
     "name": "stdout",
     "output_type": "stream",
     "text": [
      "[-10.          -9.59183673  -9.18367347  -8.7755102   -8.36734694\n",
      "  -7.95918367  -7.55102041  -7.14285714  -6.73469388  -6.32653061\n",
      "  -5.91836735  -5.51020408  -5.10204082  -4.69387755  -4.28571429\n",
      "  -3.87755102  -3.46938776  -3.06122449  -2.65306122  -2.24489796\n",
      "  -1.83673469  -1.42857143  -1.02040816  -0.6122449   -0.20408163\n",
      "   0.20408163   0.6122449    1.02040816   1.42857143   1.83673469\n",
      "   2.24489796   2.65306122   3.06122449   3.46938776   3.87755102\n",
      "   4.28571429   4.69387755   5.10204082   5.51020408   5.91836735\n",
      "   6.32653061   6.73469388   7.14285714   7.55102041   7.95918367\n",
      "   8.36734694   8.7755102    9.18367347   9.59183673  10.\n",
      "  10.40816327]\n",
      "[1.00000000e+02 9.20033319e+01 8.43398584e+01 7.70095793e+01\n",
      " 7.00124948e+01 6.33486047e+01 5.70179092e+01 5.10204082e+01\n",
      " 4.53561016e+01 4.00249896e+01 3.50270721e+01 3.03623490e+01\n",
      " 2.60308205e+01 2.20324865e+01 1.83673469e+01 1.50354019e+01\n",
      " 1.20366514e+01 9.37109538e+00 7.03873386e+00 5.03956685e+00\n",
      " 3.37359434e+00 2.04081633e+00 1.04123282e+00 3.74843815e-01\n",
      " 4.16493128e-02 4.16493128e-02 3.74843815e-01 1.04123282e+00\n",
      " 2.04081633e+00 3.37359434e+00 5.03956685e+00 7.03873386e+00\n",
      " 9.37109538e+00 1.20366514e+01 1.50354019e+01 1.83673469e+01\n",
      " 2.20324865e+01 2.60308205e+01 3.03623490e+01 3.50270721e+01\n",
      " 4.00249896e+01 4.53561016e+01 5.10204082e+01 5.70179092e+01\n",
      " 6.33486047e+01 7.00124948e+01 7.70095793e+01 8.43398584e+01\n",
      " 9.20033319e+01 1.00000000e+02 1.08329863e+02]\n"
     ]
    }
   ],
   "source": [
    "x = []\n",
    "x.append(-10)\n",
    "h = 20 / 49.\n",
    "for r in range(0,50):\n",
    "    x.append(x[-1] + h)\n",
    "x = np.array(x)\n",
    "y = x**2\n",
    "print(x)\n",
    "print(y)"
   ]
  },
  {
   "cell_type": "markdown",
   "metadata": {},
   "source": [
    "**Coding time!**: Modify the previous example using the `**` operator directly on an array. "
   ]
  },
  {
   "cell_type": "markdown",
   "metadata": {},
   "source": [
    "* Using *numpy.array* functions (see docs)\n",
    "    * empty - an uninitialized array,\n",
    "    * ones - an array with values set to one,\n",
    "    * zeros - an array with values set to zeros,\n",
    "    * full - an array filled with value.\n",
    "    * \\*_like - array with the shape and type of input"
   ]
  },
  {
   "cell_type": "code",
   "execution_count": 18,
   "metadata": {},
   "outputs": [
    {
     "name": "stdout",
     "output_type": "stream",
     "text": [
      "[5. 5. 5. 5. 5.]\n",
      "[0. 0. 0. 0. 0.]\n",
      "[10 10 10 10 10]\n",
      "[0 0 0 0 0]\n"
     ]
    }
   ],
   "source": [
    "a = np.ones(5)\n",
    "print(a*5)\n",
    "a = np.zeros(5)\n",
    "print(a)\n",
    "a = np.full(5, 10)\n",
    "print(a)\n",
    "b = np.zeros_like(a)\n",
    "print(b)"
   ]
  },
  {
   "cell_type": "markdown",
   "metadata": {},
   "source": [
    "For now, we did not specify the type stored by the array. Rather the type was determined for us based on our input. Look closely at the elements of arrays above. What is their type?  \n",
    "**dtype** member of array stores this information."
   ]
  },
  {
   "cell_type": "code",
   "execution_count": 22,
   "metadata": {},
   "outputs": [
    {
     "name": "stdout",
     "output_type": "stream",
     "text": [
      "float64\n",
      "int64\n"
     ]
    }
   ],
   "source": [
    "a = np.ones(5)\n",
    "print(a.dtype)\n",
    "a = np.full(5, 10)\n",
    "print(a.dtype) # why the difference?"
   ]
  },
  {
   "cell_type": "markdown",
   "metadata": {},
   "source": [
    "We can specify the desired type at creation:"
   ]
  },
  {
   "cell_type": "code",
   "execution_count": 23,
   "metadata": {},
   "outputs": [
    {
     "name": "stdout",
     "output_type": "stream",
     "text": [
      "int64\n",
      "float64\n"
     ]
    }
   ],
   "source": [
    "a = np.array(range(0,10))\n",
    "print(a.dtype)\n",
    "a = np.array(range(0,10), dtype=float)\n",
    "print(a.dtype)"
   ]
  },
  {
   "cell_type": "markdown",
   "metadata": {},
   "source": [
    "* Numpy `arrange` and `linspace`  \n",
    "`arrange`:  regularly incrementing values  \n",
    "`linspace`: array with a specified number of elements"
   ]
  },
  {
   "cell_type": "code",
   "execution_count": 25,
   "metadata": {},
   "outputs": [
    {
     "data": {
      "text/plain": [
       "array([0., 1., 2., 3., 4.])"
      ]
     },
     "execution_count": 25,
     "metadata": {},
     "output_type": "execute_result"
    }
   ],
   "source": [
    "np.arange(5.0)"
   ]
  },
  {
   "cell_type": "code",
   "execution_count": 32,
   "metadata": {},
   "outputs": [
    {
     "data": {
      "text/plain": [
       "array([-1. , -0.5,  0. ,  0.5])"
      ]
     },
     "execution_count": 32,
     "metadata": {},
     "output_type": "execute_result"
    }
   ],
   "source": [
    "np.arange(-1, 1, 0.5)"
   ]
  },
  {
   "cell_type": "code",
   "execution_count": 34,
   "metadata": {},
   "outputs": [
    {
     "data": {
      "text/plain": [
       "array([-1. , -0.8, -0.6, -0.4, -0.2,  0. ,  0.2,  0.4,  0.6,  0.8,  1. ])"
      ]
     },
     "execution_count": 34,
     "metadata": {},
     "output_type": "execute_result"
    }
   ],
   "source": [
    "np.linspace(-1, 1, 11)"
   ]
  },
  {
   "cell_type": "markdown",
   "metadata": {},
   "source": [
    "* random values  \n",
    "NumPy provides a a random number generator to create random values from 0 to 1. It is a part of `random` module via e.g. `default_rng(seed)` generator. Like this:"
   ]
  },
  {
   "cell_type": "code",
   "execution_count": 45,
   "metadata": {},
   "outputs": [
    {
     "name": "stdout",
     "output_type": "stream",
     "text": [
      "[0.072026   0.26289248 0.3420404  0.98919057 0.30232995] [0.072026   0.26289248 0.3420404  0.98919057 0.30232995] [0.072026   0.26289248 0.3420404  0.98919057 0.30232995]\n"
     ]
    }
   ],
   "source": [
    "import time\n",
    "a = np.random.default_rng(int(time.time())).random(5)\n",
    "b = np.random.default_rng(int(time.time())).random(5)\n",
    "c = np.random.default_rng(int(time.time())).random(5)\n",
    "print(a, b, c)"
   ]
  },
  {
   "cell_type": "markdown",
   "metadata": {},
   "source": [
    "### Multidimensional arrays\n",
    "NumPy allows for creation of multidimensional arrays. Personally I try not to use those to often, assuming that if you have a problem complex enough to need a matrix you would be probably better of using C or C++ for it. But that is an opinion and a biased one at that!  \n",
    "NumPy arrays have `shape`s, that defines how values can be accessed.  \n",
    "Lets see:"
   ]
  },
  {
   "cell_type": "code",
   "execution_count": 46,
   "metadata": {},
   "outputs": [
    {
     "name": "stdout",
     "output_type": "stream",
     "text": [
      "[1. 1. 1. 1. 1.]\n",
      "(5,)\n",
      "<class 'tuple'>\n"
     ]
    }
   ],
   "source": [
    "a = np.ones(5)\n",
    "print(a)\n",
    "print(a.shape)\n",
    "print(type(a.shape))"
   ]
  },
  {
   "cell_type": "markdown",
   "metadata": {},
   "source": [
    "So `shape` is an attribute of an object, and a tuple at that - we recall it is **immutable**, meaning we can read but we can not modify the entries. Upon creation we can set the shape, by passing a tuple."
   ]
  },
  {
   "cell_type": "code",
   "execution_count": 47,
   "metadata": {},
   "outputs": [
    {
     "name": "stdout",
     "output_type": "stream",
     "text": [
      "[[1. 1.]\n",
      " [1. 1.]]\n"
     ]
    }
   ],
   "source": [
    "a = np.ones((2,2))\n",
    "print(a)"
   ]
  },
  {
   "cell_type": "markdown",
   "metadata": {},
   "source": [
    "and access elements like this:"
   ]
  },
  {
   "cell_type": "code",
   "execution_count": 69,
   "metadata": {},
   "outputs": [
    {
     "name": "stdout",
     "output_type": "stream",
     "text": [
      "<class 'numpy.ndarray'>\n",
      "[0. 1.]\n",
      "0.0\n",
      "(1, 2)\n",
      "[ 0. 10.]\n"
     ]
    }
   ],
   "source": [
    "a[0,0] = 0\n",
    "a[0,1] = 1\n",
    "a[1,0] = 10\n",
    "a[1,1] = 11\n",
    "print(type(a[0]))\n",
    "print(a[0])\n",
    "print(a[0,0])\n",
    "print(a[1:2].shape)\n",
    "print(a[0:2,0])"
   ]
  },
  {
   "cell_type": "markdown",
   "metadata": {},
   "source": [
    "Another (possibly useful) atribute is size:"
   ]
  },
  {
   "cell_type": "code",
   "execution_count": 71,
   "metadata": {},
   "outputs": [
    {
     "data": {
      "text/plain": [
       "4"
      ]
     },
     "execution_count": 71,
     "metadata": {},
     "output_type": "execute_result"
    }
   ],
   "source": [
    "a.size"
   ]
  },
  {
   "cell_type": "markdown",
   "metadata": {},
   "source": [
    "#### Special arrays:\n",
    "`eye` - identity matrix"
   ]
  },
  {
   "cell_type": "code",
   "execution_count": 76,
   "metadata": {},
   "outputs": [
    {
     "data": {
      "text/plain": [
       "array([[1., 0., 0., 0., 0.],\n",
       "       [0., 1., 0., 0., 0.],\n",
       "       [0., 0., 1., 0., 0.],\n",
       "       [0., 0., 0., 1., 0.],\n",
       "       [0., 0., 0., 0., 1.]])"
      ]
     },
     "execution_count": 76,
     "metadata": {},
     "output_type": "execute_result"
    }
   ],
   "source": [
    "np.eye(5)"
   ]
  },
  {
   "cell_type": "markdown",
   "metadata": {},
   "source": [
    "`diag` - exactly what you think:"
   ]
  },
  {
   "cell_type": "code",
   "execution_count": 77,
   "metadata": {},
   "outputs": [
    {
     "data": {
      "text/plain": [
       "array([[-1. ,  0. ,  0. ,  0. ,  0. ],\n",
       "       [ 0. , -0.5,  0. ,  0. ,  0. ],\n",
       "       [ 0. ,  0. ,  0. ,  0. ,  0. ],\n",
       "       [ 0. ,  0. ,  0. ,  0.5,  0. ],\n",
       "       [ 0. ,  0. ,  0. ,  0. ,  1. ]])"
      ]
     },
     "execution_count": 77,
     "metadata": {},
     "output_type": "execute_result"
    }
   ],
   "source": [
    "np.diag(np.linspace(-1,1,5))"
   ]
  },
  {
   "cell_type": "markdown",
   "metadata": {},
   "source": [
    "There is much more than is possible with arrays creation and modification. For now let us just try to use arrays for some simple operations:  \n",
    "* `trnaspose()`\n",
    "* `dot()`"
   ]
  },
  {
   "cell_type": "code",
   "execution_count": 79,
   "metadata": {},
   "outputs": [
    {
     "name": "stdout",
     "output_type": "stream",
     "text": [
      "[-1.  0.  1.]\n",
      "[-1.  0.  1.]\n"
     ]
    }
   ],
   "source": [
    "x = np.linspace(-1,1,3)\n",
    "print(x)\n",
    "x = np.transpose(x)\n",
    "print(x)"
   ]
  },
  {
   "cell_type": "code",
   "execution_count": 97,
   "metadata": {},
   "outputs": [
    {
     "name": "stdout",
     "output_type": "stream",
     "text": [
      "[[1 1 0]\n",
      " [0 2 0]\n",
      " [0 0 2]]\n",
      "[-1.  0.  1.]\n",
      "[-1. -1.  2.]\n"
     ]
    }
   ],
   "source": [
    "x = np.linspace(-1,1,3)\n",
    "# x = np.transpose(x)\n",
    "A = np.array([[1,1,0],[0,2,0],[0,0,2]])\n",
    "print(A)\n",
    "print(x)\n",
    "# print(x*A)\n",
    "print(x.dot(A))"
   ]
  },
  {
   "cell_type": "markdown",
   "metadata": {},
   "source": [
    "And some fun with arrays, that might come in handy (or not), that is solving an eigen problem:"
   ]
  },
  {
   "cell_type": "code",
   "execution_count": 98,
   "metadata": {},
   "outputs": [
    {
     "name": "stdout",
     "output_type": "stream",
     "text": [
      "[1. 2. 2.]\n",
      "[[1.         0.70710678 0.        ]\n",
      " [0.         0.70710678 0.        ]\n",
      " [0.         0.         1.        ]]\n"
     ]
    }
   ],
   "source": [
    "from numpy import linalg as LA\n",
    "sig, v = LA.eig(A)\n",
    "print(sig)\n",
    "print(v)"
   ]
  },
  {
   "cell_type": "markdown",
   "metadata": {},
   "source": [
    "## Processing files - IO operations on files\n",
    "We will now perform simple read and write operations on files. Our ultimate goal is to process files which contain settings for software packages we use. For example in an optimization loop, we might need to manipulate files defining parameters for the simulator and computed by the optimizer. Similarly we will need the value of the objective function to be read and passed to the optimizer.\n",
    "\n",
    "We will start just with opening, writing and reading. Simple stuff:"
   ]
  },
  {
   "cell_type": "code",
   "execution_count": 99,
   "metadata": {},
   "outputs": [
    {
     "name": "stdout",
     "output_type": "stream",
     "text": [
      "Burza\n",
      "OSOBY:\n"
     ]
    }
   ],
   "source": [
    "f = open('burza', 'r') # similarly to printf there is a flag that specifies what to do: 'w', 'r', 'a'\n",
    "a = f.readline()\n",
    "print(a, end='')\n",
    "a = f.readline()\n",
    "print(a, end='')\n",
    "f.close()"
   ]
  },
  {
   "cell_type": "code",
   "execution_count": 13,
   "metadata": {},
   "outputs": [
    {
     "name": "stdout",
     "output_type": "stream",
     "text": [
      "ARIEL, duch powietrzny.\n",
      "\n",
      "ARIEL\n",
      "\n",
      "ARIEL\n",
      "\n",
      "ARIEL\n",
      "\n",
      "ARIEL\n",
      "\n",
      "ARIEL\n",
      "\n",
      "ARIEL\n",
      "\n",
      "ARIEL\n",
      "\n",
      "ARIEL\n",
      "\n",
      "ARIEL\n",
      "\n",
      "ARIEL\n",
      "\n",
      "ARIEL\n",
      "\n",
      "ARIEL\n",
      "\n",
      "ARIEL\n",
      "\n",
      "ARIEL\n",
      "\n",
      "ARIEL\n",
      "\n",
      "ARIEL\n",
      "\n",
      "ARIEL\n",
      "\n",
      "ARIEL\n",
      "\n",
      "ARIEL\n",
      "\n",
      "ARIEL\n",
      "\n",
      "ARIEL\n",
      "\n",
      "ARIEL\n",
      "\n",
      "ARIEL\n",
      "\n",
      "ARIEL\n",
      "\n",
      "ARIEL\n",
      "\n",
      "ARIEL\n",
      "\n",
      "ARIEL\n",
      "\n",
      "ARIEL\n",
      "\n",
      "ARIEL\n",
      "\n",
      "ARIEL\n",
      "\n",
      "ARIEL\n",
      "\n",
      "ARIEL\n",
      "\n",
      "ARIEL\n",
      "\n",
      "ARIEL\n",
      "\n",
      "ARIEL\n",
      "\n",
      "ARIEL\n",
      "\n",
      "ARIEL\n",
      "\n",
      "ARIEL\n",
      "\n",
      "ARIEL\n",
      "\n",
      "ARIEL\n",
      "\n",
      "ARIEL\n",
      "\n",
      "ARIEL\n",
      "\n",
      "ARIEL\n",
      "\n",
      "ARIEL\n",
      "\n",
      "ARIEL\n",
      "\n",
      "ARIEL\n",
      "\n",
      "ARIEL\n",
      "\n",
      "ARIEL\n",
      "\n",
      "ARIEL\n",
      "\n",
      "ARIEL\n",
      "\n"
     ]
    }
   ],
   "source": [
    "f = open('burza', 'r')\n",
    "alllines = f.readlines()\n",
    "for line in alllines:\n",
    "    if 'ARIEL' in line:\n",
    "        print(line)\n",
    "f.close()"
   ]
  },
  {
   "cell_type": "code",
   "execution_count": 15,
   "metadata": {},
   "outputs": [
    {
     "data": {
      "text/plain": [
       "'\\n'"
      ]
     },
     "execution_count": 15,
     "metadata": {},
     "output_type": "execute_result"
    }
   ],
   "source": [
    "alllines[502]"
   ]
  },
  {
   "cell_type": "code",
   "execution_count": 22,
   "metadata": {},
   "outputs": [
    {
     "name": "stdout",
     "output_type": "stream",
     "text": [
      "ARIEL, duch powietrzny.\n",
      "\n",
      "Przyjdź, Perwolu[10]!\n",
      "\n",
      "ARIEL\n",
      "\n",
      "Wykona Perwol.\n",
      "\n",
      "ARIEL\n",
      "\n",
      "ARIEL\n",
      "\n",
      "ARIEL\n",
      "\n",
      "ARIEL\n",
      "\n",
      "ARIEL\n",
      "\n",
      "ARIEL\n",
      "\n",
      "ARIEL\n",
      "\n",
      "ARIEL\n",
      "\n",
      "ARIEL\n",
      "\n",
      "ARIEL\n",
      "\n",
      "ARIEL\n",
      "\n",
      "ARIEL\n",
      "\n",
      "ARIEL\n",
      "\n",
      "ARIEL\n",
      "\n",
      "ARIEL\n",
      "\n",
      "ARIEL\n",
      "\n",
      "ARIEL\n",
      "\n",
      "ARIEL\n",
      "\n",
      "(Perwol wychodzi)\n",
      "\n",
      "(wchodzi Perwol w postaci nimfy wodnej)\n",
      "\n",
      "Piękne zjawisko! Lotny Perwolu,\n",
      "\n",
      "ARIEL\n",
      "\n",
      "Wychodzi Kaliban — Wchodzi Perwol niewidzialny, gra i śpiewa, za nim Ferdynand.\n",
      "\n",
      "ARIEL\n",
      "\n",
      "ARIEL\n",
      "\n",
      "ARIEL\n",
      "\n",
      "ARIEL\n",
      "\n",
      "Wzrok się ich zmierzył. Piękny Perwolu,\n",
      "\n",
      "(na stronie) Dobrześ się sprawił, Perwolu! (głośno) Idźmy!\n",
      "\n",
      "(do Perwola) A teraz słuchaj, co jeszcze masz zrobić!\n",
      "\n",
      "ARIEL\n",
      "\n",
      "Wchodzi Perwol niewidzialny, grając uroczystą melodię.\n",
      "\n",
      "Zasypia — Perwol wychodzi.\n",
      "\n",
      "Rozmawiają na stronie. Muzyka. Wchodzi Perwol niewidzialny.\n",
      "\n",
      "ARIEL\n",
      "\n",
      "ARIEL\n",
      "\n",
      "Wchodzi Perwol niewidzialny.\n",
      "\n",
      "ARIEL\n",
      "\n",
      "ARIEL\n",
      "\n",
      "ARIEL\n",
      "\n",
      "ARIEL\n",
      "\n",
      "Perwol gra na piszczałce i na bębenku.\n",
      "\n",
      "Grzmoty i błyskawice. Wbiega Perwol w postaci harpii, roztacza skrzydła nad stołem; bankiet znika.\n",
      "\n",
      "ARIEL\n",
      "\n",
      "Udałeś pysznie harpię, Perwolu,\n",
      "\n",
      "Hej, Perwolu, sługo mój przebiegły!\n",
      "\n",
      "ARIEL\n",
      "\n",
      "ARIEL\n",
      "\n",
      "ARIEL\n",
      "\n",
      "Lecz się nie zbliżaj, piękny Perwolu,\n",
      "\n",
      "ARIEL\n",
      "\n",
      "Więc wszystko dobrze. — Przybądź Perwolu!\n",
      "\n",
      "Dzięki wam. — Perwolu,\n",
      "\n",
      "Jak myśli szybki, przybądź, Perwolu!\n",
      "\n",
      "Wchodzi Perwol.\n",
      "\n",
      "ARIEL\n",
      "\n",
      "ARIEL\n",
      "\n",
      "ARIEL\n",
      "\n",
      "ARIEL\n",
      "\n",
      "(wchodzi Perwol, niosąc błyszczące materie itd.)\n",
      "\n",
      "Prospero i Perwol zostają niewidzialni. — Wchodzą: Kaliban, Stefano i Trynkulo, przemokli.\n",
      "\n",
      "Słychać krzyk polujących. Wchodzą duchy w postaci psów, które podszczuwane przez Prospera i Perwola gonią za Stefanem, Trynkulem i Kalibanem.\n",
      "\n",
      "ARIEL\n",
      "\n",
      "ARIEL\n",
      "\n",
      "Wchodzą: Prospero w czarnoksięskiej odzieży i Perwol.\n",
      "\n",
      "ARIEL\n",
      "\n",
      "ARIEL\n",
      "\n",
      "ARIEL\n",
      "\n",
      "Idź więc i wolność daj im, Perwolu,\n",
      "\n",
      "ARIEL\n",
      "\n",
      "Uroczysta muzyka. — Wchodzi Perwol za nim Alonso z gestami obłąkanego, prowadzony przez Gonzala, za nimi Sebastian i Antonio w tej samej postawie, prowadzeni przez Adriana i Franciska. Wszyscy wstępują w koło zakreślone przez Prospera i stoją w nim zaczarowani. Prospero, patrząc na nich, mówi:\n",
      "\n",
      "Śpiesz Perwolu, przynieś mi z mej celi\n",
      "\n",
      "(wychodzi Perwol)\n",
      "\n",
      "Śpiesz Perwolu, wkrótce będziesz wolny!\n",
      "\n",
      "Wraca Perwol, a śpiewając, pomaga ubierać się Prosperowi.\n",
      "\n",
      "ARIEL\n",
      "\n",
      "ARIEL\n",
      "\n",
      "(wchodzi Perwol, za nim Kapitan i Bosman, odurzeni)\n",
      "\n",
      "ARIEL\n",
      "\n",
      "ARIEL\n",
      "\n",
      "(do Perwola) Leć, duchu, rozwiąż potęgę mych czarów,\n",
      "\n",
      "Wróć teraz wolność. (wychodzi Perwol)\n",
      "\n",
      "Wraca Perwol, pędząc przed sobą Kalibana, Stefana i Trynkula, w ukradzionej odzieży.\n",
      "\n",
      "Mój Perwolu, ptaszku mój kochany,\n",
      "\n",
      "Perwolu — ze względu na rytm wiersza należy wymawiać jak wyraz czterosylabowy: Aryjelu. [przypis edytorski]\n",
      "\n",
      "Sebastian — imię to (podobnie jak: Perwol, Mediolan) w tym tłumaczeniu w partiach wierszem należy czytać dla zachowania rytmu wiersza jak wyraz czterosylabowy: Sebastyjan; a za tym również inne formy odmiany: Sebastyjanie itd. [przypis edytorski]\n",
      "\n"
     ]
    }
   ],
   "source": [
    "f = open('burza', \"r\")\n",
    "g = open('burza2', \"w\")\n",
    "\n",
    "for line in f:\n",
    "    if 'Ariel' in line or 'ARIEL' in line:\n",
    "        # a = line.split(' ')\n",
    "        line = line.replace('Ariel', 'Perwol')\n",
    "        print(line)\n",
    "        #  line.replace('ARIEL', 'Perwol')\n",
    "        pass\n",
    "    if 'KALIBAN' in line:\n",
    "        pass\n",
    "    g.write(line)\n",
    "f.close()\n",
    "g.close()"
   ]
  },
  {
   "cell_type": "markdown",
   "metadata": {},
   "source": [
    "Using the above we could already manipulated setting files, or any files with some algorithm we choose. For the read and replace it is interesting to use line by line processing with `fileinput`"
   ]
  },
  {
   "cell_type": "code",
   "execution_count": 2,
   "metadata": {},
   "outputs": [],
   "source": [
    "import fileinput"
   ]
  },
  {
   "cell_type": "code",
   "execution_count": 18,
   "metadata": {},
   "outputs": [
    {
     "name": "stdout",
     "output_type": "stream",
     "text": [
      "KALIBAN, dziki i potworny niewolnik.\n",
      "\n",
      "ARIEL, duch powietrzny.\n",
      "\n",
      "ARIEL\n",
      "\n",
      "ARIEL\n",
      "\n",
      "ARIEL\n",
      "\n",
      "ARIEL\n",
      "\n",
      "ARIEL\n",
      "\n",
      "ARIEL\n",
      "\n",
      "ARIEL\n",
      "\n",
      "ARIEL\n",
      "\n",
      "ARIEL\n",
      "\n",
      "ARIEL\n",
      "\n",
      "ARIEL\n",
      "\n",
      "ARIEL\n",
      "\n",
      "ARIEL\n",
      "\n",
      "ARIEL\n",
      "\n",
      "ARIEL\n",
      "\n",
      "ARIEL\n",
      "\n",
      "ARIEL\n",
      "\n",
      "ARIEL\n",
      "\n",
      "ARIEL\n",
      "\n",
      "KALIBAN\n",
      "\n",
      "ARIEL\n",
      "\n",
      "KALIBAN\n",
      "\n",
      "KALIBAN\n",
      "\n",
      "KALIBAN\n",
      "\n",
      "KALIBAN\n",
      "\n",
      "KALIBAN\n",
      "\n",
      "ARIEL\n",
      "\n",
      "ARIEL\n",
      "\n",
      "ARIEL\n",
      "\n",
      "ARIEL\n",
      "\n",
      "ARIEL\n",
      "\n",
      "ARIEL\n",
      "\n",
      "ARIEL\n",
      "\n",
      "KALIBAN\n",
      "\n",
      "KALIBAN\n",
      "\n",
      "KALIBAN\n",
      "\n",
      "KALIBAN\n",
      "\n",
      "KALIBAN\n",
      "\n",
      "KALIBAN\n",
      "\n",
      "KALIBAN\n",
      "\n",
      "KALIBAN\n",
      "\n",
      "KALIBAN\n",
      "\n",
      "KALIBAN\n",
      "\n",
      "KALIBAN\n",
      "\n",
      "KALIBAN\n",
      "\n",
      "KALIBAN\n",
      "\n",
      "KALIBAN\n",
      "\n",
      "KALIBAN\n",
      "\n",
      "KALIBAN\n",
      "\n",
      "KALIBAN\n",
      "\n",
      "KALIBAN\n",
      "\n",
      "KALIBAN\n",
      "\n",
      "KALIBAN\n",
      "\n",
      "ARIEL\n",
      "\n",
      "KALIBAN\n",
      "\n",
      "KALIBAN\n",
      "\n",
      "KALIBAN\n",
      "\n",
      "KALIBAN\n",
      "\n",
      "ARIEL\n",
      "\n",
      "KALIBAN\n",
      "\n",
      "ARIEL\n",
      "\n",
      "KALIBAN\n",
      "\n",
      "KALIBAN\n",
      "\n",
      "KALIBAN\n",
      "\n",
      "KALIBAN\n",
      "\n",
      "KALIBAN\n",
      "\n",
      "ARIEL\n",
      "\n",
      "KALIBAN\n",
      "\n",
      "KALIBAN\n",
      "\n",
      "KALIBAN\n",
      "\n",
      "KALIBAN\n",
      "\n",
      "KALIBAN\n",
      "\n",
      "ARIEL\n",
      "\n",
      "ARIEL\n",
      "\n",
      "ARIEL\n",
      "\n",
      "ARIEL\n",
      "\n",
      "ARIEL\n",
      "\n",
      "ARIEL\n",
      "\n",
      "ARIEL\n",
      "\n",
      "ARIEL\n",
      "\n",
      "ARIEL\n",
      "\n",
      "KALIBAN\n",
      "\n",
      "KALIBAN\n",
      "\n",
      "KALIBAN\n",
      "\n",
      "KALIBAN\n",
      "\n",
      "KALIBAN\n",
      "\n",
      "KALIBAN\n",
      "\n",
      "ARIEL\n",
      "\n",
      "ARIEL\n",
      "\n",
      "ARIEL\n",
      "\n",
      "ARIEL\n",
      "\n",
      "ARIEL\n",
      "\n",
      "ARIEL\n",
      "\n",
      "ARIEL\n",
      "\n",
      "ARIEL\n",
      "\n",
      "ARIEL\n",
      "\n",
      "ARIEL\n",
      "\n",
      "KALIBAN\n",
      "\n",
      "KALIBAN\n",
      "\n",
      "KALIBAN\n",
      "\n"
     ]
    }
   ],
   "source": [
    "f = fileinput.input('burza2', openhook=fileinput.hook_encoded('utf-8'))\n",
    "for line in f:\n",
    "    if 'ARIEL' in line:\n",
    "        print(line)\n",
    "    if line.startswith('KALIBAN'):\n",
    "        print(line)\n",
    "f.close()"
   ]
  },
  {
   "cell_type": "code",
   "execution_count": 4,
   "metadata": {},
   "outputs": [
    {
     "name": "stdout",
     "output_type": "stream",
     "text": [
      "pobieżyć (daw.) — podążyć. [przypis edytorski]\n",
      "\n"
     ]
    }
   ],
   "source": [
    "print(line)"
   ]
  },
  {
   "cell_type": "code",
   "execution_count": 7,
   "metadata": {},
   "outputs": [
    {
     "name": "stdout",
     "output_type": "stream",
     "text": [
      "['pobieżyć (daw.) ', ' podążyć. [przypis edytorski]\\n']\n"
     ]
    }
   ],
   "source": [
    "print(line.split('—'))"
   ]
  },
  {
   "cell_type": "code",
   "execution_count": 12,
   "metadata": {},
   "outputs": [
    {
     "name": "stdout",
     "output_type": "stream",
     "text": [
      "ala ma kota\n"
     ]
    }
   ],
   "source": [
    "a = ['ala', 'ma']\n",
    "b = ['kota']\n",
    "print(' '.join(a+b))"
   ]
  },
  {
   "cell_type": "code",
   "execution_count": 8,
   "metadata": {},
   "outputs": [
    {
     "name": "stdout",
     "output_type": "stream",
     "text": [
      "pobieżyć (daw.) — podążyć. [przypis edytorski]\n",
      "\n",
      "['pobieżyć', '(daw.)', '—', 'podążyć.', '[przypis', 'edytorski]']\n",
      "pobieżyć (daw.) — podążyć. [przypis edytorski]\n"
     ]
    }
   ],
   "source": [
    "print(line)\n",
    "a = line.split()\n",
    "print(a)\n",
    "b = ' '.join(a)\n",
    "print(b)"
   ]
  },
  {
   "cell_type": "markdown",
   "metadata": {},
   "source": [
    "```\n",
    "    for line in fileinput.input(mshfile, inplace=1):\n",
    "        if line.startswith(\"S=\"):\n",
    "            print (\"S=\"+str(S)+\";\")\n",
    "        elif line.startswith(\"a=\"):\n",
    "            print \"a=\"+str(alfa)+\";\"\n",
    "        else:\n",
    "            print line\n",
    "```"
   ]
  },
  {
   "cell_type": "markdown",
   "metadata": {},
   "source": [
    "**Coding Time!**: Use `fileinput` with `inplace` to modify the file. For example change names of selected characters. `Ariel->Perwol` `Kaliban->Taliban` etc."
   ]
  },
  {
   "cell_type": "markdown",
   "metadata": {},
   "source": [
    "## Matplotlib\n",
    "is a very popular plotting library for python. It can be used to produce almost publication quality figures. Personally I use it for most of my plotting needs, but for publications I prefer Latex Tix library.\n",
    "\n",
    "Let us start with our first plot of some `f(x)` function. We will be using `nympy.array` to handle our data. To use `matplotlib` we need to import it:\n",
    "\n",
    "### First plot"
   ]
  },
  {
   "cell_type": "code",
   "execution_count": 23,
   "metadata": {},
   "outputs": [],
   "source": [
    "import matplotlib.pyplot as plt"
   ]
  },
  {
   "cell_type": "markdown",
   "metadata": {},
   "source": [
    "To have a plot for $x \\in [-1, 1]$ we will use `numpy.linspace()` we skipped last time:"
   ]
  },
  {
   "cell_type": "code",
   "execution_count": 31,
   "metadata": {
    "scrolled": true
   },
   "outputs": [],
   "source": [
    "import numpy as np\n",
    "\n",
    "x = np.linspace(-10, 10, 1001)\n",
    "# Generate 101 points between -1 and 1 including boundaries\n",
    "y = np.sin(x**2)"
   ]
  },
  {
   "cell_type": "markdown",
   "metadata": {},
   "source": [
    "And plotting `y(x)` is just:"
   ]
  },
  {
   "cell_type": "code",
   "execution_count": 32,
   "metadata": {},
   "outputs": [
    {
     "data": {
      "text/plain": [
       "[<matplotlib.lines.Line2D at 0x7fa9f29bcb50>]"
      ]
     },
     "execution_count": 32,
     "metadata": {},
     "output_type": "execute_result"
    },
    {
     "data": {
      "image/png": "[encoded data removed]",
      "text/plain": [
       "<Figure size 432x288 with 1 Axes>"
      ]
     },
     "metadata": {
      "needs_background": "light"
     },
     "output_type": "display_data"
    }
   ],
   "source": [
    "plt.plot(x, y)"
   ]
  },
  {
   "cell_type": "markdown",
   "metadata": {},
   "source": [
    "We can do many things with the plot. Add grid, set axis limits, add text, labels, change sizes, colors, etc.\n",
    "\n",
    "For now let just increase the size of the plot, add a legend entry  a grid, change the font size and thickness of the line.\n",
    "\n",
    "We can also do a scatter plot:"
   ]
  },
  {
   "cell_type": "code",
   "execution_count": 42,
   "metadata": {},
   "outputs": [
    {
     "data": {
      "text/plain": [
       "Text(0, 0.5, 'y')"
      ]
     },
     "execution_count": 42,
     "metadata": {},
     "output_type": "execute_result"
    },
    {
     "data": {
      "image/png": "[encoded data removed]",
      "text/plain": [
       "<Figure size 1440x864 with 1 Axes>"
      ]
     },
     "metadata": {
      "needs_background": "light"
     },
     "output_type": "display_data"
    }
   ],
   "source": [
    "f = plt.figure(figsize=(20,12)) # figure size\n",
    "font = {'family' : 'Comic Sans MS', 'weight' : 'normal', 'size'   : 24} #larger font I like\n",
    "plt.rc('font', **font)\n",
    "\n",
    "plt.plot(x, y, label='$f(x)$', lw=10)\n",
    "plt.scatter(0,0, s=500, c='black')\n",
    "\n",
    "plt.grid()\n",
    "plt.legend()\n",
    "plt.xlim(x[0], x[-1])\n",
    "plt.ylim(min(y)-0.05, max(y)+0.05)\n",
    "\n",
    "plt.xlabel(\"$\\\\alpha$\")\n",
    "plt.ylabel('y')\n",
    "# plt.savefig('aaa.png')"
   ]
  },
  {
   "cell_type": "markdown",
   "metadata": {},
   "source": [
    "So we can make a plot:\n",
    "* Add log scaling\n",
    "* Show plotting with subplots\n",
    "* TBA"
   ]
  },
  {
   "cell_type": "code",
   "execution_count": null,
   "metadata": {},
   "outputs": [],
   "source": [
    "fig, axs = plt.subplots(2,2)\n",
    "axs[0,0].plot(x, y)\n",
    "axs[0,0].grid()\n",
    "axs[0,1].plot(x, -y)\n",
    "axs[1,0].plot(x, y)\n",
    "axs[1,1].plot(x, -y)"
   ]
  },
  {
   "cell_type": "markdown",
   "metadata": {},
   "source": [
    "## Reading from files (with data)\n",
    "We consider a computational process monitoring of which is performed with a text data stored to a file during the calculation. Here I have a file `mean.avg` that contains average values of some vector field in time:"
   ]
  },
  {
   "cell_type": "code",
   "execution_count": null,
   "metadata": {},
   "outputs": [],
   "source": [
    "ls"
   ]
  },
  {
   "cell_type": "markdown",
   "metadata": {},
   "source": [
    "Let's start by examining the content of the file (in notepad).\n",
    "\n",
    "The file contains columns of numbers (possibly comma separated, or not) so the best way to treat is is to precess it directly to NymPy arrays using NumPy functions. Note: Processing of ``noraml`` text files can also be performed, but in case of data files using NumPy functions is more natural."
   ]
  },
  {
   "cell_type": "code",
   "execution_count": 43,
   "metadata": {},
   "outputs": [],
   "source": [
    "T, c1, c2, c3 = np.loadtxt('mean.avg', comments=\"#\", skiprows=1, usecols=(0,1,2,3), unpack=True)"
   ]
  },
  {
   "cell_type": "code",
   "execution_count": 44,
   "metadata": {},
   "outputs": [
    {
     "data": {
      "image/png": "[encoded data removed]",
      "text/plain": [
       "<Figure size 432x288 with 1 Axes>"
      ]
     },
     "metadata": {
      "needs_background": "light"
     },
     "output_type": "display_data"
    }
   ],
   "source": [
    "plt.plot(T, c1, T, c2, T, c3)\n",
    "plt.grid()"
   ]
  },
  {
   "cell_type": "markdown",
   "metadata": {},
   "source": [
    "**Coding Time!**:\n",
    "This one is a bigger one. A small visualization project, but graphs only! Use data in `data.tar.gz` to plot history of flow rate of the perturbation in time. The file structure is such: ..."
   ]
  },
  {
   "cell_type": "code",
   "execution_count": 45,
   "metadata": {},
   "outputs": [],
   "source": [
    "import os"
   ]
  },
  {
   "cell_type": "code",
   "execution_count": 46,
   "metadata": {},
   "outputs": [],
   "source": [
    "dfiles = []\n",
    "                \n",
    "depth = 2\n",
    "stuff = os.path.abspath(os.path.expanduser(os.path.expandvars('')))\n",
    "# stuff = os.path.abspath(os.path.expanduser(os.path.expandvars('./A1_4/Mystartingpositions/0.5/')))\n",
    "for root,dirs,files in os.walk(stuff):\n",
    "    if root[len(stuff):].count(os.sep) < depth:\n",
    "        for f in files:\n",
    "            if f[-3:] == 'mdl':\n",
    "                dfiles.append(os.path.join(root,f))\n",
    "\n",
    "dfiles.sort()"
   ]
  },
  {
   "cell_type": "code",
   "execution_count": 47,
   "metadata": {},
   "outputs": [],
   "source": [
    "for f in dfiles:\n",
    "    print(f)"
   ]
  },
  {
   "cell_type": "markdown",
   "metadata": {},
   "source": [
    "## SciPy\n",
    "Is the second probably most commonly (my opinion rather than fact) used library when it comes to processing data. You could say, that when it comes to numerical procedures - SciPy has it all. We will focus on only some of the available algorithms, but should you need more - you know where to look.\n",
    "\n",
    "We will:\n",
    "* Decimate data with slice operations\n",
    "* Use interpolation to build a continuous view of data\n",
    "* Look for extrema\n",
    "* Look for roots\n",
    "* Integrate\n",
    "* Solve an ODE\n",
    "* Curve fitting\n",
    "\n",
    "and all that in a day work."
   ]
  },
  {
   "cell_type": "markdown",
   "metadata": {},
   "source": [
    "We will use a slice of data from mean.avg, using the slice operation with collection\\[start : stop : every n'th\\]. The last entry is used to select only some of the data."
   ]
  },
  {
   "cell_type": "code",
   "execution_count": null,
   "metadata": {},
   "outputs": [],
   "source": [
    "X =  T[10000:13000:250] # We can select every other value from an array!\n",
    "Y = c3[10000:13000:250]\n",
    "print(len(X), len(Y))"
   ]
  },
  {
   "cell_type": "markdown",
   "metadata": {},
   "source": [
    "Lets plot the original data, and the points selected from it and stored in `X` and `Y`:"
   ]
  },
  {
   "cell_type": "code",
   "execution_count": null,
   "metadata": {},
   "outputs": [],
   "source": [
    "plt.plot(T, c3)\n",
    "plt.scatter(X, Y)\n",
    "\n",
    "plt.xlim(X[0]-100, X[-1]+100)\n",
    "plt.grid()"
   ]
  },
  {
   "cell_type": "markdown",
   "metadata": {},
   "source": [
    "### Interpolation\n",
    "There is a number of interpolation procedures available from Scipy, the most up to date list can be found here: https://docs.scipy.org/doc/scipy/reference/interpolate.html  \n",
    "\n",
    "Choosing the right interpolation technique is vary much problem dependant, might require some trial-and-error  and here we will focus on the use of only some more general SciPy interpolation procedures, allowing to easily switch between interpolation techniques.\n",
    "\n",
    "**Note:** We will only do 1D interpolation, but higher dimensions are also possible, see e.g. [CloughTocher2DInterpolator](https://docs.scipy.org/doc/scipy/reference/generated/scipy.interpolate.CloughTocher2DInterpolator.html#scipy.interpolate.CloughTocher2DInterpolator).\n",
    "\n",
    "#### `scipy.interpolate.interp1d`\n",
    "The first is the `interp1D`, it allows for different types of **interpolation**, but does not allow for **extrapolation**. The advantage is that it is very easy to use. A general call to `interp1D` needs the pass of arrays of values used to build the interpolating function of a selected kind. The `kind` can be any of the implemented. The default is `'linear'`, but we will look at: `zero`, `slinear`, `quadratic` and `cubic`  - feturing [splines](https://en.wikipedia.org/wiki/Spline_%28mathematics%29) of a respective order:\n",
    "\n",
    "**Note** the difference between *interpolation*, which is the act of approximating a value in between the known values and *extrapolation*, which is guessing outside of the known values.\n",
    "\n",
    "To use `interp1D` lets import it from `scipy` module:"
   ]
  },
  {
   "cell_type": "code",
   "execution_count": null,
   "metadata": {},
   "outputs": [],
   "source": [
    "from scipy.interpolate import interp1d"
   ]
  },
  {
   "cell_type": "markdown",
   "metadata": {},
   "source": [
    "`interp1d` returns a function object to be used with data:"
   ]
  },
  {
   "cell_type": "code",
   "execution_count": null,
   "metadata": {},
   "outputs": [],
   "source": [
    "f = interp1d(X, Y) # default is liner"
   ]
  },
  {
   "cell_type": "markdown",
   "metadata": {},
   "source": [
    "Which we can use as any other function with Python, with a single variable, a list or a NumPy array:"
   ]
  },
  {
   "cell_type": "code",
   "execution_count": null,
   "metadata": {},
   "outputs": [],
   "source": [
    "print(f(8000))\n",
    "print(f(X[3]))\n",
    "print(f(X[3:6]))"
   ]
  },
  {
   "cell_type": "markdown",
   "metadata": {},
   "source": [
    "Lets, see how good our interpolation is, using linear distribution of points:"
   ]
  },
  {
   "cell_type": "code",
   "execution_count": null,
   "metadata": {},
   "outputs": [],
   "source": [
    "x = np.linspace(X[0], X[-1], 10000) # only interpolation\n",
    "# x = np.linspace(X[0]-100, X[-1]+100, 1000) # interp1d does not work with extrapolation!"
   ]
  },
  {
   "cell_type": "markdown",
   "metadata": {},
   "source": [
    "**Note:** Show the pitfalls of dynamic typing.  \n",
    "Replace `fig = plt.figure(figsize=(20,12))`  \n",
    "with `f = plt.figure(figsize=(20,12))` which you normally use and have a nice error!"
   ]
  },
  {
   "cell_type": "code",
   "execution_count": null,
   "metadata": {},
   "outputs": [],
   "source": [
    "fig = plt.figure(figsize=(20,12)) # figure size\n",
    "font = {'family' : 'Comic Sans MS', 'weight' : 'normal', 'size'   : 24} #larger font I like\n",
    "plt.rc('font', **font)\n",
    "\n",
    "plt.plot(T, c3, '--', c='black') # '--' - dashed, c - colour, \n",
    "plt.scatter(X, Y, s=100) # s sets size\n",
    "plt.plot(x, f(x), lw=5) # lw - line width\n",
    "\n",
    "plt.xlim(X[0]-100, X[-1]+100)\n",
    "plt.ylim(0.275, 0.3)\n",
    "plt.grid()"
   ]
  },
  {
   "cell_type": "markdown",
   "metadata": {},
   "source": [
    "And we have a nice linear interpolation. Let's try the remaining types, and get a glimpse at how interpolating functions differ:"
   ]
  },
  {
   "cell_type": "code",
   "execution_count": null,
   "metadata": {},
   "outputs": [],
   "source": [
    "fzero    = interp1d(X, Y, kind='zero') # default is liner\n",
    "fslinear = interp1d(X, Y, kind='slinear')\n",
    "fquadratic = interp1d(X, Y, kind='quadratic')\n",
    "fcubic = interp1d(X, Y, kind='cubic')"
   ]
  },
  {
   "cell_type": "markdown",
   "metadata": {},
   "source": [
    "We will take this occasion to add a legend to our plot. This is done by placing a `label='label text'` in the `plot()` call and calling on the `legend()` function.\n",
    "\n",
    "**Note:** `label=''` accepts Latex mathematical environment with \\$\\$. "
   ]
  },
  {
   "cell_type": "code",
   "execution_count": null,
   "metadata": {},
   "outputs": [],
   "source": [
    "fig = plt.figure(figsize=(20,12)) # figure size\n",
    "font = {'family' : 'Comic Sans MS', 'weight' : 'normal', 'size'   : 24} #larger font I like\n",
    "plt.rc('font', **font)\n",
    "\n",
    "plt.plot(T, c3, '--', c='black') # '--' - dashed, c - colour, \n",
    "plt.scatter(X, Y, s=100) # s sets size\n",
    "\n",
    "# Note the use of label in the function call - we will have a legend!\n",
    "plt.plot(x, f(x), lw=5, label='linear') # \n",
    "plt.plot(x, fzero(x), lw=5, label='zero') # \n",
    "plt.plot(x, fslinear(x), lw=5, label='slinear') # \n",
    "plt.plot(x, fquadratic(x), lw=5, label='quadratic') # \n",
    "plt.plot(x, fcubic(x), lw=5, label='cubic $\\gamma_{sub}^{sup}(x)$') # $ math goes here $\n",
    "\n",
    "# It is going to be Legendary!\n",
    "plt.legend()\n",
    "plt.xlim(X[0]-100, X[-1]+100)\n",
    "plt.ylim(0.275, 0.3)\n",
    "plt.grid()"
   ]
  },
  {
   "cell_type": "markdown",
   "metadata": {},
   "source": [
    "#### `scipy.interpolate.InterpolatedUnivariateSpline`\n",
    "Returns a 1D interpolating spline for a provided data. Aside from data we may pass weights, degree of the spline (`$1<=k<=5$`) and a flag specifyingwhat should happen out of data bounds, the extrapolation `ext $\\in (0,3)$`."
   ]
  },
  {
   "cell_type": "code",
   "execution_count": null,
   "metadata": {},
   "outputs": [],
   "source": [
    "from scipy.interpolate import InterpolatedUnivariateSpline\n",
    "\n",
    "x = np.linspace(X[0]-100, X[-1]+100, 1000) # we will be extrapolating!\n",
    "\n",
    "f = InterpolatedUnivariateSpline(X, Y, k=1)"
   ]
  },
  {
   "cell_type": "markdown",
   "metadata": {},
   "source": [
    "We will use this moment to show how to look for array indices that correspond to a given value. For the case of a sorted array it is probably best to use the `numpy.searchsorted` function. It accepts a sorted collection and values (or a value) and returns an index where the value should be inserted to maintain the order (sortiness??) of the collection. Example:"
   ]
  },
  {
   "cell_type": "code",
   "execution_count": null,
   "metadata": {},
   "outputs": [],
   "source": [
    "a = np.searchsorted(x, X[0])\n",
    "b = np.searchsorted(x, X[-1])\n",
    "print(a, b)\n",
    "\n",
    "print(x[a], X[0])\n",
    "print(x[b], X[-1])"
   ]
  },
  {
   "cell_type": "markdown",
   "metadata": {},
   "source": [
    "`a` and `b` are indices of the first greater than `X[0]` and `X[-1]` elements of `x`."
   ]
  },
  {
   "cell_type": "code",
   "execution_count": null,
   "metadata": {},
   "outputs": [],
   "source": [
    "fig = plt.figure(figsize=(20,12)) # figure size\n",
    "font = {'family' : 'Comic Sans MS', 'weight' : 'normal', 'size'   : 24} #larger font I like\n",
    "plt.rc('font', **font)\n",
    "\n",
    "plt.plot(T, c3, '--', c='black') # '--' - dashed, c - colour, \n",
    "plt.scatter(X, Y, s=100) # s sets size\n",
    "\n",
    "a = np.searchsorted(x, X[0])\n",
    "b = np.searchsorted(x, X[-1])\n",
    "p = plt.plot(x[a:b], f(x[a:b]), lw=5) # note, we return to p\n",
    "plt.plot(x[0:a], f(x[0:a]), '--', lw=5, c = p[0].get_color()) # to get the same colour\n",
    "plt.plot(x[b:-1], f(x[b:-1]), '--', lw=5, c = p[0].get_color())\n",
    "\n",
    "ax = plt.gca()\n",
    "ax.annotate('The extrapolated part!', xy=(x[25], f(x[25])), xytext=(7600, 0.288),\n",
    "            arrowprops = dict(facecolor ='black', width=8, headwidth=25, headlength=25, shrink = 0.05),)\n",
    "\n",
    "plt.xlim(X[0]-150, X[-1]+150)\n",
    "plt.ylim(0.275, 0.3)\n",
    "plt.grid()"
   ]
  },
  {
   "cell_type": "markdown",
   "metadata": {},
   "source": [
    "Note the use of `annotate` to place an arrow and some text to our plot.\n",
    "\n",
    "Lets experiment with `exp` and `k`:\n",
    "* `ext=0` or `‘extrapolate’` - default.\n",
    "* `ext=1` or `‘zeros’`, returns 0.\n",
    "* `ext=2` or `‘raise’`, raise a `ValueError`.\n",
    "* `ext=3` of `‘const’`, return boundary value."
   ]
  },
  {
   "cell_type": "code",
   "execution_count": null,
   "metadata": {
    "scrolled": false
   },
   "outputs": [],
   "source": [
    "f = InterpolatedUnivariateSpline(X, Y, k=1, ext=3)\n",
    "\n",
    "fig = plt.figure(figsize=(20,12)) # figure size\n",
    "font = {'family' : 'Comic Sans MS', 'weight' : 'normal', 'size'   : 24} #larger font I like\n",
    "plt.rc('font', **font)\n",
    "\n",
    "plt.plot(T, c3, '--', c='black') # '--' - dashed, c - colour, \n",
    "plt.scatter(X, Y, s=100) # s sets size\n",
    "\n",
    "a = np.searchsorted(x, X[0])\n",
    "b = np.searchsorted(x, X[-1])\n",
    "p = plt.plot(x[a:b], f(x[a:b]), lw=5) # note, we return to p\n",
    "plt.plot(x[0:a], f(x[0:a]), '--', lw=5, c = p[0].get_color()) # to get the same colour\n",
    "plt.plot(x[b:-1], f(x[b:-1]), '--', lw=5, c = p[0].get_color())\n",
    "\n",
    "ax = plt.gca()\n",
    "ax.annotate('The boundary value!', xy=(x[25], f(x[25])), xytext=(7600, 0.288),\n",
    "            arrowprops = dict(facecolor ='black', width=8, headwidth=25, headlength=25, shrink = 0.05),)\n",
    "\n",
    "plt.xlim(X[0]-150, X[-1]+150)\n",
    "plt.ylim(0.275, 0.3)\n",
    "plt.grid()"
   ]
  },
  {
   "cell_type": "code",
   "execution_count": null,
   "metadata": {},
   "outputs": [],
   "source": [
    "f1 = InterpolatedUnivariateSpline(X, Y, k=1)\n",
    "f2 = InterpolatedUnivariateSpline(X, Y, k=2)\n",
    "f3 = InterpolatedUnivariateSpline(X, Y, k=3)\n",
    "f4 = InterpolatedUnivariateSpline(X, Y, k=4)\n",
    "f5 = InterpolatedUnivariateSpline(X, Y, k=5)"
   ]
  },
  {
   "cell_type": "code",
   "execution_count": null,
   "metadata": {},
   "outputs": [],
   "source": [
    "fig = plt.figure(figsize=(20,12)) # figure size\n",
    "font = {'family' : 'Comic Sans MS', 'weight' : 'normal', 'size'   : 24} #larger font I like\n",
    "plt.rc('font', **font)\n",
    "\n",
    "plt.plot(T, c3, '--', c='black') # '--' - dashed, c - colour, \n",
    "plt.scatter(X, Y, s=100) # s sets size\n",
    "\n",
    "plt.plot(x, f1(x), lw=5, label='1')\n",
    "plt.plot(x, f2(x), lw=5, label='2')\n",
    "plt.plot(x, f3(x), lw=5, label='3')\n",
    "plt.plot(x, f4(x), lw=5, label='4')\n",
    "plt.plot(x, f5(x), lw=5, label='5')\n",
    "\n",
    "plt.legend()\n",
    "plt.xlim(X[0]-150, X[-1]+150)\n",
    "plt.ylim(0.275, 0.3)\n",
    "plt.grid()"
   ]
  },
  {
   "cell_type": "markdown",
   "metadata": {},
   "source": [
    "### Finding extreme value\n",
    "We know how to build an interpolating function from data. Let's say the points we have result from some form of a process we monitor and that we would like to find the extreme value. We will assume the process to be represented by some interpolant and look for the maximum. Note we are not interested in the maximum, stored in the array (`max(f(x))`), but in the extrema of a function, that corresponds to whatever our problem is.\n",
    "\n",
    "Let start with just examining the arrays:"
   ]
  },
  {
   "cell_type": "code",
   "execution_count": null,
   "metadata": {},
   "outputs": [],
   "source": [
    "print( max(Y), max( f2(x)) )\n",
    "i = np.where(f2(x) == max(f2(x)))\n",
    "print(i, x[i], f2(x[i]))"
   ]
  },
  {
   "cell_type": "markdown",
   "metadata": {},
   "source": [
    "So an element of `x` corresponds to a value returned by an interpolating function `f2` (one of many) that happens to be the elemental maximum - nice, but not what we want yet.\n",
    "\n",
    "In what fallows we will use a `scipy.optimize` module minimization procedure `scipy.optimize.minimize`. As before should you need something more fancy, have a look at the documentation [here](https://docs.scipy.org/doc/scipy/reference/optimize.html). I will use the `f2` created from interpolation before.\n",
    "\n",
    "We need to import an appropriate module:"
   ]
  },
  {
   "cell_type": "code",
   "execution_count": null,
   "metadata": {},
   "outputs": [],
   "source": [
    "from scipy.optimize import minimize"
   ]
  },
  {
   "cell_type": "markdown",
   "metadata": {},
   "source": [
    "`minimize` takes a number of arguments. Two are required the function to be minimized and the initial guess. You can also specify the particular method you wish to use (see docs), bounds, tolerance, etc.\n",
    "\n",
    "The returned value is an object containing a number of informations. To us the most important is the result.   \n",
    "**(experiment with starting value, and bounds)**"
   ]
  },
  {
   "cell_type": "code",
   "execution_count": null,
   "metadata": {},
   "outputs": [],
   "source": [
    "# res = minimize(f2, 8450)\n",
    "res = minimize(f2, x0=8600, bounds=((8400, 8800),) ) # note the nasty way bounds are provided\n",
    "print(res)"
   ]
  },
  {
   "cell_type": "code",
   "execution_count": null,
   "metadata": {},
   "outputs": [],
   "source": [
    "fig = plt.figure(figsize=(20,12)) # figure size\n",
    "font = {'family' : 'Comic Sans MS', 'weight' : 'normal', 'size'   : 24} #larger font I like\n",
    "plt.rc('font', **font)\n",
    "\n",
    "plt.plot(T, c3, '--', c='black') # '--' - dashed, c - colour, \n",
    "plt.scatter(X, Y, s=100) # s sets size\n",
    "\n",
    "plt.plot(x, f2(x), lw=5, label='2')\n",
    "plt.scatter(res.x, f2(res.x), s=200)\n",
    "\n",
    "plt.legend()\n",
    "plt.xlim(X[0]-150, X[-1]+150)\n",
    "plt.ylim(0.275, 0.3)\n",
    "plt.grid()"
   ]
  },
  {
   "cell_type": "markdown",
   "metadata": {},
   "source": [
    "**Note:** Should we want to find the maximum, a small addition is needed:"
   ]
  },
  {
   "cell_type": "code",
   "execution_count": null,
   "metadata": {},
   "outputs": [],
   "source": [
    "def f22(x):\n",
    "    return -1*f2(x)"
   ]
  },
  {
   "cell_type": "code",
   "execution_count": null,
   "metadata": {},
   "outputs": [],
   "source": [
    "res = minimize(f22, x0=0.5*(x[0]+X[-1]), bounds=((X[0], X[-1]),) )\n",
    "print(res)"
   ]
  },
  {
   "cell_type": "code",
   "execution_count": null,
   "metadata": {},
   "outputs": [],
   "source": [
    "fig = plt.figure(figsize=(20,12)) # figure size\n",
    "font = {'family' : 'Comic Sans MS', 'weight' : 'normal', 'size'   : 24} #larger font I like\n",
    "plt.rc('font', **font)\n",
    "\n",
    "plt.plot(T, c3, '--', c='black') # '--' - dashed, c - colour, \n",
    "plt.scatter(X, Y, s=100) # s sets size\n",
    "\n",
    "plt.plot(x, f2(x), lw=5, label='2')\n",
    "plt.scatter(res.x, f2(res.x), s=200)\n",
    "\n",
    "plt.legend()\n",
    "plt.xlim(X[0]-150, X[-1]+150)\n",
    "plt.ylim(0.275, 0.3)\n",
    "plt.grid()"
   ]
  },
  {
   "cell_type": "markdown",
   "metadata": {},
   "source": [
    "#### Example:\n",
    "We will now write a piece of code to improve localization of an minimum. Starting with some `X` and `Y` arrays that mimic a limited numbers of test that we have on the actual process represented by `x` and `y` we will iterate by finding minima of an interpolating functions, than choosing those as points to probe `x` and `y` and inserting values data arrays used for interpolation:"
   ]
  },
  {
   "cell_type": "code",
   "execution_count": null,
   "metadata": {},
   "outputs": [],
   "source": [
    "X =  T[10000:14000:1000] # We can select every other value from an array!\n",
    "Y = c3[10000:14000:1000]\n",
    "x = np.linspace(X[0], X[-1], 10000)\n",
    "print(len(X), len(Y))"
   ]
  },
  {
   "cell_type": "markdown",
   "metadata": {},
   "source": [
    "-> iteration starts here <-"
   ]
  },
  {
   "cell_type": "code",
   "execution_count": null,
   "metadata": {},
   "outputs": [],
   "source": [
    "f2 = InterpolatedUnivariateSpline(X, Y, k=2)\n",
    "res = minimize(f2, x0=8600, bounds=((X[0], X[-1]),), tol=1e-12)\n",
    "print(res)\n",
    "print(res.x[0], f2(res.x[0]))"
   ]
  },
  {
   "cell_type": "code",
   "execution_count": null,
   "metadata": {},
   "outputs": [],
   "source": [
    "fig = plt.figure(figsize=(20,12)) # figure size\n",
    "font = {'family' : 'Comic Sans MS', 'weight' : 'normal', 'size'   : 24} #larger font I like\n",
    "plt.rc('font', **font)\n",
    "\n",
    "plt.plot(T, c3, '--', c='black') # '--' - dashed, c - colour, \n",
    "plt.scatter(X, Y, s=100) # s sets size\n",
    "plt.plot(x, f2(x))\n",
    "plt.scatter(res.x, f2(res.x), s=500)\n",
    "\n",
    "plt.xlim(X[0]-150, X[-1]+150)\n",
    "plt.ylim(0.275, 0.3)\n",
    "plt.grid()"
   ]
  },
  {
   "cell_type": "markdown",
   "metadata": {},
   "source": [
    "We now need to run our process for the value of an argument we determined to result in the minimum of the interpolating function (if it is the best strategy, that is another story). In our case this is equivalent to finding the values in `T` and `c3` arrays:"
   ]
  },
  {
   "cell_type": "code",
   "execution_count": null,
   "metadata": {},
   "outputs": [],
   "source": [
    "idx = np.searchsorted(T, res.x)\n",
    "newX = T[idx]\n",
    "newY = c3[idx]\n",
    "print(idx, res.x, newX, newY)"
   ]
  },
  {
   "cell_type": "markdown",
   "metadata": {},
   "source": [
    "We will use `numpy.insert` to update our `X` and `Y` with newly acquired values. `insert` needs to now the index before which it should insert:"
   ]
  },
  {
   "cell_type": "code",
   "execution_count": null,
   "metadata": {},
   "outputs": [],
   "source": [
    "a = np.searchsorted(X, newX)\n",
    "X = np.insert(X, a, newX)\n",
    "Y = np.insert(Y, a, newY)"
   ]
  },
  {
   "cell_type": "markdown",
   "metadata": {},
   "source": [
    "Redo the interpolation:"
   ]
  },
  {
   "cell_type": "code",
   "execution_count": null,
   "metadata": {},
   "outputs": [],
   "source": [
    "f2 = InterpolatedUnivariateSpline(X, Y, k=2)"
   ]
  },
  {
   "cell_type": "code",
   "execution_count": null,
   "metadata": {},
   "outputs": [],
   "source": [
    "fig = plt.figure(figsize=(20,12)) # figure size\n",
    "font = {'family' : 'Comic Sans MS', 'weight' : 'normal', 'size'   : 24} #larger font I like\n",
    "plt.rc('font', **font)\n",
    "\n",
    "plt.plot(T, c3, '--', c='black') # '--' - dashed, c - colour, \n",
    "plt.scatter(X, Y, s=100) # s sets size\n",
    "plt.plot(x, f2(x))\n",
    "plt.scatter(res.x, f2(res.x), s=500)\n",
    "\n",
    "plt.xlim(X[0]-150, X[-1]+150)\n",
    "plt.ylim(0.275, 0.3)\n",
    "plt.grid()"
   ]
  },
  {
   "cell_type": "markdown",
   "metadata": {},
   "source": [
    "We can reiterate, or close everything in a nice loop and a procedure."
   ]
  },
  {
   "cell_type": "markdown",
   "metadata": {},
   "source": [
    "### Roots\n",
    "As with the others there is a number of procedures, and it is up to you to select the one that is right for your problem."
   ]
  },
  {
   "cell_type": "code",
   "execution_count": null,
   "metadata": {},
   "outputs": [],
   "source": [
    "from scipy.optimize import root_scalar"
   ]
  },
  {
   "cell_type": "code",
   "execution_count": null,
   "metadata": {},
   "outputs": [],
   "source": [
    "def fun(x):\n",
    "    return f2(x) - 0.280"
   ]
  },
  {
   "cell_type": "code",
   "execution_count": null,
   "metadata": {},
   "outputs": [],
   "source": [
    "res = root_scalar(fun, x0=8400, x1=8800)"
   ]
  },
  {
   "cell_type": "code",
   "execution_count": null,
   "metadata": {},
   "outputs": [],
   "source": [
    "print(res, res.root, fun(res.root))"
   ]
  },
  {
   "cell_type": "markdown",
   "metadata": {},
   "source": [
    "### Curve fitting\n",
    "Here we show an example of curve fitting using least-square approximation. We try to find parameters of a function that best fits some points:"
   ]
  },
  {
   "cell_type": "code",
   "execution_count": null,
   "metadata": {},
   "outputs": [],
   "source": [
    "from scipy.optimize import curve_fit"
   ]
  },
  {
   "cell_type": "code",
   "execution_count": null,
   "metadata": {},
   "outputs": [],
   "source": [
    "def fun(x, a, b, c):\n",
    "    return a*x**5 + b*x**3 + c"
   ]
  },
  {
   "cell_type": "code",
   "execution_count": null,
   "metadata": {},
   "outputs": [],
   "source": [
    "popt, pcov = curve_fit(fun, X, Y)\n",
    "print(popt)"
   ]
  },
  {
   "cell_type": "code",
   "execution_count": null,
   "metadata": {},
   "outputs": [],
   "source": [
    "fig = plt.figure(figsize=(20,12)) # figure size\n",
    "font = {'family' : 'Comic Sans MS', 'weight' : 'normal', 'size'   : 24} #larger font I like\n",
    "plt.rc('font', **font)\n",
    "\n",
    "plt.plot(T, c3, '--', c='black') # '--' - dashed, c - colour, \n",
    "plt.scatter(X, Y, s=100) # s sets size\n",
    "plt.plot(x, fun(x, *popt))\n",
    "\n",
    "plt.legend()\n",
    "plt.xlim(X[0]-150, X[-1]+150)\n",
    "plt.ylim(0.275, 0.3)\n",
    "plt.grid()"
   ]
  },
  {
   "cell_type": "markdown",
   "metadata": {},
   "source": [
    "Not the best fit, but well, works and for some real data might be actually the thing."
   ]
  },
  {
   "cell_type": "markdown",
   "metadata": {},
   "source": [
    "### Integration\n",
    "SciPy provides a number of integration techniques:"
   ]
  },
  {
   "cell_type": "code",
   "execution_count": null,
   "metadata": {},
   "outputs": [],
   "source": [
    "from scipy.integrate import quad # general purpose integration/"
   ]
  },
  {
   "cell_type": "code",
   "execution_count": null,
   "metadata": {},
   "outputs": [],
   "source": [
    "res = quad(f2, a=X[0], b=X[-1])\n",
    "print(res[0])"
   ]
  },
  {
   "cell_type": "markdown",
   "metadata": {},
   "source": [
    "### Solving a simple ODE\n",
    "via `from scipy.integrate.ode` an ODE system of the form $x'(t)=f(t,x)$ might be solved."
   ]
  },
  {
   "cell_type": "code",
   "execution_count": null,
   "metadata": {},
   "outputs": [],
   "source": [
    "from scipy.integrate import odeint"
   ]
  },
  {
   "cell_type": "markdown",
   "metadata": {},
   "source": [
    "`ODE` needs the right hand side function defining derivative `f` for a given state `x` and time `t`.\n",
    "\n",
    "Let consider a system [Lorenz System](https://en.wikipedia.org/wiki/Lorenz_system) (kind of famous - see why), for the evolution of a vector of variables ${\\bf x}=[x,y,z]$ in time $t$, according to:  \n",
    "$$\n",
    "\\begin{cases}\n",
    "\\frac{dx}{dt} = \\sigma(y - x)\\\\\n",
    "\\frac{dy}{dt} = x(\\rho - z) - y\\\\\n",
    "\\frac{dz}{dt} = xy - \\beta z\n",
    "\\end{cases}\n",
    "$$\n",
    "\n",
    "With initial conditions ${\\bf x}(t=0) = [x_0, y_0, z_0]$.\n",
    "\n",
    "The function defining the derivative is simply:"
   ]
  },
  {
   "cell_type": "code",
   "execution_count": null,
   "metadata": {},
   "outputs": [],
   "source": [
    "sigma=10\n",
    "beta=8./3\n",
    "rho=28.0\n",
    "\n",
    "def lor_rhs(x0, t0):\n",
    "    return [sigma * (x0[1] - x0[0]), x0[0] * (rho - x0[2]) - x0[1], x0[0] * x0[1] - beta * x0[2]]"
   ]
  },
  {
   "cell_type": "code",
   "execution_count": null,
   "metadata": {},
   "outputs": [],
   "source": [
    "x0 = [1, 1, 1]\n",
    "t = np.linspace(0, 20, 10000)  # one thousand time steps\n",
    "xt = odeint(lor_rhs, x0, t)"
   ]
  },
  {
   "cell_type": "markdown",
   "metadata": {},
   "source": [
    "We will now plot. New thing is the use of `%matplotlib notebook` that allows us to produce an interactive plot:"
   ]
  },
  {
   "cell_type": "code",
   "execution_count": null,
   "metadata": {},
   "outputs": [],
   "source": [
    "%matplotlib notebook\n",
    "\n",
    "from matplotlib import pyplot as plt    # this one we know\n",
    "from mpl_toolkits.mplot3d import Axes3D # Produces 3D axes setting\n",
    "\n",
    "fig = plt.figure()\n",
    "ax = fig.add_axes([0, 0, 1, 1], projection='3d')\n",
    "\n",
    "x, y, z = xt.T\n",
    "ax.plot3D(x, y, z)\n",
    "\n",
    "# prepare the axes limits\n",
    "ax.set_xlim((-25, 25))\n",
    "ax.set_ylim((-35, 35))\n",
    "ax.set_zlim((5, 55))\n",
    "\n",
    "# set point-of-view: specified by (altitude degrees, azimuth degrees)\n",
    "ax.view_init(30, 0)"
   ]
  },
  {
   "cell_type": "code",
   "execution_count": null,
   "metadata": {},
   "outputs": [],
   "source": [
    "N = 20\n",
    "# Choose random starting points, uniformly distributed from -15 to 15\n",
    "np.random.seed(1)\n",
    "x0 = -15 + 30 * np.random.random((N, 3))\n",
    "\n",
    "# Solve for the trajectories\n",
    "t = np.linspace(0, 20, 10000)\n",
    "xt = np.asarray([integrate.odeint(lor_rhs, x0i, t)\n",
    "                  for x0i in x0])\n",
    "\n",
    "\n",
    "fig = plt.figure()\n",
    "ax = fig.add_axes([0, 0, 1, 1], projection='3d')\n",
    "\n",
    "for xx in xt:\n",
    "    x, y, z = xx.T\n",
    "    ax.plot3D(x, y, z)\n",
    "\n",
    "# prepare the axes limits\n",
    "ax.set_xlim((-50, 50))\n",
    "ax.set_ylim((-50, 50))\n",
    "ax.set_zlim((5, 55))\n",
    "\n",
    "# set point-of-view: specified by (altitude degrees, azimuth degrees)\n",
    "ax.view_init(30, 0)"
   ]
  },
  {
   "cell_type": "code",
   "execution_count": null,
   "metadata": {},
   "outputs": [],
   "source": []
  }
 ],
 "metadata": {
  "kernelspec": {
   "display_name": "Python 3",
   "language": "python",
   "name": "python3"
  },
  "language_info": {
   "codemirror_mode": {
    "name": "ipython",
    "version": 3
   },
   "file_extension": ".py",
   "mimetype": "text/x-python",
   "name": "python",
   "nbconvert_exporter": "python",
   "pygments_lexer": "ipython3",
   "version": "3.8.10"
  }
 },
 "nbformat": 4,
 "nbformat_minor": 4
}
