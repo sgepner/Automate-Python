{
 "cells": [
  {
   "cell_type": "markdown",
   "id": "87311733",
   "metadata": {},
   "source": [
    "## Lab 5\n",
    "\n",
    "In this lab we will develop a Python script for image processing using Computer Vision (`CV`) library.\n",
    "Processing images or the computer vision techniques applied in mechanical and aerospace problems for example for autonomous maneuver or control are usually based on processing large data sets and require some form of feature extractions.\n",
    "\n",
    "Using data serialization (see Lecture 5) and an additional external application API, we could be extracting the features from images to be used for example for Machine Learning (which we will not cover here). In this lab we will only perform tasks related to feature extraction.\n",
    "\n",
    "Our data sets contains of flow simulation snapshots taken at regular time steps. We have some flow simulation images and we will create functions to crop the images by trimming the extra part.  Second we have to create a function for extracting the edges in the images. Which in our case will shows the boundary of a wake that form past an obstacle. So, eventually using our Python script we will be able to extract quantitative information from the set, such as evaluating the size of the wake using build in `SciPy` tools. For that we will need to write a function for curve integration.\n",
    "\n",
    "In short, we want to pre-process a number of data in preperation for other operations. The preprocessing itself wil take time, so we wish to store the rsult using serialization.\n"
   ]
  },
  {
   "cell_type": "markdown",
   "id": "0a21c831",
   "metadata": {},
   "source": [
    "## Task 1\n",
    "Folder **pics** contains images, image names contain the value of the Reynolds number and snapshot time. Create a class with relevant attributes for extracting and storing the Reynolds number, time and name of each file."
   ]
  },
  {
   "cell_type": "code",
   "execution_count": null,
   "id": "ec58b78b",
   "metadata": {},
   "outputs": [],
   "source": [
    "class Data:\n",
    "    pass"
   ]
  },
  {
   "cell_type": "markdown",
   "id": "45851fcb",
   "metadata": {},
   "source": [
    "Now write a simple code snippet to store oaths to all the pictures using the `Data` class."
   ]
  },
  {
   "cell_type": "code",
   "execution_count": null,
   "id": "d6b48799",
   "metadata": {},
   "outputs": [],
   "source": []
  },
  {
   "cell_type": "markdown",
   "id": "c16d8256",
   "metadata": {},
   "source": [
    "## Task 2\n",
    "Crop the images for removing the extra part other than the flow domain. Store all the cropped images in the details. As you know, the images are just a matrix. So you need to extend your class for storing a matrix of values that are integers. Store only the black and white channel."
   ]
  },
  {
   "cell_type": "code",
   "execution_count": null,
   "id": "994d5242",
   "metadata": {},
   "outputs": [],
   "source": [
    "# Import packages\n",
    "import cv2\n",
    "import numpy as np"
   ]
  },
  {
   "cell_type": "code",
   "execution_count": null,
   "id": "05323a86",
   "metadata": {},
   "outputs": [],
   "source": [
    "img = cv2.imread('./pics/Re_140_t_0000.png')\n",
    "print(img.shape) # Print image shape\n",
    "# cv2.imshow(\"original\", img)"
   ]
  },
  {
   "cell_type": "code",
   "execution_count": null,
   "id": "9131bd1b",
   "metadata": {},
   "outputs": [],
   "source": [
    "# # Cropping an image\n",
    "cropped_image = img[350:680, 650:1230]"
   ]
  },
  {
   "cell_type": "code",
   "execution_count": null,
   "id": "0b177de5",
   "metadata": {},
   "outputs": [],
   "source": [
    "# Display cropped image\n",
    "# cv2.imshow(\"cropped\", cropped_image)"
   ]
  },
  {
   "cell_type": "code",
   "execution_count": null,
   "id": "64ec68ca",
   "metadata": {},
   "outputs": [],
   "source": [
    "# Save the cropped image\n",
    "cv2.imwrite(\"Cropped Image.jpg\", cropped_image)"
   ]
  },
  {
   "cell_type": "code",
   "execution_count": null,
   "id": "77fe3720",
   "metadata": {},
   "outputs": [],
   "source": [
    "# print the cropped image matrix\n",
    "print(cropped_image.shape)"
   ]
  },
  {
   "cell_type": "code",
   "execution_count": null,
   "id": "4752754e",
   "metadata": {},
   "outputs": [],
   "source": [
    "# Convert to grayscale\n",
    "gray = cv2.cvtColor(cropped_image, cv2.COLOR_BGR2GRAY)\n",
    "print(gray.shape)"
   ]
  },
  {
   "cell_type": "code",
   "execution_count": null,
   "id": "9fb205d5",
   "metadata": {},
   "outputs": [],
   "source": [
    "# Gray scale of Cropped image\n",
    "cv2.imwrite(\"Cropped Image gray.jpg\", gray)"
   ]
  },
  {
   "cell_type": "code",
   "execution_count": null,
   "id": "a41b575b",
   "metadata": {},
   "outputs": [],
   "source": [
    "cv2.imshow(\"cropped\", gray)\n",
    "cv2.waitKey(0) # Wait for th key press, do not close the window\n",
    "cv2.destroyAllWindows()"
   ]
  },
  {
   "cell_type": "markdown",
   "id": "bf286fc0",
   "metadata": {},
   "source": [
    "Now convert all pictures to grey scale and store for latter use."
   ]
  },
  {
   "cell_type": "code",
   "execution_count": null,
   "id": "c8802819",
   "metadata": {},
   "outputs": [],
   "source": [
    "# Place for solution for task 2\n"
   ]
  },
  {
   "cell_type": "markdown",
   "id": "354e9133",
   "metadata": {},
   "source": [
    "## Task 2\n",
    "Now retrieve the data of cropped images for extracting the edges of the boundary. Below are code snippets for edge extraction of images."
   ]
  },
  {
   "cell_type": "code",
   "execution_count": null,
   "id": "28323c35",
   "metadata": {},
   "outputs": [],
   "source": [
    "# Hope you have already working python computer vision which you can check by importing it. \n",
    "import cv2\n",
    "import numpy as np\n",
    "\n",
    "# Load image\n",
    "img = cv2.imread('./Cropped Image.jpg')\n",
    "\n",
    "# Convert to grayscale\n",
    "gray = cv2.cvtColor(img, cv2.COLOR_BGR2GRAY)\n",
    "\n",
    "# Apply Gaussian blur to reduce noise\n",
    "blur = cv2.GaussianBlur(gray, (5,5), 0)\n",
    "\n",
    "# Apply Canny edge detection algorithm with threshold values of 100 and 200\n",
    "edges = cv2.Canny(blur, 100, 200)\n",
    "\n",
    "# Display the original image and the edge detection result\n",
    "cv2.imshow('Original Image', img)\n",
    "cv2.imshow('Edges', edges)\n",
    "cv2.waitKey(0)\n",
    "cv2.destroyAllWindows()"
   ]
  },
  {
   "cell_type": "code",
   "execution_count": null,
   "id": "fe0cdf2f",
   "metadata": {},
   "outputs": [],
   "source": [
    "# Place for solution ofr task 3"
   ]
  },
  {
   "cell_type": "markdown",
   "id": "1e1e6945",
   "metadata": {},
   "source": [
    "## Task 4\n",
    "Now create a function for measuring the intensity of wake in the flow field. For that you need to integrate the edges obtained from the previous function. "
   ]
  },
  {
   "cell_type": "code",
   "execution_count": null,
   "id": "947fc8a0",
   "metadata": {},
   "outputs": [],
   "source": []
  },
  {
   "cell_type": "markdown",
   "id": "8ed23412",
   "metadata": {},
   "source": [
    "## Task 5\n",
    "Processing of a number of images could take a lot of time. Reprocessing the images each time we need the results would take to much time. Using serialization (Lecture 5) store the data to a file. See if data is correctly saved and retrived. "
   ]
  },
  {
   "cell_type": "code",
   "execution_count": null,
   "id": "d82db8eb",
   "metadata": {},
   "outputs": [],
   "source": []
  }
 ],
 "metadata": {
  "kernelspec": {
   "display_name": "Python 3 (ipykernel)",
   "language": "python",
   "name": "python3"
  },
  "language_info": {
   "codemirror_mode": {
    "name": "ipython",
    "version": 3
   },
   "file_extension": ".py",
   "mimetype": "text/x-python",
   "name": "python",
   "nbconvert_exporter": "python",
   "pygments_lexer": "ipython3",
   "version": "3.0.0"
  }
 },
 "nbformat": 4,
 "nbformat_minor": 5
}
