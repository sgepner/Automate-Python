{
 "cells": [
  {
   "cell_type": "markdown",
   "id": "87311733",
   "metadata": {},
   "source": [
    "## Lab 6\n",
    " \n",
    "In this lab, we will call **C** functions from Python using CFFI (C Foreign Function Interface).\n",
    "CFFI is a wrapping library and provides a relatively simple way to call **C** functions from Python.\n",
    "This allows us to interface with existing **C** libraries and programs.\n",
    "This is particularly useful when dealing with a well-established library that we would like to use in our Python centered work flow, without having to rewrite the entire library in Python.\n",
    "\n",
    "This approach has a number of benefits. It saves us from the need of rewriting the code and at the same time offers performance boost especially in the case of computationally intensive tasks.\n",
    "While in this class we will look at the way to interface with a **C** code, similarly we might develop similar approach in the case of **C++**, and possibly other languages.\n",
    "\n",
    "### The problem\n",
    "We will solve a 1D linear advection problem of the form:\n",
    "\n",
    "$$\n",
    "\\frac{\\partial q}{\\partial t} + c \\frac{\\partial q}{\\partial x} = 0,\n",
    "$$\n",
    "supplemented by initial condition $q(t=0,x)=q_0(x)$ and a set of periodic boundary conditions at $x=0$ and $x=1$. The linear advection problem is very simple (and yet difficult!). To us it is just a simple set of **C** functions that we would like to interface with. We would approach it the same for the more complex cases."
   ]
  },
  {
   "cell_type": "markdown",
   "id": "7f5cd909",
   "metadata": {},
   "source": [
    "# Task 1\n",
    "In the *advection_solver* folder we have <strong>C</strong> code for advection problem. Examine the code, see if all is clear to you. Than build the library. Use the following commands.  \n",
    "\n",
    "```console\n",
    "cd advection_solver/\n",
    "mkdir build\n",
    "cd build\n",
    "cmake ../\n",
    "make \n",
    "\n",
    "```\n",
    "We can achieve this with a simple Python code, or run it from the command line."
   ]
  },
  {
   "cell_type": "code",
   "execution_count": null,
   "id": "03249263",
   "metadata": {},
   "outputs": [],
   "source": [
    "import os\n",
    "try:\n",
    "    os.makedirs('./advection_solver/build')\n",
    "except:\n",
    "    print('The folder probably exists!')\n",
    "os.chdir('./advection_solver/build/')\n",
    "os.system('cmake ../')\n",
    "os.system('make')\n",
    "os.chdir('../../')"
   ]
  },
  {
   "cell_type": "markdown",
   "id": "10e42efd",
   "metadata": {},
   "source": [
    "This will create a **C** library named  *libadvection_implicit_serial.so* and an executable file *adv_serial* in the *build* directory. See if the files have been created.  \n",
    "\n",
    "You can run the executable file using a console, or the `os.ssytem()` call, just as we did in Laboratory 4.\n",
    "\n",
    "```console  \n",
    "./adv_serial \n",
    "```\n",
    "Run it now, and see what is the output of the program."
   ]
  },
  {
   "cell_type": "code",
   "execution_count": null,
   "id": "5a1f43b5",
   "metadata": {},
   "outputs": [],
   "source": [
    "# os.system()"
   ]
  },
  {
   "cell_type": "markdown",
   "id": "ec24511c",
   "metadata": {},
   "source": [
    "examine the resulting files. If you have time create plots of the solution at different times."
   ]
  },
  {
   "cell_type": "markdown",
   "id": "0b2674de",
   "metadata": {},
   "source": [
    "# Task 2\n",
    "\n",
    "With CFFI load the shared library. Use `FFI` and `dlopen()`"
   ]
  },
  {
   "cell_type": "code",
   "execution_count": 1,
   "id": "543daff7",
   "metadata": {},
   "outputs": [],
   "source": [
    "from cffi import FFI\n",
    "ffi = FFI()\n",
    "# lib = ffi.dlopen()"
   ]
  },
  {
   "cell_type": "markdown",
   "id": "d40c8392",
   "metadata": {},
   "source": [
    "describe functions with that will be used with `ffi.cdef()` and call the *main()* function.\n",
    "Verify the result of this call. The result should be the same as before, with the only difference that we now run the code in a 'proper' Python call."
   ]
  },
  {
   "cell_type": "code",
   "execution_count": 2,
   "id": "24c93f29",
   "metadata": {
    "scrolled": true
   },
   "outputs": [],
   "source": []
  },
  {
   "cell_type": "code",
   "execution_count": 4,
   "id": "dcba0885",
   "metadata": {},
   "outputs": [
    {
     "data": {
      "text/plain": [
       "0"
      ]
     },
     "execution_count": 4,
     "metadata": {},
     "output_type": "execute_result"
    }
   ],
   "source": []
  },
  {
   "cell_type": "markdown",
   "id": "421fde3f",
   "metadata": {},
   "source": [
    "# Task 3\n",
    "\n",
    "Examine the `advection_implicit_serial.c`. Prepare to call each of the functions from Python. Design the data structure so that it remains available to your Python code. Consider either CFFI specific allocation, or the `numpy` arrays (see the Lecture on tips how to do this). Finally, develop a function in **C** designed to allow for swapping the content of the data structured passed through the language barrier."
   ]
  },
  {
   "cell_type": "markdown",
   "id": "f4cb1d03",
   "metadata": {},
   "source": [
    "# Task 4\n",
    "\n",
    "Solve the advection problem and plot the result. Examine the influence of the time step."
   ]
  },
  {
   "cell_type": "code",
   "execution_count": null,
   "id": "015838fc",
   "metadata": {},
   "outputs": [],
   "source": []
  }
 ],
 "metadata": {
  "kernelspec": {
   "display_name": "Python 3 (ipykernel)",
   "language": "python",
   "name": "python3"
  },
  "language_info": {
   "codemirror_mode": {
    "name": "ipython",
    "version": 3
   },
   "file_extension": ".py",
   "mimetype": "text/x-python",
   "name": "python",
   "nbconvert_exporter": "python",
   "pygments_lexer": "ipython3",
   "version": "3.10.12"
  }
 },
 "nbformat": 4,
 "nbformat_minor": 5
}
