{
 "cells": [
  {
   "cell_type": "markdown",
   "id": "87311733",
   "metadata": {},
   "source": [
    "## Lab 6\n",
    " \n",
    "In this lab, we will try to call C functions from Python by providing a way to create and manipulate C data types in Python code. We will use a Python CFFI (C Foreign Function Interface) provides a way to call C functions from Python, allowing you to interface with existing C libraries.  It's particularly useful when you want to interface with existing C libraries from Python. CFFI allows you to easily access and utilize the functionality of existing C libraries directly from Python. This is particularly useful when you have a well-established C library that you want to use in your Python project without having to rewrite the entire library in Python. CFFI can offer performance benefits in scenarios where certain computationally intensive tasks are better handled in C. By leveraging C libraries through CFFI, you can utilize the optimized C code for performance-critical sections of your Python codebase, achieving faster execution times.  CFFI enables interaction with low-level system interfaces that are often written in C. \n",
    "\n",
    "In this we will solve a 1D is advection which could be computationally demanding for three dimentions and for higher speed of advection. Our Advection solver is written in C and we will use Python to run the solvers and interact with different sub routines of C solver.  \n",
    "Similarly, you can apply concepts of this lab to C library that you are using in your field. "
   ]
  },
  {
   "cell_type": "markdown",
   "id": "94fd928b",
   "metadata": {},
   "source": []
  },
  {
   "cell_type": "markdown",
   "id": "ec24511c",
   "metadata": {},
   "source": [
    "# Task 1\n",
    "In the advection_solver folder we have <strong>C</strong> code for advection diffusion problem. First we have to build a library. Use following commands.  \n",
    "\n",
    "```console\n",
    "cd advection_solver/\n",
    "mkdir build\n",
    "cd build\n",
    "cmake ../\n",
    "make \n",
    "\n",
    "```\n",
    "This sets of operations will create a <strong>C</strong> library named  <em>\"libadvection_implicit_serial.so\"</em> and also executable file name <em>\"adv_serial\"</em>.  \n",
    "\n",
    "You can run the executable file using \n",
    "\n",
    "```console  \n",
    "./adv_serial \n",
    "```\n",
    "\n"
   ]
  },
  {
   "cell_type": "code",
   "execution_count": null,
   "id": "3aee81bf",
   "metadata": {},
   "outputs": [],
   "source": []
  },
  {
   "cell_type": "markdown",
   "id": "d40c8392",
   "metadata": {},
   "source": [
    "# Task 2\n",
    "\n",
    " Now create a Python script that will serve as a wrapper for the <strong>C</strong> functions. Use CFFI to load the shared library and call the <strong> main() </strong> function. This will solve the equation and output result in the files.  \n"
   ]
  },
  {
   "cell_type": "code",
   "execution_count": null,
   "id": "b02eac80",
   "metadata": {},
   "outputs": [],
   "source": []
  },
  {
   "cell_type": "markdown",
   "id": "04249193",
   "metadata": {},
   "source": []
  },
  {
   "cell_type": "markdown",
   "id": "421fde3f",
   "metadata": {},
   "source": [
    "# Task 3\n",
    "\n",
    "Please have a look in <strong>C</strong> source code in <em>\"advection_implicit_serial.c\"</em>. Now, call each functions in Python and pass the required data from one function to another. For this functionality you need to modify the <strong>C</strong>  source code and build it again. "
   ]
  },
  {
   "cell_type": "code",
   "execution_count": null,
   "id": "966e7741",
   "metadata": {},
   "outputs": [],
   "source": []
  },
  {
   "cell_type": "markdown",
   "id": "f4cb1d03",
   "metadata": {},
   "source": [
    "# Task 4\n",
    "\n",
    "Solve the advection problem for different advection speed defined in <strong>C</strong>  file as symbol. Pass the value of variable c (c=0.1, 0.2, 0.5, 0.8, 1, 2),  to the C functions appropriately and write proper Python wrapper functions. Save the solutions and plot the results.  "
   ]
  },
  {
   "cell_type": "code",
   "execution_count": null,
   "id": "015838fc",
   "metadata": {},
   "outputs": [],
   "source": []
  }
 ],
 "metadata": {
  "kernelspec": {
   "display_name": "Python 3 (ipykernel)",
   "language": "python",
   "name": "python3"
  },
  "language_info": {
   "codemirror_mode": {
    "name": "ipython",
    "version": 3
   },
   "file_extension": ".py",
   "mimetype": "text/x-python",
   "name": "python",
   "nbconvert_exporter": "python",
   "pygments_lexer": "ipython3",
   "version": "3.10.12"
  }
 },
 "nbformat": 4,
 "nbformat_minor": 5
}
