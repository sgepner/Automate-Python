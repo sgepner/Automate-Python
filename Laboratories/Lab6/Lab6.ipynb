{
 "cells": [
  {
   "cell_type": "markdown",
   "id": "87311733",
   "metadata": {},
   "source": [
    "## Lab 6\n",
    " TBA"
   ]
  },
  {
   "cell_type": "code",
   "execution_count": null,
   "id": "d82db8eb",
   "metadata": {},
   "outputs": [],
   "source": [
    "from cffi import FFI\n",
    "ffi = FFI()"
   ]
  },
  {
   "cell_type": "code",
   "execution_count": null,
   "id": "a74ad15d",
   "metadata": {},
   "outputs": [],
   "source": [
    "lib = ffi.dlopen('advection_solver/build/libadvection_implicit_serial.so')"
   ]
  },
  {
   "cell_type": "code",
   "execution_count": null,
   "id": "df16841e",
   "metadata": {},
   "outputs": [],
   "source": [
    "ffi.cdef('''\n",
    "void solve_advection(int nx, int nt, double dt);\n",
    "''')"
   ]
  },
  {
   "cell_type": "code",
   "execution_count": null,
   "id": "7e2f6c1d",
   "metadata": {},
   "outputs": [],
   "source": [
    "lib.solve_advection(10000, 10000, 1e-6)"
   ]
  },
  {
   "cell_type": "code",
   "execution_count": null,
   "id": "63839346",
   "metadata": {},
   "outputs": [],
   "source": []
  }
 ],
 "metadata": {
  "kernelspec": {
   "display_name": "Python 3 (ipykernel)",
   "language": "python",
   "name": "python3"
  },
  "language_info": {
   "codemirror_mode": {
    "name": "ipython",
    "version": 3
   },
   "file_extension": ".py",
   "mimetype": "text/x-python",
   "name": "python",
   "nbconvert_exporter": "python",
   "pygments_lexer": "ipython3",
   "version": "3.10.6"
  }
 },
 "nbformat": 4,
 "nbformat_minor": 5
}
