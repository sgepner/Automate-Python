{
 "cells": [
  {
   "cell_type": "markdown",
   "id": "664f45a0",
   "metadata": {},
   "source": [
    "# LAB 2\n",
    "We will have look at OOP (Object Oriented Programing) paradigm with Python."
   ]
  },
  {
   "cell_type": "markdown",
   "id": "39858dbb",
   "metadata": {},
   "source": [
    "# Task 0\n",
    "Declare a simple class that represents a `Vehicle`. The class should have an `__init__` function which sets\n",
    "* name\n",
    "* max_speed\n",
    "* mileage"
   ]
  },
  {
   "cell_type": "code",
   "execution_count": null,
   "id": "eea22cb8",
   "metadata": {},
   "outputs": [],
   "source": []
  },
  {
   "cell_type": "markdown",
   "id": "1307d9b8",
   "metadata": {},
   "source": [
    "## Task 1\n",
    "Consider a `Vehicle` class from Task 0. Add a child class `Car` that inherits all of the variables and methods of the Vehicle class. Make sure the `__init__` function works as it should"
   ]
  },
  {
   "cell_type": "code",
   "execution_count": null,
   "id": "663f9ba9",
   "metadata": {},
   "outputs": [],
   "source": []
  },
  {
   "cell_type": "markdown",
   "id": "85ce4128",
   "metadata": {},
   "source": [
    "## Task 2\n",
    "Add a class `Bus` and a property `capacity` and add `.seating_capacity()` to the `Vehicle` method. For `Bus` the default value should be 50."
   ]
  },
  {
   "cell_type": "code",
   "execution_count": null,
   "id": "c8da8989",
   "metadata": {},
   "outputs": [],
   "source": []
  },
  {
   "cell_type": "markdown",
   "id": "47e34ff7",
   "metadata": {},
   "source": [
    "## Task 3\n",
    "Define a class attribute `color` within `Vehicle` with a default value 'white'. The property should be created outside the `__init__` method. For this exercise every Vehicle should be white.\n",
    "\n",
    "\n",
    "Expected output<br>\n",
    "<em>\n",
    "Color: White, Vehicle name: School Volvo, Speed: 180, Mileage: 12 <br>\n",
    "Color: White, Vehicle name: Audi Q5, Speed: 240, Mileage: 18\n",
    "</em>    "
   ]
  },
  {
   "cell_type": "code",
   "execution_count": null,
   "id": "a1ca584a",
   "metadata": {},
   "outputs": [],
   "source": []
  },
  {
   "cell_type": "markdown",
   "id": "30e3fe7b",
   "metadata": {},
   "source": [
    "## Task 4\n",
    "Add a method to compute the fare cost of a Vehicle. The default fare charge of any vehicle is seating capacity * 100. If Vehicle is Bus instance, we need to add an extra 10% on full fare as a maintenance charge. So total fare for bus instance will become the final amount = total fare + 10% of the total fare.\n",
    "\n",
    "<em> Note: The bus seating capacity is 50. so the final fare amount should be 5500. You need to override the fare() method of a Vehicle class in Bus class. </em>\n",
    "\n",
    "\n",
    "1. Check the type of School_bus using python function \n",
    "```python\n",
    "type(School_bus)\n",
    "```\n",
    "\n",
    "2. Check if School_bus is also an instance of the vehicle class using python function\n",
    "```python \n",
    "isinstance(School_bus, Vehicle)\n",
    "```\n"
   ]
  },
  {
   "cell_type": "code",
   "execution_count": null,
   "id": "5f3311be",
   "metadata": {},
   "outputs": [],
   "source": []
  },
  {
   "cell_type": "markdown",
   "id": "35cf2610",
   "metadata": {},
   "source": [
    "## Task 5\n",
    "Implement a class `case`. The class should store a creation date and four values $E1$, $E2$, $E3$ and $E4$. Write a function (not a method) to randomly generate dates and another one to generate values $E1-E4$. The second function should return the values as tuple. Choose ranges for the values.\n",
    "\n",
    "Use:\n",
    "```\n",
    "import random\n",
    "print(random.randint())\n",
    "print(random.rand())\n",
    "```\n",
    "Create a number of instances of `case`. Use `filter` and `sort` for to select values fulfilling a certain condition form and sort them according to creation date."
   ]
  },
  {
   "cell_type": "code",
   "execution_count": null,
   "id": "aa0ad527",
   "metadata": {},
   "outputs": [],
   "source": []
  }
 ],
 "metadata": {
  "hide_input": false,
  "kernelspec": {
   "display_name": "Python 3 (ipykernel)",
   "language": "python",
   "name": "python3"
  },
  "language_info": {
   "codemirror_mode": {
    "name": "ipython",
    "version": 3
   },
   "file_extension": ".py",
   "mimetype": "text/x-python",
   "name": "python",
   "nbconvert_exporter": "python",
   "pygments_lexer": "ipython3",
   "version": "3.10.12"
  }
 },
 "nbformat": 4,
 "nbformat_minor": 5
}
