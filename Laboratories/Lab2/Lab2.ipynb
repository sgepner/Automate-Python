{
 "cells": [
  {
   "cell_type": "markdown",
   "id": "664f45a0",
   "metadata": {},
   "source": [
    "# LAB 2\n",
    "We will have look at OOP (Object Oriented Programing) paradigm with Python."
   ]
  },
  {
   "cell_type": "markdown",
   "id": "39858dbb",
   "metadata": {},
   "source": [
    "Declare a simple class."
   ]
  },
  {
   "cell_type": "markdown",
   "id": "1307d9b8",
   "metadata": {},
   "source": [
    "## Task 1 (inheritance)\n",
    "Create a child class Bus that will inherit all of the variables and methods of the Vehicle class\n",
    "\n",
    "\n",
    "```python\n",
    "class Vehicle:\n",
    "\n",
    "    def __init__(self, name, max_speed, mileage):\n",
    "        self.name = name\n",
    "        self.max_speed = max_speed\n",
    "        self.mileage = mileage\n",
    "\n",
    "\n",
    "```"
   ]
  },
  {
   "cell_type": "code",
   "execution_count": null,
   "id": "663f9ba9",
   "metadata": {},
   "outputs": [],
   "source": []
  },
  {
   "cell_type": "markdown",
   "id": "85ce4128",
   "metadata": {},
   "source": [
    "## Task 2\n",
    "Create a Bus class that inherits from the Vehicle class. Give the capacity argument of Bus.seating_capacity() a default value of 50.\n",
    "\n",
    "```python\n",
    "class Vehicle:\n",
    "    def __init__(self, name, max_speed, mileage):\n",
    "        self.name = name\n",
    "        self.max_speed = max_speed\n",
    "        self.mileage = mileage\n",
    "\n",
    "    def seating_capacity(self, capacity):\n",
    "        return f\"The seating capacity of a {self.name} is {capacity} passengers\"\n",
    "```"
   ]
  },
  {
   "cell_type": "code",
   "execution_count": null,
   "id": "c8da8989",
   "metadata": {},
   "outputs": [],
   "source": []
  },
  {
   "cell_type": "markdown",
   "id": "47e34ff7",
   "metadata": {},
   "source": [
    "## Task 3 (Use of Instance Variables & Class variable)\n",
    "Define a class attribute \"color\" with a default value white. I.e., Every Vehicle should be white. \n",
    "\n",
    "\n",
    "Expected output<br>\n",
    "<em>\n",
    "Color: White, Vehicle name: School Volvo, Speed: 180, Mileage: 12 <br>\n",
    "Color: White, Vehicle name: Audi Q5, Speed: 240, Mileage: 18\n",
    "</em>    \n",
    "\n",
    "```python\n",
    "class Vehicle:\n",
    "\n",
    "    def __init__(self, name, max_speed, mileage):\n",
    "        self.name = name\n",
    "        self.max_speed = max_speed\n",
    "        self.mileage = mileage\n",
    "\n",
    "class Bus(Vehicle):\n",
    "    pass\n",
    "\n",
    "class Car(Vehicle):\n",
    "    pass\n",
    "```"
   ]
  },
  {
   "cell_type": "code",
   "execution_count": null,
   "id": "a1ca584a",
   "metadata": {},
   "outputs": [],
   "source": []
  },
  {
   "cell_type": "markdown",
   "id": "30e3fe7b",
   "metadata": {},
   "source": [
    "## Task 4 (Class Inheritance)\n",
    "Create a Bus child class that inherits from the Vehicle class. The default fare charge of any vehicle is seating capacity * 100. If Vehicle is Bus instance, we need to add an extra 10% on full fare as a maintenance charge. So total fare for bus instance will become the final amount = total fare + 10% of the total fare.\n",
    "\n",
    "<em> Note: The bus seating capacity is 50. so the final fare amount should be 5500. You need to override the fare() method of a Vehicle class in Bus class. </em>\n",
    "\n",
    "\n",
    "```python\n",
    "class Vehicle:\n",
    "    def __init__(self, name, mileage, capacity):\n",
    "        self.name = name\n",
    "        self.mileage = mileage\n",
    "        self.capacity = capacity\n",
    "\n",
    "    def fare(self):\n",
    "        return self.capacity * 100\n",
    "\n",
    "class Bus(Vehicle):\n",
    "    pass\n",
    "\n",
    "School_bus = Bus(\"School Volvo\", 12, 50)\n",
    "print(\"Total Bus fare is:\", School_bus.fare())\n",
    "\n",
    "\n",
    "```\n",
    "1. Check the type of School_bus using python function \n",
    "```python\n",
    "type(School_bus)\n",
    "```\n",
    "\n",
    "2. Check if School_bus is also an instance of the vehicle class using python function\n",
    "```python \n",
    "isinstance(School_bus, Vehicle)\n",
    "```\n"
   ]
  },
  {
   "cell_type": "code",
   "execution_count": null,
   "id": "5f3311be",
   "metadata": {},
   "outputs": [],
   "source": []
  },
  {
   "cell_type": "markdown",
   "id": "96fe9414",
   "metadata": {},
   "source": []
  },
  {
   "cell_type": "code",
   "execution_count": 35,
   "id": "bd1d494e",
   "metadata": {},
   "outputs": [],
   "source": [
    "# Implements a proleptic Gregorian calendar date as a Julian day number.\n",
    "\n",
    "class Date :\n",
    " # Creates an object instance for the specified Gregorian date.\n",
    "    def __init__( self, day, month, year ):\n",
    "        self._julianDay = 0\n",
    "        #assert self._isValidGregorian( month, day, year ), \\\n",
    "         #   \"Invalid Gregorian date.\"\n",
    "\n",
    "        tmp = 0\n",
    "        if month < 3 :\n",
    "            tmp = -1\n",
    "        self._julianDay = day - 32075 + \\\n",
    "        (1461 * (year + 4800 + tmp) // 4) + \\\n",
    "        (367 * (month - 2 - tmp * 12) // 12) - \\\n",
    "        (3 * ((year + 4900 + tmp) // 100) // 4)\n",
    "       \n",
    "\n",
    "    # Extracts the appropriate Gregorian date component.\n",
    "    def month( self ):\n",
    "        return (self._toGregorian())[0] # returning M from (M, d, y)\n",
    "\n",
    "    def day( self ):\n",
    "        return (self._toGregorian())[1] # returning D from (m, D, y)\n",
    "    \n",
    "    def year( self ):\n",
    "        return (self._toGregorian())[2] # returning Y from (m, d, Y)\n",
    "\n",
    "    # Returns day of the week as an int between 0 (Mon) and 6 (Sun).\n",
    "    def dayOfWeek( self ):\n",
    "        month, day, year = self._toGregorian()\n",
    "        if month < 3 :\n",
    "            month = month + 12\n",
    "            year = year - 1\n",
    "        return ((13 * month + 3) // 5 + day + year + year // 4 - year // 100 + year // 400) % 7\n",
    "\n",
    "    # Returns the date as a string in Gregorian format.\n",
    "    def __str__( self ):\n",
    "        month, day, year = self._toGregorian()\n",
    "        return \"%02d/%02d/%04d\" % (day, month, year)\n",
    "\n",
    "    # Logically compares the two dates.\n",
    "    def __eq__( self, otherDate ):\n",
    "        return self._julianDay == otherDate._julianDay\n",
    "    \n",
    "    def __lt__( self, otherDate ):\n",
    "        return self._julianDay < otherDate._julianDay\n",
    "\n",
    "    def __le__( self, otherDate ):\n",
    "        return self._julianDay <= otherDate._julianDay\n",
    "\n",
    "        # The remaining methods are to be included at this point.\n",
    "        # ......\n",
    "\n",
    "        \n",
    "    #def _isValidGregorian (self):\n",
    "        \n",
    "        \n",
    "    \n",
    "    # Returns the Gregorian date as a tuple: (month, day, year).\n",
    "    def _toGregorian( self ):\n",
    "        A = self._julianDay + 68569\n",
    "        B = 4 * A // 146097\n",
    "        A = A - (146097 * B + 3) // 4\n",
    "        year = 4000 * (A + 1) // 1461001\n",
    "        A = A - (1461 * year // 4) + 31\n",
    "        month = 80 * A // 2447\n",
    "        day = A - (2447 * month // 80)\n",
    "        A = month // 11\n",
    "        month = month + 2 - (12 * A)\n",
    "        year = 100 * (B - 49) + year + A\n",
    "        return month, day, year"
   ]
  },
  {
   "cell_type": "code",
   "execution_count": 36,
   "id": "7a393c9b",
   "metadata": {},
   "outputs": [
    {
     "ename": "AttributeError",
     "evalue": "'Date' object has no attribute '_isValidGregorian'",
     "output_type": "error",
     "traceback": [
      "\u001b[1;31m---------------------------------------------------------------------------\u001b[0m",
      "\u001b[1;31mAttributeError\u001b[0m                            Traceback (most recent call last)",
      "Input \u001b[1;32mIn [36]\u001b[0m, in \u001b[0;36m<cell line: 1>\u001b[1;34m()\u001b[0m\n\u001b[1;32m----> 1\u001b[0m date \u001b[38;5;241m=\u001b[39m \u001b[43mDate\u001b[49m\u001b[43m(\u001b[49m\u001b[38;5;241;43m7\u001b[39;49m\u001b[43m,\u001b[49m\u001b[38;5;241;43m6\u001b[39;49m\u001b[43m,\u001b[49m\u001b[38;5;241;43m2021\u001b[39;49m\u001b[43m)\u001b[49m\n\u001b[0;32m      2\u001b[0m date\u001b[38;5;241m.\u001b[39mdayOfWeek()\n",
      "Input \u001b[1;32mIn [35]\u001b[0m, in \u001b[0;36mDate.__init__\u001b[1;34m(self, day, month, year)\u001b[0m\n\u001b[0;32m      5\u001b[0m \u001b[38;5;28;01mdef\u001b[39;00m \u001b[38;5;21m__init__\u001b[39m( \u001b[38;5;28mself\u001b[39m, day, month, year ):\n\u001b[0;32m      6\u001b[0m     \u001b[38;5;28mself\u001b[39m\u001b[38;5;241m.\u001b[39m_julianDay \u001b[38;5;241m=\u001b[39m \u001b[38;5;241m0\u001b[39m\n\u001b[1;32m----> 7\u001b[0m     \u001b[38;5;28;01massert\u001b[39;00m \u001b[38;5;28;43mself\u001b[39;49m\u001b[38;5;241;43m.\u001b[39;49m\u001b[43m_isValidGregorian\u001b[49m( month, day, year ), \\\n\u001b[0;32m      8\u001b[0m         \u001b[38;5;124m\"\u001b[39m\u001b[38;5;124mInvalid Gregorian date.\u001b[39m\u001b[38;5;124m\"\u001b[39m\n\u001b[0;32m     10\u001b[0m     \u001b[38;5;66;03m# The first line of the equation, T = (M - 14) / 12, has to be changed\u001b[39;00m\n\u001b[0;32m     11\u001b[0m     \u001b[38;5;66;03m# since Python's implementation of integer division is not the same \u001b[39;00m\n\u001b[0;32m     12\u001b[0m     \u001b[38;5;66;03m# as the mathematical definition.\u001b[39;00m\n\u001b[0;32m     14\u001b[0m     tmp \u001b[38;5;241m=\u001b[39m \u001b[38;5;241m0\u001b[39m\n",
      "\u001b[1;31mAttributeError\u001b[0m: 'Date' object has no attribute '_isValidGregorian'"
     ]
    }
   ],
   "source": [
    "date = Date(7,6,2021)\n",
    "date.dayOfWeek()\n",
    "\n"
   ]
  },
  {
   "cell_type": "code",
   "execution_count": 3,
   "id": "f0fe6e71",
   "metadata": {},
   "outputs": [
    {
     "ename": "ModuleNotFoundError",
     "evalue": "No module named 'date'",
     "output_type": "error",
     "traceback": [
      "\u001b[1;31m---------------------------------------------------------------------------\u001b[0m",
      "\u001b[1;31mModuleNotFoundError\u001b[0m                       Traceback (most recent call last)",
      "Input \u001b[1;32mIn [3]\u001b[0m, in \u001b[0;36m<cell line: 4>\u001b[1;34m()\u001b[0m\n\u001b[0;32m      1\u001b[0m \u001b[38;5;66;03m# Extracts a collection of birth dates from the user and determines\u001b[39;00m\n\u001b[0;32m      2\u001b[0m \u001b[38;5;66;03m# if each individual is at least 21 years of age.\u001b[39;00m\n\u001b[1;32m----> 4\u001b[0m \u001b[38;5;28;01mfrom\u001b[39;00m \u001b[38;5;21;01mdate\u001b[39;00m \u001b[38;5;28;01mimport\u001b[39;00m Date\n\u001b[0;32m      6\u001b[0m \u001b[38;5;28;01mdef\u001b[39;00m \u001b[38;5;21mmain\u001b[39m():\n\u001b[0;32m      7\u001b[0m     \u001b[38;5;66;03m# Date before which a person must have been born to be 21 or older.\u001b[39;00m\n\u001b[0;32m      8\u001b[0m     bornBefore \u001b[38;5;241m=\u001b[39m Date(\u001b[38;5;241m6\u001b[39m, \u001b[38;5;241m1\u001b[39m, \u001b[38;5;241m1988\u001b[39m)\n",
      "\u001b[1;31mModuleNotFoundError\u001b[0m: No module named 'date'"
     ]
    }
   ],
   "source": [
    "# Extracts a collection of birth dates from the user and determines\n",
    "# if each individual is at least 21 years of age.\n",
    "\n",
    "from date import Date\n",
    "\n",
    "def main():\n",
    "    # Date before which a person must have been born to be 21 or older.\n",
    "    bornBefore = Date(6, 1, 1988)\n",
    "\n",
    "    # Extract birth dates from the user and determine if 21 or older.\n",
    "    date = promptAndExtractDate()\n",
    "    while date is not None :\n",
    "        if date <= bornBefore :\n",
    "            print( \"Is at least 21 years of age: \", date )\n",
    "    date = promptAndExtractDate()\n",
    "\n",
    "# Prompts for and extracts the Gregorian date components. Returns a\n",
    "# Date object or None when the user has finished entering dates.\n",
    "\n",
    "def promptAndExtractDate():\n",
    "    print( \"Enter a birth date.\" )\n",
    "    month = int( input(\"month (0 to quit): \") )\n",
    "    if month == 0 :\n",
    "        return None\n",
    "    else :\n",
    "        day = int( input(\"day: \") )\n",
    "        year = int( input(\"year: \") )\n",
    "    return Date( month, day, year )\n",
    "\n",
    "# Call the main routine.\n",
    "main()"
   ]
  },
  {
   "cell_type": "markdown",
   "id": "1b8eef97",
   "metadata": {},
   "source": [
    "Move the class declaration out to a separate `.py` file and import it for use with your code."
   ]
  }
 ],
 "metadata": {
  "hide_input": false,
  "kernelspec": {
   "display_name": "Python 3 (ipykernel)",
   "language": "python",
   "name": "python3"
  },
  "language_info": {
   "codemirror_mode": {
    "name": "ipython",
    "version": 3
   },
   "file_extension": ".py",
   "mimetype": "text/x-python",
   "name": "python",
   "nbconvert_exporter": "python",
   "pygments_lexer": "ipython3",
   "version": "3.9.12"
  }
 },
 "nbformat": 4,
 "nbformat_minor": 5
}
