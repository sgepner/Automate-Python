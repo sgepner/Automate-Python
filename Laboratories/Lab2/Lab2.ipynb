{
 "cells": [
  {
   "cell_type": "markdown",
   "id": "664f45a0",
   "metadata": {},
   "source": [
    "# LAB 2\n",
    "We will have look at OOP (Object Oriented Programing) paradigm with Python."
   ]
  },
  {
   "cell_type": "markdown",
   "id": "39858dbb",
   "metadata": {},
   "source": [
    "Declare a simple class."
   ]
  },
  {
   "cell_type": "code",
   "execution_count": null,
   "id": "bd1d494e",
   "metadata": {},
   "outputs": [],
   "source": []
  },
  {
   "cell_type": "markdown",
   "id": "1b8eef97",
   "metadata": {},
   "source": [
    "Move the class declaration out to a separate `.py` file and import it for use with your code."
   ]
  }
 ],
 "metadata": {
  "hide_input": false,
  "kernelspec": {
   "display_name": "Python 3 (ipykernel)",
   "language": "python",
   "name": "python3"
  },
  "language_info": {
   "codemirror_mode": {
    "name": "ipython",
    "version": 3
   },
   "file_extension": ".py",
   "mimetype": "text/x-python",
   "name": "python",
   "nbconvert_exporter": "python",
   "pygments_lexer": "ipython3",
   "version": "3.10.6"
  }
 },
 "nbformat": 4,
 "nbformat_minor": 5
}
