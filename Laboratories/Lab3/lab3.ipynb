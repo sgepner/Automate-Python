{
 "cells": [
  {
   "cell_type": "markdown",
   "id": "664f45a0",
   "metadata": {},
   "source": [
    "# LAB 3\n",
    "NumPy and stuff\n",
    "\n",
    "MatPlotLib\n",
    "\n",
    "SciPy  \n",
    "- roots \n",
    "- curve fitting\n",
    "- max min finding"
   ]
  },
  {
   "cell_type": "code",
   "execution_count": null,
   "id": "bfd023dd",
   "metadata": {},
   "outputs": [],
   "source": []
  }
 ],
 "metadata": {
  "hide_input": false,
  "kernelspec": {
   "display_name": "Python 3 (ipykernel)",
   "language": "python",
   "name": "python3"
  },
  "language_info": {
   "codemirror_mode": {
    "name": "ipython",
    "version": 3
   },
   "file_extension": ".py",
   "mimetype": "text/x-python",
   "name": "python",
   "nbconvert_exporter": "python",
   "pygments_lexer": "ipython3",
   "version": "3.10.6"
  }
 },
 "nbformat": 4,
 "nbformat_minor": 5
}
