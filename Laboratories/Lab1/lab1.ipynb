{
 "cells": [
  {
   "cell_type": "markdown",
   "metadata": {},
   "source": [
    "# LAB 1 TASKS\n",
    "In this Lab we will learn about compound datatypes which allow to work on collection of simple datatypes (int, float, string) at once.  \n",
    "\n",
    "Then, We will do some aithemetic opreations on them. After that we will perform some logical operations. Then, we will write our first python function. Finally, we will put our function inside a module (Bundeled software, libraby equivalne of C). Finally, we will import our module and call the function inside the module. "
   ]
  },
  {
   "cell_type": "markdown",
   "metadata": {},
   "source": [
    "## Warm up\n"
   ]
  },
  {
   "cell_type": "markdown",
   "metadata": {},
   "source": [
    "## Task 1 (Dynamic typing) \n",
    "As you already seen in the Lecture 1, that, Python variable assignment is different from some of the popular languages like c, c++ and java. There is no declaration of a variable, just an assignment statement. Python is a dynamically typed language. It doesn’t know about the type of the variable until the code is run. So declaration is of no use. What it does is, It stores that value at some memory location and then binds that variable name to that memory container. And makes the contents of the container accessible through that variable name. So the data type does not matter. As it will get to know the type of the value at run-time. Enough being said about the dynamic typing of Python. Lets do a simple exercise:- \n",
    "\n",
    "1. Assign interger value e.g. 10 to a varible name a.\n",
    "2. Get the datatype of varible using type(arg) function (take variable name as argument).\n",
    "3. Print the data type of variable using print(arg) funtion (Use type function as argument and observe the output of the code. \n",
    "4. Now assign 10.1 to a and repeat the instructions 2-3 and observe the output.\n",
    "\n",
    "Soluttion\n",
    "```python\n",
    "a = 10\n",
    "type(a)\n",
    "print(type(a))\n",
    "a = 10.1\n",
    "print(type(a))\n",
    "```"
   ]
  },
  {
   "cell_type": "markdown",
   "metadata": {},
   "source": [
    "## Task 2 (Shared Refrences)\n",
    "In Python, it is possible for multiple variables to reference the same object. This behaviour is called a shared reference. For example, consider the code below.\n",
    "```python\n",
    "x = 1\n",
    "y = x\n",
    "```\n",
    "Variable x and y completely different but they are sharing same refrence that points to same integer object in the phyical memory. \n",
    "\n",
    "Analyze the following code and forecast the values of a and b. Run the code and discuss the output with your instrcutor. \n",
    "1. \n",
    "```python\n",
    "x = 1\n",
    "y = x\n",
    "x = x - 1\n",
    "print(x) \n",
    "print(y)\n",
    "```\n",
    "\n",
    "2. ```python\n",
    "x = 1\n",
    "y = x\n",
    "y = 'Hello World'\n",
    "print(x)\n",
    "print(y)\n",
    "```"
   ]
  },
  {
   "cell_type": "code",
   "execution_count": 1,
   "metadata": {},
   "outputs": [
    {
     "name": "stdout",
     "output_type": "stream",
     "text": [
      "1\n",
      "0\n"
     ]
    }
   ],
   "source": [
    "x = 1\n",
    "y = x\n",
    "x = x - 1\n",
    "print(y)\n",
    "print(x)"
   ]
  },
  {
   "cell_type": "markdown",
   "metadata": {},
   "source": [
    "## Data Stucture - List \n",
    "Python List are more versatile sequential data structure. List are defined using pair of brackets [ ], and the elements within it are separated by commas. A list can hold any single type of\n",
    "data: numerical, or strings, or combination of any data types. \n",
    "Below are some examples of lists of elements belongs to 1 type. \n",
    "```python\n",
    "l1 = [1, 2, 3] # List of integers\n",
    "l2 = [1.0, 2.1, 3.1] # list of floats\n",
    "l3 = [\"Tuna\", \"Salmon\", \"Karp\" ] #list of strings\n",
    "```\n",
    "Below are some examples of lists of elements belongs to different data types. \n",
    "```python\n",
    "l1 = [1, 2.0, 3.2] # List of integers and float\n",
    "l2 = [1, \"Norway\", \"Tuna\"] # list of integer and String\n",
    "l3 = [1, 4.20, \"Sweden\", \"Karp\" ] #list of integer, float and String\n",
    "l4 = [l1, l2, l3] # list of lists\n",
    "```\n",
    "We can access elements of list using a bracket and the index of the position. Indexing start from 0 and goes up to N-1, where is N is total number of elements .   \n",
    "\n",
    "```python\n",
    "l1 = [1, 2, 3,  4.4, \"Bob\"] # \n",
    "print(l1[0]) # will print the first elment\n",
    "pirnt(l1[1]) # will print the 2nd elment\n",
    "N = len(l1) # len() function return the length of list\n",
    "print(l1[N-1]) # will print the last element. Do not that we use N-1. \n",
    "```\n",
    "Reverse indexing, start from -1 to -N.\n",
    "```python\n",
    "print(l1[-1]) # Will print the last element\n",
    "print(l1[-2]) # Will print the 2nd element\n",
    "print(l1[-N]) # will print the first element \n",
    "```\n",
    "functions of lists\n",
    "```python\n",
    "l1 = []\n",
    "l1.append([1]) #append the element to list, after this operation l1 = [1]\n",
    "l1. append([2, 3]) # append the 2 and 3 to list, after this operation  l1 = [1, 2, 3];\n",
    "max(l1) # return maximum of list i.e. 3\n",
    "min(l1) # return minimum of list i.e. 1\n",
    "len(1l) # return total of elments i.e. 3\n",
    "l1.remove(2) # remove the element whose value is 1, after this operation l1 becomes [1, 3];\n",
    "l1.insert(1, \"apple\") # insert apple at index =1, after this operation l1 = [1, \"apple\", 3]  \n",
    "```\n"
   ]
  },
  {
   "cell_type": "markdown",
   "metadata": {},
   "source": [
    "## Task 3\n",
    "Analyze following code and discuss the outpur with your instructor.\n",
    "```python\n",
    "l1 = [1 , 2, 3.0];\n",
    "print(type(l1))\n",
    "print(type(l1[0] ))\n",
    "print(type(l1[-1]))\n",
    "```\n"
   ]
  },
  {
   "cell_type": "code",
   "execution_count": 3,
   "metadata": {},
   "outputs": [
    {
     "name": "stdout",
     "output_type": "stream",
     "text": [
      "<class 'list'>\n",
      "<class 'int'>\n",
      "<class 'float'>\n"
     ]
    }
   ],
   "source": [
    "l1 = [1 , 2, 3.0];\n",
    "print(type( l1     ))\n",
    "print(type( l1[0]  ))\n",
    "print(type( l1[-1] ))"
   ]
  },
  {
   "cell_type": "code",
   "execution_count": 24,
   "metadata": {},
   "outputs": [
    {
     "name": "stdout",
     "output_type": "stream",
     "text": [
      "[1, 4.2, 'Sweden', 'Karp']\n",
      "Karp\n",
      "1\n"
     ]
    }
   ],
   "source": [
    "\n",
    "print(l3)\n",
    "print(l3[-1])\n",
    "print(l3[-len(l3)])"
   ]
  },
  {
   "cell_type": "code",
   "execution_count": 29,
   "metadata": {},
   "outputs": [
    {
     "ename": "TypeError",
     "evalue": "unsupported operand type(s) for -: 'list' and 'list'",
     "output_type": "error",
     "traceback": [
      "\u001b[1;31m---------------------------------------------------------------------------\u001b[0m",
      "\u001b[1;31mTypeError\u001b[0m                                 Traceback (most recent call last)",
      "\u001b[1;32m~\\AppData\\Local\\Temp/ipykernel_9108/704884808.py\u001b[0m in \u001b[0;36m<module>\u001b[1;34m\u001b[0m\n\u001b[0;32m      1\u001b[0m \u001b[0ml1\u001b[0m \u001b[1;33m=\u001b[0m \u001b[1;33m[\u001b[0m\u001b[1;36m1\u001b[0m\u001b[1;33m,\u001b[0m \u001b[1;36m2\u001b[0m\u001b[1;33m,\u001b[0m \u001b[1;36m3\u001b[0m\u001b[1;33m]\u001b[0m\u001b[1;33m\u001b[0m\u001b[1;33m\u001b[0m\u001b[0m\n\u001b[0;32m      2\u001b[0m \u001b[0ml2\u001b[0m \u001b[1;33m=\u001b[0m \u001b[1;33m[\u001b[0m\u001b[1;36m2\u001b[0m\u001b[1;33m,\u001b[0m \u001b[1;36m1\u001b[0m\u001b[1;33m,\u001b[0m \u001b[1;36m3\u001b[0m\u001b[1;33m]\u001b[0m\u001b[1;33m\u001b[0m\u001b[1;33m\u001b[0m\u001b[0m\n\u001b[1;32m----> 3\u001b[1;33m \u001b[0ml1\u001b[0m\u001b[1;33m-\u001b[0m\u001b[0ml2\u001b[0m\u001b[1;33m\u001b[0m\u001b[1;33m\u001b[0m\u001b[0m\n\u001b[0m",
      "\u001b[1;31mTypeError\u001b[0m: unsupported operand type(s) for -: 'list' and 'list'"
     ]
    }
   ],
   "source": []
  },
  {
   "cell_type": "code",
   "execution_count": 32,
   "metadata": {},
   "outputs": [
    {
     "ename": "SyntaxError",
     "evalue": "invalid syntax (Temp/ipykernel_9108/3196903197.py, line 1)",
     "output_type": "error",
     "traceback": [
      "\u001b[1;36m  File \u001b[1;32m\"C:\\Users\\Nikesh\\AppData\\Local\\Temp/ipykernel_9108/3196903197.py\"\u001b[1;36m, line \u001b[1;32m1\u001b[0m\n\u001b[1;33m    <span style=\"color:blue\">some *blue* text</span>\u001b[0m\n\u001b[1;37m    ^\u001b[0m\n\u001b[1;31mSyntaxError\u001b[0m\u001b[1;31m:\u001b[0m invalid syntax\n"
     ]
    }
   ],
   "source": [
    "<span style=\"color:blue\">some *blue* text</span>"
   ]
  },
  {
   "cell_type": "markdown",
   "metadata": {},
   "source": []
  }
 ],
 "metadata": {
  "hide_input": false,
  "kernelspec": {
   "display_name": "Python 3",
   "language": "python",
   "name": "python3"
  },
  "language_info": {
   "codemirror_mode": {
    "name": "ipython",
    "version": 3
   },
   "file_extension": ".py",
   "mimetype": "text/x-python",
   "name": "python",
   "nbconvert_exporter": "python",
   "pygments_lexer": "ipython3",
   "version": "3.8.10"
  }
 },
 "nbformat": 4,
 "nbformat_minor": 5
}
