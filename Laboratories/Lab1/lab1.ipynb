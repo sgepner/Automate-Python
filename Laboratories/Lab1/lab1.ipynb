{
 "cells": [
  {
   "cell_type": "markdown",
   "id": "664f45a0",
   "metadata": {},
   "source": [
    "# LAB 1 TASKS\n",
    "In this Lab we will deal with Python way of handling **datatypes** and than join variables of different type in simple collections using lists and tuples. We will attempt some (possible or not) arithmetic and logical operations getting familiar with variables.\n",
    "\n",
    "We will conclude with developing our first (or not) Python procedures, an an essential ingredient of procedural programing. We will enclose our function into a module (much like putting a **C** function in a *.h* file) and import it into our script."
   ]
  },
  {
   "cell_type": "markdown",
   "id": "bb4a306c",
   "metadata": {},
   "source": [
    "## Task 0: Warm up\n",
    "Usually tasks will be presented to you a Jupyter notebook, much like this one. You may use this notebook and try your solutions right here. In the case you do not find using Jupyter convenient you may also write your solutions as separate scripts. We will do just that in in this first task.\n",
    "\n",
    "1. Create a new file named **hello.py**. You can do this using your favorite text editor, or use VS Code or in any manner you want.\n",
    "2. In the file write a single line:\n",
    "    * `print('Hello!')`  \n",
    "    and save the file.\n",
    "3. Run your script. Again there is many ways you can do this.\n",
    "    * Use VS Code *play* (or *run*) button (at the moment of writing right upper corner)\n",
    "    * Use the terminal, navigate to where the file resides and run the script with the appropriate interpreter, e.g.: `python hello.py`\n",
    "4. Finally, just run the cell below (use the *run* button):"
   ]
  },
  {
   "cell_type": "code",
   "execution_count": 1,
   "id": "ed76c3c5",
   "metadata": {},
   "outputs": [
    {
     "name": "stdout",
     "output_type": "stream",
     "text": [
      "Hello!\n"
     ]
    }
   ],
   "source": [
    "print('Hello!')"
   ]
  },
  {
   "cell_type": "markdown",
   "id": "76f0f48e",
   "metadata": {},
   "source": [
    "## Task 1 (Dynamic typing) \n",
    "You might have heard in Lecture 1, that, Python variable assignment is a bit different than what you have seen in **C**, **C++** or even **Java**. There is no formal declaration of a variable that specifies its type, just an assignment statement. This means that Python is a **dynamically typed** language (as opposed to being statically typed).\n",
    "This means that the type of a variable is not known until the code is run and assignment operation is performed. Let's practice this in a simple exercise:\n",
    "\n",
    "1. Assign integer value e.g. 10 to a variable named `a`.\n",
    "2. Retrieve the `type` of this variable using `type(arg)` function (take variable name as argument).\n",
    "3. Print the value and the type of the variable using print(arg) function (Use `type()`) and observe the output of the code. \n",
    "4. In a new code cell, assign a new floating point value (e.g. 10.1) to variable `a` and repeat the steps 2 and 3. Do you notice the change?"
   ]
  },
  {
   "cell_type": "code",
   "execution_count": 10,
   "id": "e37d718c",
   "metadata": {},
   "outputs": [],
   "source": [
    "## PLACE FOR TASK 1\n",
    "\n",
    "\n",
    "\n",
    "\n",
    "\n",
    "\n"
   ]
  },
  {
   "cell_type": "markdown",
   "id": "2110740d",
   "metadata": {},
   "source": [
    "## Task 2 \n",
    "\n",
    "Analyze the following code snippets and try to predict the values of x and y.\n",
    "Run the code and verify your predictions. \n",
    "1. \n",
    "```python\n",
    "x = 1\n",
    "y = x\n",
    "x = x - 1\n",
    "print(x) \n",
    "print(y)\n",
    "```\n",
    "\n",
    "2. ```python\n",
    "x = 1\n",
    "y = x\n",
    "y = 'Hello World'\n",
    "print(x)\n",
    "print(y)\n",
    "```\n",
    "\n",
    "3.  ```python\n",
    "x = 1\n",
    "y = 1.\n",
    "print( type(x) )\n",
    "x = y\n",
    "print(  type(x) )\n",
    "```"
   ]
  },
  {
   "cell_type": "code",
   "execution_count": 8,
   "id": "00b3a0ad",
   "metadata": {},
   "outputs": [],
   "source": [
    "## PLACE FOR TASK 2 ######\n",
    "\n",
    "\n",
    "\n",
    "\n",
    "\n"
   ]
  },
  {
   "cell_type": "markdown",
   "id": "eaae7a04",
   "metadata": {},
   "source": [
    "## Data Stucture - List \n",
    "The goto data collection of Python is a List. While not necessarily the ultimate best solution those are quite versatile sequential data structures. A list is declared using a pair of square brackets `[ ]` (or `list()`), with possible passed values separated by commas.\n",
    "A list can hold any single type of data: numerical, string, other lists, tuples ... .\n",
    "Below are some examples of lists of elements containing single type of data. \n",
    "```python\n",
    "l1 = [1, 2, 3] # List of integers\n",
    "l2 = [1.0, 2.1, 3.1] # list of floats\n",
    "l3 = [\"Tuna\", \"Salmon\", \"Karp\" ] #list of strings\n",
    "```\n",
    "And some lists containing various types: \n",
    "```python\n",
    "l1 = [1, 2.0, 3.2] # List of integers and float\n",
    "l2 = [1, \"Norway\", \"Tuna\"] # list of integer and String\n",
    "l3 = [1, 4.20, \"Sweden\", \"Karp\" ] #list of integer, float and String\n",
    "l4 = [l1, l2, l3] # list of lists\n",
    "```\n",
    "We can access elements of list using a `[]` with an index. Indexing starts from 0 and goes up to N-1, where N is total number of elements. Note that the Python list is represented internally as an array, so random access might be O(1) operation (https://wiki.python.org/moin/TimeComplexity).\n",
    "\n",
    "```python\n",
    "l1 = [1, 2, 3,  4.4, \"Bob\"] # \n",
    "print(l1[0]) # will print the first elment\n",
    "pirnt(l1[1]) # will print the 2nd elment\n",
    "N = len(l1) # len() function return the length of list\n",
    "print(l1[N-1]) # will print the last element. Do not that we use N-1. \n",
    "```\n",
    "Reverse indexing, start from -1 to -N.\n",
    "```python\n",
    "print(l1[-1]) # Will print the last element\n",
    "print(l1[-2]) # Will print the 2nd element\n",
    "print(l1[-N]) # will print the first element \n",
    "```\n",
    "functions of lists\n",
    "```python\n",
    "l1 = []\n",
    "l1.append([1]) #append the element to list, after this operation l1 = [1]\n",
    "l1. append([2, 3]) # append the 2 and 3 to list, after this operation  l1 = [1, 2, 3];\n",
    "max(l1) # return maximum of list i.e. 3\n",
    "min(l1) # return minimum of list i.e. 1\n",
    "len(1l) # return total of elments i.e. 3\n",
    "l1.remove(2) # remove the element whose value is 1, after this operation l1 becomes [1, 3];\n",
    "l1.insert(1, \"apple\") # insert apple at index =1, after this operation l1 = [1, \"apple\", 3]  \n",
    "```\n"
   ]
  },
  {
   "cell_type": "markdown",
   "id": "c3b7cc37",
   "metadata": {},
   "source": [
    "## Task 3\n",
    "1. Analyze following code and predict its output.\n",
    "```python\n",
    "l1 = [1 , 2, 3.0];\n",
    "print(type(l1))\n",
    "print(type(l1[0] ))\n",
    "print(type(l1[-1]))\n",
    "```\n",
    "Run the code\n",
    "\n",
    "2. Write code to remove all occurrences of a specific item from a list by using for loop.\n",
    "```python\n",
    "list1 = [5, 20, 15, 20, 25, 50, 20]\n",
    "```\n",
    "3. Write code to replace above list’s specific item with new value if found.\n",
    "4. Python list can store mixed data type , e.g.\n",
    "```python\n",
    "l1 = [ 1, 2, 2.1, \"Tuna\",  4, \"Salmon\"] \n",
    "```  \n",
    "Create a function which takes a mixed list as input argument and segregate elements of same types in lists. And finally returns the all the lists.   \n",
    "```python\n",
    " l1 = [ 1, 2, 2.1, \"Tuna\",  4, \"Salmon\"] # Input\n",
    "l2 = [1, 2, 4]; l3 = [2.1]; l4= [\"Tuna\", \"Salmon\"]; #output      \n",
    "```"
   ]
  },
  {
   "cell_type": "code",
   "execution_count": 6,
   "id": "48ab1743",
   "metadata": {},
   "outputs": [],
   "source": [
    "## PLACE FOR TASK 3 ######\n",
    "\n",
    "\n",
    "\n",
    "\n",
    "\n",
    "\n",
    "\n",
    "\n"
   ]
  },
  {
   "cell_type": "markdown",
   "id": "f8168343",
   "metadata": {},
   "source": [
    "## List Slicing\n",
    "Slicing can be used to extract elements from a list. Here are some example of slicing:"
   ]
  },
  {
   "cell_type": "code",
   "execution_count": 3,
   "id": "4a6e3eed",
   "metadata": {},
   "outputs": [
    {
     "name": "stdout",
     "output_type": "stream",
     "text": [
      "[1, 2, 3, 4, 5, 6, 7, 8, 9, 10]\n",
      "[2, 3, 4, 5, 6, 7, 8, 9, 10]\n",
      "[1, 2, 3, 4, 5, 6, 7, 8, 9]\n",
      "[1, 3, 5, 7, 9]\n",
      "[2, 4, 6]\n"
     ]
    }
   ],
   "source": [
    "l1 = [1, 2, 3, 4, 5, 6, 7, 8, 9 , 10] \n",
    "l2 = l1[:] # all elements of l1 are assigned to l2\n",
    "print(l2)\n",
    "\n",
    "l2 = l1[1:] # Elements from 2nd to end are assigned to l2\n",
    "print(l2)\n",
    "\n",
    "l2 = l1[:-1] # Elements from 1st to 2nd last are assigned to l2\n",
    "print(l2)\n",
    "\n",
    "l2 = l1[::2] # Elements with even index are assigend to l2\n",
    "print(l2)\n",
    "\n",
    "l2 = l1[1:-3:2] # Elements with odd index and before the thidr from the end are assigend to l2\n",
    "print(l2)"
   ]
  },
  {
   "cell_type": "markdown",
   "id": "6ea1a94c",
   "metadata": {},
   "source": [
    "## Task 4\n",
    "1. Write a function which that rotates the array clockwise by one element.\n",
    "2. Write a function that creates a list of lists (a 2d structure) from a list using slicing. Assume the input has a length which is a square of an integer value and the output is a square matrix-like object.\n",
    "\n"
   ]
  },
  {
   "cell_type": "code",
   "execution_count": 16,
   "id": "8fb7d34d",
   "metadata": {},
   "outputs": [],
   "source": [
    "\n",
    "\n",
    "\n",
    "\n",
    "\n",
    "\n",
    "\n"
   ]
  },
  {
   "cell_type": "markdown",
   "id": "0b2d9fb3",
   "metadata": {},
   "source": [
    "## Task 5 Optimize runtime for removing duplicates in List\\\n",
    "Write a function that removes duplicates from a list. Measure the efficiency of your approach using the following code snippet: \n",
    "```python\n",
    "import time\n",
    "from datetime import timedelta\n",
    "\n",
    "# Wrire your function here\n",
    "def remove_duplicates(l1):\n",
    "    for i in l1:\n",
    "        if ------\n",
    "    \n",
    "\n",
    "\n",
    "start_time = time.monotonic()\n",
    "remove_duplicate(l1) #Call your function here\n",
    "end_time = time.monotonic()\n",
    "print(timedelta(seconds=end_time - start_time))\n",
    "```"
   ]
  },
  {
   "cell_type": "code",
   "execution_count": 3,
   "id": "3e3af8ca",
   "metadata": {},
   "outputs": [],
   "source": [
    "## PLACE FOR TASK 5 ######\n"
   ]
  },
  {
   "cell_type": "markdown",
   "id": "236d6e1f",
   "metadata": {},
   "source": [
    "There is many ways to complete this task. Try to be creative. As a group make a list of possible approaches."
   ]
  },
  {
   "cell_type": "markdown",
   "id": "8c3aae13",
   "metadata": {},
   "source": [
    "## Task 6 (List of Lists)\n",
    "Given a list of lists write a function that flattens this into a single list."
   ]
  },
  {
   "cell_type": "code",
   "execution_count": null,
   "id": "d49d9361",
   "metadata": {},
   "outputs": [],
   "source": [
    "## PLACE FOR TASK 6 ######"
   ]
  }
 ],
 "metadata": {
  "hide_input": false,
  "kernelspec": {
   "display_name": "Python 3 (ipykernel)",
   "language": "python",
   "name": "python3"
  },
  "language_info": {
   "codemirror_mode": {
    "name": "ipython",
    "version": 3
   },
   "file_extension": ".py",
   "mimetype": "text/x-python",
   "name": "python",
   "nbconvert_exporter": "python",
   "pygments_lexer": "ipython3",
   "version": "3.10.12"
  }
 },
 "nbformat": 4,
 "nbformat_minor": 5
}
