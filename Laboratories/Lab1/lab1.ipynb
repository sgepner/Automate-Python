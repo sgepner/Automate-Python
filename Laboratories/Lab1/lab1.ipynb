{
 "cells": [
  {
   "cell_type": "markdown",
   "id": "664f45a0",
   "metadata": {},
   "source": [
    "# LAB 1 TASKS\n",
    "In this Lab we will learn about compound datatypes which allow to work on collection of simple datatypes (int, float, string) at once.  \n",
    "\n",
    "Then, We will do some aithemetic opreations on them. After that we will perform some logical operations. Then, we will write our first python function. Finally, we will put our function inside a module (Bundeled software, libraby equivalne of C). Finally, we will import our module and call the function inside the module. "
   ]
  },
  {
   "cell_type": "markdown",
   "id": "bb4a306c",
   "metadata": {},
   "source": [
    "## Warm up\n"
   ]
  },
  {
   "cell_type": "markdown",
   "id": "76f0f48e",
   "metadata": {},
   "source": [
    "## Task 1 (Dynamic typing) \n",
    "As you already seen in the Lecture 1, that, Python variable assignment is different from some of the popular languages like c, c++ and java. There is no declaration of a variable, just an assignment statement. Python is a dynamically typed language. It doesn’t know about the type of the variable until the code is run. So declaration is of no use. What it does is, It stores that value at some memory location and then binds that variable name to that memory container. And makes the contents of the container accessible through that variable name. So the data type does not matter. As it will get to know the type of the value at run-time. Enough being said about the dynamic typing of Python. Lets do a simple exercise:- \n",
    "\n",
    "1. Assign interger value e.g. 10 to a varible name a.\n",
    "2. Get the datatype of varible using type(arg) function (take variable name as argument).\n",
    "3. Print the data type of variable using print(arg) funtion (Use type function as argument and observe the output of the code. \n",
    "4. Now assign 10.1 to a and repeat the instructions 2-3 and observe the output."
   ]
  },
  {
   "cell_type": "code",
   "execution_count": 10,
   "id": "e37d718c",
   "metadata": {},
   "outputs": [],
   "source": [
    "## PLACE FOR TASK 1\n",
    "\n",
    "\n",
    "\n",
    "\n",
    "\n",
    "\n"
   ]
  },
  {
   "cell_type": "markdown",
   "id": "2110740d",
   "metadata": {},
   "source": [
    "## Task 2 \n",
    "\n",
    "Analyze the following code and forecast the values of x and y. Run the code and discuss the output with your instrcutor. \n",
    "1. \n",
    "```python\n",
    "x = 1\n",
    "y = x\n",
    "x = x - 1\n",
    "print(x) \n",
    "print(y)\n",
    "```\n",
    "\n",
    "2. ```python\n",
    "x = 1\n",
    "y = x\n",
    "y = 'Hello World'\n",
    "print(x)\n",
    "print(y)\n",
    "```\n",
    "\n",
    "3.  ```python\n",
    "x = 1\n",
    "y = 1.\n",
    "print( type(x) )\n",
    "x = y\n",
    "print(  type(x) )\n",
    "```"
   ]
  },
  {
   "cell_type": "code",
   "execution_count": 8,
   "id": "00b3a0ad",
   "metadata": {},
   "outputs": [],
   "source": [
    "## PLACE FOR TASK 2 ######\n",
    "\n",
    "\n",
    "\n",
    "\n",
    "\n"
   ]
  },
  {
   "cell_type": "markdown",
   "id": "eaae7a04",
   "metadata": {},
   "source": [
    "## Data Stucture - List \n",
    "Python List are more versatile sequential data structure. List are defined using pair of brackets [ ], and the elements within it are separated by commas. A list can hold any single type of\n",
    "data: numerical, or strings, or combination of any data types. \n",
    "Below are some examples of lists of elements belongs to 1 type. \n",
    "```python\n",
    "l1 = [1, 2, 3] # List of integers\n",
    "l2 = [1.0, 2.1, 3.1] # list of floats\n",
    "l3 = [\"Tuna\", \"Salmon\", \"Karp\" ] #list of strings\n",
    "```\n",
    "Below are some examples of lists of elements belongs to different data types. \n",
    "```python\n",
    "l1 = [1, 2.0, 3.2] # List of integers and float\n",
    "l2 = [1, \"Norway\", \"Tuna\"] # list of integer and String\n",
    "l3 = [1, 4.20, \"Sweden\", \"Karp\" ] #list of integer, float and String\n",
    "l4 = [l1, l2, l3] # list of lists\n",
    "```\n",
    "We can access elements of list using a bracket and the index of the position. Indexing start from 0 and goes up to N-1, where is N is total number of elements .   \n",
    "\n",
    "```python\n",
    "l1 = [1, 2, 3,  4.4, \"Bob\"] # \n",
    "print(l1[0]) # will print the first elment\n",
    "pirnt(l1[1]) # will print the 2nd elment\n",
    "N = len(l1) # len() function return the length of list\n",
    "print(l1[N-1]) # will print the last element. Do not that we use N-1. \n",
    "```\n",
    "Reverse indexing, start from -1 to -N.\n",
    "```python\n",
    "print(l1[-1]) # Will print the last element\n",
    "print(l1[-2]) # Will print the 2nd element\n",
    "print(l1[-N]) # will print the first element \n",
    "```\n",
    "functions of lists\n",
    "```python\n",
    "l1 = []\n",
    "l1.append([1]) #append the element to list, after this operation l1 = [1]\n",
    "l1. append([2, 3]) # append the 2 and 3 to list, after this operation  l1 = [1, 2, 3];\n",
    "max(l1) # return maximum of list i.e. 3\n",
    "min(l1) # return minimum of list i.e. 1\n",
    "len(1l) # return total of elments i.e. 3\n",
    "l1.remove(2) # remove the element whose value is 1, after this operation l1 becomes [1, 3];\n",
    "l1.insert(1, \"apple\") # insert apple at index =1, after this operation l1 = [1, \"apple\", 3]  \n",
    "```\n"
   ]
  },
  {
   "cell_type": "markdown",
   "id": "c3b7cc37",
   "metadata": {},
   "source": [
    "## Task 3\n",
    "1. Analyze following code and discuss the output with your instructor.\n",
    "```python\n",
    "l1 = [1 , 2, 3.0];\n",
    "print(type(l1))\n",
    "print(type(l1[0] ))\n",
    "print(type(l1[-1]))\n",
    "```\n",
    "2. Write code to remove all occurrences of a specific item from a list by using for loop.\n",
    "```python\n",
    "list1 = [5, 20, 15, 20, 25, 50, 20]\n",
    "```\n",
    "3. Write code to replace above list’s specific item with new value if found.\n",
    "4. As we know in python can have a  list of mixed data type , e.g.\n",
    "```python\n",
    "l1 = [ 1, 2, 2.1, \"Tuna\",  4, \"Salmon\"] \n",
    "```\n",
    "Create a function which takes a mixed list as input argument and segregate elments of same types in lists. And finally returns the all the lists.   \n",
    "```python\n",
    " l1 = [ 1, 2, 2.1, \"Tuna\",  4, \"Salmon\"] # Input\n",
    "l2 = [1, 2, 4]; l3 = [2.1]; l4= [\"Tuna\", \"Salmon\"]; #output      \n",
    "```\n",
    "\n",
    "\n",
    "Q5. Use the output lists of previous code, Now contructs back the original mixed lists. Do remember the postion of elements should be same as before.\n"
   ]
  },
  {
   "cell_type": "code",
   "execution_count": 6,
   "id": "48ab1743",
   "metadata": {},
   "outputs": [],
   "source": [
    "## PLACE FOR TASK 3 ######\n",
    "\n",
    "\n",
    "\n",
    "\n",
    "\n",
    "\n",
    "\n",
    "\n"
   ]
  },
  {
   "cell_type": "markdown",
   "id": "f8168343",
   "metadata": {},
   "source": [
    "## List Slicing\n",
    "Slicing is used to extract elements from lists here are some example of List slicing"
   ]
  },
  {
   "cell_type": "code",
   "execution_count": 14,
   "id": "4a6e3eed",
   "metadata": {},
   "outputs": [
    {
     "name": "stdout",
     "output_type": "stream",
     "text": [
      "[1, 2, 3, 4, 5, 6, 7, 8, 9, 10]\n",
      "[2, 3, 4, 5, 6, 7, 8, 9, 10]\n",
      "[1, 2, 3, 4, 5, 6, 7, 8, 9]\n",
      "[1, 3, 5, 7, 9]\n",
      "[2, 4, 6, 8, 10]\n"
     ]
    }
   ],
   "source": [
    "l1 = [1, 2, 3, 4, 5, 6, 7, 8, 9 , 10] \n",
    "l2 = l1[:] # all elements of l1 are assigned to l2\n",
    "print(l2)\n",
    "\n",
    "l2 = l1[1:] # Elements from 2nd to end are assigned to l2\n",
    "print(l2)\n",
    "\n",
    "l2 = l1[:-1] # Elements from 1st to 2nd last are assigned to l2\n",
    "print(l2)\n",
    "\n",
    "l2 = l1[::2] # Elements with even index are assigend to l2\n",
    "print(l2)\n",
    "\n",
    "l2 = l1[1::2] # Elements with odd index are assigend to l2\n",
    "print(l2)"
   ]
  },
  {
   "cell_type": "markdown",
   "id": "6ea1a94c",
   "metadata": {},
   "source": [
    "## Task 4\n",
    "1. Given a list  write a function which cyclically rotate the array clockwise by one.\n",
    "2. Write a pythong function to Create a 2D aray from a list using slicing.\n"
   ]
  },
  {
   "cell_type": "code",
   "execution_count": 16,
   "id": "8fb7d34d",
   "metadata": {},
   "outputs": [],
   "source": [
    "## PLACE FOR TASK 4 ######\n",
    "\n",
    "\n",
    "\n",
    "\n",
    "\n",
    "\n"
   ]
  },
  {
   "cell_type": "code",
   "execution_count": null,
   "id": "a6533dc4",
   "metadata": {},
   "outputs": [],
   "source": []
  }
 ],
 "metadata": {
  "hide_input": false,
  "kernelspec": {
   "display_name": "Python 3 (ipykernel)",
   "language": "python",
   "name": "python3"
  },
  "language_info": {
   "codemirror_mode": {
    "name": "ipython",
    "version": 3
   },
   "file_extension": ".py",
   "mimetype": "text/x-python",
   "name": "python",
   "nbconvert_exporter": "python",
   "pygments_lexer": "ipython3",
   "version": "3.9.7"
  }
 },
 "nbformat": 4,
 "nbformat_minor": 5
}
