{
 "cells": [
  {
   "attachments": {},
   "cell_type": "markdown",
   "metadata": {},
   "source": [
    "In this lab, we will perform some tasks where we will use Python as controller/Automater which is the main focus of this course. \n",
    "We already know that Python is not very efficient when it comes to doing heavy lifting. That's why many engineering libraries are written in C/C++/fortan. But, speed comes at cost of complex memory management and clumsy compilation. So using Python as duct tape and C++ heavy lifting become very common. Today's exercise is based on this concept. \n",
    "\n",
    "We have created a black box program that takes some arguments and returns an output. Arguments for the black box are defined in the setting file. The black box program is written in different languages (could be any language).\n",
    "Using Python\n",
    "1. We will change the input parameters defined in the setting file. The setting file will be passed as an argument to the black box.\n",
    "2. We will run the Black Box using Python. We can stop the Black box execution midway if desired.\n",
    "3. We will read the output of the program using Python. Based on the output of the black box we can make some decisions about the next move using Python.\n",
    "\n",
    "As you have noticed Python plays the role of controller/Automater.  "
   ]
  },
  {
   "attachments": {},
   "cell_type": "markdown",
   "metadata": {},
   "source": [
    "# Task 1\n",
    "Write a function for running the black box program with appropriate arguments."
   ]
  },
  {
   "cell_type": "markdown",
   "metadata": {},
   "source": [
    "\n"
   ]
  },
  {
   "cell_type": "code",
   "execution_count": 5,
   "metadata": {},
   "outputs": [],
   "source": []
  },
  {
   "attachments": {},
   "cell_type": "markdown",
   "metadata": {},
   "source": [
    "# Task 2\n",
    "Let's create a Python function for changing the parameters $(X, Y)$ defined in the setting file.\n",
    "\n"
   ]
  },
  {
   "cell_type": "code",
   "execution_count": null,
   "metadata": {},
   "outputs": [],
   "source": []
  },
  {
   "attachments": {},
   "cell_type": "markdown",
   "metadata": {},
   "source": [
    "# Task 3\n",
    "\n",
    "Write a function for reading the output of the program from the data.dat file.\n"
   ]
  },
  {
   "cell_type": "code",
   "execution_count": null,
   "metadata": {},
   "outputs": [],
   "source": []
  },
  {
   "attachments": {},
   "cell_type": "markdown",
   "metadata": {},
   "source": [
    "# Task 4\n",
    "Now we are interested in the minima of the black box function. By probing the black box on a set of input parameters and using the gradient we can predict the minimum value. \n",
    "With this aim, devise Fintie difference-based Optimization. \n"
   ]
  },
  {
   "cell_type": "code",
   "execution_count": null,
   "metadata": {},
   "outputs": [],
   "source": []
  },
  {
   "attachments": {},
   "cell_type": "markdown",
   "metadata": {},
   "source": [
    "# Task 5\n",
    "Formulate and finite difference-based optimization that tries to minimize the result provided by the program.\n"
   ]
  },
  {
   "cell_type": "code",
   "execution_count": null,
   "metadata": {},
   "outputs": [],
   "source": []
  }
 ],
 "metadata": {
  "kernelspec": {
   "display_name": "base",
   "language": "python",
   "name": "python3"
  },
  "language_info": {
   "codemirror_mode": {
    "name": "ipython",
    "version": 3
   },
   "file_extension": ".py",
   "mimetype": "text/x-python",
   "name": "python",
   "nbconvert_exporter": "python",
   "pygments_lexer": "ipython3",
   "version": "3.9.7"
  },
  "orig_nbformat": 4,
  "vscode": {
   "interpreter": {
    "hash": "066f348939004ce48c516ac89cf46754c2b75f67fa2a868f0990f6208517c155"
   }
  }
 },
 "nbformat": 4,
 "nbformat_minor": 2
}
