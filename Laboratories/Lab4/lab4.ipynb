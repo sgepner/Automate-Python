{
 "cells": [
  {
   "cell_type": "markdown",
   "metadata": {},
   "source": [
    "In this lab, we will perform tasks where we will use a Python script as a controller - automater to a simple optimization process. \n",
    "The generic Python modules and procedures are not very efficient when it comes to serious number crunching. That's why many engineering libraries are written in C/C++/Fortan and often dedicated software, we want to use already exists. For this reason we wish to use a simple Python script as \"duct tape\" to the existing, hopefully efficient application. Today's exercise is based on this concept. \n",
    "\n",
    "Consider a Black-Box program that evaluates some interesting quantity. The computational process employed to compute this quantity could be very complex and time consuming. It could require the computations to be performed on an remote HPC cluster, but for now we assume that Black-Box accepts takes some problem parameters  and returns the computed output.\n",
    "\n",
    "Arguments for the black box are defined in the setting file, that you can find in the current working directory, have a look.\n",
    "\n",
    "Using Python:  \n",
    "1. We will change the input parameters defined in the setting file. The setting file will be passed as an argument to the black box.\n",
    "2. We will run the Black Box using Python. We can stop the Black box execution midway if desired.\n",
    "3. We will read the output of the program using Python.\n",
    "4. Design and implement a simple optimization strategy to find the minimum value of of the quantity returned by Black-Box"
   ]
  },
  {
   "cell_type": "markdown",
   "metadata": {},
   "source": [
    "# Task 1\n",
    "\n",
    "1.1 First build your own executable Black-Box. You can use any building process you want. Using bash shell, once inside the `blacb_box` directory this would be\n",
    "\n",
    "```bash\n",
    "mkdir build  #Create build Directory for isolating the executables from the source code\n",
    "cd build     #Go to build directory\n",
    "cmake ../    # This command will find your system configuration and save it to build folder\n",
    "make         # Last \n",
    "```\n",
    "If all is fine, you should have created the `black-box` executable.\n",
    "\n",
    "1.2 Try to run the `black-box` executable using the setting file that you can find in the main laboratory 4 directory.\n",
    "\n",
    "```bash\n",
    "black_box/bild/black-box -sett settings  \n",
    "```\n",
    "\n",
    "You should seem something like this:\n",
    "```\n",
    "===== Starting process =====\n",
    "X:\t33\n",
    "Y:\t543\n",
    "Z:\t249027\n",
    "```\n",
    "Note that a `data.dat` has been created as well, and it contains all the data that you will need."
   ]
  },
  {
   "cell_type": "markdown",
   "metadata": {},
   "source": [
    "Alternativly, you can try to build Black-Box from this notebook, by executing bash commands using `os.sytem`."
   ]
  },
  {
   "cell_type": "code",
   "execution_count": null,
   "metadata": {},
   "outputs": [],
   "source": [
    "import os\n",
    "os.system('mkdir black_box/build')\n",
    "os.chdir('./black_box/build')\n",
    "os.system('cmake ../')\n",
    "os.system('make')\n",
    "os.chdir('../../')\n",
    "os.cwd()"
   ]
  },
  {
   "cell_type": "markdown",
   "metadata": {},
   "source": [
    "# Task 2\n",
    "Use `os.system` to call the black-box executable from within the python script. Than examine the `data.dat`"
   ]
  },
  {
   "cell_type": "code",
   "execution_count": null,
   "metadata": {},
   "outputs": [],
   "source": []
  },
  {
   "cell_type": "markdown",
   "metadata": {},
   "source": [
    "# Task 3\n",
    "Create a Python function that changes parameters $(X, Y)$ in the setting file. The function should accept those two parameters and simply rewrite the file."
   ]
  },
  {
   "cell_type": "code",
   "execution_count": null,
   "metadata": {},
   "outputs": [],
   "source": []
  },
  {
   "cell_type": "markdown",
   "metadata": {},
   "source": [
    "# Task 4\n",
    "Write a function for parsing `data.dat` file. This function should return a `float` with a value that the Black-Box process has evaluated."
   ]
  },
  {
   "cell_type": "code",
   "execution_count": null,
   "metadata": {},
   "outputs": [],
   "source": []
  },
  {
   "cell_type": "markdown",
   "metadata": {},
   "source": [
    "# Task 5\n",
    "Now we are interested in the minimum of the black box function. To obtain it we will perform an optimization procedure. By optimization we mean a process of selecting problem parameters that produce the best, with regard to a selected criterion, result.\n",
    "In a general setting, the optimization problem consists of maximizing or minimizing a function by changing input parameters and systematically computing the value of the function.\n",
    "There is a number of methods to realize this, here we will base our approach on approximating the function gradient using finite differences.\n",
    "\n",
    "For this you will need to evaluate gradient of Black-Box process with respect to the value of parameters $x$ and $y$.\n",
    "\n",
    "This can be achieved by probing the Black-Box function at $(x,y)$ and than at $(x+\\delta,y)$ and$ (x,y+\\delta)$ and constructing an approximation of the gradient $\\nabla f$\n",
    "\n",
    "Simple, first order, forward FD formulas give us:\n",
    "\n",
    "$f_x= \\frac{f(x +\\delta ,y)- f(x ,y)} {\\delta}$\n",
    "\n",
    "$f_y= \\frac{f(x, y +\\delta )- f(x,y)} {\\delta}$\n",
    "\n",
    "and $\\nabla f = [f_x, f_y]$.\n",
    "\n",
    "Using the current position in the parametric space $(X,Y)$ we seek $(X_1, Y_1) = (X,Y) - \\alpha \\nabla f$.\n",
    "I.e we will be moving towards decreasing values of $f$, and $\\alpha$ is a value that makes sure we are not making to huge jumps, especially in regions that the gradient is large, that could be the case. For now start with $\\alpha=0.1$."
   ]
  },
  {
   "cell_type": "code",
   "execution_count": null,
   "metadata": {},
   "outputs": [],
   "source": []
  },
  {
   "cell_type": "markdown",
   "metadata": {},
   "source": [
    "# Task 6\n",
    "Using functions created in Tasks 3 and 4 and the gradient evaluation procedure from task 5 formulate the optimization procedure and find the minimum. Change the way the process is started to `subprocess.popen`, add methods to monitor the execution of the process \n"
   ]
  },
  {
   "cell_type": "code",
   "execution_count": null,
   "metadata": {},
   "outputs": [],
   "source": []
  }
 ],
 "metadata": {
  "kernelspec": {
   "display_name": "Python 3 (ipykernel)",
   "language": "python",
   "name": "python3"
  },
  "language_info": {
   "codemirror_mode": {
    "name": "ipython",
    "version": 3
   },
   "file_extension": ".py",
   "mimetype": "text/x-python",
   "name": "python",
   "nbconvert_exporter": "python",
   "pygments_lexer": "ipython3",
   "version": "3.10.6"
  },
  "vscode": {
   "interpreter": {
    "hash": "066f348939004ce48c516ac89cf46754c2b75f67fa2a868f0990f6208517c155"
   }
  }
 },
 "nbformat": 4,
 "nbformat_minor": 2
}
