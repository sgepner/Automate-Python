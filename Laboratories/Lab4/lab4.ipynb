{
 "cells": [
  {
   "attachments": {},
   "cell_type": "markdown",
   "metadata": {},
   "source": [
    "In this lab, we will perform some tasks where we will use Python as controller/Automater which is the main focus of this course. \n",
    "We already know that Python is not very efficient when it comes to doing heavy lifting. That's why many engineering libraries are written in C/C++/fortan. But, speed comes at cost of complex memory management and clumsy compilation. So using Python as duct tape and C++ heavy lifting become very common. Today's exercise is based on this concept. \n",
    "\n",
    "We have created a black box program that takes some arguments and returns an output. Arguments for the black box are defined in the setting file. The black box program is written in different languages (could be any language). Using Python\n",
    "1. We will change the input parameters defined in the setting file. The setting file will be passed as an argument to the black box.\n",
    "2. We will run the Black Box using Python. We can stop the Black box execution midway if desired.\n",
    "3. We will read the output of the program using Python. Based on the output of the black box we can make some decisions about the next move using Python.\n",
    "\n",
    "As you have noticed Python plays the role of controller/Automater.  "
   ]
  },
  {
   "attachments": {},
   "cell_type": "markdown",
   "metadata": {},
   "source": [
    "# Task 1\n",
    "\n",
    "1.1 First build your own executable program of black box using shell.\n",
    "\n",
    "```bash\n",
    "mkdir build  #Create build Directory for isolating the executables from the source code\n",
    "cd build     #Go to build directory\n",
    "cmake ../    # This command will find your system configuration and save it to build folder\n",
    "make         # Last \n",
    "```\n",
    "You have created the black box executable. Black box executable needs setting file as argument.\n",
    "\n",
    "1.2 You have to create a setting file which will be passed as argument to black box executable. Setting file should look like this \n",
    "```txt\n",
    "X = 10\n",
    "Y = 10\n",
    "```\n",
    "\n",
    "1.3 Now run the black box in shell. \n",
    "```bash\n",
    "./black-box -sett setting_file.txt  \n",
    "```\n",
    "\n",
    "\n",
    "1.4 Now run the prgrom using the Python os.systme().\n",
    "\n"
   ]
  },
  {
   "cell_type": "code",
   "execution_count": null,
   "metadata": {},
   "outputs": [],
   "source": []
  },
  {
   "attachments": {},
   "cell_type": "markdown",
   "metadata": {},
   "source": [
    "# Task 2\n",
    "Write a function for running the black box program with appropriate arguments. "
   ]
  },
  {
   "cell_type": "code",
   "execution_count": 5,
   "metadata": {},
   "outputs": [],
   "source": []
  },
  {
   "attachments": {},
   "cell_type": "markdown",
   "metadata": {},
   "source": [
    "# Task 3\n",
    "Let's create a Python function for changing the parameters $(X, Y)$ defined in the setting file.\n",
    "\n"
   ]
  },
  {
   "cell_type": "code",
   "execution_count": null,
   "metadata": {},
   "outputs": [],
   "source": []
  },
  {
   "attachments": {},
   "cell_type": "markdown",
   "metadata": {},
   "source": [
    "# Task 4\n",
    "\n",
    "Write a function for reading the output of the program from the data.dat file.\n"
   ]
  },
  {
   "cell_type": "code",
   "execution_count": null,
   "metadata": {},
   "outputs": [],
   "source": []
  },
  {
   "attachments": {},
   "cell_type": "markdown",
   "metadata": {},
   "source": [
    "# Task 5\n",
    "Now we are interested in the minima of the black box function. By probing the black box on a set of input parameters and using the gradie  \n",
    "\n",
    "\n",
    "nt we can predict the minimum value. \n",
    "With this aim, devise Gradient decent Optimization. \n",
    "For this you need to evaluate the gradient of black box function fb with respect to x & y.\n",
    "\n",
    "You need to probe the black box function at $(x,y), (x+\\delta,y), (x,y+\\delta)$ \n",
    "\n",
    "$fb(x,y)$\n",
    "\n",
    "$f_x= \\frac{fb(x +\\delta ,y)- fb(x ,y)} {\\delta}$\n",
    "\n",
    "$f_y= \\frac{fb(x, y +\\delta )- fb(x,y)} {\\delta}$\n",
    "\n",
    "This will help us to determine the next point $x,y$ which will lead us in the direction of diminishing $fb$.\n",
    "\n",
    "$(X, Y) = (x, y) - \\alpha (fb_x, fb_y)$  \n",
    "\n",
    "\n",
    " \n"
   ]
  },
  {
   "cell_type": "code",
   "execution_count": null,
   "metadata": {},
   "outputs": [],
   "source": []
  },
  {
   "attachments": {},
   "cell_type": "markdown",
   "metadata": {},
   "source": [
    "# Task 6\n",
    "Formulate and finite difference-based optimization that tries to minimize the result provided by the program.\n"
   ]
  },
  {
   "cell_type": "code",
   "execution_count": null,
   "metadata": {},
   "outputs": [],
   "source": []
  }
 ],
 "metadata": {
  "kernelspec": {
   "display_name": "base",
   "language": "python",
   "name": "python3"
  },
  "language_info": {
   "codemirror_mode": {
    "name": "ipython",
    "version": 3
   },
   "file_extension": ".py",
   "mimetype": "text/x-python",
   "name": "python",
   "nbconvert_exporter": "python",
   "pygments_lexer": "ipython3",
   "version": "3.9.7"
  },
  "orig_nbformat": 4,
  "vscode": {
   "interpreter": {
    "hash": "066f348939004ce48c516ac89cf46754c2b75f67fa2a868f0990f6208517c155"
   }
  }
 },
 "nbformat": 4,
 "nbformat_minor": 2
}
